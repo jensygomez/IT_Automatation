{
 "cells": [
  {
   "cell_type": "markdown",
   "metadata": {},
   "source": [
    "**Author:**       Jensy Gregorio Gómez \n",
    "---------------------------------------\n",
    "**Profession:**  IT Support Analyst and Automatation with Python\n",
    "\n",
    "**Date:**         25 March 2024     \n",
    "\n",
    "**Location:**     Vila Izabel, Curitiba/PR  \n",
    "\n",
    "\n",
    "---\n",
    "\n",
    "**Contacto:**\n",
    "\n",
    "- **Email:** [contact@jensygomez.us](mailto:contact@jensygomez.us)\n",
    "- **YouTube:** [Tu Canal de YouTube](https://www.youtube.com/@systechcwb826)\n",
    "- **LinkedIn:** [Tu Perfil de LinkedIn](https://www.linkedin.com/in/jensygomez/)\n",
    "\n",
    "\n"
   ]
  },
  {
   "cell_type": "markdown",
   "metadata": {},
   "source": [
    "\n",
    "# Review: Unit tests\n",
    "\n",
    "This reading contains the code used in the instructional videos from [**Unit Tests**](https://www.coursera.org/learn/python-operating-system/lecture/y1KCu/unit-tests)\n",
    "\n",
    "## Introduction\n",
    "\n",
    "This follow-along reading is organized to match the content in the video that follows. It contains the same code shown in the next video. These code blocks will provide you with the opportunity to see how the code is written, allow you to practice running it, and can be used as a reference to refer back to.\n",
    "\n",
    "You can follow along in the reading as the instructor discusses the code or review the code after watching the video."
   ]
  },
  {
   "cell_type": "markdown",
   "metadata": {},
   "source": [
    "El código proporcionado parece estar destinado a reorganizar un nombre de estilo \"apellido, nombre\" en el estilo \"nombre apellido\"."
   ]
  },
  {
   "cell_type": "code",
   "execution_count": null,
   "metadata": {},
   "outputs": [],
   "source": [
    "#!/usr/bin/env python3\n",
    "\n",
    "import re\n",
    "\n",
    "# Definición de la función para reorganizar un nombre\n",
    "def rearrange_name(name):\n",
    "    # Busca un patrón que coincida con \"apellido, nombre\"\n",
    "    result = re.search(r\"^([\\w .]*), ([\\w .]*)$\", name)\n",
    "    # Reorganiza el nombre al estilo \"nombre apellido\"\n",
    "    return \"{} {}\".format(result[2], result[1])\n",
    "\n",
    "# Importando la función de rearrange desde el módulo rearrange (no necesario, ya que la función se define en el mismo archivo)\n",
    "from rearrange import rearrange_name\n",
    "\n",
    "# Llamando a la función rearrange_name con el nombre \"Lovelace, Ada\"\n",
    "rearrange_name(\"Lovelace, Ada\")"
   ]
  },
  {
   "cell_type": "markdown",
   "metadata": {},
   "source": [
    "Sin embargo, hay un problema en el código. Estás importando `rearrange_name` desde `rearrange`, pero luego defines `rearrange_name` nuevamente en el mismo archivo. Esto puede causar un error. Debes quitar la segunda definición de `rearrange_name` en el archivo o renombrar la función para evitar conflictos."
   ]
  },
  {
   "cell_type": "markdown",
   "metadata": {},
   "source": [
    "\n",
    "Para corregir el error y evitar la duplicación de la definición de rearrange_name, puedes eliminar la segunda línea de importación y la última línea que llama a `rearrange_name` después de la definición de la función. Aquí tienes el código corregido:"
   ]
  },
  {
   "cell_type": "code",
   "execution_count": 2,
   "metadata": {},
   "outputs": [
    {
     "name": "stdout",
     "output_type": "stream",
     "text": [
      "Ada Lovelace\n"
     ]
    }
   ],
   "source": [
    "#!/usr/bin/env python3\n",
    "\n",
    "import re\n",
    "\n",
    "# Definición de la función para reorganizar un nombre\n",
    "def rearrange_name(name):\n",
    "    # Busca un patrón que coincida con \"apellido, nombre\"\n",
    "    result = re.search(r\"^([\\w .]*), ([\\w .]*)$\", name)\n",
    "    # Reorganiza el nombre al estilo \"nombre apellido\"\n",
    "    return \"{} {}\".format(result[2], result[1])\n",
    "\n",
    "# Llamando a la función rearrange_name con el nombre \"Lovelace, Ada\"\n",
    "print(rearrange_name(\"Lovelace, Ada\"))\n"
   ]
  },
  {
   "cell_type": "markdown",
   "metadata": {},
   "source": [
    "En este código corregido, he eliminado la segunda línea de importación from rearrange import rearrange_name, ya que no es necesaria, y también he eliminado la última línea que llamaba a rearrange_name(\"Lovelace, Ada\") después de la definición de la función. En su lugar, he añadido una llamada a print para mostrar el resultado de la función rearrange_name(\"Lovelace, Ada\")."
   ]
  }
 ],
 "metadata": {
  "kernelspec": {
   "display_name": "Python 3 (ipykernel)",
   "language": "python",
   "name": "python3"
  },
  "language_info": {
   "codemirror_mode": {
    "name": "ipython",
    "version": 3
   },
   "file_extension": ".py",
   "mimetype": "text/x-python",
   "name": "python",
   "nbconvert_exporter": "python",
   "pygments_lexer": "ipython3",
   "version": "3.11.7"
  }
 },
 "nbformat": 4,
 "nbformat_minor": 2
}
