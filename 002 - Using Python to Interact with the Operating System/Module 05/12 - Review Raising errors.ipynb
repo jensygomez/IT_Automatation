{
 "cells": [
  {
   "cell_type": "markdown",
   "metadata": {},
   "source": [
    "**Author:**       Jensy Gregorio Gómez \n",
    "---------------------------------------\n",
    "**Profession:**  IT Support Analyst and Automatation with Python\n",
    "\n",
    "**Date:**         31 March 2024     \n",
    "\n",
    "**Location:**     Vila Izabel, Curitiba/PR  \n",
    "\n",
    "\n",
    "---\n",
    "\n",
    "**Contacto:**\n",
    "\n",
    "- **Email:** [contact@jensygomez.us](mailto:contact@jensygomez.us)\n",
    "- **YouTube:** [Tu Canal de YouTube](https://www.youtube.com/@systechcwb826)\n",
    "- **LinkedIn:** [Tu Perfil de LinkedIn](https://www.linkedin.com/in/jensygomez/)\n",
    "\n",
    "\n"
   ]
  },
  {
   "cell_type": "markdown",
   "metadata": {},
   "source": [
    "\n",
    "# Review: Raising errors\n",
    "\n",
    "This reading contains the code used in the instructional videos from [**Raising Errors**](https://www.coursera.org/learn/python-operating-system/lecture/Wwdno/raising-errors)\n",
    "\n",
    "## Introduction\n",
    "\n",
    "This follow-along reading is organized to match the content in the video that follows. It contains the same code shown in the next video. These code blocks will provide you with the opportunity to see how the code is written, allow you to practice running it, and can be used as a reference to refer back to.\n",
    "\n",
    "You can follow along in the reading as the instructor discusses the code or review the code after watching the video."
   ]
  },
  {
   "cell_type": "code",
   "execution_count": 2,
   "metadata": {},
   "outputs": [],
   "source": [
    "\n",
    "#!/usr/bin/env python3\n",
    "# Esta línea indica al sistema operativo que el archivo debe ser ejecutado utilizando python3\n",
    "\n",
    "def validate_user(username, minlen):\n",
    "  # Esta función valida si un nombre de usuario cumple con ciertos requisitos\n",
    "  if minlen < 1:  # Verifica si la longitud mínima es válida\n",
    "    raise ValueError(\"minlen must be at least 1\")  # Levanta un error si la longitud mínima no es válida\n",
    "\n",
    "  if len(username) < minlen:  # Verifica si la longitud del nombre de usuario es menor que la longitud mínima\n",
    "    return False  # Retorna False si la longitud del nombre de usuario es menor que la longitud mínima\n",
    "  if not username.isalnum():  # Verifica si el nombre de usuario contiene solo caracteres alfanuméricos\n",
    "    return False  # Retorna False si el nombre de usuario no contiene solo caracteres alfanuméricos\n",
    "  return True  # Retorna True si el nombre de usuario cumple con todos los requisitos\n"
   ]
  },
  {
   "cell_type": "code",
   "execution_count": null,
   "metadata": {},
   "outputs": [],
   "source": [
    "from validations import validate_user\n",
    "# Importa la función validate_user desde un módulo llamado validations\n",
    "\n",
    "validate_user(\"\", -1)\n",
    "# Llama a la función validate_user con un nombre de usuario vacío (\"\") y una longitud mínima de -1\n"
   ]
  },
  {
   "cell_type": "code",
   "execution_count": null,
   "metadata": {},
   "outputs": [],
   "source": [
    "from validations import validate_user\n",
    "# Importa la función validate_user desde un módulo llamado validations\n",
    "\n",
    "validate_user(\"\", 1)\n",
    "# Llama a la función validate_user con un nombre de usuario vacío (\"\") y una longitud mínima de 1\n",
    "\n",
    "validate_user(\"myuser\", 1)\n",
    "# Llama a la función validate_user con el nombre de usuario \"myuser\" y una longitud mínima de 1\n"
   ]
  },
  {
   "cell_type": "code",
   "execution_count": null,
   "metadata": {},
   "outputs": [],
   "source": [
    "from validations import validate_user\n",
    "validate_user(88, 1)"
   ]
  },
  {
   "cell_type": "code",
   "execution_count": null,
   "metadata": {},
   "outputs": [],
   "source": [
    "from validations import validate_user\n",
    "validate_user([], 1)"
   ]
  },
  {
   "cell_type": "code",
   "execution_count": null,
   "metadata": {},
   "outputs": [],
   "source": [
    "from validations import validate_user\n",
    "validate_user([\"name\"], 1)"
   ]
  },
  {
   "cell_type": "code",
   "execution_count": null,
   "metadata": {},
   "outputs": [],
   "source": [
    "#!/usr/bin/env python3\n",
    "# Indica al sistema operativo que el archivo debe ser ejecutado utilizando python3\n",
    "\n",
    "def validate_user(username, minlen):\n",
    "  # Define una función llamada validate_user que toma dos argumentos: username (nombre de usuario) y minlen (longitud mínima permitida)\n",
    "  \n",
    "  assert type(username) == str, \"username must be a string\"\n",
    "  # Verifica si el username es de tipo string, si no lo es, lanza un AssertionError con un mensaje\n",
    "  \n",
    "  if minlen < 1:\n",
    "    raise ValueError(\"minlen must be at least 1\")\n",
    "  # Verifica si minlen es menor que 1, si lo es, lanza un ValueError con un mensaje\n",
    "\n",
    "  if len(username) < minlen:\n",
    "    return False\n",
    "  # Verifica si la longitud del username es menor que minlen, si lo es, retorna False\n",
    "\n",
    "  if not username.isalnum():\n",
    "    return False\n",
    "  # Verifica si el username contiene solo caracteres alfanuméricos, si no lo hace, retorna False\n",
    "\n",
    "  return True\n",
    "  # Si el username cumple con todos los criterios, retorna True\n"
   ]
  },
  {
   "cell_type": "code",
   "execution_count": null,
   "metadata": {},
   "outputs": [],
   "source": [
    "from validations import validate_user\n",
    "validate_user([3], 1)"
   ]
  }
 ],
 "metadata": {
  "kernelspec": {
   "display_name": "Python 3 (ipykernel)",
   "language": "python",
   "name": "python3"
  },
  "language_info": {
   "codemirror_mode": {
    "name": "ipython",
    "version": 3
   },
   "file_extension": ".py",
   "mimetype": "text/x-python",
   "name": "python",
   "nbconvert_exporter": "python",
   "pygments_lexer": "ipython3",
   "version": "3.11.7"
  }
 },
 "nbformat": 4,
 "nbformat_minor": 2
}
