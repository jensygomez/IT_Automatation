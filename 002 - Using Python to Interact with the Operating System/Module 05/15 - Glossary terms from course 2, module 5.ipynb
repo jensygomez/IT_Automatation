{
 "cells": [
  {
   "cell_type": "markdown",
   "metadata": {},
   "source": [
    "**Author:**       Jensy Gregorio Gómez \n",
    "---------------------------------------\n",
    "**Profession:**  IT Support Analyst and Automatation with Python\n",
    "\n",
    "**Date:**         03 April 2024     \n",
    "\n",
    "**Location:**     Vila Izabel, Curitiba/PR  \n",
    "\n",
    "\n",
    "---\n",
    "\n",
    "**Contacto:**\n",
    "\n",
    "- **Email:** [contact@jensygomez.us](mailto:contact@jensygomez.us)\n",
    "- **YouTube:** [Tu Canal de YouTube](https://www.youtube.com/@systechcwb826)\n",
    "- **LinkedIn:** [Tu Perfil de LinkedIn](https://www.linkedin.com/in/jensygomez/)\n",
    "\n",
    "\n"
   ]
  },
  {
   "cell_type": "markdown",
   "metadata": {},
   "source": [
    "\n",
    "# Glossary terms from course 2, module 5\n",
    "\n",
    "## **Terms and definitions from Course 2, Module 5**\n",
    "\n",
    "**Automatic testing:** A process where software checks itself for errors and confirms that it works correctly\n",
    "\n",
    "**Black-box tests:** A test where there is an awareness of what the program is supposed to do but not how it does it\n",
    "\n",
    "**Edge cases:** Inputs to code that produce unexpected results, found at the extreme ends of the ranges of input\n",
    "\n",
    "**Pytest:** A powerful Python testing tool that assists programmers in writing more effective and stable programs\n",
    "\n",
    "**Software testing:** A process of evaluating computer code to determine whether or not it does what is expected\n",
    "\n",
    "**Test case:** This is the individual unit of testing that looks for a specific response to a set of inputs\n",
    "\n",
    "**Test fixture:** This prepared to perform one or more tests\n",
    "\n",
    "**Test suite:** This is used to compile tests that should be executed together\n",
    "\n",
    "**Test runner:** This runs the test and provides developers with the outcome’s data\n",
    "\n",
    "**unittest:** A set of Python tools to construct and run unit tests\n",
    "\n",
    "**Unit tests:** A test to verify that small isolated parts of a program work correctly\n",
    "\n",
    "**White-box test:** A test where test creator knows how the code works and can write test cases that use the understanding to make sure it performs as expected"
   ]
  }
 ],
 "metadata": {
  "kernelspec": {
   "display_name": "Python 3 (ipykernel)",
   "language": "python",
   "name": "python3"
  },
  "language_info": {
   "codemirror_mode": {
    "name": "ipython",
    "version": 3
   },
   "file_extension": ".py",
   "mimetype": "text/x-python",
   "name": "python",
   "nbconvert_exporter": "python",
   "pygments_lexer": "ipython3",
   "version": "3.11.7"
  }
 },
 "nbformat": 4,
 "nbformat_minor": 2
}
