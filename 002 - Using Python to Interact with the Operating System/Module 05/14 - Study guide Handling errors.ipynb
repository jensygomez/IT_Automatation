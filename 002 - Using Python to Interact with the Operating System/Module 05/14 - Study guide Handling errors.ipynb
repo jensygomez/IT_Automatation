{
 "cells": [
  {
   "cell_type": "markdown",
   "metadata": {},
   "source": [
    "**Author:**       Jensy Gregorio Gómez \n",
    "---------------------------------------\n",
    "**Profession:**  IT Support Analyst and Automatation with Python\n",
    "\n",
    "**Date:**         31 March 2024     \n",
    "\n",
    "**Location:**     Vila Izabel, Curitiba/PR  \n",
    "\n",
    "\n",
    "---\n",
    "\n",
    "**Contacto:**\n",
    "\n",
    "- **Email:** [contact@jensygomez.us](mailto:contact@jensygomez.us)\n",
    "- **YouTube:** [Tu Canal de YouTube](https://www.youtube.com/@systechcwb826)\n",
    "- **LinkedIn:** [Tu Perfil de LinkedIn](https://www.linkedin.com/in/jensygomez/)\n",
    "\n",
    "\n"
   ]
  },
  {
   "cell_type": "markdown",
   "metadata": {},
   "source": [
    "\n",
    "# Study guide: Handling errors\n",
    "\n",
    "You’ve learned that in some cases, it’s better to raise an error yourself, and how to test that the right error is raised when that's what you expect. You’ve also learned how to test your code to verify that it does what it should. In this reading, you’ll learn about error handling syntax, including raising exceptions, using an assert statement, and the try and except clauses.\n",
    "\n",
    "## Exception handling\n",
    "\n",
    "When performing exception handling, it is important to predict which exceptions can happen. Sometimes, to figure out which exceptions you need to account for, you have to let your program fail.\n",
    "\n",
    "The simplest way to handle exceptions in Python is by using the try and except clauses.\n",
    "\n",
    "In the try clause, Python executes all statements until it encounters an exception. You use the except clause to catch and handle the exception(s) that Python encounters in the try clause.\n",
    "\n",
    "Here is the process for how it works:\n",
    "\n",
    "1.  Python runs the try clause, e.g., the statement(s) between the try and except keywords.\n",
    "    \n",
    "2.  If no error occurs, Python skips the except clause and the execution of the try statement is finished.\n",
    "    \n",
    "3.  If an error occurs during execution of the try clause, Python skips the rest of the try clause and transfers control to the corresponding except block. If the type of error matches what is listed after the except keyword, Python executes the except clause. The execution then continues on after the try/except block.\n",
    "    \n",
    "4.  If an exception occurs but it does not match what is listed in the except clause, it is passed onto try statements outside of that try/except block. However, if a handler for that exception cannot be found, the exception becomes an unhandled exception, the execution stops, and Python displays a designated error message.\n",
    "    \n",
    "\n",
    "Sometimes, a try statement can have more than one except clause so that the code can specify handlers for different exceptions. This can help to reduce the number of unhandled exceptions.\n",
    "\n",
    "You can use exceptions to catch almost everything. It is good practice as a developer or programmer to be as specific as possible with the types of exceptions that you intend to handle, especially if you’re creating your own exceptions.\n",
    "\n",
    "## Raise exceptions\n",
    "\n",
    "As a developer or programmer, you might want to raise an error yourself. Usually, this happens when some of the conditions necessary for a function to do its job properly aren't met and returning none or some other base value isn't good enough. You can raise an error or raise an exception (also known as “throwing an exception”), which forces a particular exception to occur, and notifies you that something in your code is going wrong or an error has occurred.\n",
    "\n",
    "Here are some instances where raising an exception is a useful tool:\n",
    "\n",
    "-   A file doesn’t exist\n",
    "    \n",
    "-   A network or database connection fails\n",
    "    \n",
    "-   Your code receives invalid input\n",
    "    \n",
    "\n",
    "In the example below, the code raises two built-in Python exceptions: raise ValueError and raise ZeroDivisionError. You can find more information on these raises in the example below, along with explanations of potential errors that may occur during an exception.\n",
    "\n",
    "## Example exception handling\n",
    "\n",
    "Now that you have an understanding of try and except clauses, assert statements, and raising exceptions, consider the following code examples which use all of these concepts together.\n",
    "\n",
    "The basic structure of exception handling is as follows:"
   ]
  },
  {
   "cell_type": "markdown",
   "metadata": {},
   "source": [
    "Este es un código Python que define una función llamada `read_file` para leer el contenido de un archivo y manejar excepciones en caso de que el archivo no se encuentre. Aquí está el código con comentarios explicativos:"
   ]
  },
  {
   "cell_type": "code",
   "execution_count": null,
   "metadata": {},
   "outputs": [],
   "source": [
    "# Función para leer un archivo con manejo de excepciones\n",
    "def read_file(filename):\n",
    "    try:\n",
    "        # Intenta abrir el archivo en modo de lectura ('r')\n",
    "        with open(filename, 'r') as f:\n",
    "            # Lee el contenido del archivo y lo retorna\n",
    "            return f.read()\n",
    "    except FileNotFoundError:\n",
    "        # Maneja la excepción FileNotFoundError, que ocurre cuando el archivo no se encuentra\n",
    "        return \"File not found!\"\n",
    "    finally:\n",
    "        # Este bloque finally se ejecutará sin importar si ocurre o no una excepción\n",
    "        print(\"Finished reading file.\")\n"
   ]
  },
  {
   "cell_type": "markdown",
   "metadata": {},
   "source": [
    "En resumen, esta función intenta abrir y leer un archivo especificado por `filename`. Si el archivo se encuentra, lee su contenido y lo devuelve. Si el archivo no se encuentra, devuelve un mensaje indicando que el archivo no se encontró. En ambos casos, imprime \"Finished reading file.\" para indicar que la operación de lectura del archivo ha terminado, independientemente del resultado.\n",
    "***\n"
   ]
  },
  {
   "cell_type": "markdown",
   "metadata": {},
   "source": [
    "Imagine you have a function that reads data from a file and then divides two numbers provided within that file. There are some faults in it that you can catch with exceptions.\n",
    "***"
   ]
  },
  {
   "cell_type": "markdown",
   "metadata": {},
   "source": [
    "Esta función llamada `faulty_read_and_divide` intenta leer dos números de un archivo y luego divide el primero por el segundo. Aquí está el código sin comentarios:"
   ]
  },
  {
   "cell_type": "code",
   "execution_count": null,
   "metadata": {},
   "outputs": [],
   "source": [
    "def faulty_read_and_divide(filename):\n",
    "    with open(filename, 'r') as file:\n",
    "        data = file.readlines()\n",
    "        num1 = int(data[0])\n",
    "        num2 = int(data[1])\n",
    "        return num1 / num2"
   ]
  },
  {
   "cell_type": "markdown",
   "metadata": {},
   "source": [
    "Esta función asume que el archivo especificado por `filename` contiene dos números en líneas separadas, y luego intenta convertirlos a enteros y dividir el primero por el segundo. Sin embargo, esta función puede arrojar varios errores:\n",
    "\n",
    "1. Si el archivo no existe o no se puede abrir, se generará un error de `FileNotFoundError`.\n",
    "2. Si el archivo no contiene al menos dos líneas, se generará un error de `IndexError` cuando se intente acceder a `data[0]` o `data[1]`.\n",
    "3. Si alguna de las líneas no contiene un número válido, se generará un error de `ValueError` al intentar convertirlos a enteros.\n",
    "4. Si el segundo número es cero, se generará un error de `ZeroDivisionError` al intentar dividir por cero.\n",
    "\n",
    "Esta función no maneja adecuadamente estas situaciones y puede generar excepciones no controladas.\n",
    "***"
   ]
  },
  {
   "cell_type": "markdown",
   "metadata": {},
   "source": [
    "\n",
    "There are several potential issues here:\n",
    "\n",
    "-   The file might not exist, causing a FileNotFoundError.\n",
    "    \n",
    "-   The file might not have enough lines of data, leading to an IndexError.\n",
    "    \n",
    "-   The data in the file might not be convertible to integers, raising a ValueError.\n",
    "    \n",
    "-   The second number might be zero, which would raise a ZeroDivisionError.\n",
    "    \n",
    "\n",
    "To address these potential issues, you can add the appropriate exception handling illustrated below:\n",
    "\n",
    "El código proporcionado define una función llamada `enhanced_read_and_divide` que lee dos números de un archivo y luego divide el primero por el segundo. Aquí está el código con comentarios explicativos:"
   ]
  },
  {
   "cell_type": "code",
   "execution_count": null,
   "metadata": {},
   "outputs": [],
   "source": [
    "def enhanced_read_and_divide(filename):\n",
    "    try:\n",
    "        with open(filename, 'r') as file:\n",
    "            data = file.readlines()\n",
    "        \n",
    "        # Asegurarse de que haya al menos dos líneas en el archivo\n",
    "        if len(data) < 2:\n",
    "            raise ValueError(\"Not enough data in the file.\")\n",
    "        \n",
    "        num1 = int(data[0])\n",
    "        num2 = int(data[1])\n",
    "        \n",
    "        # Verificar si el segundo número es cero\n",
    "        if num2 == 0:\n",
    "            raise ZeroDivisionError(\"The denominator is zero.\")\n",
    "        \n",
    "        return num1 / num2\n",
    "\n",
    "    except FileNotFoundError:\n",
    "        return \"Error: The file was not found.\"\n",
    "    except ValueError as ve:\n",
    "        return f\"Value error: {ve}\"\n",
    "    except ZeroDivisionError as zde:\n",
    "        return f\"Division error: {zde}\"\n"
   ]
  },
  {
   "cell_type": "markdown",
   "metadata": {},
   "source": [
    "Este código mejora el manejo de excepciones en comparación con la función anterior (`faulty_read_and_divide`). Ahora, el código maneja los siguientes casos:\n",
    "\n",
    "1. Si el archivo no existe o no se puede abrir, maneja la excepción `FileNotFoundError`.\n",
    "2. Si hay menos de dos líneas en el archivo, lanza un `ValueError` indicando que no hay suficientes datos.\n",
    "3. Si el segundo número es cero, lanza un `ZeroDivisionError` indicando que el denominador es cero.\n",
    "\n",
    "Estos casos se manejan correctamente y se proporcionan mensajes de error informativos en caso de que ocurran excepciones.\n",
    "\n",
    "***"
   ]
  },
  {
   "cell_type": "markdown",
   "metadata": {},
   "source": [
    "\n",
    "Now, the function enhanced_read_and_divide is equipped to handle potential exceptions gracefully, providing informative error messages to the caller. This way, the code will explain when it fails since you have identified potential fault zones such as when dealing with unpredictable inputs or file content.\n",
    "\n",
    "Notice how the exceptions are instantiated as objects (such as ValueError ve) that you can use to further diagnose the issue by printing them out.\n",
    "\n",
    "The errors should read:\n",
    "\n",
    "File-level issues:\n",
    "\n",
    "Value error: Not enough data in the file.\n",
    "\n",
    "Error: The file was not found.\n",
    "\n",
    "Data-level issues:\n",
    "\n",
    "Value error: invalid literal for int() with base 10: 'apple'\n",
    "\n",
    "Division error: The denominator is zero.\n",
    "\n",
    "## assert statements\n",
    "\n",
    "assert statements help you to verify if a certain condition is met and throw an exception if it isn’t. As is stated in the name, their purpose is to \"assert\" that certain conditions are true at specific points in your program.\n",
    "\n",
    "The assert statement exists in almost every programming language and has two main uses:\n",
    "\n",
    "-   To help detect problems earlier in development, rather than later when some other operation fails. Problems that aren’t addressed until later in the development process can turn out to be more time-intensive and costly to fix.\n",
    "    \n",
    "-   To provide a form of documentation for other developers reading the code.\n",
    "    \n",
    "\n",
    "You can learn more about common assertions that you might use when handling errors in [Study guide: Unit test](https://docs.google.com/document/d/1rxqPgySibWXz11GSU4ZJbzDYE14g4wVNynrpBd2VgDI/edit?usp=sharing).\n",
    "\n",
    "## Key takeaways\n",
    "\n",
    "For a bit of light reading, or for more information on raising exceptions, assertions, the try clause, exceptions, or handling errors, visit the following links:\n",
    "\n",
    "-   [https://doughellmann.com/posts/python-exception-handling-techniques](https://doughellmann.com/posts/python-exception-handling-techniques/)\n",
    "    \n",
    "-   [https://docs.python.org/3/tutorial/errors.html#raising-exceptions](https://docs.python.org/3/tutorial/errors.html#raising-exceptions)\n",
    "    \n",
    "-   [https://realpython.com/python-exceptions/](https://realpython.com/python-exceptions/)\n",
    "    \n",
    "-   [https://realpython.com/python-raise-exception/#handling-exceptional-situations-in-python](https://realpython.com/python-raise-exception/#handling-exceptional-situations-in-python)"
   ]
  }
 ],
 "metadata": {
  "kernelspec": {
   "display_name": "Python 3 (ipykernel)",
   "language": "python",
   "name": "python3"
  },
  "language_info": {
   "codemirror_mode": {
    "name": "ipython",
    "version": 3
   },
   "file_extension": ".py",
   "mimetype": "text/x-python",
   "name": "python",
   "nbconvert_exporter": "python",
   "pygments_lexer": "ipython3",
   "version": "3.11.7"
  }
 },
 "nbformat": 4,
 "nbformat_minor": 2
}
