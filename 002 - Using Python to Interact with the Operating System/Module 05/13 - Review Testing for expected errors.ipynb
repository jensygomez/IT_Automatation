{
 "cells": [
  {
   "cell_type": "markdown",
   "metadata": {},
   "source": [
    "**Author:**       Jensy Gregorio Gómez \n",
    "---------------------------------------\n",
    "**Profession:**  IT Support Analyst and Automatation with Python\n",
    "\n",
    "**Date:**         31 March 2024     \n",
    "\n",
    "**Location:**     Vila Izabel, Curitiba/PR  \n",
    "\n",
    "\n",
    "---\n",
    "\n",
    "**Contacto:**\n",
    "\n",
    "- **Email:** [contact@jensygomez.us](mailto:contact@jensygomez.us)\n",
    "- **YouTube:** [Tu Canal de YouTube](https://www.youtube.com/@systechcwb826)\n",
    "- **LinkedIn:** [Tu Perfil de LinkedIn](https://www.linkedin.com/in/jensygomez/)\n",
    "\n",
    "\n"
   ]
  },
  {
   "cell_type": "markdown",
   "metadata": {},
   "source": [
    "\n",
    "# Review: Testing for expected errors\n",
    "\n",
    "This reading contains the code used in the instructional videos from [**Testing for Expected Errors**](https://www.coursera.org/learn/python-operating-system/lecture/xRRst/testing-for-expected-errors)\n",
    "\n",
    "## Introduction\n",
    "\n",
    "This follow-along reading is organized to match the content in the video that follows. It contains the same code shown in the next video. These code blocks will provide you with the opportunity to see how the code is written, allow you to practice running it, and can be used as a reference to refer back to.\n",
    "\n",
    "You can follow along in the reading as the instructor discusses the code or review the code after watching the video.\n",
    "    "
   ]
  },
  {
   "cell_type": "code",
   "execution_count": null,
   "metadata": {},
   "outputs": [],
   "source": [
    "#!/usr/bin/env python3\n",
    "# Indica al sistema operativo que el archivo debe ser ejecutado utilizando python3\n",
    "\n",
    "import unittest\n",
    "# Importa el módulo unittest para realizar pruebas unitarias\n",
    "\n",
    "from validations import validate_user\n",
    "# Importa la función validate_user del módulo validations\n",
    "\n",
    "class TestValidateUser(unittest.TestCase):\n",
    "  # Define una clase TestValidateUser que hereda de unittest.TestCase, que contiene los métodos de prueba\n",
    "\n",
    "  def test_valid(self):\n",
    "    # Define un método de prueba llamado test_valid que verifica un caso válido\n",
    "    self.assertEqual(validate_user(\"validuser\", 3), True)\n",
    "    # Verifica si validate_user devuelve True cuando se pasa un nombre de usuario válido y una longitud mínima adecuada\n",
    "\n",
    "  def test_too_short(self):\n",
    "    # Define un método de prueba llamado test_too_short que verifica un caso donde el nombre de usuario es demasiado corto\n",
    "    self.assertEqual(validate_user(\"inv\", 5), False)\n",
    "    # Verifica si validate_user devuelve False cuando se pasa un nombre de usuario demasiado corto\n",
    "\n",
    "  def test_invalid_characters(self):\n",
    "    # Define un método de prueba llamado test_invalid_characters que verifica un caso donde el nombre de usuario contiene caracteres no válidos\n",
    "    self.assertEqual(validate_user(\"invalid_user\", 1), False)\n",
    "    # Verifica si validate_user devuelve False cuando se pasa un nombre de usuario con caracteres no válidos\n",
    "\n",
    "  def test_invalid_minlen(self):\n",
    "    # Define un método de prueba llamado test_invalid_minlen que verifica un caso donde se pasa una longitud mínima no válida\n",
    "    self.assertRaises(ValueError, validate_user, \"user\", -1)\n",
    "    # Verifica si validate_user lanza un ValueError cuando se pasa una longitud mínima no válida\n",
    "\n",
    "# Ejecuta las pruebas\n",
    "unittest.main()\n",
    "# Ejecuta todas las pruebas definidas en la clase TestValidateUser\n"
   ]
  },
  {
   "cell_type": "code",
   "execution_count": null,
   "metadata": {
    "vscode": {
     "languageId": "shellscript"
    }
   },
   "outputs": [],
   "source": [
    "./validations_test.py "
   ]
  }
 ],
 "metadata": {
  "kernelspec": {
   "display_name": "Python 3 (ipykernel)",
   "language": "python",
   "name": "python3"
  },
  "language_info": {
   "codemirror_mode": {
    "name": "ipython",
    "version": 3
   },
   "file_extension": ".py",
   "mimetype": "text/x-python",
   "name": "python",
   "nbconvert_exporter": "python",
   "pygments_lexer": "ipython3",
   "version": "3.11.7"
  }
 },
 "nbformat": 4,
 "nbformat_minor": 2
}
