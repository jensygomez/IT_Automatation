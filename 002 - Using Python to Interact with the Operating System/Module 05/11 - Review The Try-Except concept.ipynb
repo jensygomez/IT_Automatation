{
 "cells": [
  {
   "cell_type": "markdown",
   "metadata": {},
   "source": [
    "**Author:**       Jensy Gregorio Gómez \n",
    "---------------------------------------\n",
    "**Profession:**  IT Support Analyst and Automatation with Python\n",
    "\n",
    "**Date:**         31 March 2024     \n",
    "\n",
    "**Location:**     Vila Izabel, Curitiba/PR  \n",
    "\n",
    "\n",
    "---\n",
    "\n",
    "**Contacto:**\n",
    "\n",
    "- **Email:** [contact@jensygomez.us](mailto:contact@jensygomez.us)\n",
    "- **YouTube:** [Tu Canal de YouTube](https://www.youtube.com/@systechcwb826)\n",
    "- **LinkedIn:** [Tu Perfil de LinkedIn](https://www.linkedin.com/in/jensygomez/)\n",
    "\n",
    "\n"
   ]
  },
  {
   "cell_type": "markdown",
   "metadata": {},
   "source": [
    "\n",
    "# Review: The Try-Except concept\n",
    "\n",
    "This reading contains the code used in the instructional videos from [**The Try-Except Construct**](https://www.coursera.org/learn/python-operating-system/lecture/LELqa/the-try-except-construct)\n",
    "\n",
    "## Introduction\n",
    "\n",
    "This follow-along reading is organized to match the content in the video that follows. It contains the same code shown in the next video. These code blocks will provide you with the opportunity to see how the code is written, allow you to practice running it, and can be used as a reference to refer back to.\n",
    "\n",
    "You can follow along in the reading as the instructor discusses the code or review the code after watching the video."
   ]
  },
  {
   "cell_type": "markdown",
   "metadata": {},
   "source": [
    "\n",
    "```python\n",
    "#!/usr/bin/env python3\n",
    "\n",
    "def character_frequency(filename):\n",
    "  \"\"\"Counts the frequency of each character in the given file.\"\"\"\n",
    "  # First try to open the file\n",
    "  try:\n",
    "    f = open(filename)\n",
    "  except OSError:\n",
    "    return None\n",
    "\n",
    "  # Now process the file\n",
    "  characters = {}\n",
    "  for line in f:\n",
    "    for char in line:\n",
    "      characters[char] = characters.get(char, 0) + 1\n",
    "  f.close() \n",
    "  return characters\n",
    "```\n",
    "\n",
    "1. `#!/usr/bin/env python3`: Esta línea es conocida como shebang y se usa en sistemas Unix para especificar la ruta del intérprete que debe usarse para ejecutar el script. En este caso, indica que se debe utilizar Python 3.\n",
    "\n",
    "2. `def character_frequency(filename):`: Define una función llamada `character_frequency` que toma un argumento `filename`, que es el nombre del archivo que se va a procesar.\n",
    "\n",
    "3. `\"\"\"Counts the frequency of each character in the given file.\"\"\"`: Este es un docstring que proporciona una descripción de la función.\n",
    "\n",
    "4. `try:`: Inicia un bloque `try`, que se utiliza para manejar excepciones.\n",
    "\n",
    "5. `f = open(filename)`: Intenta abrir el archivo especificado por `filename`.\n",
    "\n",
    "6. `except OSError:`: Si se produce una excepción de tipo `OSError` al intentar abrir el archivo, se ejecutará este bloque.\n",
    "\n",
    "7. `return None`: Devuelve `None`, indicando que no se pudo abrir el archivo.\n",
    "\n",
    "8. `characters = {}`: Inicializa un diccionario vacío donde se almacenarán las frecuencias de los caracteres.\n",
    "\n",
    "9. `for line in f:`: Itera sobre cada línea del archivo.\n",
    "\n",
    "10. `for char in line:`: Itera sobre cada carácter en la línea.\n",
    "\n",
    "11. `characters[char] = characters.get(char, 0) + 1`: Actualiza el diccionario `characters` incrementando el recuento del carácter actual. Si el carácter ya está en el diccionario, se incrementa su valor en 1; de lo contrario, se agrega al diccionario con un valor inicial de 1.\n",
    "\n",
    "12. `f.close()`: Cierra el archivo después de terminar de leerlo para liberar recursos.\n",
    "\n",
    "13. `return characters`: Devuelve el diccionario `characters` que contiene las frecuencias de los caracteres en el archivo."
   ]
  }
 ],
 "metadata": {
  "kernelspec": {
   "display_name": "Python 3 (ipykernel)",
   "language": "python",
   "name": "python3"
  },
  "language_info": {
   "codemirror_mode": {
    "name": "ipython",
    "version": 3
   },
   "file_extension": ".py",
   "mimetype": "text/x-python",
   "name": "python",
   "nbconvert_exporter": "python",
   "pygments_lexer": "ipython3",
   "version": "3.11.7"
  }
 },
 "nbformat": 4,
 "nbformat_minor": 2
}
