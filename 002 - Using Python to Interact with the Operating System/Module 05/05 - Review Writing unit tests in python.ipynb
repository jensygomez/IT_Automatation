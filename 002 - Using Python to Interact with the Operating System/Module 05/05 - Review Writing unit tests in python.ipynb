{
 "cells": [
  {
   "cell_type": "markdown",
   "metadata": {},
   "source": [
    "**Author:**       Jensy Gregorio Gómez \n",
    "---------------------------------------\n",
    "**Profession:**  IT Support Analyst and Automatation with Python\n",
    "\n",
    "**Date:**         25 March 2024     \n",
    "\n",
    "**Location:**     Vila Izabel, Curitiba/PR  \n",
    "\n",
    "\n",
    "---\n",
    "\n",
    "**Contacto:**\n",
    "\n",
    "- **Email:** [contact@jensygomez.us](mailto:contact@jensygomez.us)\n",
    "- **YouTube:** [Tu Canal de YouTube](https://www.youtube.com/@systechcwb826)\n",
    "- **LinkedIn:** [Tu Perfil de LinkedIn](https://www.linkedin.com/in/jensygomez/)\n",
    "\n",
    "\n"
   ]
  },
  {
   "cell_type": "markdown",
   "metadata": {},
   "source": [
    "\n",
    "# Review: Writing unit tests in python\n",
    "\n",
    "This reading contains the code used in the instructional videos from [**Writing Unit Tests in Python**](https://www.coursera.org/learn/python-operating-system/lecture/jd2K1/writing-unit-tests-in-python)\n",
    "\n",
    "## Introduction\n",
    "\n",
    "This follow-along reading is organized to match the content in the video that follows. It contains the same code shown in the next video. These code blocks will provide you with the opportunity to see how the code is written, allow you to practice running it, and can be used as a reference to refer back to.\n",
    "\n",
    "You can follow along in the reading as the instructor discusses the code or review the code after watching the video."
   ]
  },
  {
   "cell_type": "code",
   "execution_count": 1,
   "metadata": {},
   "outputs": [],
   "source": [
    "#!/usr/bin/env python3\n",
    "\n",
    "import re\n",
    "\n",
    "def rearrange_name(name):\n",
    "  result = re.search(r\"^([\\w .]*), ([\\w .]*)$\", name)\n",
    "  return \"{} {}\".format(result[2], result[1])"
   ]
  },
  {
   "cell_type": "markdown",
   "metadata": {},
   "source": [
    "El código proporcionado parece estar destinado a reorganizar un nombre de estilo \"apellido, nombre\" en el estilo \"nombre apellido\". Aquí tienes el código corregido:\n",
    "\n",
    "```python\n",
    "#!/usr/bin/env python3\n",
    "\n",
    "import re\n",
    "\n",
    "# Definición de la función para reorganizar un nombre\n",
    "def rearrange_name(name):\n",
    "    # Busca un patrón que coincida con \"apellido, nombre\"\n",
    "    result = re.search(r\"^([\\w .]*), ([\\w .]*)$\", name)\n",
    "    if result is None:  # Comprueba si no se encontró ningún resultado\n",
    "        return name  # Devuelve el nombre original si no se puede reorganizar\n",
    "    # Reorganiza el nombre al estilo \"nombre apellido\"\n",
    "    return \"{} {}\".format(result.group(2), result.group(1))\n",
    "```\n",
    "\n",
    "En esta corrección, he agregado una verificación para asegurarme de que la búsqueda de expresión regular haya encontrado un resultado antes de intentar acceder a los grupos de captura. Esto evitará errores si el nombre proporcionado no coincide con el patrón esperado. Si no se encuentra ninguna coincidencia, la función devuelve el nombre original sin reorganizar."
   ]
  },
  {
   "cell_type": "code",
   "execution_count": null,
   "metadata": {},
   "outputs": [],
   "source": [
    "#!/usr/bin/env python3\n",
    "\n",
    "import unittest\n",
    "\n",
    "# Importa la función rearrange_name desde el módulo rearrange\n",
    "from rearrange import rearrange_name\n",
    "\n",
    "# Define la clase de prueba TestRearrange\n",
    "class TestRearrange(unittest.TestCase):\n",
    "    \n",
    "    # Define un método de prueba básico\n",
    "    def test_basic(self):\n",
    "        # Define el caso de prueba\n",
    "        testcase = \"Lovelace, Ada\"\n",
    "        expected = \"Ada Lovelace\"\n",
    "        # Verifica si el resultado de rearrange_name es el esperado\n",
    "        self.assertEqual(rearrange_name(testcase), expected)\n",
    "\n",
    "# Ejecuta las pruebas\n",
    "if __name__ == \"__main__\":\n",
    "    unittest.main()\n"
   ]
  }
 ],
 "metadata": {
  "kernelspec": {
   "display_name": "Python 3 (ipykernel)",
   "language": "python",
   "name": "python3"
  },
  "language_info": {
   "codemirror_mode": {
    "name": "ipython",
    "version": 3
   },
   "file_extension": ".py",
   "mimetype": "text/x-python",
   "name": "python",
   "nbconvert_exporter": "python",
   "pygments_lexer": "ipython3",
   "version": "3.11.7"
  }
 },
 "nbformat": 4,
 "nbformat_minor": 2
}
