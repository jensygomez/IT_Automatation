{
 "cells": [
  {
   "cell_type": "markdown",
   "metadata": {},
   "source": [
    "**Author:**       Jensy Gregorio Gómez \n",
    "---------------------------------------\n",
    "**Profession:**  IT Support Analyst and Automatation with Python\n",
    "\n",
    "**Date:**         24 March 2024     \n",
    "\n",
    "**Location:**     Vila Izabel, Curitiba/PR  \n",
    "\n",
    "\n",
    "---\n",
    "\n",
    "**Contacto:**\n",
    "\n",
    "- **Email:** [contact@jensygomez.us](mailto:contact@jensygomez.us)\n",
    "- **YouTube:** [Tu Canal de YouTube](https://www.youtube.com/@systechcwb826)\n",
    "- **LinkedIn:** [Tu Perfil de LinkedIn](https://www.linkedin.com/in/jensygomez/)\n",
    "\n",
    "\n"
   ]
  },
  {
   "cell_type": "markdown",
   "metadata": {},
   "source": [
    "\n",
    "# Review: Making sense out of the data\n",
    "\n",
    "This reading contains the code used in the instructional videos from [**Making Sense out of the Data**](https://www.coursera.org/learn/python-operating-system/lecture/rZP5f/making-sense-out-of-the-data).\n",
    "\n",
    "## Introduction\n",
    "\n",
    "This follow-along reading is organized to match the content in the video that follows. It contains the same code shown in the next video. These code blocks will provide you with the opportunity to see how the code is written, allow you to practice running it, and can be used as a reference to refer back to.\n",
    "\n",
    "You can follow along in the reading as the instructor discusses the code or review the code after watching the video."
   ]
  },
  {
   "cell_type": "code",
   "execution_count": null,
   "metadata": {},
   "outputs": [],
   "source": [
    "# Inicializar un diccionario vacío para almacenar los nombres de usuario y sus ocurrencias.\n",
    "usernames = {}\n",
    "\n",
    "# Definir el nombre de usuario.\n",
    "name = \"good_user\"\n",
    "\n",
    "# Incrementar la ocurrencia del nombre de usuario en el diccionario 'usernames'.\n",
    "# La función 'get()' del diccionario obtiene el valor asociado con la clave 'name'. Si la clave no existe, devuelve 0.\n",
    "# Luego se incrementa este valor en 1.\n",
    "usernames[name] = usernames.get(name, 0) + 1\n",
    "\n",
    "# Imprimir el diccionario después del primer incremento.\n",
    "print(usernames)\n",
    "\n",
    "# Incrementar nuevamente la ocurrencia del mismo nombre de usuario.\n",
    "# La lógica es la misma que en el paso anterior: se obtiene el valor asociado con la clave 'name' y se incrementa en 1.\n",
    "usernames[name] = usernames.get(name, 0) + 1\n",
    "\n",
    "# Imprimir el diccionario después del segundo incremento.\n",
    "print(usernames)\n"
   ]
  },
  {
   "cell_type": "code",
   "execution_count": null,
   "metadata": {},
   "outputs": [],
   "source": [
    "#!/bin/env/python3\n",
    "\n",
    "import re\n",
    "import sys\n",
    "\n",
    "# Obtener el nombre del archivo de registro del argumento de la línea de comandos\n",
    "logfile = sys.argv[1]\n",
    "\n",
    "# Inicializar un diccionario para almacenar los nombres de usuario y sus ocurrencias\n",
    "usernames = {}\n",
    "\n",
    "# Abrir el archivo de registro y procesar cada línea\n",
    "with open(logfile) as f:\n",
    "    for line in f:\n",
    "        # Verificar si la línea contiene eventos CRON\n",
    "        if \"CRON\" not in line:\n",
    "            continue  # Saltar a la siguiente línea si no es un evento CRON\n",
    "\n",
    "        # Definir el patrón de expresión regular para buscar el nombre de usuario\n",
    "        pattern = r\"USER \\((\\w+)\\)$\"\n",
    "\n",
    "        # Buscar coincidencias del patrón en la línea\n",
    "        result = re.search(pattern, line)\n",
    "\n",
    "        # Si no se encuentra ninguna coincidencia, pasar a la siguiente línea\n",
    "        if result is None:\n",
    "            continue\n",
    "\n",
    "        # Extraer el nombre de usuario de la coincidencia encontrada\n",
    "        name = result[1]\n",
    "\n",
    "        # Actualizar el contador de ocurrencias del nombre de usuario en el diccionario 'usernames'\n",
    "        usernames[name] = usernames.get(name, 0) + 1\n",
    "\n",
    "# Imprimir el diccionario de nombres de usuario y sus ocurrencias\n",
    "print(usernames)\n"
   ]
  }
 ],
 "metadata": {
  "kernelspec": {
   "display_name": "Python 3 (ipykernel)",
   "language": "python",
   "name": "python3"
  },
  "language_info": {
   "codemirror_mode": {
    "name": "ipython",
    "version": 3
   },
   "file_extension": ".py",
   "mimetype": "text/x-python",
   "name": "python",
   "nbconvert_exporter": "python",
   "pygments_lexer": "ipython3",
   "version": "3.11.7"
  }
 },
 "nbformat": 4,
 "nbformat_minor": 2
}
