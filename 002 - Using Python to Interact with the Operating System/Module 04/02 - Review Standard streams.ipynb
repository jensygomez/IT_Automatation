{
 "cells": [
  {
   "cell_type": "markdown",
   "metadata": {},
   "source": [
    "**Author:**       Jensy Gregorio Gómez \n",
    "---------------------------------------\n",
    "**Profession:**  IT Support Analyst and Automatation with Python\n",
    "\n",
    "**Date:**         15 March 2024     \n",
    "\n",
    "**Location:**     Vila Izabel, Curitiba/PR  \n",
    "\n",
    "\n",
    "---\n",
    "\n",
    "**Contacto:**\n",
    "\n",
    "- **Email:** [contact@jensygomez.us](mailto:contact@jensygomez.us)\n",
    "- **YouTube:** [Tu Canal de YouTube](https://www.youtube.com/@systechcwb826)\n",
    "- **LinkedIn:** [Tu Perfil de LinkedIn](https://www.linkedin.com/in/jensygomez/)\n",
    "\n",
    "\n"
   ]
  },
  {
   "cell_type": "markdown",
   "metadata": {},
   "source": [
    "\n",
    "\n",
    "# Review: Standard streams\n",
    "\n",
    "This reading contains the code used in the instructional videos from [**Standard Streams**](https://www.coursera.org/learn/python-operating-system/lecture/VvzSE/standard-streams)\n",
    "\n",
    "## Introduction\n",
    "\n",
    "This follow-along reading is organized to match the content in the video that follows. It contains the same code shown in the next video. These code blocks will provide you with the opportunity to see how the code is written, allow you to practice running it, and can be used as a reference to refer back to.\n",
    "\n",
    "You can follow along in the reading as the instructor discusses the code or review the code after watching the video.\n",
    "\n",
    "***"
   ]
  },
  {
   "cell_type": "code",
   "execution_count": null,
   "metadata": {},
   "outputs": [],
   "source": [
    "#!/usr/bin/env python3\n",
    "\n",
    "\"\"\"\n",
    "Este script lee datos de la entrada estándar (STDIN) y los escribe en la salida estándar (STDOUT).\n",
    "Genera un error intencional para mostrar cómo se maneja la salida de error estándar (STDERR).\n",
    "\n",
    "Ejemplo de uso:\n",
    "    $ ./streams.py \n",
    "    This will come from STDIN: Python Rocks!\n",
    "    Now we write it to STDOUT: Python Rocks!\n",
    "    Traceback (most recent call last):\n",
    "      File \"./streams.py\", line X, in <module>\n",
    "        print(\"Now we generate an error to STDERR: \" + data + 1)\n",
    "    TypeError: can only concatenate str (not \"int\") to str\n",
    "\"\"\"\n",
    "\n",
    "data = input(\"This will come from STDIN: \")\n",
    "print(\"Now we write it to STDOUT: \" + data)\n",
    "print(\"Now we generate an error to STDERR: \" + data + 1)\n"
   ]
  },
  {
   "cell_type": "markdown",
   "metadata": {},
   "source": [
    "***\n"
   ]
  },
  {
   "cell_type": "markdown",
   "metadata": {},
   "source": [
    "Veamos el script `streams.py` y luego proporcionaré una documentación para él:\n",
    "\n",
    "```python\n",
    "#!/usr/bin/env python3\n",
    "\n",
    "data = input(\"This will come from STDIN: \")  # Lee datos desde la entrada estándar (STDIN)\n",
    "print(\"Now we write it to STDOUT: \" + data)  # Escribe los datos en la salida estándar (STDOUT)\n",
    "print(\"Now we generate an error to STDERR: \" + data + 1)  # Genera un error intencional para mostrar el manejo de STDERR\n",
    "```\n",
    "\n",
    "En cuanto a la documentación, aquí tienes una versión:\n",
    "\n",
    "```python\n",
    "#!/usr/bin/env python3\n",
    "\n",
    "\"\"\"\n",
    "Este script ilustra el uso de la entrada estándar (STDIN) y la salida estándar (STDOUT) en Python.\n",
    "Lee datos desde STDIN, los escribe en STDOUT y genera un error intencional para mostrar cómo se maneja STDERR.\n",
    "\n",
    "Ejemplo de uso:\n",
    "    $ ./streams.py \n",
    "    This will come from STDIN: Python Rocks!\n",
    "    Now we write it to STDOUT: Python Rocks!\n",
    "    Traceback (most recent call last):\n",
    "      File \"./streams.py\", line X, in <module>\n",
    "        print(\"Now we generate an error to STDERR: \" + data + 1)\n",
    "    TypeError: can only concatenate str (not \"int\") to str\n",
    "\"\"\"\n",
    "\n",
    "data = input(\"This will come from STDIN: \")  # Lee datos desde STDIN\n",
    "print(\"Now we write it to STDOUT: \" + data)  # Escribe los datos en STDOUT\n",
    "print(\"Now we generate an error to STDERR: \" + data + 1)  # Genera un error intencional para STDERR\n",
    "```\n",
    "\n",
    "Esta documentación proporciona una descripción del propósito del script, cómo se usa y un ejemplo de ejecución. También se explica brevemente cada línea de código para ayudar a entender qué está haciendo el script."
   ]
  }
 ],
 "metadata": {
  "kernelspec": {
   "display_name": "Python 3 (ipykernel)",
   "language": "python",
   "name": "python3"
  },
  "language_info": {
   "codemirror_mode": {
    "name": "ipython",
    "version": 3
   },
   "file_extension": ".py",
   "mimetype": "text/x-python",
   "name": "python",
   "nbconvert_exporter": "python",
   "pygments_lexer": "ipython3",
   "version": "3.10.12"
  }
 },
 "nbformat": 4,
 "nbformat_minor": 2
}
