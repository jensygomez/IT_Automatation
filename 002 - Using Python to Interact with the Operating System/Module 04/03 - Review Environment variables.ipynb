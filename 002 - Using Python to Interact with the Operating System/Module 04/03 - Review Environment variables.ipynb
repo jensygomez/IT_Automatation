{
 "cells": [
  {
   "cell_type": "markdown",
   "metadata": {},
   "source": [
    "**Author:**       Jensy Gregorio Gómez \n",
    "---------------------------------------\n",
    "**Profession:**  IT Support Analyst and Automatation with Python\n",
    "\n",
    "**Date:**         15 March 2024     \n",
    "\n",
    "**Location:**     Vila Izabel, Curitiba/PR  \n",
    "\n",
    "\n",
    "---\n",
    "\n",
    "**Contacto:**\n",
    "\n",
    "- **Email:** [contact@jensygomez.us](mailto:contact@jensygomez.us)\n",
    "- **YouTube:** [Tu Canal de YouTube](https://www.youtube.com/@systechcwb826)\n",
    "- **LinkedIn:** [Tu Perfil de LinkedIn](https://www.linkedin.com/in/jensygomez/)\n",
    "\n",
    "\n"
   ]
  },
  {
   "cell_type": "markdown",
   "metadata": {},
   "source": [
    "\n",
    "# Review: Environment variables\n",
    "\n",
    "This reading contains the code used in the instructional videos from [**Environment Variables**](https://www.coursera.org/learn/python-operating-system/lecture/CK007/environment-variables)\n",
    "\n",
    "## Introduction\n",
    "\n",
    "This follow-along reading is organized to match the content in the video that follows. It contains the same code shown in the next video. These code blocks will provide you with the opportunity to see how the code is written, allow you to practice running it, and can be used as a reference to refer back to.\n",
    "\n",
    "You can follow along in the reading as the instructor discusses the code or review the code after watching the video."
   ]
  },
  {
   "cell_type": "markdown",
   "metadata": {},
   "source": [
    "***\n",
    "\n",
    "Entendido. Parece que el script `variables.py` imprime ciertas variables de entorno del sistema utilizando el módulo `os` de Python. Vamos a documentar el código y su funcionalidad:\n",
    "\n",
    "```python\n",
    "#!/usr/bin/env python3\n",
    "import os\n",
    "\n",
    "\"\"\"\n",
    "Este script imprime ciertas variables de entorno del sistema.\n",
    "\n",
    "Ejemplo de uso:\n",
    "    $ ./variables.py\n",
    "    HOME: /home/usuario\n",
    "    SHELL: /bin/bash\n",
    "    FRUIT:\n",
    "\n",
    "    $ export FRUIT=Pineapple\n",
    "    $ ./variables.py\n",
    "    HOME: /home/usuario\n",
    "    SHELL: /bin/bash\n",
    "    FRUIT: Pineapple\n",
    "\"\"\"\n",
    "\n",
    "print(\"HOME: \" + os.environ.get(\"HOME\", \"\"))  # Imprime la variable de entorno HOME\n",
    "print(\"SHELL: \" + os.environ.get(\"SHELL\", \"\"))  # Imprime la variable de entorno SHELL\n",
    "print(\"FRUIT: \" + os.environ.get(\"FRUIT\", \"\"))  # Imprime la variable de entorno FRUIT\n",
    "```\n",
    "\n",
    "Esta documentación explica qué hace el script y cómo usarlo. También proporciona ejemplos de ejecución y muestra cómo la salida del script cambia cuando se establece la variable de entorno `FRUIT`."
   ]
  }
 ],
 "metadata": {
  "kernelspec": {
   "display_name": "Python 3 (ipykernel)",
   "language": "python",
   "name": "python3"
  },
  "language_info": {
   "codemirror_mode": {
    "name": "ipython",
    "version": 3
   },
   "file_extension": ".py",
   "mimetype": "text/x-python",
   "name": "python",
   "nbconvert_exporter": "python",
   "pygments_lexer": "ipython3",
   "version": "3.10.12"
  }
 },
 "nbformat": 4,
 "nbformat_minor": 2
}
