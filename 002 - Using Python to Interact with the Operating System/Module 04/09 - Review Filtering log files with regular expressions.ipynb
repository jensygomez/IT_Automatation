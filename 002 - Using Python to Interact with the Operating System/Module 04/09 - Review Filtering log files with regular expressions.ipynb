{
 "cells": [
  {
   "cell_type": "markdown",
   "metadata": {},
   "source": [
    "**Author:**       Jensy Gregorio Gómez \n",
    "---------------------------------------\n",
    "**Profession:**  IT Support Analyst and Automatation with Python\n",
    "\n",
    "**Date:**         24 March 2024     \n",
    "\n",
    "**Location:**     Vila Izabel, Curitiba/PR  \n",
    "\n",
    "\n",
    "---\n",
    "\n",
    "**Contacto:**\n",
    "\n",
    "- **Email:** [contact@jensygomez.us](mailto:contact@jensygomez.us)\n",
    "- **YouTube:** [Tu Canal de YouTube](https://www.youtube.com/@systechcwb826)\n",
    "- **LinkedIn:** [Tu Perfil de LinkedIn](https://www.linkedin.com/in/jensygomez/)\n",
    "\n",
    "\n"
   ]
  },
  {
   "cell_type": "markdown",
   "metadata": {},
   "source": [
    "\n",
    "# Review: Filtering log files with regular expressions\n",
    "\n",
    "This reading contains the code used in the instructional videos from [**Filtering Log Files with Regular Expressions**](https://www.coursera.org/learn/python-operating-system/lecture/cjVQU/filtering-log-files-with-regular-expressions)\n",
    "\n",
    "## Introduction\n",
    "\n",
    "This follow-along reading is organized to match the content in the video that follows. It contains the same code shown in the next video. These code blocks will provide you with the opportunity to see how the code is written, allow you to practice running it, and can be used as a reference to refer back to.\n",
    "\n",
    "You can follow along in the reading as the instructor discusses the code or review the code after watching the video."
   ]
  },
  {
   "cell_type": "code",
   "execution_count": null,
   "metadata": {},
   "outputs": [],
   "source": [
    "#!/bin/env/python3\n",
    "\n",
    "# Importar el módulo sys para el manejo de argumentos de línea de comandos\n",
    "import sys\n",
    "\n",
    "# Extraer el nombre del archivo de registro de los argumentos de la línea de comandos\n",
    "logfile = sys.argv[1]\n",
    "\n",
    "# Abrir el archivo de registro para lectura\n",
    "with open(logfile) as f:\n",
    "    # Iterar a través de cada línea en el archivo de registro\n",
    "    for line in f:\n",
    "        # Verificar si la línea contiene \"CRON\"\n",
    "        if \"CRON\" not in line:\n",
    "            continue  # Saltar a la siguiente línea si no se encuentra \"CRON\"\n",
    "        print(line.strip())  # Imprimir la línea sin espacios en blanco al principio o al final\n",
    "\n",
    "# Importar el módulo re para expresiones regulares\n",
    "import re\n",
    "\n",
    "# Definir el patrón de expresión regular\n",
    "pattern = r\"USER \\((\\w+)\\)$\"\n",
    "\n",
    "# Línea de ejemplo del registro\n",
    "line = \"Jul 6 14:03:01 computer.name CRON[29440]: USER (naughty_user)\"\n",
    "\n",
    "# Buscar el patrón en la línea de ejemplo del registro\n",
    "result = re.search(pattern, line)\n",
    "\n",
    "# Imprimir el nombre de usuario extraído de la línea de registro\n",
    "print(result[1])\n"
   ]
  },
  {
   "cell_type": "markdown",
   "metadata": {},
   "source": [
    "***"
   ]
  },
  {
   "cell_type": "code",
   "execution_count": null,
   "metadata": {},
   "outputs": [],
   "source": [
    "#!/bin/env/python3\n",
    "\n",
    "# Importar el módulo re para expresiones regulares\n",
    "import re\n",
    "# Importar el módulo sys para el manejo de argumentos de línea de comandos\n",
    "import sys\n",
    "\n",
    "# Obtener el nombre del archivo de registro de los argumentos de la línea de comandos\n",
    "logfile = sys.argv[1]\n",
    "\n",
    "# Abrir el archivo de registro para lectura\n",
    "with open(logfile) as f:\n",
    "    # Iterar a través de cada línea en el archivo de registro\n",
    "    for line in f:\n",
    "        # Verificar si la línea contiene \"CRON\"\n",
    "        if \"CRON\" not in line:\n",
    "            continue  # Saltar a la siguiente línea si no se encuentra \"CRON\"\n",
    "        pattern = r\"USER \\((.+)\\)$\"  # Definir el patrón de expresión regular para encontrar el nombre de usuario\n",
    "        result = re.search(pattern, line)  # Buscar el patrón en la línea\n",
    "        if result:\n",
    "            print(result[1])  # Imprimir el nombre de usuario encontrado\n",
    "\n",
    "# Dar permisos de ejecución al script\n",
    "chmod +x check_cron.py\n",
    "\n",
    "# Ejecutar el script pasando el nombre del archivo de registro como argumento\n",
    "./check_cron.py syslog\n"
   ]
  }
 ],
 "metadata": {
  "kernelspec": {
   "display_name": "Python 3 (ipykernel)",
   "language": "python",
   "name": "python3"
  },
  "language_info": {
   "codemirror_mode": {
    "name": "ipython",
    "version": 3
   },
   "file_extension": ".py",
   "mimetype": "text/x-python",
   "name": "python",
   "nbconvert_exporter": "python",
   "pygments_lexer": "ipython3",
   "version": "3.11.7"
  }
 },
 "nbformat": 4,
 "nbformat_minor": 2
}
