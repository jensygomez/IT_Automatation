{
 "cells": [
  {
   "cell_type": "markdown",
   "metadata": {},
   "source": [
    "**Author:**       Jensy Gregorio Gómez \n",
    "---------------------------------------\n",
    "**Profession:**  IT Support Analyst and Automatation with Python\n",
    "\n",
    "**Date:**         15 March 2024     \n",
    "\n",
    "**Location:**     Vila Izabel, Curitiba/PR  \n",
    "\n",
    "\n",
    "---\n",
    "\n",
    "**Contacto:**\n",
    "\n",
    "- **Email:** [contact@jensygomez.us](mailto:contact@jensygomez.us)\n",
    "- **YouTube:** [Tu Canal de YouTube](https://www.youtube.com/@systechcwb826)\n",
    "- **LinkedIn:** [Tu Perfil de LinkedIn](https://www.linkedin.com/in/jensygomez/)\n",
    "\n",
    "\n"
   ]
  },
  {
   "cell_type": "markdown",
   "metadata": {},
   "source": [
    "\n",
    "# Review: Reading data interactively\n",
    "\n",
    "This reading contains the code used in the instructional videos from [**Reading data interactively**](https://www.coursera.org/learn/python-operating-system/lecture/zmNef/reading-data-interactively)\n",
    "\n",
    "## Introduction\n",
    "\n",
    "This follow-along reading is organized to match the content in the video that follows. It contains the same code shown in the next video. These code blocks will provide you with the opportunity to see how the code is written, allow you to practice running it, and can be used as a reference to refer back to.\n",
    "\n",
    "You can follow along in the reading as the instructor discusses the code or review the code after watching the video.\n",
    "\n",
    "***"
   ]
  },
  {
   "cell_type": "code",
   "execution_count": null,
   "metadata": {},
   "outputs": [],
   "source": [
    "#!/usr/bin/env python3\n",
    "\n",
    "def main():\n",
    "    # Este script solicita al usuario que ingrese su nombre y luego saluda al usuario.\n",
    "    \n",
    "    name = input(\"Por favor, ingresa tu nombre: \")\n",
    "    print(\"¡Hola, \" + name + \"!\")\n",
    "\n",
    "\n",
    "if __name__ == \"__main__\":\n",
    "    main()\n"
   ]
  },
  {
   "cell_type": "markdown",
   "metadata": {},
   "source": [
    "***"
   ]
  },
  {
   "cell_type": "code",
   "execution_count": null,
   "metadata": {},
   "outputs": [],
   "source": [
    "\"\"\"\n",
    "Este script solicita al usuario que ingrese su nombre y luego imprime un saludo personalizado.\n",
    "\n",
    "Ejemplo de uso:\n",
    "    $ python hello.py\n",
    "    Please enter your name: Roger\n",
    "    # Output will be Hello, Roger\n",
    "\"\"\"\n",
    "\n",
    "def main():\n",
    "    \"\"\"\n",
    "    Función principal que solicita al usuario que ingrese su nombre y muestra un saludo personalizado.\n",
    "    \"\"\"\n",
    "    name = input(\"Please enter your name: \")  # Solicitar al usuario que ingrese su nombre\n",
    "    print(\"Hello, \" + name)  # Imprimir el saludo personalizado\n",
    "\n",
    "if __name__ == \"__main__\":\n",
    "    main()\n"
   ]
  },
  {
   "cell_type": "markdown",
   "metadata": {},
   "source": [
    "***"
   ]
  },
  {
   "cell_type": "code",
   "execution_count": null,
   "metadata": {},
   "outputs": [],
   "source": [
    "def to_seconds(hours, minutes, seconds):\n",
    "    \"\"\"\n",
    "    Convierte un tiempo dado en horas, minutos y segundos a segundos.\n",
    "\n",
    "    Parámetros:\n",
    "    hours (int): El número de horas.\n",
    "    minutes (int): El número de minutos.\n",
    "    seconds (int): El número de segundos.\n",
    "\n",
    "    Retorna:\n",
    "    int: El tiempo total en segundos.\n",
    "    \"\"\"\n",
    "    return hours * 3600 + minutes * 60 + seconds\n",
    "\n",
    "print(\"Welcome to this time converter\")\n",
    "\n",
    "cont = \"y\"\n",
    "while cont.lower() == \"y\":\n",
    "    # Solicitar al usuario que ingrese los componentes de tiempo\n",
    "    hours = int(input(\"Enter the number of hours: \"))\n",
    "    minutes = int(input(\"Enter the number of minutes: \"))\n",
    "    seconds = int(input(\"Enter the number of seconds: \"))\n",
    "\n",
    "    # Calcular y mostrar el tiempo en segundos\n",
    "    print(\"That's {} seconds\".format(to_seconds(hours, minutes, seconds)))\n",
    "    print()\n",
    "    \n",
    "    # Preguntar al usuario si desea hacer otra conversión\n",
    "    cont = input(\"Do you want to do another conversion? [y to continue] \")\n",
    "\n",
    "print(\"Goodbye!\")\n"
   ]
  },
  {
   "cell_type": "markdown",
   "metadata": {},
   "source": [
    "***\n",
    "\n",
    "## About this code\n",
    "\n",
    "To see how the code above works, copy and paste it into a Colab Notebook at [https://colab.sandbox.google.com/](https://colab.sandbox.google.com/)\n",
    "\n",
    "\n",
    "./seconds.py \n",
    "Welcome to this time converter\n",
    "Enter the number of hours: 1\n",
    "Enter the number of minutes: 2\n",
    "Enter the number of seconds: 3\n",
    "\n",
    "***\n",
    "\n",
    "Do you want to do another conversion? [y to continue] y\n",
    "Enter the number of hours: 3\n",
    "Enter the number of minutes: 2\n",
    "Enter the number of seconds: 1\n",
    "\n",
    "Do you want to do another conversion? [y to continue] n"
   ]
  }
 ],
 "metadata": {
  "kernelspec": {
   "display_name": "Python 3 (ipykernel)",
   "language": "python",
   "name": "python3"
  },
  "language_info": {
   "codemirror_mode": {
    "name": "ipython",
    "version": 3
   },
   "file_extension": ".py",
   "mimetype": "text/x-python",
   "name": "python",
   "nbconvert_exporter": "python",
   "pygments_lexer": "ipython3",
   "version": "3.10.12"
  }
 },
 "nbformat": 4,
 "nbformat_minor": 2
}
