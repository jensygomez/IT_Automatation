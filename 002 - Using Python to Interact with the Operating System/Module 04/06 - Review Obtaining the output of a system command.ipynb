{
 "cells": [
  {
   "cell_type": "markdown",
   "metadata": {},
   "source": [
    "**Author:**       Jensy Gregorio Gómez \n",
    "---------------------------------------\n",
    "**Profession:**  IT Support Analyst and Automatation with Python\n",
    "\n",
    "**Date:**         23 March 2024     \n",
    "\n",
    "**Location:**     Vila Izabel, Curitiba/PR  \n",
    "\n",
    "\n",
    "---\n",
    "\n",
    "**Contacto:**\n",
    "\n",
    "- **Email:** [contact@jensygomez.us](mailto:contact@jensygomez.us)\n",
    "- **YouTube:** [Tu Canal de YouTube](https://www.youtube.com/@systechcwb826)\n",
    "- **LinkedIn:** [Tu Perfil de LinkedIn](https://www.linkedin.com/in/jensygomez/)\n",
    "\n",
    "\n"
   ]
  },
  {
   "cell_type": "markdown",
   "metadata": {},
   "source": [
    "\n",
    "# Review: Obtaining the output of a system command\n",
    "\n",
    "This reading contains the code used in the instructional videos from [**Obtaining the Output of a System Command**](https://www.coursera.org/learn/python-operating-system/lecture/8YbXG/obtaining-the-output-of-a-system-command)\n",
    "\n",
    "## Introduction\n",
    "\n",
    "This follow-along reading is organized to match the content in the video that follows. It contains the same code shown in the next video. These code blocks will provide you with the opportunity to see how the code is written, allow you to practice running it, and can be used as a reference to refer back to.\n",
    "\n",
    "You can follow along in the reading as the instructor discusses the code or review the code after watching the video."
   ]
  },
  {
   "cell_type": "code",
   "execution_count": null,
   "metadata": {},
   "outputs": [],
   "source": [
    "# Importación del módulo subprocess para ejecutar comandos en el sistema operativo desde Python\n",
    "import subprocess  \n",
    "\n",
    "# Ejecuta el comando \"host 8.8.8.8\" y captura la salida estándar en una variable\n",
    "result = subprocess.run([\"host\", \"8.8.8.8\"], capture_output=True)\n",
    "\n",
    "# Imprime el código de retorno del comando anterior\n",
    "print(result.returncode)\n",
    "\n",
    "# Ejecuta el comando \"host 8.8.8.8\" y captura la salida estándar en una variable\n",
    "result = subprocess.run([\"host\", \"8.8.8.8\"], capture_output=True)\n",
    "\n",
    "# Imprime la salida estándar del comando anterior\n",
    "print(result.stdout)\n",
    "\n",
    "# Ejecuta el comando \"host 8.8.8.8\" y captura la salida estándar en una variable\n",
    "result = subprocess.run([\"host\", \"8.8.8.8\"], capture_output=True)\n",
    "\n",
    "# Imprime la salida estándar del comando anterior después de decodificarla y dividirla en una lista\n",
    "print(result.stdout.decode().split())\n"
   ]
  },
  {
   "cell_type": "code",
   "execution_count": 2,
   "metadata": {},
   "outputs": [
    {
     "name": "stdout",
     "output_type": "stream",
     "text": [
      "1\n",
      "1\n",
      "b''\n",
      "b\"rm: cannot remove 'does_not_exist': No such file or directory\\n\"\n"
     ]
    }
   ],
   "source": [
    "# Importación del módulo subprocess para ejecutar comandos en el sistema operativo desde Python\n",
    "import subprocess  \n",
    "\n",
    "# Intenta eliminar un archivo que no existe y captura la salida estándar y de error en una variable\n",
    "result = subprocess.run([\"rm\", \"does_not_exist\"], capture_output=True)\n",
    "\n",
    "# Imprime el código de retorno del comando anterior\n",
    "print(result.returncode)\n",
    "\n",
    "# Importación del módulo subprocess para ejecutar comandos en el sistema operativo desde Python\n",
    "import subprocess  \n",
    "\n",
    "# Intenta eliminar un archivo que no existe y captura la salida estándar y de error en una variable\n",
    "result = subprocess.run([\"rm\", \"does_not_exist\"], capture_output=True)\n",
    "\n",
    "# Imprime el código de retorno del comando anterior\n",
    "print(result.returncode)\n",
    "\n",
    "# Imprime la salida estándar del comando anterior\n",
    "print(result.stdout)\n",
    "\n",
    "# Imprime la salida de error estándar del comando anterior\n",
    "print(result.stderr)\n"
   ]
  }
 ],
 "metadata": {
  "kernelspec": {
   "display_name": "Python 3 (ipykernel)",
   "language": "python",
   "name": "python3"
  },
  "language_info": {
   "codemirror_mode": {
    "name": "ipython",
    "version": 3
   },
   "file_extension": ".py",
   "mimetype": "text/x-python",
   "name": "python",
   "nbconvert_exporter": "python",
   "pygments_lexer": "ipython3",
   "version": "3.12.2"
  }
 },
 "nbformat": 4,
 "nbformat_minor": 2
}
