{
 "cells": [
  {
   "cell_type": "markdown",
   "metadata": {},
   "source": [
    "**Author:**       Jensy Gregorio Gómez \n",
    "---------------------------------------\n",
    "**Profession:**  IT Support Analyst and Automatation with Python\n",
    "\n",
    "**Date:**         23 March 2024     \n",
    "\n",
    "**Location:**     Vila Izabel, Curitiba/PR  \n",
    "\n",
    "\n",
    "---\n",
    "\n",
    "**Contacto:**\n",
    "\n",
    "- **Email:** [contact@jensygomez.us](mailto:contact@jensygomez.us)\n",
    "- **YouTube:** [Tu Canal de YouTube](https://www.youtube.com/@systechcwb826)\n",
    "- **LinkedIn:** [Tu Perfil de LinkedIn](https://www.linkedin.com/in/jensygomez/)\n",
    "\n",
    "\n"
   ]
  },
  {
   "cell_type": "markdown",
   "metadata": {},
   "source": [
    "\n",
    "# Review: Running system commands in Python\n",
    "\n",
    "This reading contains the code used in the instructional videos from [**Running System Commands in Python**](https://www.coursera.org/learn/python-operating-system/lecture/onsec/running-system-commands-in-python)\n",
    "\n",
    "## Introduction\n",
    "\n",
    "This follow-along reading is organized to match the content in the video that follows. It contains the same code shown in the next video. These code blocks will provide you with the opportunity to see how the code is written, allow you to practice running it, and can be used as a reference to refer back to.\n",
    "\n",
    "You can follow along in the reading as the instructor discusses the code or review the code after watching the video."
   ]
  },
  {
   "cell_type": "code",
   "execution_count": null,
   "metadata": {},
   "outputs": [],
   "source": [
    "import subprocess  \n",
    "# Importación del módulo subprocess para ejecutar comandos en el sistema operativo desde Python\n",
    "\n",
    "subprocess.run([\"date\"])  \n",
    "# Ejecuta el comando \"date\" en el sistema operativo y muestra la fecha y la hora actual\n"
   ]
  },
  {
   "cell_type": "code",
   "execution_count": null,
   "metadata": {},
   "outputs": [],
   "source": [
    "import subprocess  \n",
    "# Importación del módulo subprocess para ejecutar comandos en el sistema operativo desde Python\n",
    "\n",
    "subprocess.run([\"date\"])  \n",
    "# Ejecuta el comando \"date\" en el sistema operativo y muestra la fecha y la hora actual\n",
    "subprocess.run([\"sleep\", \"2\"])  \n",
    "# Ejecuta el comando \"sleep 2\" en el sistema operativo, pausando la ejecución del programa por 2 segundos\n"
   ]
  },
  {
   "cell_type": "code",
   "execution_count": null,
   "metadata": {},
   "outputs": [],
   "source": [
    "import subprocess  \n",
    "# Importación del módulo subprocess para ejecutar comandos en el sistema operativo desde Python\n",
    "\n",
    "subprocess.run([\"date\"])  \n",
    "# Ejecuta el comando \"date\" en el sistema operativo y muestra la fecha y la hora actual\n",
    "subprocess.run([\"sleep\", \"2\"])  \n",
    "# Ejecuta el comando \"sleep 2\" en el sistema operativo, pausando la ejecución del programa por 2 segundos\n",
    "result = subprocess.run([\"ls\", \"this_file_does_not_exist\"])  \n",
    "# Ejecuta el comando \"ls this_file_does_not_exist\" para listar un archivo que no existe\n",
    "print(result.returncode)  \n",
    "# Imprime el código de retorno del comando anterior, que indica si ocurrió algún error (0 si no hay error, otro número si hay algún error)\n"
   ]
  }
 ],
 "metadata": {
  "kernelspec": {
   "display_name": "Python 3 (ipykernel)",
   "language": "python",
   "name": "python3"
  },
  "language_info": {
   "codemirror_mode": {
    "name": "ipython",
    "version": 3
   },
   "file_extension": ".py",
   "mimetype": "text/x-python",
   "name": "python",
   "nbconvert_exporter": "python",
   "pygments_lexer": "ipython3",
   "version": "3.12.2"
  }
 },
 "nbformat": 4,
 "nbformat_minor": 2
}
