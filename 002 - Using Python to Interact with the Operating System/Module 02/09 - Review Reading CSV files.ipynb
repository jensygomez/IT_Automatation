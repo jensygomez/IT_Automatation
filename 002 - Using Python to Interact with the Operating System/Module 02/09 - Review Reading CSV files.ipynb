{
 "cells": [
  {
   "cell_type": "markdown",
   "metadata": {},
   "source": [
    "**Author:**       Jensy Gregorio Gómez \n",
    "---------------------------------------\n",
    "**Profession:**  IT Support Analyst  \n",
    "**Date:**         21 Febrero 2024     \n",
    "**Location:**     Vila Isabel, Curitiba/PR  \n",
    "\n",
    "\n",
    "---\n",
    "\n",
    "**Contacto:**\n",
    "\n",
    "- **Email:** [contact@jensygomez.us](mailto:contact@jensygomez.us)\n",
    "- **YouTube:** [Tu Canal de YouTube](https://www.youtube.com/@systechcwb826)\n",
    "- **LinkedIn:** [Tu Perfil de LinkedIn](https://www.linkedin.com/in/jensygomez/)\n",
    "\n",
    "\n"
   ]
  },
  {
   "cell_type": "markdown",
   "metadata": {},
   "source": [
    "\n",
    "\n",
    "# Review: Reading CSV files\n",
    "\n",
    "This reading contains the code used in the instructional videos from [**Reading CSV Files**](https://www.coursera.org/learn/python-operating-system/lecture/ULRBZ/reading-csv-files)\n",
    "\n",
    "## Introduction\n",
    "\n",
    "This follow-along reading is organized to match the content in the video that follows. It contains the same code shown in the next video. These code blocks will provide you with the opportunity to see how the code is written, allow you to practice running it, and can be used as a reference to refer back to.\n",
    "\n",
    "You can follow along in the reading as the instructor discusses the code or review the code after watching the video.\n"
   ]
  },
  {
   "cell_type": "code",
   "execution_count": null,
   "metadata": {},
   "outputs": [],
   "source": [
    "\n",
    "import csv\n",
    "\n",
    "# Open the file \"csv_file.txt\" in read mode\n",
    "f = open(\"csv_file.txt\")\n",
    "\n",
    "# Create a CSV reader object from the file\n",
    "csv_f = csv.reader(f)\n",
    "\n",
    "# Iterate over each row in the CSV file\n",
    "for row in csv_f:\n",
    "    # Unpack the row into variables: name, phone, and role\n",
    "    name, phone, role = row\n",
    "    \n",
    "    # Print the information formatted as Name, Phone, and Role\n",
    "    print(\"Name: {}, Phone: {}, Role: {}\".format(name, phone, role))\n",
    "\n",
    "# Close the file\n",
    "f.close()\n",
    "\n"
   ]
  },
  {
   "cell_type": "markdown",
   "metadata": {},
   "source": [
    "\n",
    "\n",
    "## About this code\n",
    "\n",
    "The code above will read the data from the CSV file csv_file.txt and print the following information for each row:\n",
    "\n",
    "-   Name\n",
    "    \n",
    "-   Phone number\n",
    "    \n",
    "-   Role\n",
    "    \n",
    "\n",
    "## Example output:\n",
    "\n",
    "Name: Sabrina Green, Phone: 802-867-5309, Role: System Administrator\n",
    "\n",
    "Name: Eli Jones, Phone: 684-3481127, Role: IT specialist\n",
    "\n",
    "Name: Melody Daniels, Phone: 846-687-7436, Role: Programmer\n",
    "\n",
    "Name: Charlie Rivera, Phone: 698-746-3357, Role: Web Developer"
   ]
  }
 ],
 "metadata": {
  "kernelspec": {
   "display_name": "Python 3 (ipykernel)",
   "language": "python",
   "name": "python3"
  },
  "language_info": {
   "codemirror_mode": {
    "name": "ipython",
    "version": 3
   },
   "file_extension": ".py",
   "mimetype": "text/x-python",
   "name": "python",
   "nbconvert_exporter": "python",
   "pygments_lexer": "ipython3",
   "version": "3.11.8"
  }
 },
 "nbformat": 4,
 "nbformat_minor": 2
}
