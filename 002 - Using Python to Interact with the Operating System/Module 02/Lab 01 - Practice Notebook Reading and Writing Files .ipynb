{
 "cells": [
  {
   "cell_type": "markdown",
   "metadata": {},
   "source": [
    "**Author:**       Jensy Gregorio Gómez \n",
    "---------------------------------------\n",
    "**Profession:**  IT Support Analyst  \n",
    "**Date:**         17 Febrero 2024     \n",
    "**Location:**     Vila Isabel, Curitiba/PR  \n",
    "\n",
    "\n",
    "---\n",
    "\n",
    "**Contacto:**\n",
    "\n",
    "- **Email:** [contact@jensygomez.us](mailto:contact@jensygomez.us)\n",
    "- **YouTube:** [Tu Canal de YouTube](https://www.youtube.com/@systechcwb826)\n",
    "- **LinkedIn:** [Tu Perfil de LinkedIn](https://www.linkedin.com/in/jensygomez/)\n",
    "\n",
    "\n"
   ]
  },
  {
   "cell_type": "markdown",
   "metadata": {},
   "source": [
    "# Practice Notebook: Reading and Writing Files\n",
    "\n",
    "In this exercise, we will test your knowledge of reading and writing files by playing around with some text files. \n",
    "<br><br>\n",
    "Let's say we have a text file containing current visitors at a hotel.  We'll call it, *guests.txt*.  Run the following code to create the file.  The file will automatically populate with each initial guest's first name on its own line."
   ]
  },
  {
   "cell_type": "code",
   "execution_count": 9,
   "metadata": {},
   "outputs": [],
   "source": [
    "guest = open(\"guests.txt\", \"w\")\n",
    "initial_guest = [\"bob\", \"Andrea\", \"Manuel\", \"Juan\", \"José\"]\n",
    "\n",
    "for i in initial_guest:\n",
    "    guest.write(i +\"\\n\")\n",
    "\n",
    "guest.close()"
   ]
  },
  {
   "cell_type": "markdown",
   "metadata": {},
   "source": [
    "No output is generated for the above code cell.  To check the contents of the newly created *guests.txt* file, run the following code."
   ]
  },
  {
   "cell_type": "code",
   "execution_count": null,
   "metadata": {},
   "outputs": [],
   "source": [
    "# Open the file named \"guest.txt\" in read mode using the 'with' statement, \n",
    "#which ensures proper handling of the file by automatically closing it when done.\n",
    "with open(\"guests.txt\") as guests:\n",
    "    # Iterate over each line in the file.\n",
    "    for line in guests:\n",
    "        # Print each line to the console.\n",
    "        print(line)\n"
   ]
  },
  {
   "cell_type": "markdown",
   "metadata": {},
   "source": [
    "\n",
    "\n",
    "The output shows that our _guests.txt_ file is correctly populated with each initial guest's first name on its own line. Cool!  \n",
    "  \n",
    "Now suppose we want to update our file as guests check in and out. Fill in the missing code in the following cell to add guests to the _guests.txt_ file as they check in.\n"
   ]
  },
  {
   "cell_type": "code",
   "execution_count": 11,
   "metadata": {},
   "outputs": [],
   "source": [
    "new_guests = [\"Sam\", \"Danielle\", \"Jacob\"]\n",
    "\n",
    "# Open the file \"guests.txt\" in write mode (\"w\") using the 'with' statement, \n",
    "# ensuring it closes properly after use.\n",
    "with open(\"guests.txt\", \"w\") as guests:\n",
    "    # Iterate over each new guest in the 'new_guests' list.\n",
    "    for i in new_guests:\n",
    "        # Write the guest's name followed by a newline character to the file.\n",
    "        guests.write(i + \"\\n\")\n",
    "\n",
    "# The file will be automatically closed upon exiting the 'with' block, \n",
    "# so there's no need to explicitly call guests.close().\n"
   ]
  },
  {
   "cell_type": "markdown",
   "metadata": {},
   "source": [
    "\n",
    "To check whether your code correctly added the new guests to the *guests.txt* file, run the following cell.\n"
   ]
  },
  {
   "cell_type": "code",
   "execution_count": null,
   "metadata": {},
   "outputs": [],
   "source": [
    "# Open the file named \"guest.txt\" in read mode using the 'with' statement, \n",
    "# which ensures proper handling of the file by automatically closing it when done.\n",
    "with open(\"guests.txt\") as guests:\n",
    "    # Iterate over each line in the file.\n",
    "    for line in guests:\n",
    "        # Print each line to the console.\n",
    "        print(line)\n"
   ]
  },
  {
   "cell_type": "markdown",
   "metadata": {},
   "source": [
    "\n",
    "The current names in the *guests.txt* file should be:  Bob, Andrea, Manuel, Polly, Khalid, Sam, Danielle and Jacob.\n",
    "<br><br>\n",
    "Was the *guests.txt* file correctly appended with the new guests? If not, go back and edit your code making sure to fill in the gaps appropriately so that the new guests are correctly added to the *guests.txt* file.  Once the new guests are successfully added, you have filled in the missing code correctly.  Great!\n",
    "<br><br>\n",
    "Now let's remove the guests that have checked out already.  There are several ways to do this, however, the method we will choose for this exercise is outlined as follows:\n",
    "1. Open the file in \"read\" mode.\n",
    "2. Iterate over each line in the file and put each guest's name into a Python list.\n",
    "3. Open the file once again in \"write\" mode.\n",
    "4. Add each guest's name in the Python list to the file one by one.\n",
    "\n",
    "<br>\n",
    "Ready? Fill in the missing code in the following cell to remove the guests that have checked out already."
   ]
  },
  {
   "cell_type": "code",
   "execution_count": 13,
   "metadata": {},
   "outputs": [],
   "source": [
    "checked_out = [\"Andrea\", \"Manuel\", \"Khalid\"]\n",
    "temp_list = []\n",
    "\n",
    "# Open the file \"guests.txt\" in read mode (\"r\") using the 'with' statement, \n",
    "# ensuring it closes properly after use.\n",
    "with open(\"guests.txt\", \"r\") as guests:\n",
    "    # Iterate over each line in the file.\n",
    "    for g in guests:\n",
    "        # Append each stripped line to the temporary list.\n",
    "        temp_list.append(g.strip())\n",
    "\n",
    "# Open the file \"guests.txt\" in write mode (\"w\") using the 'with' statement, \n",
    "# ensuring it closes properly after use.\n",
    "with open(\"guests.txt\", \"w\") as guests:\n",
    "    # Iterate over each name in the temporary list.\n",
    "    for name in temp_list:\n",
    "        # If the name is not in the list of checked-out guests, \n",
    "        #write it to the file followed by a newline character.\n",
    "        if name not in checked_out:\n",
    "            guests.write(name + \"\\n\")\n",
    "\n"
   ]
  },
  {
   "cell_type": "markdown",
   "metadata": {},
   "source": [
    "\n",
    "To check whether your code correctly removed the checked out guests from the *guests.txt* file, run the following cell.\n"
   ]
  },
  {
   "cell_type": "code",
   "execution_count": 14,
   "metadata": {},
   "outputs": [
    {
     "name": "stdout",
     "output_type": "stream",
     "text": [
      "Sam\n",
      "\n",
      "Danielle\n",
      "\n",
      "Jacob\n",
      "\n"
     ]
    }
   ],
   "source": [
    "with open(\"guests.txt\") as guests:\n",
    "    for line in guests:\n",
    "        print(line)"
   ]
  },
  {
   "cell_type": "markdown",
   "metadata": {},
   "source": [
    "\n",
    "The current names in the *guests.txt* file should be:  Bob, Polly, Sam, Danielle and Jacob.\n",
    "<br><br>\n",
    "Were the names of the checked out guests correctly removed from the *guests.txt* file? If not, go back and edit your code making sure to fill in the gaps appropriately so that the checked out guests are correctly removed from the *guests.txt* file. Once the checked out guests are successfully removed, you have filled in the missing code correctly. Awesome!\n",
    "<br><br>\n",
    "Now let's check whether Bob and Andrea are still checked in.  How could we do this? We'll just read through each line in the file to see if their name is in there.  Run the following code to check whether Bob and Andrea are still checked in.\n"
   ]
  },
  {
   "cell_type": "code",
   "execution_count": 16,
   "metadata": {},
   "outputs": [
    {
     "name": "stdout",
     "output_type": "stream",
     "text": [
      "Bob is checked in\n",
      "Andrea is not checked in\n"
     ]
    }
   ],
   "source": [
    "# List of guests to check.\n",
    "guests_to_check = ['Bob', 'Andrea']\n",
    "\n",
    "# List to store the checked-in guests from the file.\n",
    "checked_in = []\n",
    "\n",
    "# Open the file \"guests.txt\" in read mode (\"r\") using the 'with' statement, \n",
    "# ensuring it closes properly after use.\n",
    "with open(\"guests.txt\", \"r\") as guests:\n",
    "    # Iterate over each line in the file.\n",
    "    for g in guests:\n",
    "        # Append each stripped line to the 'checked_in' list.\n",
    "        checked_in.append(g.strip())\n",
    "\n",
    "    # Iterate over each guest to check.\n",
    "    for check in guests_to_check:\n",
    "        # Check if the guest is in the 'checked_in' list.\n",
    "        if check in checked_in:\n",
    "            # If the guest is checked in, print a message indicating so.\n",
    "            print(\"{} is checked in\".format(check))\n",
    "        else:\n",
    "            # If the guest is not checked in, print a message indicating so.\n",
    "            print(\"{} is not checked in\".format(check))\n"
   ]
  },
  {
   "cell_type": "markdown",
   "metadata": {},
   "source": [
    "\n",
    "We can see that Bob is checked in while Andrea is not.  Nice work! You've learned the basics of reading and writing files in Python!\n"
   ]
  }
 ],
 "metadata": {
  "kernelspec": {
   "display_name": "Python 3 (ipykernel)",
   "language": "python",
   "name": "python3"
  },
  "language_info": {
   "codemirror_mode": {
    "name": "ipython",
    "version": 3
   },
   "file_extension": ".py",
   "mimetype": "text/x-python",
   "name": "python",
   "nbconvert_exporter": "python",
   "pygments_lexer": "ipython3",
   "version": "3.12.2"
  }
 },
 "nbformat": 4,
 "nbformat_minor": 2
}
