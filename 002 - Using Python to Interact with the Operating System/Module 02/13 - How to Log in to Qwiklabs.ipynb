{
 "cells": [
  {
   "cell_type": "markdown",
   "metadata": {},
   "source": [
    "**Author:**       Jensy Gregorio Gómez \n",
    "---------------------------------------\n",
    "**Profession:**  IT Support Analyst  \n",
    "**Date:**         24 Febrero 2024     \n",
    "**Location:**     Vila Isabel, Curitiba/PR  \n",
    "\n",
    "\n",
    "---\n",
    "\n",
    "**Contacto:**\n",
    "\n",
    "- **Email:** [contact@jensygomez.us](mailto:contact@jensygomez.us)\n",
    "- **YouTube:** [Tu Canal de YouTube](https://www.youtube.com/@systechcwb826)\n",
    "- **LinkedIn:** [Tu Perfil de LinkedIn](https://www.linkedin.com/in/jensygomez/)\n",
    "\n",
    "\n"
   ]
  },
  {
   "cell_type": "markdown",
   "metadata": {},
   "source": [
    "\n",
    "# How to Log in to Qwiklabs\n",
    "\n",
    "In the following assessments, you’ll be using Qwiklabs for hands-on learning. Qwiklabs provisions resources backed by Google Cloud that will be used to perform the tasks in the assessments. By using Qwiklabs, you won't have to purchase or install software yourself, and you can use the Linux operating system as if it was installed on your local machine.\n",
    "\n",
    "**Important details:**\n",
    "\n",
    "-   You will have 90 minutes to complete each lab.\n",
    "    \n",
    "-   You'll experience a delay as the labs load, as well as for the working instances of Linux VMs. So, please wait a couple of minutes.\n",
    "    \n",
    "-   Make sure to access labs directly through Coursera and not in the Qwiklabs catalog. If you access labs through the Qwiklabs catalog, you will not receive a grade. (As you know, a passing grade is required to complete the course.)\n",
    "    \n",
    "-   You'll connect to a new VM for each lab with temporary credentials created for you; these will last only for the duration of the lab.\n",
    "    \n",
    "-   The grade is calculated when the lab is complete, so be sure to hit \"End Lab\" when you're done. Note: after you end the lab, you won't be able to access your previous work.\n",
    "    \n",
    "-   To get familiar with entering labs, find the links below for the **operating system of the machine you are currently using** for a visualization of the key steps. Note that while video resources linked below do not have a voiceover or any audio, all important details will still be housed in each lab’s set of instructions on the Qwiklabs platform.\n",
    "    \n",
    "-   If you receive the error \"**Sorry, your quota has been exceeded for the lab**\", please [submit a request](https://qwiklab.zendesk.com/hc/en-us/requests/new)  or reach out to the Qwiklabs support team directly via chat support on qwiklabs.com.\n",
    "    \n",
    "\n",
    "**Demo videos for accessing labs:**\n",
    "\n",
    "-   [For Windows users](https://www.youtube.com/watch?v=Al1opDxb3ok \"For Windows users\")\n",
    "    \n",
    "-   [For Mac users](https://www.youtube.com/watch?v=76VlwjMYIxg \"For Mac users\")\n",
    "    \n",
    "-   [For Linux users](https://www.youtube.com/watch?v=YtrO8nW0ugM \"For Linux users\")\n",
    "    \n",
    "-   [For Chrome OS users](https://youtu.be/HklttPmGGKc \"For Chrome OS users\")\n",
    "\n"
   ]
  }
 ],
 "metadata": {
  "kernelspec": {
   "display_name": "Python 3 (ipykernel)",
   "language": "python",
   "name": "python3"
  },
  "language_info": {
   "codemirror_mode": {
    "name": "ipython",
    "version": 3
   },
   "file_extension": ".py",
   "mimetype": "text/x-python",
   "name": "python",
   "nbconvert_exporter": "python",
   "pygments_lexer": "ipython3",
   "version": "3.11.8"
  }
 },
 "nbformat": 4,
 "nbformat_minor": 2
}
