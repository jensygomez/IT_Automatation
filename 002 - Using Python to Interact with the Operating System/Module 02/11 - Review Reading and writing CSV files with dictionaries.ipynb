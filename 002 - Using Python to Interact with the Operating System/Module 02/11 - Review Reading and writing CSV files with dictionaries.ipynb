{
 "cells": [
  {
   "cell_type": "markdown",
   "metadata": {},
   "source": [
    "**Author:**       Jensy Gregorio Gómez \n",
    "---------------------------------------\n",
    "**Profession:**  IT Support Analyst  \n",
    "**Date:**         22 Febrero 2024     \n",
    "**Location:**     Vila Isabel, Curitiba/PR  \n",
    "\n",
    "\n",
    "---\n",
    "\n",
    "**Contacto:**\n",
    "\n",
    "- **Email:** [contact@jensygomez.us](mailto:contact@jensygomez.us)\n",
    "- **YouTube:** [Tu Canal de YouTube](https://www.youtube.com/@systechcwb826)\n",
    "- **LinkedIn:** [Tu Perfil de LinkedIn](https://www.linkedin.com/in/jensygomez/)\n",
    "\n",
    "\n"
   ]
  },
  {
   "cell_type": "markdown",
   "metadata": {},
   "source": [
    "\n",
    "# Review: Reading and writing CSV files with dictionaries\n",
    "\n",
    "This reading contains the code used in the instructional videos from [**Reading and writing CSV Files with dictionaries**](https://www.coursera.org/learn/python-operating-system/lecture/BY6Kn/reading-and-writing-csv-files-with-dictionaries)\n",
    "\n",
    "## Introduction\n",
    "\n",
    "This follow-along reading is organized to match the content in the video that follows. It contains the same code shown in the next video. These code blocks will provide you with the opportunity to see how the code is written, allow you to practice running it, and can be used as a reference to refer back to.\n",
    "\n",
    "You can follow along in the reading as the instructor discusses the code or review the code after watching the video.\n"
   ]
  },
  {
   "cell_type": "code",
   "execution_count": null,
   "metadata": {},
   "outputs": [],
   "source": [
    "import csv  # Import the csv module to work with CSV files\n",
    "\n",
    "# Execute the 'cat' command to display the contents of the software.csv file\n",
    "# cat software.csv\n",
    "\n",
    "# Open the 'software.csv' file and iterate over its rows\n",
    "with open('software.csv') as software:\n",
    "    reader = csv.DictReader(software)  # Create a DictReader object to read the CSV file\n",
    "    for row in reader:  # Iterate over each row in the CSV file\n",
    "        # Print the name of the software and the number of users\n",
    "        print(\"{} has {} users\".format(row[\"name\"], row[\"users\"]))\n",
    "\n"
   ]
  },
  {
   "cell_type": "markdown",
   "metadata": {},
   "source": [
    "\n",
    "## About this code\n",
    "\n",
    "Here the code is opening the file and creating a DictReader to process our CSV data, then it’s going through the rows to access information in each row using the keys just like we would when accessing data in the dictionary.\n"
   ]
  },
  {
   "cell_type": "code",
   "execution_count": 4,
   "metadata": {},
   "outputs": [],
   "source": [
    "import csv  # Import the csv module to work with CSV files\n",
    "\n",
    "# List of dictionaries containing user information\n",
    "users = [\n",
    "    {\"name\": \"Sol Mansi\", \"username\": \"solm\", \"department\": \"IT infrastructure\"},\n",
    "    {\"name\": \"Lio Nelson\", \"username\": \"lion\", \"department\": \"User Experience Research\"},\n",
    "    {\"name\": \"Charlie Grey\", \"username\": \"greyc\", \"department\": \"Development\"}\n",
    "]\n",
    "\n",
    "keys = [\"name\", \"username\", \"department\"]  # Define the keys for the dictionary\n",
    "\n",
    "# Open the 'by_department.csv' file in write ('w') mode and assign it to the identifier 'by_department'\n",
    "with open('by_department.csv', 'w') as by_department:\n",
    "    writer = csv.DictWriter(by_department, fieldnames=keys)  # Create a DictWriter object with specified fieldnames\n",
    "    writer.writeheader()  # Write the header using the fieldnames\n",
    "    writer.writerows(users)  # Write the rows of the 'users' list to the CSV file\n"
   ]
  },
  {
   "cell_type": "markdown",
   "metadata": {},
   "source": [
    "\n",
    "## About this code\n",
    "\n",
    "Here the code creates a list of dictionaries with the data that we want to store. For this example, we want to store data about the users in our company and the departments that they work in. So here we have our list of dictionaries and each contain the keys, name, username and department. We now want to write this HTML file. So we first define the list of keys that we want to write to the file, then we open the file for writing. Next we created the DictWriter passing the keys that we had identified before, and then we call two different methods on the writer. The right header method will create the first line of the CSV based on keys that we passed, and the right rows method will turn the list of dictionaries into lines in that file."
   ]
  },
  {
   "cell_type": "markdown",
   "metadata": {},
   "source": [
    "#the follow command should be used in the terminal\n",
    "\n",
    "cat by_department.csv  "
   ]
  }
 ],
 "metadata": {
  "kernelspec": {
   "display_name": "Python 3 (ipykernel)",
   "language": "python",
   "name": "python3"
  },
  "language_info": {
   "codemirror_mode": {
    "name": "ipython",
    "version": 3
   },
   "file_extension": ".py",
   "mimetype": "text/x-python",
   "name": "python",
   "nbconvert_exporter": "python",
   "pygments_lexer": "ipython3",
   "version": "3.11.8"
  }
 },
 "nbformat": 4,
 "nbformat_minor": 2
}
