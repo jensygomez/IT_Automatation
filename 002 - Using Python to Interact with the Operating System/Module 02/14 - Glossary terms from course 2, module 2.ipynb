{
 "cells": [
  {
   "cell_type": "markdown",
   "metadata": {},
   "source": [
    "**Author:**       Jensy Gregorio Gómez \n",
    "---------------------------------------\n",
    "**Profession:**  IT Support Analyst  \n",
    "**Date:**         24 Febrero 2024     \n",
    "**Location:**     Vila Isabel, Curitiba/PR  \n",
    "\n",
    "\n",
    "---\n",
    "\n",
    "**Contacto:**\n",
    "\n",
    "- **Email:** [contact@jensygomez.us](mailto:contact@jensygomez.us)\n",
    "- **YouTube:** [Tu Canal de YouTube](https://www.youtube.com/@systechcwb826)\n",
    "- **LinkedIn:** [Tu Perfil de LinkedIn](https://www.linkedin.com/in/jensygomez/)\n",
    "\n",
    "\n"
   ]
  },
  {
   "cell_type": "markdown",
   "metadata": {},
   "source": [
    "\n",
    "# Glossary terms from course 2, module 2\n",
    "\n",
    "## **Terms and definitions from Course 2, Module 2**\n",
    "\n",
    "**Absolute path:** A full path to the resource in the file system\n",
    "\n",
    "**Comma separated values (CSV):** A very common data format used to store data as segment of text separated by commas\n",
    "\n",
    "**Dialects:** Rules that define how a CSV file is structured\n",
    "\n",
    "**File systems:** Methods and structures used to organize and control how data is stored and accessed\n",
    "\n",
    "**Mode:** The format controlling what you can do with a recently opened file\n",
    "\n",
    "**Qwiklabs:** An online learning environment or virtual machine to simulate real-world scenarios\n",
    "\n",
    "**Reader objects:** Object that represents an element or entity within a scene that needs to be rendered to the screen\n",
    "\n",
    "**Relative path:** A portion of a path to show where the resource is located in relation to the current working directory\n",
    "\n",
    "**Virtual machine (VM):** A computer simulated through software\n",
    "\n",
    "**Writer objects:** The capability to write data to a CSV file\n"
   ]
  }
 ],
 "metadata": {
  "kernelspec": {
   "display_name": "Python 3 (ipykernel)",
   "language": "python",
   "name": "python3"
  },
  "language_info": {
   "codemirror_mode": {
    "name": "ipython",
    "version": 3
   },
   "file_extension": ".py",
   "mimetype": "text/x-python",
   "name": "python",
   "nbconvert_exporter": "python",
   "pygments_lexer": "ipython3",
   "version": "3.11.8"
  }
 },
 "nbformat": 4,
 "nbformat_minor": 2
}
