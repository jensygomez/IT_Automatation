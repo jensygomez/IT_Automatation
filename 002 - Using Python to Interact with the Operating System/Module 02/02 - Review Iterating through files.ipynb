{
 "cells": [
  {
   "cell_type": "markdown",
   "metadata": {},
   "source": [
    "**Author:**       Jensy Gregorio Gómez \n",
    "---------------------------------------\n",
    "**Profession:**  IT Support Analyst  \n",
    "**Date:**         17 Febrero 2024     \n",
    "**Location:**     Vila Isabel, Curitiba/PR  \n",
    "\n",
    "\n",
    "---\n",
    "\n",
    "**Contacto:**\n",
    "\n",
    "- **Email:** [contact@jensygomez.us](mailto:contact@jensygomez.us)\n",
    "- **YouTube:** [Tu Canal de YouTube](https://www.youtube.com/@systechcwb826)\n",
    "- **LinkedIn:** [Tu Perfil de LinkedIn](https://www.linkedin.com/in/jensygomez/)\n",
    "\n",
    "\n"
   ]
  },
  {
   "cell_type": "markdown",
   "metadata": {},
   "source": [
    "\n",
    "# Review: Iterating through files\n",
    "\n",
    "This reading contains the code used in the instructional videos from [**Iterating through files**](https://www.coursera.org/learn/python-operating-system/lecture/BpXbw/iterating-through-files)\n",
    "\n",
    "## Introduction\n",
    "\n",
    "This follow-along reading is organized to match the content in the video that follows. It contains the same code shown in the next video. These code blocks will provide you with the opportunity to see how the code is written, allow you to practice running it, and can be used as a reference to refer back to.\n",
    "\n",
    "You can follow along in the reading as the instructor discusses the code or review the code after watching the video.\n"
   ]
  },
  {
   "cell_type": "code",
   "execution_count": null,
   "metadata": {},
   "outputs": [],
   "source": [
    "\n",
    "with open(\"spider.txt\") as file:\n",
    "    for line in file:\n",
    "        print(line.upper())"
   ]
  },
  {
   "cell_type": "markdown",
   "metadata": {},
   "source": [
    "\n",
    "Here there are spaces between the lines in the output. This is because there is a new line character at the end of each line.\n"
   ]
  },
  {
   "cell_type": "code",
   "execution_count": null,
   "metadata": {},
   "outputs": [],
   "source": [
    "# Open the file named \"spider.txt\" in read mode using the 'with' statement,\n",
    "#which ensures proper handling of the file by automatically closing it when done.\n",
    "with open(\"spider.txt\") as file:\n",
    "    # Iterate over each line in the file.\n",
    "    for line in file:\n",
    "        # Strip any leading or trailing whitespace from the line and convert it to uppercase.\n",
    "        print(line.strip().upper())\n"
   ]
  },
  {
   "cell_type": "markdown",
   "metadata": {},
   "source": [
    "\n",
    "Here strip is used to remove the newline character, and we get the output without empty lines.\n"
   ]
  },
  {
   "cell_type": "code",
   "execution_count": null,
   "metadata": {},
   "outputs": [],
   "source": [
    "# Open the file named \"spider.txt\" in read mode and assign the file object to the variable 'file'.\n",
    "file = open(\"spider.txt\")\n",
    "\n",
    "# Read all the lines from the file and store them in a list called 'lines'.\n",
    "lines = file.readlines()\n",
    "\n",
    "# Sort the list of lines alphabetically.\n",
    "lines.sort()\n",
    "\n",
    "# Print the sorted list of lines.\n",
    "print(lines)\n",
    "\n",
    "# Note: It's a good practice to close the file after reading its contents, \n",
    "#but this code doesn't explicitly close the file.\n",
    "# It's recommended to use the 'with' statement to automatically close the file when done.\n",
    "file.close()"
   ]
  },
  {
   "cell_type": "markdown",
   "metadata": {},
   "source": [
    "\n",
    "Here, the lines have been sorted alphabetically, so they're no longer in the order that they were in the file. We can see that Python displays a newline character using \"\\n\" symbol when printing a list of strings. This is a way of explicitly showing that there's a new line character in those strings. This displays a character that's not printable, Python uses escape sequences with backslash, like \\n. Another common escape sequence is \\t, for tab.\n"
   ]
  }
 ],
 "metadata": {
  "kernelspec": {
   "display_name": "Python 3 (ipykernel)",
   "language": "python",
   "name": "python3"
  },
  "language_info": {
   "codemirror_mode": {
    "name": "ipython",
    "version": 3
   },
   "file_extension": ".py",
   "mimetype": "text/x-python",
   "name": "python",
   "nbconvert_exporter": "python",
   "pygments_lexer": "ipython3",
   "version": "3.12.2"
  }
 },
 "nbformat": 4,
 "nbformat_minor": 2
}
