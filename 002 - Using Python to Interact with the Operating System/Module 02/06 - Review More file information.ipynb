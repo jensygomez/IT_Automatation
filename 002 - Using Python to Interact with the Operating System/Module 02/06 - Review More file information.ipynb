{
 "cells": [
  {
   "cell_type": "markdown",
   "metadata": {},
   "source": [
    "**Author:**       Jensy Gregorio Gómez \n",
    "---------------------------------------\n",
    "**Profession:**  IT Support Analyst  \n",
    "**Date:**         20 Febrero 2024     \n",
    "**Location:**     Vila Isabel, Curitiba/PR  \n",
    "\n",
    "\n",
    "---\n",
    "\n",
    "**Contacto:**\n",
    "\n",
    "- **Email:** [contact@jensygomez.us](mailto:contact@jensygomez.us)\n",
    "- **YouTube:** [Tu Canal de YouTube](https://www.youtube.com/@systechcwb826)\n",
    "- **LinkedIn:** [Tu Perfil de LinkedIn](https://www.linkedin.com/in/jensygomez/)\n",
    "\n",
    "\n"
   ]
  },
  {
   "cell_type": "markdown",
   "metadata": {},
   "source": [
    "\n",
    "\n",
    "\n",
    "# Review: More file information\n",
    "\n",
    "This reading contains the code used in the instructional videos from [**More file information**](https://www.coursera.org/learn/python-operating-system/lecture/lg6bg/more-file-information)\n",
    "\n",
    "## Introduction\n",
    "\n",
    "This follow-along reading is organized to match the content in the video that follows. It contains the same code shown in the next video. These code blocks will provide you with the opportunity to see how the code is written, allow you to practice running it, and can be used as a reference to refer back to.\n",
    "\n",
    "You can follow along in the reading as the instructor discusses the code or review the code after watching the video."
   ]
  },
  {
   "cell_type": "code",
   "execution_count": 4,
   "metadata": {},
   "outputs": [],
   "source": [
    "import os\n",
    "import datetime"
   ]
  },
  {
   "cell_type": "code",
   "execution_count": 3,
   "metadata": {},
   "outputs": [
    {
     "data": {
      "text/plain": [
       "653"
      ]
     },
     "execution_count": 3,
     "metadata": {},
     "output_type": "execute_result"
    }
   ],
   "source": [
    "#This code will provide the file size\n",
    "os.path.getsize(\"spider.txt\")\n"
   ]
  },
  {
   "cell_type": "code",
   "execution_count": 5,
   "metadata": {},
   "outputs": [
    {
     "data": {
      "text/plain": [
       "1708278547.5591702"
      ]
     },
     "execution_count": 5,
     "metadata": {},
     "output_type": "execute_result"
    }
   ],
   "source": [
    "#This code will provide a timestamp for the file\n",
    "os.path.getmtime(\"spider.txt\")"
   ]
  },
  {
   "cell_type": "code",
   "execution_count": 7,
   "metadata": {},
   "outputs": [
    {
     "name": "stdout",
     "output_type": "stream",
     "text": [
      "2024-02-18 14:49:07.559170\n"
     ]
    }
   ],
   "source": [
    "# Getting the last modification time of the file \"spider.txt\" using os.path.getmtime()\n",
    "timestamp = os.path.getmtime(\"spider.txt\")\n",
    "\n",
    "# Converting the timestamp to a human-readable datetime format using datetime.datetime.fromtimestamp()\n",
    "last_modified_time = datetime.datetime.fromtimestamp(timestamp)\n",
    "\n",
    "# Printing the last modified time of the file\n",
    "print(last_modified_time)"
   ]
  },
  {
   "cell_type": "code",
   "execution_count": 8,
   "metadata": {},
   "outputs": [
    {
     "name": "stdout",
     "output_type": "stream",
     "text": [
      "/home/jensy/Documents/GitHub/IT_Automation_with_Python/002 - Using Python to Interact with the Operating System/Module 02/spider.txt\n"
     ]
    }
   ],
   "source": [
    "# Getting the absolute path of the file \"spider.txt\" using os.path.abspath()\n",
    "absolute_path = os.path.abspath(\"spider.txt\")\n",
    "\n",
    "# Printing the absolute path\n",
    "print(absolute_path)"
   ]
  }
 ],
 "metadata": {
  "kernelspec": {
   "display_name": "Python 3 (ipykernel)",
   "language": "python",
   "name": "python3"
  }
 },
 "nbformat": 4,
 "nbformat_minor": 2
}
