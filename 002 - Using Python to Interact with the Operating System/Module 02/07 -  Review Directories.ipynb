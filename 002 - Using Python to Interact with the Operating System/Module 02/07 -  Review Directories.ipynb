{
 "cells": [
  {
   "cell_type": "markdown",
   "metadata": {},
   "source": [
    "**Author:**       Jensy Gregorio Gómez \n",
    "---------------------------------------\n",
    "**Profession:**  IT Support Analyst  \n",
    "**Date:**         20 Febrero 2024     \n",
    "**Location:**     Vila Isabel, Curitiba/PR  \n",
    "\n",
    "\n",
    "---\n",
    "\n",
    "**Contacto:**\n",
    "\n",
    "- **Email:** [contact@jensygomez.us](mailto:contact@jensygomez.us)\n",
    "- **YouTube:** [Tu Canal de YouTube](https://www.youtube.com/@systechcwb826)\n",
    "- **LinkedIn:** [Tu Perfil de LinkedIn](https://www.linkedin.com/in/jensygomez/)\n",
    "\n",
    "\n"
   ]
  },
  {
   "cell_type": "markdown",
   "metadata": {},
   "source": [
    "\n",
    "# Review: Directories\n",
    "\n",
    "This reading contains the code used in the instructional videos from [**Directories**](https://www.coursera.org/learn/python-operating-system/lecture/9wIkJ/directories)\n",
    "\n",
    "## Introduction\n",
    "\n",
    "This follow-along reading is organized to match the content in the video that follows. It contains the same code shown in the next video. These code blocks will provide you with the opportunity to see how the code is written, allow you to practice running it, and can be used as a reference to refer back to.\n",
    "\n",
    "You can follow along in the reading as the instructor discusses the code or review the code after watching the video."
   ]
  },
  {
   "cell_type": "code",
   "execution_count": null,
   "metadata": {},
   "outputs": [],
   "source": [
    "import os\n",
    "\n",
    "# This code snippet returns the current working directory.\n",
    "print(os.getcwd())  \n"
   ]
  },
  {
   "cell_type": "code",
   "execution_count": null,
   "metadata": {},
   "outputs": [],
   "source": [
    "#The os.mkdir(\"new_dir\") function creates a new directory called new_dir\n",
    "os.mkdir(\"new_dir\")\n"
   ]
  },
  {
   "cell_type": "code",
   "execution_count": null,
   "metadata": {},
   "outputs": [],
   "source": [
    "#This code snippet changes the current working directory to new_dir. \n",
    "# The second line prints the current working directory.\n",
    "os.chdir(\"new_dir\")\n",
    "os.getcwd()\n"
   ]
  },
  {
   "cell_type": "code",
   "execution_count": null,
   "metadata": {},
   "outputs": [],
   "source": [
    "#This code snippet creates a new directory called newer_dir. \n",
    "# The second line deletes the newer_dir directory.\n",
    "os.mkdir(\"newer_dir\")\n",
    "os.rmdir(\"newer_dir\")\n"
   ]
  },
  {
   "cell_type": "code",
   "execution_count": null,
   "metadata": {},
   "outputs": [],
   "source": [
    "#This code snippet returns a list of all the files\n",
    "# and sub-directories in the website directory.\n",
    "import os\n",
    "os.listdir(\"website\")\n"
   ]
  },
  {
   "cell_type": "code",
   "execution_count": null,
   "metadata": {},
   "outputs": [],
   "source": [
    "import os\n",
    "\n",
    "# Directory to examine\n",
    "dir = \"website\"\n",
    "\n",
    "# Iterate over the elements in the directory\n",
    "for name in os.listdir(dir):\n",
    "    # Combine the directory name with the current element's name\n",
    "    fullname = os.path.join(dir, name)\n",
    "    \n",
    "    # Check if the element is a directory\n",
    "    if os.path.isdir(fullname):\n",
    "        # If it's a directory, print a message indicating so\n",
    "        print(\"{} is a directory\".format(fullname))\n",
    "    else:\n",
    "        # If it's not a directory, print a message indicating so\n",
    "        print(\"{} is a file\".format(fullname))\n",
    "\n"
   ]
  },
  {
   "cell_type": "markdown",
   "metadata": {},
   "source": [
    "\n",
    "## About this code\n",
    "\n",
    "Here is the code all together. This code defines a dir variable with the name of the directory that we want to check. This makes our code more readable and more usable. Then, it iterates through the file names returned by the os.listdir. We know from our previous execution of this function that these are just the names of the files without directory. So using os.path.join, we join the directory to each of those file names and create a String with a valid full name. Finally, we use that full name to call os.path.isdir to check if it's a directory or a file."
   ]
  }
 ],
 "metadata": {
  "kernelspec": {
   "display_name": "Python 3 (ipykernel)",
   "language": "python",
   "name": "python3"
  }
 },
 "nbformat": 4,
 "nbformat_minor": 2
}
