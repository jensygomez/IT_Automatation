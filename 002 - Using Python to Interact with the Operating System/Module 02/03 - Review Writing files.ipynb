{
 "cells": [
  {
   "cell_type": "markdown",
   "metadata": {},
   "source": [
    "**Author:**       Jensy Gregorio Gómez \n",
    "---------------------------------------\n",
    "**Profession:**  IT Support Analyst  \n",
    "**Date:**         17 Febrero 2024     \n",
    "**Location:**     Vila Isabel, Curitiba/PR  \n",
    "\n",
    "\n",
    "---\n",
    "\n",
    "**Contacto:**\n",
    "\n",
    "- **Email:** [contact@jensygomez.us](mailto:contact@jensygomez.us)\n",
    "- **YouTube:** [Tu Canal de YouTube](https://www.youtube.com/@systechcwb826)\n",
    "- **LinkedIn:** [Tu Perfil de LinkedIn](https://www.linkedin.com/in/jensygomez/)\n",
    "\n",
    "\n"
   ]
  },
  {
   "cell_type": "markdown",
   "metadata": {},
   "source": [
    "\n",
    "# Review: Writing files\n",
    "\n",
    "This reading contains the code used in the instructional videos from [**Writing Files**](https://www.coursera.org/learn/python-operating-system/lecture/fC3e9/writing-files)\n",
    "\n",
    "## Introduction\n",
    "\n",
    "This follow-along reading is organized to match the content in the video that follows. It contains the same code shown in the next video. These code blocks will provide you with the opportunity to see how the code is written, allow you to practice running it, and can be used as a reference to refer back to.\n",
    "\n",
    "You can follow along in the reading as the instructor discusses the code or review the code after watching the video.\n"
   ]
  },
  {
   "cell_type": "code",
   "execution_count": 2,
   "metadata": {},
   "outputs": [],
   "source": [
    "\n",
    "# Open the file named \"novel.txt\" in write mode using the 'with' statement, \n",
    "# #which ensures proper handling of the file by automatically closing it when done.\n",
    "with open(\"novel.txt\", \"w\") as file:\n",
    "    # Write the string \"It was a dark and stormy night\" to the file.\n",
    "    file.write(\"Today is 17 February, I am Jensy Gomez. It was a dark and stormy night\")\n"
   ]
  },
  {
   "cell_type": "markdown",
   "metadata": {},
   "source": [
    "\n",
    "\n",
    "## About this code\n",
    "\n",
    "The with **open()** statement creates a file object and assigns it to the variable file. The **open()** function takes two arguments: the name of the file and the mode. In this case, the mode is **w**, which means **\"write\"**. This tells the **open()** function to create a new file if it doesn't exist, or to overwrite the existing file if it does exist.\n",
    "\n",
    "The **write()** method of the file object takes a string as its argument and writes the string to the file. In this case, the string is \"It was a dark and stormy night\"."
   ]
  }
 ],
 "metadata": {
  "kernelspec": {
   "display_name": "Python 3 (ipykernel)",
   "language": "python",
   "name": "python3"
  },
  "language_info": {
   "codemirror_mode": {
    "name": "ipython",
    "version": 3
   },
   "file_extension": ".py",
   "mimetype": "text/x-python",
   "name": "python",
   "nbconvert_exporter": "python",
   "pygments_lexer": "ipython3",
   "version": "3.12.2"
  }
 },
 "nbformat": 4,
 "nbformat_minor": 2
}
