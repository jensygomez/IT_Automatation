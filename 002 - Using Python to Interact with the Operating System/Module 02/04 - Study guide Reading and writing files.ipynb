{
 "cells": [
  {
   "cell_type": "markdown",
   "metadata": {},
   "source": [
    "**Author:**       Jensy Gregorio Gómez \n",
    "---------------------------------------\n",
    "**Profession:**  IT Support Analyst  \n",
    "**Date:**         17 Febrero 2024     \n",
    "**Location:**     Vila Isabel, Curitiba/PR  \n",
    "\n",
    "\n",
    "---\n",
    "\n",
    "**Contacto:**\n",
    "\n",
    "- **Email:** [contact@jensygomez.us](mailto:contact@jensygomez.us)\n",
    "- **YouTube:** [Tu Canal de YouTube](https://www.youtube.com/@systechcwb826)\n",
    "- **LinkedIn:** [Tu Perfil de LinkedIn](https://www.linkedin.com/in/jensygomez/)\n",
    "\n",
    "\n"
   ]
  },
  {
   "cell_type": "markdown",
   "metadata": {},
   "source": [
    "\n",
    "# Study guide: Reading and writing files\n",
    "\n",
    "Opening a file or file-like object to read or write is one of the fundamental steps of a Python programmer. For example, you may want to read a .csv file and convert it to JSON format. Or you may want to select data from a database and write it to an output file.\n",
    "\n",
    "## Reading and writing files\n",
    "\n",
    "To read or write a file, use [open(). This function includes two arguments: the file path and the mode.](https://docs.python.org/3/library/functions.html#open)\n"
   ]
  },
  {
   "cell_type": "code",
   "execution_count": null,
   "metadata": {},
   "outputs": [],
   "source": [
    "# Open the file \"declaration.txt\" located in the \"sample_data\" directory\n",
    "# in read text mode (\"rt\") using the 'with' statement, \n",
    "# ensuring it closes properly after use.\n",
    "with open(\"sample_data/declaration.txt\", \"rt\") as textfile:\n",
    "    # Iterate over each line in the text file.\n",
    "    for line in textfile:\n",
    "        # Print each line to the console.\n",
    "        print(line)\n"
   ]
  },
  {
   "cell_type": "markdown",
   "metadata": {},
   "source": [
    "\n",
    "In this example, the first argument is a string containing the filename (sample_data/declaration.txt). The second argument identifies the mode or the way in which the file will be used (rt). \n",
    "“r” means open for reading, and “t” tells Python to expect a text file.\n"
   ]
  },
  {
   "cell_type": "code",
   "execution_count": null,
   "metadata": {},
   "outputs": [],
   "source": [
    "# Open the file \"declaration.txt\" located in the \"sample_data\" directory\n",
    "# in write mode (\"w\").\n",
    "f = open(\"sample_data/declaration.txt\", \"w\")\n"
   ]
  },
  {
   "cell_type": "markdown",
   "metadata": {},
   "source": [
    "\n",
    "In this example, the code tells Python to open this file for writing (“w” mode).\n",
    "\n",
    "## Mode\n",
    "\n",
    "The mode argument is optional, and it specifies the mode in which the file is opened. If omitted, it defaults to ”r” and that means opening for reading in text mode. The common modes include:\n",
    "\n",
    "-   “r” open for reading (default)\n",
    "    \n",
    "-   “w” open for writing, truncating the file first\n",
    "    \n",
    "-   “x” open for exclusive creation, failing if the file already exists\n",
    "    \n",
    "-   “a” open for writing, appending to the end of the file if it exists\n",
    "    \n",
    "-   “+” open for both reading and writing\n",
    "    \n",
    "\n",
    "Attempting to write to a file opened for read (“r”) will cause a runtime error.\n",
    "\n",
    "## Encoding\n",
    "\n",
    "Python distinguishes between binary mode (“b”) and text mode (“t”). By default, files are opened in the text mode, which means you read and write strings from and to the file, which are encoded in a specific encoding. If encoding is not specified, the default is platform-dependent. This means that locale.getencoding() is called to get the current locale encoding. If you need to open the text in a specific encoding, you must specify it."
   ]
  },
  {
   "cell_type": "code",
   "execution_count": null,
   "metadata": {},
   "outputs": [],
   "source": [
    "# Open the file named 'workfile' in write mode ('w') with UTF-8 encoding.\n",
    "f = open('workfile', 'w', encoding=\"utf-8\")\n"
   ]
  },
  {
   "cell_type": "markdown",
   "metadata": {},
   "source": [
    "\n",
    "In this example, the encoding=“utf-8” specifies that the file should be opened with UTF-8, the modern de facto standard. Binary mode data is read and written as bytes objects. You cannot specify encoding when opening a file in binary mode.\n",
    "\n",
    "You have to have permission to write to the directory where you’re placing the file. It’s a best practice to always close a file .close() when you’re done working with it.\n",
    "\n",
    "## Key takeaways\n",
    "\n",
    "To open a file for reading or writing, use open(filename, mode). Two arguments that are needed include the file name and the mode. Python will encode the file as text (“t”) by default unless a specific encoding is specified.\n",
    "\n",
    "## Resources for more information\n",
    "\n",
    "More information about reading and writing files can be found in **Built-in Functions:**\n",
    "\n",
    "-   [https://docs.python.org/3/library/functions.html#open](https://docs.python.org/3/library/functions.html#open)"
   ]
  }
 ],
 "metadata": {
  "kernelspec": {
   "display_name": "Python 3 (ipykernel)",
   "language": "python",
   "name": "python3"
  },
  "language_info": {
   "codemirror_mode": {
    "name": "ipython",
    "version": 3
   },
   "file_extension": ".py",
   "mimetype": "text/x-python",
   "name": "python",
   "nbconvert_exporter": "python",
   "pygments_lexer": "ipython3",
   "version": "3.12.2"
  }
 },
 "nbformat": 4,
 "nbformat_minor": 2
}
