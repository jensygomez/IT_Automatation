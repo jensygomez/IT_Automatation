{
 "cells": [
  {
   "cell_type": "markdown",
   "id": "aa731fab-dc42-4816-a277-f398704530a2",
   "metadata": {},
   "source": [
    "**Author:**       Jensy Gregorio Gómez \n",
    "---------------------------------------\n",
    "**Profession:**  IT Support Analyst  \n",
    "**Date:**         10 Febrero 2024     \n",
    "**Location:**     Vila Isabel, Curitiba/PR  \n",
    "\n",
    "\n",
    "---\n",
    "\n",
    "**Contacto:**\n",
    "\n",
    "- **Email:** [contact@jensygomez.us](mailto:contact@jensygomez.us)\n",
    "- **YouTube:** [Tu Canal de YouTube](https://www.youtube.com/@systechcwb826)\n",
    "- **LinkedIn:** [Tu Perfil de LinkedIn](https://www.linkedin.com/in/jensygomez/)\n",
    "\n",
    "\n"
   ]
  },
  {
   "cell_type": "markdown",
   "id": "d96eef3f-9fd2-4a15-a991-d4bee276cc3b",
   "metadata": {},
   "source": [
    "\n",
    "# Setting up Your Environment\n",
    "\n",
    "After you’ve installed Python and checked that it works, the next step to set up your developer environment is to choose your main code editor. You’ve explored some code editors in Course 1.\n",
    "\n",
    "Here are some additional common editors for Python, available for all platforms:\n",
    "\n",
    "-   [Eclipse](http://www.eclipse.org/)\n",
    "    \n",
    "-   [PyCharm](https://www.jetbrains.com/pycharm/)\n",
    "    \n",
    "-   [Sublime Text](http://www.sublimetext.com/)\n",
    "    \n",
    "-   [Visual Studio Code](https://code.visualstudio.com/)\n",
    "    \n",
    "\n",
    "You can read more about these editors, and others, in these overview comparatives:\n",
    "\n",
    "-   [Python IDEs and Code Editors (Guide)](https://realpython.com/python-ides-code-editors-guide/#pycharm) This site compares tools that are built exclusively for Python code development and tools built for general development that you can use for Python and explains the pros and cons of each tool.\n",
    "    \n",
    "-   [Best Python IDEs and Code Editors](https://www.softwaretestinghelp.com/python-ide-code-editors/) This site explains the importance of an integrated development environment (IDE) and compares a number of Python IDEs and code editors that can be used on platforms such as Windows, Mac, or Linux.\n",
    "    \n",
    "-   [Top 6 Python IDEs for Data Science](https://www.datacamp.com/community/tutorials/data-science-python-ide) This site reviews common IDEs in terms of functionality to benefit projects for data scientists.\n",
    "    \n",
    "\n",
    "We encourage you to try out these editors and pick your favorite. Then, install it on your computer and experiment with writing and executing Python scripts locally. To review best practices for using and saving Python files, check out the following:\n",
    "\n",
    "-   [Review: Use the command-line](https://www.coursera.org/learn/python-crash-course/supplement/vBqPl/review-use-the-command-line)\n",
    "    \n",
    "-   [Use the command-line](https://www.coursera.org/learn/python-crash-course/lecture/Kz1Qr/use-the-command-line)\n",
    "    \n",
    "-   [Review: Use JupyterLab and Jupyter Notebooks](https://www.coursera.org/learn/python-crash-course/supplement/C2ll0/review-use-jupyterlab-and-jupyter-notebooks)\n",
    "    \n",
    "-   [Use JupyterLab and Jupyter Notebooks](https://www.coursera.org/learn/python-crash-course/lecture/e9iE9/use-jupyterlab-and-jupyter-notebooks)\n",
    "    \n",
    "-   [Review: Use Colab](https://www.coursera.org/learn/python-crash-course/supplement/xgTqT/review-use-colab)\n",
    "    \n",
    "-   [Use Colab](https://www.coursera.org/learn/python-crash-course/lecture/563SQ/use-colab)\n",
    "    \n",
    "-   [Review: Use VS Code](https://www.coursera.org/learn/python-crash-course/supplement/gcQVZ/review-use-vs-code)\n",
    "    \n",
    "-   [Use VS Code](https://www.coursera.org/learn/python-crash-course/lecture/DQhOO/use-vs-code)\n",
    "    \n",
    "-   [More on IDEs and code editors](https://www.coursera.org/learn/python-crash-course/supplement/5KUxr/more-on-ides-and-code-editors)"
   ]
  }
 ],
 "metadata": {
  "kernelspec": {
   "display_name": "Python 3 (ipykernel)",
   "language": "python",
   "name": "python3"
  },
  "language_info": {
   "codemirror_mode": {
    "name": "ipython",
    "version": 3
   },
   "file_extension": ".py",
   "mimetype": "text/x-python",
   "name": "python",
   "nbconvert_exporter": "python",
   "pygments_lexer": "ipython3",
   "version": "3.11.7"
  }
 },
 "nbformat": 4,
 "nbformat_minor": 5
}
