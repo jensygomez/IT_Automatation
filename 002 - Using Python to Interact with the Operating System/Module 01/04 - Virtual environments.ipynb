{
 "cells": [
  {
   "cell_type": "markdown",
   "id": "fe383f27-6f1e-433c-b583-770e928b476e",
   "metadata": {},
   "source": [
    "**Author:**       Jensy Gregorio Gómez \n",
    "---------------------------------------\n",
    "**Profession:**  IT Support Analyst  \n",
    "**Date:**         10 Febrero 2024     \n",
    "**Location:**     Vila Isabel, Curitiba/PR  \n",
    "\n",
    "\n",
    "---\n",
    "\n",
    "**Contacto:**\n",
    "\n",
    "- **Email:** [contact@jensygomez.us](mailto:contact@jensygomez.us)\n",
    "- **YouTube:** [Tu Canal de YouTube](https://www.youtube.com/@systechcwb826)\n",
    "- **LinkedIn:** [Tu Perfil de LinkedIn](https://www.linkedin.com/in/jensygomez/)\n"
   ]
  },
  {
   "cell_type": "markdown",
   "id": "b3561931-670b-4078-b88e-06a22d7fe795",
   "metadata": {},
   "source": [
    "\n",
    "# Virtual environments\n",
    "\n",
    "A virtual environment in Python is a powerful tool that allows you to create isolated environments for your Python projects. Each environment acts as a sandbox, containing its own Python interpreter and library installations. This means you can have multiple projects with different dependencies, ensuring that they do not interfere with each other. In essence, virtual environments provide a clean slate where you can work on your projects without worrying about conflicting libraries or versions.\n",
    "\n",
    "## Why use a virtual environment in Python?\n",
    "\n",
    "Imagine you're working on two separate Python projects—one requires a specific version of a library, while the other relies on a newer version. Without virtual environments, managing these dependencies could become a nightmare. Here's where virtual environments shine: they allow you to keep your projects isolated, ensuring that changes in one environment do not impact another.\n",
    "\n",
    "By using virtual environments, you can:\n",
    "\n",
    "-   Avoid conflicts between libraries and dependencies.\n",
    "    \n",
    "-   Test different versions of libraries without affecting your system-wide Python installation.\n",
    "    \n",
    "-   Maintain a clean and organized development environment.\n",
    "    \n",
    "-   Collaborate with others while ensuring consistent library versions.\n",
    "    \n",
    "\n",
    "## Using a Python virtual environment\n",
    "\n",
    "Creating and using a virtual environment is a straightforward process. To create a virtual environment, open your terminal and navigate to your project's directory. Then, run the following command:\n"
   ]
  },
  {
   "cell_type": "code",
   "execution_count": null,
   "id": "bda3f53b-f993-4951-9bd6-3c517cdaa0c2",
   "metadata": {},
   "outputs": [],
   "source": [
    "\n",
    "python -m venv myenv\n"
   ]
  },
  {
   "cell_type": "markdown",
   "id": "0b0b3b09-0cb2-431b-b7fe-d40add2eec9a",
   "metadata": {},
   "source": [
    "\n",
    "This command creates a virtual environment named \"myenv\" in your project directory. To activate the virtual environment, use the appropriate command for your operating system:\n",
    "\n",
    "On Windows:\n"
   ]
  },
  {
   "cell_type": "code",
   "execution_count": null,
   "id": "8b1ff2fa-368b-4393-a495-b036c26eedcb",
   "metadata": {},
   "outputs": [],
   "source": [
    "\n",
    "myenv\\Scripts\\activate\n"
   ]
  },
  {
   "cell_type": "markdown",
   "id": "96759e35-aa7a-4990-acba-79a1c6c073f2",
   "metadata": {},
   "source": [
    "\n",
    "On macOS and Linux:\n"
   ]
  },
  {
   "cell_type": "code",
   "execution_count": null,
   "id": "05a01b4e-b19e-409d-a84c-34e9eec70675",
   "metadata": {},
   "outputs": [],
   "source": [
    "\n",
    "myenv/bin/activate\n"
   ]
  },
  {
   "cell_type": "markdown",
   "id": "53cf8fea-a9d1-49fa-98c1-d6e5852ce035",
   "metadata": {},
   "source": [
    "\n",
    "\n",
    "Once activated, your terminal prompt will change, indicating that you are now working within the virtual environment. You can now install packages using pip just like you normally would.\n",
    "\n",
    "## Best practices and recommendations\n",
    "\n",
    "As you dive into the world of virtual environments, keep these best practices in mind:\n",
    "\n",
    "**Create a virtual environment for each project:** Whenever you start a new project, create a new virtual environment. This ensures a clean and isolated workspace.\n",
    "\n",
    "**Use requirements files:** To document and manage your project's dependencies, create a requirements.txt file. This file lists all the libraries and their versions. You can generate it using pip freeze > requirements.txt and later install them in a new environment using pip install -r requirements.txt.\n",
    "\n",
    "**Activate and deactivate:** Always activate the appropriate virtual environment before working on a project and deactivate it when you're done. This prevents confusion and potential conflicts.\n",
    "\n",
    "**Version control:** If you're collaborating with others, include the virtual environment setup instructions in your version control system. This ensures everyone is using the same environment.\n",
    "\n",
    "**Upgrade pip and setuptools:** When you create a new virtual environment, it's a good practice to upgrade pip and setuptools to the latest version. This ensures you're using the most up-to-date tools.\n",
    "\n",
    "## Key takeaways\n",
    "\n",
    "Virtual environments are your key to maintaining a clean and efficient Python development workflow. By isolating your projects, you can work confidently, test various libraries, and ensure consistency across your codebase. With this newfound knowledge, you're well on your way to mastering the art of running Python locally and building robust applications.\n",
    "\n",
    "[https://docs.python.org/3/library/venv.html](https://docs.python.org/3/library/venv.html)\n"
   ]
  }
 ],
 "metadata": {
  "kernelspec": {
   "display_name": "Python 3 (ipykernel)",
   "language": "python",
   "name": "python3"
  },
  "language_info": {
   "codemirror_mode": {
    "name": "ipython",
    "version": 3
   },
   "file_extension": ".py",
   "mimetype": "text/x-python",
   "name": "python",
   "nbconvert_exporter": "python",
   "pygments_lexer": "ipython3",
   "version": "3.11.8"
  }
 },
 "nbformat": 4,
 "nbformat_minor": 5
}
