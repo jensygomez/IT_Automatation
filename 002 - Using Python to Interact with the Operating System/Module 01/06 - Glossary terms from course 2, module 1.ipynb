{
 "cells": [
  {
   "cell_type": "markdown",
   "id": "e8c8be92-9675-43d1-aaa6-e45b85b77b41",
   "metadata": {},
   "source": [
    "**Author:**       Jensy Gregorio Gómez \n",
    "---------------------------------------\n",
    "**Profession:**  IT Support Analyst  \n",
    "**Date:**         13 Febrero 2024     \n",
    "**Location:**     Vila Isabel, Curitiba/PR  \n",
    "\n",
    "\n",
    "---\n",
    "\n",
    "**Contacto:**\n",
    "\n",
    "- **Email:** [contact@jensygomez.us](mailto:contact@jensygomez.us)\n",
    "- **YouTube:** [Tu Canal de YouTube](https://www.youtube.com/@systechcwb826)\n",
    "- **LinkedIn:** [Tu Perfil de LinkedIn](https://www.linkedin.com/in/jensygomez/)\n"
   ]
  },
  {
   "cell_type": "markdown",
   "id": "d06896ab-7b55-458d-9e41-8bfb7e070fb6",
   "metadata": {},
   "source": [
    "\n",
    "# Glossary terms from course 2, module 1\n",
    "\n",
    "## **Terms and definitions from Course 2, Module 1**\n",
    "\n",
    "**Compiled or compiled language:** Supportable code that can be executed on different platforms\n",
    "\n",
    "**Integrated Development Environment (IDE):** A code editor with extra capabilities to simplify script writing\n",
    "\n",
    "**Interpreter or interpreted language:** An intermediary program used to execute the instructions specified in the code\n",
    "\n",
    "**Kernel:** The main core of an operating system that talks directly to hardware and manages the system’s resource\n",
    "\n",
    "**Linux:** An open source operating system where the software is free to share, modify, and distribute\n",
    "\n",
    "**Mac OS:** Operating system developed by Apple\n",
    "\n",
    "**Operating system (OS):** Software that manages everything that goes on in the computer, composed of two main parts: the kernel and the user space\n",
    "\n",
    "**User space:** Everything outside of the kernel that users interact with directly\n",
    "\n",
    "**Virtual environment:** A tool that allows you to create isolated environments for your Python projects\n",
    "\n",
    "**Windows OS:** Operating system developed by Microsoft"
   ]
  }
 ],
 "metadata": {
  "kernelspec": {
   "display_name": "Python 3 (ipykernel)",
   "language": "python",
   "name": "python3"
  },
  "language_info": {
   "codemirror_mode": {
    "name": "ipython",
    "version": 3
   },
   "file_extension": ".py",
   "mimetype": "text/x-python",
   "name": "python",
   "nbconvert_exporter": "python",
   "pygments_lexer": "ipython3",
   "version": "3.11.8"
  }
 },
 "nbformat": 4,
 "nbformat_minor": 5
}
