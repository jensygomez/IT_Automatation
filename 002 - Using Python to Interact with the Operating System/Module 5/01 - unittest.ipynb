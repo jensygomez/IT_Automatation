{
 "cells": [
  {
   "cell_type": "markdown",
   "metadata": {},
   "source": [
    "**Author:**       Jensy Gregorio Gómez \n",
    "---------------------------------------\n",
    "**Profession:**  IT Support Analyst and Automatation with Python\n",
    "\n",
    "**Date:**         25 March 2024     \n",
    "\n",
    "**Location:**     Vila Izabel, Curitiba/PR  \n",
    "\n",
    "\n",
    "---\n",
    "\n",
    "**Contacto:**\n",
    "\n",
    "- **Email:** [contact@jensygomez.us](mailto:contact@jensygomez.us)\n",
    "- **YouTube:** [Tu Canal de YouTube](https://www.youtube.com/@systechcwb826)\n",
    "- **LinkedIn:** [Tu Perfil de LinkedIn](https://www.linkedin.com/in/jensygomez/)\n",
    "\n",
    "\n"
   ]
  },
  {
   "cell_type": "markdown",
   "metadata": {},
   "source": [
    "\n",
    "# unittest\n",
    "\n",
    "A unittest provides developers with a set of tools to construct and run tests. These tests can be run on individual components or by isolating units of code to ensure their correctness. By running unittests, developers can identify and fix any bugs that appear, creating a more reliable code. In this reading, you will learn about unittest concepts, how to use and when to use them, and view an example along the way.\n",
    "\n",
    "## Concepts\n",
    "\n",
    "Unittest relies on the following concepts:\n",
    "\n",
    "-   **Test fixture:** This refers to preparing to perform one or more tests. In addition, test fixtures also include any actions involved in testing cleanup. This could involve creating temporary or proxy databases, directories, or starting a server process.\n",
    "    \n",
    "-   **Test case:** This is the individual unit of testing that looks for a specific response to a set of inputs. If needed, TestCase is a base class provided by unittest and can be used to create new test cases.\n",
    "    \n",
    "-   **Test suite:** This is a collection of test cases, test suites, or a combination of both. It is used to compile tests that should be executed together.\n",
    "    \n",
    "-   **Test runner:** This runs the test and provides developers with the outcome’s data. The test runner can use different interfaces, like graphical or textual, to provide the developer with the test results. It can also provide a special value to developers to communicate the test results.\n",
    "    \n",
    "\n",
    "## Use case\n",
    "\n",
    "Let’s look at a test case example where the Python code simulates a cake factory and performs different functions. These include choosing different sizes and flavors of a cake, including small, medium, and large, and chocolate or vanilla. In addition, the simple class allows developers to add sprinkles or cherries to the cake, return a list of ingredients, and return the price of the cake based on size and toppings. Run the following code:"
   ]
  },
  {
   "cell_type": "code",
   "execution_count": 6,
   "metadata": {},
   "outputs": [
    {
     "data": {
      "text/plain": [
       "(['flour', 'sugar', 'eggs', 'cocoa', 'sprinkles', 'cherries'], 14)"
      ]
     },
     "execution_count": 6,
     "metadata": {},
     "output_type": "execute_result"
    }
   ],
   "source": [
    "from typing import List\n",
    "\n",
    "# Definición de la clase CakeFactory\n",
    "class CakeFactory:\n",
    "    # Constructor de la clase con dos parámetros: cake_type y size\n",
    "    def __init__(self, cake_type: str, size: str):\n",
    "        self.cake_type = cake_type  # Tipo de pastel\n",
    "        self.size = size  # Tamaño del pastel\n",
    "        self.toppings = []  # Lista de ingredientes adicionales\n",
    "\n",
    "        # Precio basado en el tipo y tamaño del pastel\n",
    "        self.price = 10 if self.cake_type == \"chocolate\" else 8  # Precio base\n",
    "        self.price += 2 if self.size == \"medium\" else 4 if self.size == \"large\" else 0  # Ajuste del precio según el tamaño\n",
    "\n",
    "    # Método para añadir ingredientes adicionales\n",
    "    def add_topping(self, topping: str):\n",
    "        self.toppings.append(topping)  # Añadiendo el ingrediente a la lista\n",
    "        self.price += 1  # Aumentando el precio en 1 por cada ingrediente añadido\n",
    "\n",
    "    # Método para verificar los ingredientes necesarios para el pastel\n",
    "    def check_ingredients(self) -> List[str]:\n",
    "        ingredients = ['flour', 'sugar', 'eggs']  # Ingredientes básicos comunes\n",
    "        # Añadiendo ingredientes específicos según el tipo de pastel\n",
    "        ingredients.append('cocoa') if self.cake_type == \"chocolate\" else ingredients.append('vanilla extract')\n",
    "        ingredients += self.toppings  # Añadiendo los ingredientes adicionales\n",
    "        return ingredients  # Devolviendo la lista de ingredientes\n",
    "\n",
    "    # Método para verificar el precio total del pastel\n",
    "    def check_price(self) -> float:\n",
    "        return self.price  # Devolviendo el precio del pastel\n",
    "\n",
    "# Ejemplo de creación de un pastel y adición de ingredientes adicionales\n",
    "cake = CakeFactory(\"chocolate\", \"medium\")  # Creando un pastel de chocolate de tamaño medio\n",
    "cake.add_topping(\"sprinkles\")  # Añadiendo chispas\n",
    "cake.add_topping(\"cherries\")  # Añadiendo cerezas\n",
    "cake_ingredients = cake.check_ingredients()  # Verificando los ingredientes del pastel\n",
    "cake_price = cake.check_price()  # Verificando el precio del pastel\n",
    "\n",
    "# Imprimiendo los ingredientes del pastel y su precio\n",
    "cake_ingredients, cake_price\n"
   ]
  },
  {
   "cell_type": "markdown",
   "metadata": {},
   "source": [
    "\n",
    "In the code above, the cake factor class and methods are defined. Now it’s time to define the unittest methods to test the different functions of the code. The test suite includes tests for the cake’s flavor, size, toppings, ingredients, and price. The first test case in the suite will intentionally provide the wrong value—and that’s what we want! Create specific statements to make sure the program is behaving as it should. That includes providing incorrect data to determine if the program will provide failed results. Because unittest is class-based, encapsulate these statements into test methods."
   ]
  },
  {
   "cell_type": "code",
   "execution_count": 7,
   "metadata": {},
   "outputs": [
    {
     "name": "stderr",
     "output_type": "stream",
     "text": [
      "..F.\n",
      "======================================================================\n",
      "FAIL: test_check_price (__main__.TestCakeFactory.test_check_price)\n",
      "----------------------------------------------------------------------\n",
      "Traceback (most recent call last):\n",
      "  File \"C:\\Users\\Jensy\\AppData\\Local\\Temp\\ipykernel_2104\\1342134610.py\", line 33, in test_check_price\n",
      "    self.assertEqual(price, 13)  # Verificando el precio esperado (pastel de vainilla, tamaño grande + 2 ingredientes adicionales)\n",
      "    ^^^^^^^^^^^^^^^^^^^^^^^^^^^\n",
      "AssertionError: 14 != 13\n",
      "\n",
      "----------------------------------------------------------------------\n",
      "Ran 4 tests in 0.005s\n",
      "\n",
      "FAILED (failures=1)\n"
     ]
    },
    {
     "data": {
      "text/plain": [
       "<unittest.runner.TextTestResult run=4 errors=0 failures=1>"
      ]
     },
     "execution_count": 7,
     "metadata": {},
     "output_type": "execute_result"
    }
   ],
   "source": [
    "import unittest\n",
    "\n",
    "# Importando la clase CakeFactory que será probada\n",
    "class TestCakeFactory(unittest.TestCase):\n",
    "    # Prueba para verificar la creación adecuada de un pastel\n",
    "    def test_create_cake(self):\n",
    "        cake = CakeFactory(\"vanilla\", \"small\")\n",
    "        self.assertEqual(cake.cake_type, \"vanilla\")  # Verificando el tipo de pastel\n",
    "        self.assertEqual(cake.size, \"small\")  # Verificando el tamaño del pastel\n",
    "        self.assertEqual(cake.price, 8)  # Verificando el precio esperado (pastel de vainilla, tamaño pequeño)\n",
    "\n",
    "    # Prueba para verificar la adición correcta de ingredientes adicionales\n",
    "    def test_add_topping(self):\n",
    "        cake = CakeFactory(\"chocolate\", \"large\")\n",
    "        cake.add_topping(\"sprinkles\")  # Añadiendo chispas\n",
    "        self.assertIn(\"sprinkles\", cake.toppings)  # Verificando si las chispas fueron añadidas correctamente\n",
    "\n",
    "    # Prueba para verificar la lista correcta de ingredientes del pastel\n",
    "    def test_check_ingredients(self):\n",
    "        cake = CakeFactory(\"chocolate\", \"medium\")\n",
    "        cake.add_topping(\"cherries\")  # Añadiendo cerezas\n",
    "        ingredients = cake.check_ingredients()  # Verificando los ingredientes del pastel\n",
    "        self.assertIn(\"cocoa\", ingredients)  # Verificando la presencia de cacao\n",
    "        self.assertIn(\"cherries\", ingredients)  # Verificando la presencia de cerezas\n",
    "        self.assertNotIn(\"vanilla extract\", ingredients)  # Verificando la ausencia de extracto de vainilla\n",
    "\n",
    "    # Prueba para verificar el cálculo correcto del precio del pastel\n",
    "    def test_check_price(self):\n",
    "        cake = CakeFactory(\"vanilla\", \"large\")\n",
    "        cake.add_topping(\"sprinkles\")  # Añadiendo chispas\n",
    "        cake.add_topping(\"cherries\")  # Añadiendo cerezas\n",
    "        price = cake.check_price()  # Verificando el precio del pastel\n",
    "        self.assertEqual(price, 13)  # Verificando el precio esperado (pastel de vainilla, tamaño grande + 2 ingredientes adicionales)\n",
    "\n",
    "# Ejecutando las pruebas unitarias\n",
    "unittest.TextTestRunner().run(unittest.TestLoader().loadTestsFromTestCase(TestCakeFactory))\n"
   ]
  },
  {
   "cell_type": "markdown",
   "metadata": {},
   "source": [
    "La salida de la ejecución de las pruebas unitarias muestra que dos pruebas pasaron correctamente y una prueba falló. La prueba que falló fue `test_check_price` en la clase `TestCakeFactory`, donde se esperaba un precio de `13` para un pastel de vainilla de tamaño grande con 2 ingredientes adicionales, pero el precio calculado fue `14`. Esto resultó en un total de 4 pruebas ejecutadas, con 1 de ellas fallando."
   ]
  },
  {
   "cell_type": "markdown",
   "metadata": {},
   "source": [
    "The program calls the TextTestRunner() method, which returns a runner (TextTestResult). It says one failure occurred: the statement self.assertEqual(price, 13) was incorrect, as it should have been 14. How can we correct that part of the test? Update that part of the code to the following:"
   ]
  },
  {
   "cell_type": "code",
   "execution_count": 9,
   "metadata": {},
   "outputs": [
    {
     "name": "stderr",
     "output_type": "stream",
     "text": [
      "....\n",
      "----------------------------------------------------------------------\n",
      "Ran 4 tests in 0.004s\n",
      "\n",
      "OK\n"
     ]
    },
    {
     "data": {
      "text/plain": [
       "<unittest.runner.TextTestResult run=4 errors=0 failures=0>"
      ]
     },
     "execution_count": 9,
     "metadata": {},
     "output_type": "execute_result"
    }
   ],
   "source": [
    "import unittest\n",
    "\n",
    "# Importando la clase CakeFactory que será probada\n",
    "class TestCakeFactory(unittest.TestCase):\n",
    "    # Prueba para verificar la creación adecuada de un pastel\n",
    "    def test_create_cake(self):\n",
    "        cake = CakeFactory(\"vanilla\", \"small\")\n",
    "        self.assertEqual(cake.cake_type, \"vanilla\")  # Verificando el tipo de pastel\n",
    "        self.assertEqual(cake.size, \"small\")  # Verificando el tamaño del pastel\n",
    "        self.assertEqual(cake.price, 8)  # Verificando el precio esperado (pastel de vainilla, tamaño pequeño)\n",
    "\n",
    "    # Prueba para verificar la adición correcta de ingredientes adicionales\n",
    "    def test_add_topping(self):\n",
    "        cake = CakeFactory(\"chocolate\", \"large\")\n",
    "        cake.add_topping(\"sprinkles\")  # Añadiendo chispas\n",
    "        self.assertIn(\"sprinkles\", cake.toppings)  # Verificando si las chispas fueron añadidas correctamente\n",
    "\n",
    "    # Prueba para verificar la lista correcta de ingredientes del pastel\n",
    "    def test_check_ingredients(self):\n",
    "        cake = CakeFactory(\"chocolate\", \"medium\")\n",
    "        cake.add_topping(\"cherries\")  # Añadiendo cerezas\n",
    "        ingredients = cake.check_ingredients()  # Verificando los ingredientes del pastel\n",
    "        self.assertIn(\"cocoa\", ingredients)  # Verificando la presencia de cacao\n",
    "        self.assertIn(\"cherries\", ingredients)  # Verificando la presencia de cerezas\n",
    "        self.assertNotIn(\"vanilla extract\", ingredients)  # Verificando la ausencia de extracto de vainilla\n",
    "\n",
    "\n",
    "\n",
    "    # Método para probar la verificación correcta del precio del pastel\n",
    "    def test_check_price(self):\n",
    "        cake = CakeFactory(\"vanilla\", \"large\")  # Creando un pastel de vainilla de tamaño grande\n",
    "        cake.add_topping(\"sprinkles\")  # Añadiendo chispas\n",
    "        cake.add_topping(\"cherries\")  # Añadiendo cerezas\n",
    "        price = cake.check_price()  # Verificando el precio del pastel\n",
    "        self.assertEqual(price, 14)  # Verificando si el precio es igual a 14 (pastel de vainilla, tamaño grande + 2 ingredientes adicionales)\n",
    "\n",
    "# Volviendo a ejecutar las pruebas unitarias\n",
    "unittest.TextTestRunner().run(unittest.TestLoader().loadTestsFromTestCase(TestCakeFactory))\n"
   ]
  },
  {
   "cell_type": "markdown",
   "metadata": {},
   "source": [
    "And now the program works as expected, as the results provide no failures and are: \n"
   ]
  },
  {
   "cell_type": "markdown",
   "metadata": {},
   "source": [
    "## Key takeaways\n",
    "\n",
    "Unittest can assist developers in building a strong and effective code for their programs. The tools allow developers to test small, isolated functionality units to catch bugs and glitches that could potentially cause larger problems if run with the overall code program."
   ]
  }
 ],
 "metadata": {
  "kernelspec": {
   "display_name": "Python 3 (ipykernel)",
   "language": "python",
   "name": "python3"
  },
  "language_info": {
   "codemirror_mode": {
    "name": "ipython",
    "version": 3
   },
   "file_extension": ".py",
   "mimetype": "text/x-python",
   "name": "python",
   "nbconvert_exporter": "python",
   "pygments_lexer": "ipython3",
   "version": "3.11.7"
  }
 },
 "nbformat": 4,
 "nbformat_minor": 2
}
