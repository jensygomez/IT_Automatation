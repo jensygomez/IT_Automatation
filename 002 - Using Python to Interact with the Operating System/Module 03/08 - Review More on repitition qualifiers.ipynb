{
 "cells": [
  {
   "cell_type": "markdown",
   "metadata": {},
   "source": [
    "**Author:**       Jensy Gregorio Gómez \n",
    "---------------------------------------\n",
    "**Profession:**  IT Support Analyst and Automatation with Python\n",
    "\n",
    "**Date:**         13 March 2024     \n",
    "\n",
    "**Location:**     Vila Izabel, Curitiba/PR  \n",
    "\n",
    "\n",
    "---\n",
    "\n",
    "**Contacto:**\n",
    "\n",
    "- **Email:** [contact@jensygomez.us](mailto:contact@jensygomez.us)\n",
    "- **YouTube:** [Tu Canal de YouTube](https://www.youtube.com/@systechcwb826)\n",
    "- **LinkedIn:** [Tu Perfil de LinkedIn](https://www.linkedin.com/in/jensygomez/)\n",
    "\n",
    "\n"
   ]
  },
  {
   "cell_type": "markdown",
   "metadata": {},
   "source": [
    "\n",
    "# Review: More on repitition qualifiers\n",
    "\n",
    "This reading contains the code used in the instructional videos from [**More on Repetition Qualifiers**](https://www.coursera.org/learn/python-operating-system/lecture/WCLEI/more-on-repetition-qualifiers)\n",
    "\n",
    "## Introduction\n",
    "\n",
    "This follow-along reading is organized to match the content in the video that follows. It contains the same code shown in the next video. These code blocks will provide you with the opportunity to see how the code is written, allow you to practice running it, and can be used as a reference to refer back to.\n",
    "\n",
    "You can follow along in the reading as the instructor discusses the code or review the code after watching the video."
   ]
  },
  {
   "cell_type": "markdown",
   "metadata": {},
   "source": [
    "Este bloque de código en Python utiliza el módulo `re` (expresiones regulares) para realizar una búsqueda en una cadena de texto. Aquí está la documentación del código:\n",
    "\n",
    "```python\n",
    "import re  # Importa el módulo de expresiones regulares\n",
    "\n",
    "# Utiliza la función search() del módulo re para encontrar la primera coincidencia de una secuencia de 5 letras en la cadena \"a ghost\".\n",
    "# El patrón de búsqueda [a-zA-Z]{5} busca una secuencia de 5 letras, tanto minúsculas como mayúsculas.\n",
    "# La función search() devuelve un objeto 'Match' si encuentra una coincidencia, o None si no encuentra ninguna.\n",
    "print(re.search(r\"[a-zA-Z]{5}\", \"a ghost\"))\n",
    "```\n",
    "\n",
    "Este código imprimirá la coincidencia encontrada, si la hay, o `None` si no se encuentra ninguna coincidencia."
   ]
  },
  {
   "cell_type": "markdown",
   "metadata": {},
   "source": [
    "Este bloque de código en Python también utiliza el módulo `re` (expresiones regulares) para realizar una búsqueda en una cadena de texto. Aquí está la documentación del código:\n",
    "\n",
    "```python\n",
    "import re  # Importa el módulo de expresiones regulares\n",
    "\n",
    "# Utiliza la función search() del módulo re para encontrar la primera coincidencia de una secuencia de 5 letras en la cadena \"a scary ghost appeared\".\n",
    "# El patrón de búsqueda [a-zA-Z]{5} busca una secuencia de 5 letras, tanto minúsculas como mayúsculas.\n",
    "# La función search() devuelve un objeto 'Match' si encuentra una coincidencia, o None si no encuentra ninguna.\n",
    "print(re.search(r\"[a-zA-Z]{5}\", \"a scary ghost appeared\"))\n",
    "```\n",
    "\n",
    "Este código imprimirá la primera coincidencia de una secuencia de 5 letras encontrada en la cadena proporcionada, o `None` si no se encuentra ninguna coincidencia."
   ]
  },
  {
   "cell_type": "markdown",
   "metadata": {},
   "source": [
    "Este bloque de código en Python también utiliza el módulo `re` (expresiones regulares) para encontrar todas las coincidencias de una secuencia de 5 letras en una cadena de texto. Aquí está la documentación del código:\n",
    "\n",
    "```python\n",
    "import re  # Importa el módulo de expresiones regulares\n",
    "\n",
    "# Utiliza la función findall() del módulo re para encontrar todas las coincidencias de una secuencia de 5 letras en la cadena \"a scary ghost appeared\".\n",
    "# El patrón de búsqueda [a-zA-Z]{5} busca una secuencia de 5 letras, tanto minúsculas como mayúsculas.\n",
    "# La función findall() devuelve una lista con todas las coincidencias encontradas.\n",
    "print(re.findall(r\"[a-zA-Z]{5}\", \"a scary ghost appeared\"))\n",
    "```\n",
    "\n",
    "Este código imprimirá todas las secuencias de 5 letras encontradas en la cadena proporcionada. En este caso, imprimirá una lista que contiene todas las coincidencias de 5 letras encontradas en la cadena \"a scary ghost appeared\"."
   ]
  },
  {
   "cell_type": "markdown",
   "metadata": {},
   "source": [
    "Este bloque de código en Python utiliza el módulo `re` (expresiones regulares) para encontrar todas las palabras de exactamente 5 letras en una cadena de texto. Aquí está la documentación del código:\n",
    "\n",
    "```python\n",
    "import re  # Importa el módulo de expresiones regulares\n",
    "\n",
    "# Utiliza la función findall() del módulo re para encontrar todas las palabras de exactamente 5 letras en la cadena \"A scary ghost appeared\".\n",
    "# El patrón de búsqueda \\b[a-zA-Z]{5}\\b busca una palabra de exactamente 5 letras, tanto minúsculas como mayúsculas, utilizando límites de palabra.\n",
    "# La función findall() devuelve una lista con todas las palabras de exactamente 5 letras encontradas.\n",
    "re.findall(r\"\\b[a-zA-Z]{5}\\b\", \"A scary ghost appeared\")\n",
    "```\n",
    "\n",
    "Este código devolverá una lista que contiene todas las palabras de exactamente 5 letras encontradas en la cadena \"A scary ghost appeared\"."
   ]
  },
  {
   "cell_type": "markdown",
   "metadata": {},
   "source": [
    "Este bloque de código en Python utiliza el módulo `re` (expresiones regulares) para encontrar todas las palabras que tienen una longitud de entre 5 y 10 caracteres en una cadena de texto. Aquí está la documentación del código:\n",
    "\n",
    "```python\n",
    "import re  # Importa el módulo de expresiones regulares\n",
    "\n",
    "# Utiliza la función findall() del módulo re para encontrar todas las palabras que tienen una longitud de entre 5 y 10 caracteres en la cadena \"I really like strawberries\".\n",
    "# El patrón de búsqueda \\w{5,10} busca palabras que tengan entre 5 y 10 caracteres alfanuméricos.\n",
    "# La función findall() devuelve una lista con todas las palabras encontradas que cumplen con el patrón.\n",
    "print(re.findall(r\"\\w{5,10}\", \"I really like strawberries\"))\n",
    "```\n",
    "\n",
    "Este código imprimirá una lista que contiene todas las palabras que tienen entre 5 y 10 caracteres alfanuméricos encontradas en la cadena \"I really like strawberries\"."
   ]
  },
  {
   "cell_type": "markdown",
   "metadata": {},
   "source": [
    "Este bloque de código en Python utiliza el módulo `re` (expresiones regulares) para encontrar todas las palabras que tienen una longitud de al menos 5 caracteres en una cadena de texto. Aquí está la documentación del código:\n",
    "\n",
    "```python\n",
    "import re  # Importa el módulo de expresiones regulares\n",
    "\n",
    "# Utiliza la función findall() del módulo re para encontrar todas las palabras que tienen una longitud de al menos 5 caracteres en la cadena \"I really like strawberries\".\n",
    "# El patrón de búsqueda \\w{5,} busca palabras que tengan al menos 5 caracteres alfanuméricos.\n",
    "# La función findall() devuelve una lista con todas las palabras encontradas que cumplen con el patrón.\n",
    "print(re.findall(r\"\\w{5,}\", \"I really like strawberries\"))\n",
    "```\n",
    "\n",
    "Este código imprimirá una lista que contiene todas las palabras que tienen al menos 5 caracteres alfanuméricos encontradas en la cadena \"I really like strawberries\"."
   ]
  },
  {
   "cell_type": "markdown",
   "metadata": {},
   "source": [
    "Este bloque de código en Python utiliza el módulo `re` (expresiones regulares) para encontrar la primera palabra que comienza con la letra 's' seguida de hasta 20 caracteres alfanuméricos en una cadena de texto. Aquí está la documentación del código:\n",
    "\n",
    "```python\n",
    "import re  # Importa el módulo de expresiones regulares\n",
    "\n",
    "# Utiliza la función search() del módulo re para encontrar la primera palabra que comienza con la letra 's' seguida de hasta 20 caracteres alfanuméricos en la cadena \"I really like strawberries\".\n",
    "# El patrón de búsqueda s\\w{,20} busca la letra 's' seguida de hasta 20 caracteres alfanuméricos.\n",
    "# La función search() devuelve un objeto 'Match' si encuentra una coincidencia, o None si no encuentra ninguna.\n",
    "print(re.search(r\"s\\w{,20}\", \"I really like strawberries\"))\n",
    "```\n",
    "\n",
    "Este código imprimirá la primera coincidencia encontrada, si la hay, o `None` si no se encuentra ninguna coincidencia. En este caso, imprimirá la palabra \"strawberries\"."
   ]
  }
 ],
 "metadata": {
  "kernelspec": {
   "display_name": "Python 3 (ipykernel)",
   "language": "python",
   "name": "python3"
  },
  "language_info": {
   "codemirror_mode": {
    "name": "ipython",
    "version": 3
   },
   "file_extension": ".py",
   "mimetype": "text/x-python",
   "name": "python",
   "nbconvert_exporter": "python",
   "pygments_lexer": "ipython3",
   "version": "3.10.12"
  }
 },
 "nbformat": 4,
 "nbformat_minor": 2
}
