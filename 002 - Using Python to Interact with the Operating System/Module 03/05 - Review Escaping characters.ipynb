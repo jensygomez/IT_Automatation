{
 "cells": [
  {
   "cell_type": "markdown",
   "metadata": {},
   "source": [
    "**Author:**       Jensy Gregorio Gómez \n",
    "---------------------------------------\n",
    "**Profession:**  IT Support Analyst and Automatation with Python\n",
    "\n",
    "**Date:**         09 March 2024     \n",
    "\n",
    "**Location:**     Vila Izabel, Curitiba/PR  \n",
    "\n",
    "\n",
    "---\n",
    "\n",
    "**Contacto:**\n",
    "\n",
    "- **Email:** [contact@jensygomez.us](mailto:contact@jensygomez.us)\n",
    "- **YouTube:** [Tu Canal de YouTube](https://www.youtube.com/@systechcwb826)\n",
    "- **LinkedIn:** [Tu Perfil de LinkedIn](https://www.linkedin.com/in/jensygomez/)\n",
    "\n",
    "\n"
   ]
  },
  {
   "cell_type": "markdown",
   "metadata": {},
   "source": [
    "# Review: Escaping characters\n",
    "\n",
    "This reading contains the code used in the instructional videos from [**Escaping Characters**](https://www.coursera.org/learn/python-operating-system/lecture/WUA06/escaping-characters)\n",
    "\n",
    "## Introduction\n",
    "\n",
    "This follow-along reading is organized to match the content in the video that follows. It contains the same code shown in the next video. These code blocks will provide you with the opportunity to see how the code is written, allow you to practice running it, and can be used as a reference to refer back to.\n",
    "\n",
    "You can follow along in the reading as the instructor discusses the code or review the code after watching the video."
   ]
  },
  {
   "cell_type": "code",
   "execution_count": null,
   "metadata": {},
   "outputs": [],
   "source": [
    "# Import the regular expression module\n",
    "import re  \n",
    "\n",
    "# Search for the pattern \".com\" within the string \"welcome\"\n",
    "print(re.search(r\".com\", \"welcome\"))\n",
    "\n",
    "# Search for the pattern \".com\" within the string \"welcome\"\n",
    "# The backslash (\\) escapes the dot (.) character, so it's treated literally\n",
    "print(re.search(r\"\\.com\", \"welcome\"))\n",
    "\n",
    "# Search for the pattern \".com\" within the string \"mydomain.com\"\n",
    "# Since \"mydomain.com\" contains \".com\", it should find a match\n",
    "print(re.search(r\"\\.com\", \"mydomain.com\"))\n"
   ]
  },
  {
   "cell_type": "markdown",
   "metadata": {},
   "source": [
    "\n",
    "\n",
    "```python\n",
    "import re  # Import the regular expression module\n",
    "\n",
    "# Search for a sequence of word characters (\\w) followed by zero or more occurrences (*)\n",
    "# in the string \"This is an example\"\n",
    "print(re.search(r\"\\w*\", \"This is an example\"))\n",
    "\n",
    "# Search for a sequence of word characters (\\w) followed by zero or more occurrences (*)\n",
    "# in the string \"And_this_is_another\"\n",
    "print(re.search(r\"\\w*\", \"And_this_is_another\"))\n",
    "```\n",
    "\n",
    "Explanation:\n",
    "\n",
    "1. In the first `re.search()` call, the pattern `\\w*` matches any sequence of word characters (letters, digits, or underscores), including zero occurrences. The string \"This is an example\" contains multiple words, so the search should match the first word \"This\".\n",
    "\n",
    "2. In the second `re.search()` call, the pattern `\\w*` is applied to the string \"And_this_is_another\". This pattern matches the sequence \"And_this_is_another\", including the underscores, since underscores are considered word characters. Therefore, the entire string should be matched."
   ]
  }
 ],
 "metadata": {
  "kernelspec": {
   "display_name": "Python 3 (ipykernel)",
   "language": "python",
   "name": "python3"
  },
  "language_info": {
   "codemirror_mode": {
    "name": "ipython",
    "version": 3
   },
   "file_extension": ".py",
   "mimetype": "text/x-python",
   "name": "python",
   "nbconvert_exporter": "python",
   "pygments_lexer": "ipython3",
   "version": "3.12.2"
  }
 },
 "nbformat": 4,
 "nbformat_minor": 2
}
