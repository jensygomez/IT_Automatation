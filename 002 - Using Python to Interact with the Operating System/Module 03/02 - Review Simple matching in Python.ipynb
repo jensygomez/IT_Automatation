{
 "cells": [
  {
   "cell_type": "markdown",
   "metadata": {},
   "source": [
    "**Author:**       Jensy Gregorio Gómez \n",
    "---------------------------------------\n",
    "**Profession:**  IT Support Analyst and Automatation with Python\n",
    "\n",
    "**Date:**         01 March 2024     \n",
    "\n",
    "**Location:**     Vila Izabel, Curitiba/PR  \n",
    "\n",
    "\n",
    "---\n",
    "\n",
    "**Contacto:**\n",
    "\n",
    "- **Email:** [contact@jensygomez.us](mailto:contact@jensygomez.us)\n",
    "- **YouTube:** [Tu Canal de YouTube](https://www.youtube.com/@systechcwb826)\n",
    "- **LinkedIn:** [Tu Perfil de LinkedIn](https://www.linkedin.com/in/jensygomez/)\n",
    "\n",
    "\n"
   ]
  },
  {
   "cell_type": "markdown",
   "metadata": {},
   "source": [
    "\n",
    "# Review: Simple matching in Python\n",
    "\n",
    "This reading contains the code used in the instructional videos from [**Simple Matching in Python**](https://www.coursera.org/learn/python-operating-system/lecture/xRRwk/simple-matching-in-python)\n",
    "\n",
    "## Introduction\n",
    "\n",
    "This follow-along reading is organized to match the content in the video that follows. It contains the same code shown in the next video. These code blocks will provide you with the opportunity to see how the code is written, allow you to practice running it, and can be used as a reference to refer back to.\n",
    "\n",
    "You can follow along in the reading as the instructor discusses the code or review the code after watching the video."
   ]
  },
  {
   "cell_type": "code",
   "execution_count": 1,
   "metadata": {},
   "outputs": [
    {
     "name": "stdout",
     "output_type": "stream",
     "text": [
      "<re.Match object; span=(2, 5), match='aza'>\n"
     ]
    }
   ],
   "source": [
    "import re\n",
    "\n",
    "# Using re.search() to search for the pattern \"aza\" within the string \"plaza\"\n",
    "result = re.search(r\"aza\", \"plaza\")\n",
    "\n",
    "# The result variable contains a Match object if the pattern is found, otherwise it's None.\n",
    "# In this case, \"aza\" is found within \"plaza\", so the result will not be None.\n",
    "\n",
    "# Printing the result\n",
    "print(result)\n"
   ]
  },
  {
   "cell_type": "code",
   "execution_count": 2,
   "metadata": {},
   "outputs": [
    {
     "name": "stdout",
     "output_type": "stream",
     "text": [
      "<re.Match object; span=(1, 4), match='aza'>\n"
     ]
    }
   ],
   "source": [
    "import re\n",
    "\n",
    "# Using re.search() to search for the pattern \"aza\" within the string \"bazaar\"\n",
    "result = re.search(r\"aza\", \"bazaar\")\n",
    "\n",
    "# The result variable contains a Match object if the pattern is found, otherwise it's None.\n",
    "# In this case, \"aza\" is found within \"bazaar\", so the result will not be None.\n",
    "\n",
    "# Printing the result\n",
    "print(result)\n"
   ]
  },
  {
   "cell_type": "code",
   "execution_count": 3,
   "metadata": {},
   "outputs": [
    {
     "name": "stdout",
     "output_type": "stream",
     "text": [
      "None\n"
     ]
    }
   ],
   "source": [
    "import re\n",
    "\n",
    "# Using re.search() to search for the pattern \"aza\" within the string \"maze\"\n",
    "result = re.search(r\"aza\", \"maze\")\n",
    "\n",
    "# The result variable contains a Match object if the pattern is found, otherwise it's None.\n",
    "# In this case, \"aza\" is not found within \"maze\", so the result will be None.\n",
    "\n",
    "# Printing the result\n",
    "print(result)\n"
   ]
  },
  {
   "cell_type": "code",
   "execution_count": 4,
   "metadata": {},
   "outputs": [
    {
     "name": "stdout",
     "output_type": "stream",
     "text": [
      "<re.Match object; span=(0, 1), match='x'>\n"
     ]
    }
   ],
   "source": [
    "# Using re.search() to search for the pattern \"^x\" (starts with 'x') within the string \"xenon\"\n",
    "print(re.search(r\"^x\", \"xenon\"))\n"
   ]
  },
  {
   "cell_type": "code",
   "execution_count": 5,
   "metadata": {},
   "outputs": [
    {
     "name": "stdout",
     "output_type": "stream",
     "text": [
      "<re.Match object; span=(0, 4), match='peng'>\n"
     ]
    }
   ],
   "source": [
    "import re\n",
    "\n",
    "# Using re.search() to search for the pattern \"p.ng\" within the string \"penguin\"\n",
    "print(re.search(r\"p.ng\", \"penguin\"))\n"
   ]
  },
  {
   "cell_type": "code",
   "execution_count": 6,
   "metadata": {},
   "outputs": [
    {
     "name": "stdout",
     "output_type": "stream",
     "text": [
      "<re.Match object; span=(4, 8), match='ping'>\n"
     ]
    }
   ],
   "source": [
    "import re\n",
    "\n",
    "# Using re.search() to search for the pattern \"p.ng\" within the string \"clapping\"\n",
    "print(re.search(r\"p.ng\", \"clapping\"))\n"
   ]
  },
  {
   "cell_type": "code",
   "execution_count": 7,
   "metadata": {},
   "outputs": [
    {
     "name": "stdout",
     "output_type": "stream",
     "text": [
      "<re.Match object; span=(0, 4), match='Pang'>\n"
     ]
    }
   ],
   "source": [
    "import re\n",
    "\n",
    "# Using re.search() to search for the pattern \"p.ng\" within the string \"Pangaea\", ignoring case sensitivity\n",
    "print(re.search(r\"p.ng\", \"Pangaea\", re.IGNORECASE))\n"
   ]
  }
 ],
 "metadata": {
  "kernelspec": {
   "display_name": "Python 3 (ipykernel)",
   "language": "python",
   "name": "python3"
  },
  "language_info": {
   "codemirror_mode": {
    "name": "ipython",
    "version": 3
   },
   "file_extension": ".py",
   "mimetype": "text/x-python",
   "name": "python",
   "nbconvert_exporter": "python",
   "pygments_lexer": "ipython3",
   "version": "3.12.2"
  }
 },
 "nbformat": 4,
 "nbformat_minor": 2
}
