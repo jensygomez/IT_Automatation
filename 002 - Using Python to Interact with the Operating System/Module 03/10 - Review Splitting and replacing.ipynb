{
 "cells": [
  {
   "cell_type": "markdown",
   "metadata": {},
   "source": [
    "**Author:**       Jensy Gregorio Gómez \n",
    "---------------------------------------\n",
    "**Profession:**  IT Support Analyst and Automatation with Python\n",
    "\n",
    "**Date:**         13 March 2024     \n",
    "\n",
    "**Location:**     Vila Izabel, Curitiba/PR  \n",
    "\n",
    "\n",
    "---\n",
    "\n",
    "**Contacto:**\n",
    "\n",
    "- **Email:** [contact@jensygomez.us](mailto:contact@jensygomez.us)\n",
    "- **YouTube:** [Tu Canal de YouTube](https://www.youtube.com/@systechcwb826)\n",
    "- **LinkedIn:** [Tu Perfil de LinkedIn](https://www.linkedin.com/in/jensygomez/)\n",
    "\n",
    "\n"
   ]
  },
  {
   "cell_type": "markdown",
   "metadata": {},
   "source": [
    "\n",
    "# Review: Splitting and replacing\n",
    "\n",
    "This reading contains the code used in the instructional videos from [**Splitting and Replacing**](https://www.coursera.org/learn/python-operating-system/lecture/voK04/splitting-and-replacing)\n",
    "\n",
    "## Introduction\n",
    "\n",
    "This follow-along reading is organized to match the content in the video that follows. It contains the same code shown in the next video. These code blocks will provide you with the opportunity to see how the code is written, allow you to practice running it, and can be used as a reference to refer back to.\n",
    "\n",
    "You can follow along in the reading as the instructor discusses the code or review the code after watching the video."
   ]
  },
  {
   "cell_type": "code",
   "execution_count": null,
   "metadata": {},
   "outputs": [],
   "source": [
    "import re\n",
    "\n",
    "# Se importa el módulo re para trabajar con expresiones regulares en Python.\n",
    "\n",
    "re.split(r\"[.?!]\", \"One sentence. Another one? And the last one!\")\n",
    "# Se utiliza la función re.split() para dividir la cadena proporcionada en una lista de subcadenas utilizando un patrón de expresión regular como delimitador.\n",
    "# Explicación del patrón de expresión regular:\n",
    "#   - [.?!]: Coincide con cualquier carácter entre corchetes, que en este caso son \".\", \"?\", y \"!\".\n",
    "\n",
    "# La función re.split() dividirá la cadena \"One sentence. Another one? And the last one!\" en subcadenas utilizando los delimitadores \".\", \"?\", y \"!\".\n",
    "# El resultado será una lista de las subcadenas resultantes.\n"
   ]
  },
  {
   "cell_type": "code",
   "execution_count": null,
   "metadata": {},
   "outputs": [],
   "source": [
    "import re\n",
    "\n",
    "# Se importa el módulo re para trabajar con expresiones regulares en Python.\n",
    "\n",
    "re.split(r\"([.?!])\", \"One sentence. Another one? And the last one!\")\n",
    "# Se utiliza la función re.split() para dividir la cadena proporcionada en una lista de subcadenas utilizando un patrón de expresión regular como delimitador.\n",
    "# Explicación del patrón de expresión regular:\n",
    "#   - ([.?!]): Coincide con cualquier carácter entre corchetes, que en este caso son \".\", \"?\", y \"!\", y captura este carácter en un grupo de captura.\n",
    "#              Los paréntesis () indican que se debe tratar como un grupo de captura.\n",
    "\n",
    "# La función re.split() dividirá la cadena \"One sentence. Another one? And the last one!\" en subcadenas utilizando los delimitadores \".\", \"?\", y \"!\".\n",
    "# Además, mantendrá los delimitadores como elementos separados en la lista resultante, gracias a los grupos de captura en el patrón de expresión regular.\n",
    "# El resultado será una lista de las subcadenas resultantes, incluyendo los delimitadores.\n"
   ]
  },
  {
   "cell_type": "code",
   "execution_count": 1,
   "metadata": {},
   "outputs": [
    {
     "data": {
      "text/plain": [
       "'Received an email for [REDACTED]'"
      ]
     },
     "execution_count": 1,
     "metadata": {},
     "output_type": "execute_result"
    }
   ],
   "source": [
    "import re\n",
    "\n",
    "# Se importa el módulo re para trabajar con expresiones regulares en Python.\n",
    "\n",
    "re.sub(r\"[\\w.%+-]+@[\\w.-]+\", \"[REDACTED]\", \"Received an email for go_nuts95@my.example.com\")\n",
    "# Se utiliza la función re.sub() para reemplazar todas las direcciones de correo electrónico en una cadena con el texto \"[REDACTED]\".\n",
    "# Explicación del patrón de expresión regular:\n",
    "#   - [\\w.%+-]+: Coincide con uno o más caracteres de palabra (\\w), puntos (.), porcentaje (%), signos de suma (+) o menos (-).\n",
    "#   - @: Coincide con el símbolo \"@\".\n",
    "#   - [\\w.-]+: Coincide con uno o más caracteres de palabra (\\w), puntos (.) o guiones (-).\n",
    "# Se utiliza este patrón para reconocer y reemplazar direcciones de correo electrónico en la cadena.\n",
    "\n",
    "# La función re.sub() reemplazará todas las direcciones de correo electrónico encontradas en la cadena \"Received an email for go_nuts95@my.example.com\" con el texto \"[REDACTED]\".\n",
    "# El resultado será una nueva cadena con las direcciones de correo electrónico ocultas o \"redactadas\".\n"
   ]
  },
  {
   "cell_type": "code",
   "execution_count": null,
   "metadata": {},
   "outputs": [],
   "source": [
    "import re\n",
    "\n",
    "# Se importa el módulo re para trabajar con expresiones regulares en Python.\n",
    "\n",
    "re.sub(r\"^([\\w .-]*), ([\\w .-]*)$\", r\"\\2 \\1\", \"Lovelace, Ada\")\n",
    "# Se utiliza la función re.sub() para realizar una sustitución basada en un patrón de expresión regular en una cadena.\n",
    "\n",
    "# Explicación del patrón de expresión regular:\n",
    "#   - ^([\\w .-]*), ([\\w .-]*)$:\n",
    "#       - ^ y $: Coinciden con el inicio y el final de la cadena, respectivamente.\n",
    "#       - ([\\w .-]*): Captura cualquier secuencia de caracteres de palabra (\\w), espacios, puntos (.), o guiones (-) como el apellido.\n",
    "#       - ,: Coincide con una coma seguida de un espacio.\n",
    "#       - ([\\w .-]*): Captura cualquier secuencia de caracteres de palabra (\\w), espacios, puntos (.), o guiones (-) como el nombre.\n",
    "#   - \\2 \\1: En la sustitución, \\2 representa el segundo grupo capturado (el nombre) y \\1 representa el primer grupo capturado (el apellido).\n",
    "#             Esto invierte el orden del apellido y el nombre.\n",
    "\n",
    "# La función re.sub() realizará la sustitución en la cadena \"Lovelace, Ada\", intercambiando el orden del apellido y el nombre.\n",
    "# El resultado será \"Ada Lovelace\".\n"
   ]
  }
 ],
 "metadata": {
  "kernelspec": {
   "display_name": "Python 3 (ipykernel)",
   "language": "python",
   "name": "python3"
  },
  "language_info": {
   "codemirror_mode": {
    "name": "ipython",
    "version": 3
   },
   "file_extension": ".py",
   "mimetype": "text/x-python",
   "name": "python",
   "nbconvert_exporter": "python",
   "pygments_lexer": "ipython3",
   "version": "3.10.12"
  }
 },
 "nbformat": 4,
 "nbformat_minor": 2
}
