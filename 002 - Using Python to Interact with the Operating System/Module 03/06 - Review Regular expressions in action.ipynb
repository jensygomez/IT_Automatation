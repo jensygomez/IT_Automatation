{
 "cells": [
  {
   "cell_type": "markdown",
   "metadata": {},
   "source": [
    "**Author:**       Jensy Gregorio Gómez \n",
    "---------------------------------------\n",
    "**Profession:**  IT Support Analyst and Automatation with Python\n",
    "\n",
    "**Date:**         09 March 2024     \n",
    "\n",
    "**Location:**     Vila Izabel, Curitiba/PR  \n",
    "\n",
    "\n",
    "---\n",
    "\n",
    "**Contacto:**\n",
    "\n",
    "- **Email:** [contact@jensygomez.us](mailto:contact@jensygomez.us)\n",
    "- **YouTube:** [Tu Canal de YouTube](https://www.youtube.com/@systechcwb826)\n",
    "- **LinkedIn:** [Tu Perfil de LinkedIn](https://www.linkedin.com/in/jensygomez/)\n",
    "\n",
    "\n"
   ]
  },
  {
   "cell_type": "markdown",
   "metadata": {},
   "source": [
    "\n",
    "# Review: Regular expressions in action\n",
    "\n",
    "This reading contains the code used in the instructional videos from [**Regular Expressions in Action**](https://www.coursera.org/learn/python-operating-system/lecture/4UVAQ/regular-expressions-in-action)\n",
    "\n",
    "## Introduction\n",
    "\n",
    "This follow-along reading is organized to match the content in the video that follows. It contains the same code shown in the next video. These code blocks will provide you with the opportunity to see how the code is written, allow you to practice running it, and can be used as a reference to refer back to.\n",
    "\n",
    "You can follow along in the reading as the instructor discusses the code or review the code after watching the video."
   ]
  },
  {
   "cell_type": "markdown",
   "metadata": {},
   "source": [
    "\n",
    "```python\n",
    "import re  # Import the regular expression module\n",
    "\n",
    "# Search for the pattern \"A.*a\" in the string \"Argentina\"\n",
    "# The pattern matches an 'A' followed by any number of characters (including none)\n",
    "# and ending with 'a'\n",
    "print(re.search(r\"A.*a\", \"Argentina\"))\n",
    "\n",
    "# Search for the pattern \"A.*a\" in the string \"Azerbaijan\"\n",
    "# The pattern matches an 'A' followed by any number of characters (including none)\n",
    "# and ending with 'a'\n",
    "print(re.search(r\"A.*a\", \"Azerbaijan\"))\n",
    "\n",
    "# Search for the pattern \"^A.*a$\" in the string \"Australia\"\n",
    "# The pattern matches a string that starts with 'A', followed by any characters (including none),\n",
    "# and ends with 'a'\n",
    "# The '^' symbol denotes the start of the string, and the '$' symbol denotes the end of the string\n",
    "print(re.search(r\"^A.*a$\", \"Australia\"))\n",
    "```\n",
    "\n",
    "Explanation:\n",
    "\n",
    "1. In the first `re.search()` call, the pattern `r\"A.*a\"` matches the string \"Argentina\" because it starts with 'A' and ends with 'a', with any number of characters (including none) in between.\n",
    "\n",
    "2. In the second `re.search()` call, the pattern `r\"A.*a\"` matches the string \"Azerbaijan\" because it starts with 'A' and ends with 'a', with any number of characters (including none) in between.\n",
    "\n",
    "3. In the third `re.search()` call, the pattern `r\"^A.*a$\"` matches the string \"Australia\" because it starts with 'A' and ends with 'a', with any characters (including none) in between. The `^` symbol denotes the start of the string, and the `$` symbol denotes the end of the string, ensuring that the entire string is matched from start to end."
   ]
  },
  {
   "cell_type": "markdown",
   "metadata": {},
   "source": [
    "\n",
    "```python\n",
    "import re  # Import the regular expression module\n",
    "\n",
    "# Define the pattern for a valid variable name using regular expression\n",
    "pattern = r\"^[a-zA-Z_][a-zA-Z0-9_]*$\"\n",
    "\n",
    "# Search for the pattern in the string \"_this_is_a_valid_variable_name\"\n",
    "# The pattern matches a string that starts with a letter (upper or lower case) or underscore,\n",
    "# followed by any number of letters, digits, or underscores\n",
    "print(re.search(pattern, \"_this_is_a_valid_variable_name\"))\n",
    "\n",
    "# Search for the pattern in the string \"this isn't a valid variable\"\n",
    "# The pattern won't match because the string contains characters other than letters, digits, or underscores\n",
    "print(re.search(pattern, \"this isn't a valid variable\"))\n",
    "\n",
    "# Search for the pattern in the string \"my_variable1\"\n",
    "# The pattern matches because the string starts with a letter (lower case), followed by any number of letters, digits, or underscores\n",
    "print(re.search(pattern, \"my_variable1\"))\n",
    "\n",
    "# Search for the pattern in the string \"2my_variable1\"\n",
    "# The pattern won't match because the string starts with a digit\n",
    "print(re.search(pattern, \"2my_variable1\"))\n",
    "```\n",
    "\n",
    "Explanation:\n",
    "\n",
    "1. The regular expression pattern `r\"^[a-zA-Z_][a-zA-Z0-9_]*$\"` defines a pattern for a valid variable name. It ensures that the variable name:\n",
    "   - Starts with a letter (upper or lower case) or underscore (`[a-zA-Z_]`)\n",
    "   - Followed by zero or more occurrences of letters, digits, or underscores (`[a-zA-Z0-9_]*`)\n",
    "   - The `^` symbol denotes the start of the string, and the `$` symbol denotes the end of the string, ensuring that the entire string is matched from start to end.\n",
    "\n",
    "2. The `re.search()` function is used to search for the defined pattern in each input string.\n",
    "   - The first input string `\"_this_is_a_valid_variable_name\"` matches the pattern because it adheres to the rules of a valid variable name.\n",
    "   - The second input string `\"this isn't a valid variable\"` doesn't match the pattern because it contains characters other than letters, digits, or underscores.\n",
    "   - The third input string `\"my_variable1\"` matches the pattern because it starts with a letter and contains only letters, digits, or underscores.\n",
    "   - The fourth input string `\"2my_variable1\"` doesn't match the pattern because it starts with a digit."
   ]
  }
 ],
 "metadata": {
  "kernelspec": {
   "display_name": "Python 3 (ipykernel)",
   "language": "python",
   "name": "python3"
  },
  "language_info": {
   "codemirror_mode": {
    "name": "ipython",
    "version": 3
   },
   "file_extension": ".py",
   "mimetype": "text/x-python",
   "name": "python",
   "nbconvert_exporter": "python",
   "pygments_lexer": "ipython3",
   "version": "3.12.2"
  }
 },
 "nbformat": 4,
 "nbformat_minor": 2
}
