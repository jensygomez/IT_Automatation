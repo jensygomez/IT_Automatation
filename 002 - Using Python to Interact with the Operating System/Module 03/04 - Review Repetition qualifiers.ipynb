{
 "cells": [
  {
   "cell_type": "markdown",
   "metadata": {},
   "source": [
    "**Author:**       Jensy Gregorio Gómez \n",
    "---------------------------------------\n",
    "**Profession:**  IT Support Analyst and Automatation with Python\n",
    "\n",
    "**Date:**         08 March 2024     \n",
    "\n",
    "**Location:**     Vila Izabel, Curitiba/PR  \n",
    "\n",
    "\n",
    "---\n",
    "\n",
    "**Contacto:**\n",
    "\n",
    "- **Email:** [contact@jensygomez.us](mailto:contact@jensygomez.us)\n",
    "- **YouTube:** [Tu Canal de YouTube](https://www.youtube.com/@systechcwb826)\n",
    "- **LinkedIn:** [Tu Perfil de LinkedIn](https://www.linkedin.com/in/jensygomez/)\n",
    "\n",
    "\n"
   ]
  },
  {
   "cell_type": "markdown",
   "metadata": {},
   "source": [
    "\n",
    "# Review: Repetition qualifiers\n",
    "\n",
    "This reading contains the code used in the instructional videos from [**Repetition Qualifiers**](https://www.coursera.org/learn/python-operating-system/lecture/4oQoy/repetition-qualifiers)\n",
    "\n",
    "## Introduction\n",
    "\n",
    "This follow-along reading is organized to match the content in the video that follows. It contains the same code shown in the next video. These code blocks will provide you with the opportunity to see how the code is written, allow you to practice running it, and can be used as a reference to refer back to.\n",
    "\n",
    "You can follow along in the reading as the instructor discusses the code or review the code after watching the video."
   ]
  },
  {
   "cell_type": "markdown",
   "metadata": {},
   "source": [
    "\n",
    "\n",
    "```python\n",
    "import re\n",
    "print(re.search(r\"Py.*n\", \"Pygmalion\"))\n",
    "print(re.search(r\"Py.*n\", \"Python Programming\"))\n",
    "print(re.search(r\"Py[a-z]*n\", \"Python Programming\"))\n",
    "print(re.search(r\"Py[a-z]*n\", \"Pyn\"))\n",
    "```\n",
    "\n",
    "1. `import re`: This line imports the `re` module, which provides functions for working with regular expressions in Python.\n",
    "\n",
    "2. `print(re.search(r\"Py.*n\", \"Pygmalion\"))`: This line searches for any sequence of characters that starts with \"Py\", followed by zero or more characters (any character except a newline), and ends with \"n\" in the string \"Pygmalion\". The `search()` function returns a `Match` object if it finds a match or `None` if there are no matches.\n",
    "\n",
    "3. `print(re.search(r\"Py.*n\", \"Python Programming\"))`: Similar to the previous case, it searches for the pattern \"Py.*n\" in the string \"Python Programming\" and displays the result.\n",
    "\n",
    "4. `print(re.search(r\"Py[a-z]*n\", \"Python Programming\"))`: This line searches for a sequence that starts with \"Py\", followed by zero or more lowercase letters (from 'a' to 'z'), and ends with \"n\" in the string \"Python Programming\". The `[a-z]*` expression matches any number of lowercase letters. So, this regular expression will capture \"Python\" in the provided string.\n",
    "\n",
    "5. `print(re.search(r\"Py[a-z]*n\", \"Pyn\"))`: Similar to the previous case, it searches for the pattern \"Py[a-z]*n\" in the string \"Pyn\" and displays the result. In this case, it will capture the entire string \"Pyn\" because it matches the specified pattern."
   ]
  },
  {
   "cell_type": "markdown",
   "metadata": {},
   "source": [
    "\n",
    "\n",
    "```python\n",
    "import re\n",
    "print(re.search(r\"Py.*n\", \"Pygmalion\"))\n",
    "print(re.search(r\"Py.*n\", \"Python Programming\"))\n",
    "print(re.search(r\"Py[a-z]*n\", \"Python Programming\"))\n",
    "print(re.search(r\"Py[a-z]*n\", \"Pyn\"))\n",
    "```\n",
    "\n",
    "1. `import re`: This line imports the Python regular expression (regex) module.\n",
    "\n",
    "2. `print(re.search(r\"Py.*n\", \"Pygmalion\"))`: This line attempts to find a match for the pattern \"Py.*n\" in the string \"Pygmalion\". Here, \"Py\" matches the literal characters \"Py\", \".*\" matches zero or more of any character (except newline), and \"n\" matches the literal character \"n\". The `search()` function searches the entire string and returns a match object if a match is found, or `None` if no match is found.\n",
    "\n",
    "3. `print(re.search(r\"Py.*n\", \"Python Programming\"))`: This line tries to find a match for the same pattern in the string \"Python Programming\".\n",
    "\n",
    "4. `print(re.search(r\"Py[a-z]*n\", \"Python Programming\"))`: This line looks for a match for the pattern \"Py[a-z]*n\" in the string \"Python Programming\". Here, \"[a-z]*\" matches zero or more lowercase letters between \"Py\" and \"n\".\n",
    "\n",
    "5. `print(re.search(r\"Py[a-z]*n\", \"Pyn\"))`: This line attempts to find a match for the same pattern in the string \"Pyn\".\n",
    "\n",
    "In summary, the code demonstrates the usage of regular expressions to search for patterns within strings, such as finding substrings that start with \"Py\", followed by any number of characters, and ending with \"n\", or substrings that start with \"Py\", followed by any lowercase letters, and ending with \"n\"."
   ]
  },
  {
   "cell_type": "markdown",
   "metadata": {},
   "source": [
    "\n",
    "\n",
    "```python\n",
    "import re\n",
    "print(re.search(r\"o+l+\", \"goldfish\"))\n",
    "print(re.search(r\"o+l+\", \"woolly\"))\n",
    "print(re.search(r\"o+l+\", \"boil\"))\n",
    "```\n",
    "\n",
    "1. `import re`: This line imports the Python regular expression (regex) module.\n",
    "\n",
    "2. `print(re.search(r\"o+l+\", \"goldfish\"))`: This line tries to find a match for the pattern \"o+l+\" in the string \"goldfish\". Here, \"o+\" matches one or more occurrences of the letter \"o\", and \"l+\" matches one or more occurrences of the letter \"l\". The `search()` function searches the entire string and returns a match object if a match is found, or `None` if no match is found.\n",
    "\n",
    "3. `print(re.search(r\"o+l+\", \"woolly\"))`: This line attempts to find a match for the same pattern in the string \"woolly\".\n",
    "\n",
    "4. `print(re.search(r\"o+l+\", \"boil\"))`: This line tries to find a match for the pattern in the string \"boil\".\n",
    "\n",
    "In summary, the code is attempting to find substrings that contain one or more occurrences of the letter \"o\" followed by one or more occurrences of the letter \"l\". It demonstrates the usage of the \"+\" quantifier in regular expressions to match one or more occurrences of the preceding character."
   ]
  },
  {
   "cell_type": "markdown",
   "metadata": {},
   "source": [
    "\n",
    "\n",
    "```python\n",
    "import re\n",
    "print(re.search(r\"p?each\", \"To each their own\"))\n",
    "print(re.search(r\"p?each\", \"I like peaches\"))\n",
    "```\n",
    "\n",
    "1. `import re`: This line imports the Python regular expression (regex) module.\n",
    "\n",
    "2. `print(re.search(r\"p?each\", \"To each their own\"))`: This line attempts to find a match for the pattern \"p?each\" in the string \"To each their own\". Here, \"p?\" matches zero or one occurrence of the letter \"p\", and \"each\" matches the literal characters \"each\". The `search()` function searches the entire string and returns a match object if a match is found, or `None` if no match is found.\n",
    "\n",
    "3. `print(re.search(r\"p?each\", \"I like peaches\"))`: This line attempts to find a match for the same pattern in the string \"I like peaches\".\n",
    "\n",
    "In summary, the code is trying to find substrings that contain either \"each\" or \"peach\" (with an optional preceding \"p\"). It demonstrates the usage of the \"?\" quantifier in regular expressions to match zero or one occurrence of the preceding character."
   ]
  }
 ],
 "metadata": {
  "kernelspec": {
   "display_name": "Python 3 (ipykernel)",
   "language": "python",
   "name": "python3"
  },
  "language_info": {
   "codemirror_mode": {
    "name": "ipython",
    "version": 3
   },
   "file_extension": ".py",
   "mimetype": "text/x-python",
   "name": "python",
   "nbconvert_exporter": "python",
   "pygments_lexer": "ipython3",
   "version": "3.12.2"
  }
 },
 "nbformat": 4,
 "nbformat_minor": 2
}
