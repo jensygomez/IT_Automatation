{
 "cells": [
  {
   "cell_type": "markdown",
   "metadata": {},
   "source": [
    "**Author:**       Jensy Gregorio Gómez \n",
    "---------------------------------------\n",
    "**Profession:**  IT Support Analyst and Automatation with Python\n",
    "\n",
    "**Date:**         15 March 2024     \n",
    "\n",
    "**Location:**     Vila Izabel, Curitiba/PR  \n",
    "\n",
    "\n",
    "---\n",
    "\n",
    "**Contacto:**\n",
    "\n",
    "- **Email:** [contact@jensygomez.us](mailto:contact@jensygomez.us)\n",
    "- **YouTube:** [Tu Canal de YouTube](https://www.youtube.com/@systechcwb826)\n",
    "- **LinkedIn:** [Tu Perfil de LinkedIn](https://www.linkedin.com/in/jensygomez/)\n",
    "\n",
    "\n"
   ]
  },
  {
   "cell_type": "markdown",
   "metadata": {},
   "source": [
    "# Glossary terms from course 2, module 3\n",
    "\n",
    "## **Terms and definitions from Course 2, Module 3**\n",
    "\n",
    "**Alteration:** RegEx that matches any one of the alternatives separated by the pipe symbol\n",
    "\n",
    "**Backreference:** This is applied when using re.sub( ) to substitute the value of a capture group into the output\n",
    "\n",
    "**Character classes:** These are written inside square brackets and let us list the characters we want to match inside of those brackets\n",
    "\n",
    "**Character ranges:** Ranges used to match a single character against a set of possibilities\n",
    "\n",
    "**grep:** An especially easy to use yet extremely powerful tool for applying RegExes\n",
    "\n",
    "**Lookahead:** RegEx that matches a pattern only if it’s followed by another pattern\n",
    "\n",
    "**Regular expression:** A search query for text that's expressed by string pattern, also known as RegEx or RegExp\n",
    "\n",
    "**Wildcard:** A character that can match more than one character"
   ]
  }
 ],
 "metadata": {
  "kernelspec": {
   "display_name": "Python 3 (ipykernel)",
   "language": "python",
   "name": "python3"
  },
  "language_info": {
   "codemirror_mode": {
    "name": "ipython",
    "version": 3
   },
   "file_extension": ".py",
   "mimetype": "text/x-python",
   "name": "python",
   "nbconvert_exporter": "python",
   "pygments_lexer": "ipython3",
   "version": "3.10.12"
  }
 },
 "nbformat": 4,
 "nbformat_minor": 2
}
