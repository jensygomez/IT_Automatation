{
 "cells": [
  {
   "cell_type": "markdown",
   "metadata": {},
   "source": [
    "**Author:**       Jensy Gregorio Gómez \n",
    "---------------------------------------\n",
    "**Profession:**  IT Support Analyst and Automatation with Python\n",
    "\n",
    "**Date:**         09 March 2024     \n",
    "\n",
    "**Location:**     Vila Izabel, Curitiba/PR  \n",
    "\n",
    "\n",
    "---\n",
    "\n",
    "**Contacto:**\n",
    "\n",
    "- **Email:** [contact@jensygomez.us](mailto:contact@jensygomez.us)\n",
    "- **YouTube:** [Tu Canal de YouTube](https://www.youtube.com/@systechcwb826)\n",
    "- **LinkedIn:** [Tu Perfil de LinkedIn](https://www.linkedin.com/in/jensygomez/)\n",
    "\n",
    "\n"
   ]
  },
  {
   "cell_type": "markdown",
   "metadata": {},
   "source": [
    "\n",
    "# Study guide: Regular expressions\n",
    "\n",
    "A regular expression—sometimes called regex—is a string of characters that specifies a pattern to match against some text. In addition to matching patterns, they can search to extract specific parts of text, validate input data, and are supported by code editors and integrated development environments (IDEs). In this reading, you will look at some examples of common regexes used in coding.\n",
    "\n",
    "## Regex examples\n",
    "```python\n",
    "r”\\d{3}-\\d{3}-\\d{4}” \n",
    "```\n",
    "This line of code matches U.S. phone numbers in the format 111-222-3333.\n",
    "```python\n",
    "r”^-?\\d*(\\.\\d+)?$”\n",
    "```\n",
    "This line of code matches any positive or negative number, with or without decimal places.\n",
    "```python\n",
    "r”/^(.+)/([^/]+)$/”\n",
    "```\n",
    " This line of code matches any path and filename.\n",
    "\n",
    "## Helpful tool\n",
    "\n",
    "Sometimes regexes can be complex and difficult to read and understand—even for experienced programmers! There are tools available to help break down the regex and explain what each part of the expression does. A common tool that you can use to help with understanding each stage of a regular expression is:\n",
    "\n",
    "-   [https://regex101.com/](https://regex101.com/)\n",
    "    \n",
    "\n",
    "## Key takeaways\n",
    "\n",
    "Regular expressions offer powerful capabilities to programmers but, at times, can be complex and difficult to understand. The more you code with regular expressions, the more comfortable you will be using and understanding them. For more information on regex, check out the following links:\n",
    "\n",
    "-   [https://docs.python.org/3/howto/regex.html](https://docs.python.org/3/howto/regex.html)\n",
    "    \n",
    "-   [https://docs.python.org/3/library/re.html](https://docs.python.org/3/library/re.html)\n",
    "    \n",
    "-   [https://docs.python.org/3/howto/regex.html#greedy-versus-non-greedy](https://docs.python.org/3/howto/regex.html#greedy-versus-non-greedy)"
   ]
  }
 ],
 "metadata": {
  "kernelspec": {
   "display_name": "Python 3 (ipykernel)",
   "language": "python",
   "name": "python3"
  },
  "language_info": {
   "codemirror_mode": {
    "name": "ipython",
    "version": 3
   },
   "file_extension": ".py",
   "mimetype": "text/x-python",
   "name": "python",
   "nbconvert_exporter": "python",
   "pygments_lexer": "ipython3",
   "version": "3.12.2"
  }
 },
 "nbformat": 4,
 "nbformat_minor": 2
}
