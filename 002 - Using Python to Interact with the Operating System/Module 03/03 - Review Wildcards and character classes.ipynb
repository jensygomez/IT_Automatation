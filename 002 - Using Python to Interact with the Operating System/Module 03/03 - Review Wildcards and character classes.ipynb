{
 "cells": [
  {
   "cell_type": "markdown",
   "metadata": {},
   "source": [
    "**Author:**       Jensy Gregorio Gómez \n",
    "---------------------------------------\n",
    "**Profession:**  IT Support Analyst and Automatation with Python\n",
    "\n",
    "**Date:**         08 March 2024     \n",
    "\n",
    "**Location:**     Vila Izabel, Curitiba/PR  \n",
    "\n",
    "\n",
    "---\n",
    "\n",
    "**Contacto:**\n",
    "\n",
    "- **Email:** [contact@jensygomez.us](mailto:contact@jensygomez.us)\n",
    "- **YouTube:** [Tu Canal de YouTube](https://www.youtube.com/@systechcwb826)\n",
    "- **LinkedIn:** [Tu Perfil de LinkedIn](https://www.linkedin.com/in/jensygomez/)\n",
    "\n",
    "\n"
   ]
  },
  {
   "cell_type": "markdown",
   "metadata": {},
   "source": [
    "\n",
    "# Review: Wildcards and character classes\n",
    "\n",
    "This reading contains the code used in the instructional videos from [**Wildcards and Character Classes**](https://www.coursera.org/learn/python-operating-system/lecture/qDS4Y/wildcards-and-character-classes)\n",
    "\n",
    "## Introduction\n",
    "\n",
    "This follow-along reading is organized to match the content in the video that follows. It contains the same code shown in the next video. These code blocks will provide you with the opportunity to see how the code is written, allow you to practice running it, and can be used as a reference to refer back to.\n",
    "\n",
    "You can follow along in the reading as the instructor discusses the code or review the code after watching the video."
   ]
  },
  {
   "cell_type": "code",
   "execution_count": null,
   "metadata": {},
   "outputs": [],
   "source": [
    "import re\n",
    "\n",
    "# Search for a pattern \"[Pp]ython\" in the string \"Python\"\n",
    "# The pattern matches either \"Python\" or \"python\" with the first letter being either uppercase or lowercase\n",
    "print(re.search(r\"[Pp]ython\", \"Python\"))\n"
   ]
  },
  {
   "cell_type": "markdown",
   "metadata": {},
   "source": [
    "\n",
    "Explanation:\n",
    "\n",
    "-   The `re` module in Python provides support for regular expressions.\n",
    "-   `re.search()` function searches for the given pattern in the given string.\n",
    "-   In the pattern `r\"[Pp]ython\"`, `[Pp]` denotes a character set that matches either `P` or `p`.\n",
    "-   Thus, the pattern matches both \"Python\" and \"python\" in the given string \"Python\".\n",
    "-   The output of `re.search()` will be a match object if the pattern is found in the string, otherwise it returns `None`.\n",
    "-   In this case, since \"Python\" matches the pattern, it will print the match object."
   ]
  },
  {
   "cell_type": "code",
   "execution_count": null,
   "metadata": {},
   "outputs": [],
   "source": [
    "import re\n",
    "\n",
    "# Search for a pattern \"[a-z]way\" in the string \"The end of the highway\"\n",
    "# The pattern matches any lowercase letter followed by \"way\"\n",
    "print(re.search(r\"[a-z]way\", \"The end of the highway\"))\n",
    "\n",
    "# Search for a pattern \"[a-z]way\" in the string \"What a way to go\"\n",
    "# The pattern matches any lowercase letter followed by \"way\"\n",
    "print(re.search(r\"[a-z]way\", \"What a way to go\"))\n",
    "\n",
    "# Search for a pattern \"cloud[a-zA-Z0-9]\" in the string \"cloudy\"\n",
    "# The pattern matches \"cloud\" followed by any letter (lowercase or uppercase) or digit\n",
    "print(re.search(\"cloud[a-zA-Z0-9]\", \"cloudy\"))\n",
    "\n",
    "# Search for a pattern \"cloud[a-zA-Z0-9]\" in the string \"cloud9\"\n",
    "# The pattern matches \"cloud\" followed by any letter (lowercase or uppercase) or digit\n",
    "print(re.search(\"cloud[a-zA-Z0-9]\", \"cloud9\"))\n"
   ]
  },
  {
   "cell_type": "markdown",
   "metadata": {},
   "source": [
    "\n",
    "Explanation:\n",
    "\n",
    "-   In the first two examples, the pattern `[a-z]way` is used to search for any lowercase letter followed by \"way\" in the given strings.\n",
    "-   In the third and fourth examples, the pattern `cloud[a-zA-Z0-9]` is used to search for \"cloud\" followed by any letter (lowercase or uppercase) or digit in the given strings."
   ]
  },
  {
   "cell_type": "code",
   "execution_count": null,
   "metadata": {},
   "outputs": [],
   "source": [
    "import re\n",
    "\n",
    "# Search for any character that is not a letter (upper or lower case)\n",
    "print(re.search(r\"[^a-zA-Z]\", \"This is a sentence with spaces.\"))\n",
    "\n",
    "# Search for any character that is not a letter or a space\n",
    "print(re.search(r\"[^a-zA-Z ]\", \"This is a sentence with spaces.\"))\n",
    "\n",
    "# Search for either \"cat\" or \"dog\"\n",
    "print(re.search(r\"cat|dog\", \"I like cats.\"))\n",
    "print(re.search(r\"cat|dog\", \"I love dogs!\"))\n",
    "print(re.search(r\"cat|dog\", \"I like both dogs and cats.\"))\n",
    "\n",
    "# Search for either \"cat\" or \"dog\"\n",
    "print(re.search(r\"cat|dog\", \"I like cats.\"))\n",
    "print(re.search(r\"cat|dog\", \"I love dogs!\"))\n",
    "print(re.search(r\"cat|dog\", \"I like both dogs and cats.\"))\n",
    "\n",
    "# Find all occurrences of either \"cat\" or \"dog\"\n",
    "print(re.findall(r\"cat|dog\", \"I like both dogs and cats.\"))\n"
   ]
  },
  {
   "cell_type": "markdown",
   "metadata": {},
   "source": [
    "\n",
    "Explanation:\n",
    "\n",
    "-   In the first `re.search()`, `[^a-zA-Z]` matches any character that is not a letter (upper or lower case).\n",
    "-   In the second `re.search()`, `[^a-zA-Z ]` matches any character that is not a letter or a space.\n",
    "-   The `|` symbol in regular expressions is used to specify alternatives. In the following `re.search()`, `r\"cat|dog\"`, it searches for either \"cat\" or \"dog\".\n",
    "-   The first set of `re.search()` examples demonstrates searching for either \"cat\" or \"dog\" in different sentences.\n",
    "-   The `re.findall()` function is used to find all non-overlapping matches of the pattern in the string. In the last example, it finds all occurrences of either \"cat\" or \"dog\" in the given sentence."
   ]
  }
 ],
 "metadata": {
  "kernelspec": {
   "display_name": "Python 3 (ipykernel)",
   "language": "python",
   "name": "python3"
  },
  "language_info": {
   "codemirror_mode": {
    "name": "ipython",
    "version": 3
   },
   "file_extension": ".py",
   "mimetype": "text/x-python",
   "name": "python",
   "nbconvert_exporter": "python",
   "pygments_lexer": "ipython3",
   "version": "3.12.2"
  }
 },
 "nbformat": 4,
 "nbformat_minor": 2
}
