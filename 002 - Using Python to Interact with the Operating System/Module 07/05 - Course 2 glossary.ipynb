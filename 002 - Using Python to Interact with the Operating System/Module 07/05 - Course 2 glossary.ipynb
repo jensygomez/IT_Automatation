{
 "cells": [
  {
   "cell_type": "markdown",
   "metadata": {},
   "source": [
    "**Author:**       Jensy Gregorio Gómez \n",
    "---------------------------------------\n",
    "**Profession:**  IT Support Analyst and Automatation with Python\n",
    "\n",
    "**Date:**         08 April 2024     \n",
    "\n",
    "**Location:**     Vila Izabel, Curitiba/PR  \n",
    "\n",
    "\n",
    "---\n",
    "\n",
    "**Contacto:**\n",
    "\n",
    "- **Email:** [contact@jensygomez.us](mailto:contact@jensygomez.us)\n",
    "- **YouTube:** [Tu Canal de YouTube](https://www.youtube.com/@systechcwb826)\n",
    "- **LinkedIn:** [Tu Perfil de LinkedIn](https://www.linkedin.com/in/jensygomez/)\n",
    "\n",
    "\n"
   ]
  },
  {
   "cell_type": "markdown",
   "metadata": {},
   "source": [
    "\n",
    "# Course 2 glossary\n",
    "\n",
    "To use the glossary for this course item, click the following link and select “Use Template.”\n",
    "\n",
    "Link to glossary: [Course 2 glossary](https://docs.google.com/document/d/14gYhsOB8Ol7KQ9rGZzOZWZESKm-6ED0xDRt9P9pz2II/template/preview)\n",
    "\n",
    "OR\n",
    "\n",
    "If you don’t have a Google account, you can download the glossary directly from the following attachment.\n",
    "\n",
    "[](https://d3c33hcgiwev3.cloudfront.net/DqbXuFLiQZ2JnXDyUDa7FQ_de581f95aabf421a8101f03d908cfbf1_Course-2-glossary.docx?Expires=1712707200&Signature=jFPqXuI83-gk8j9VHteAczzI6~8ofIajUB9ONxld8TQlSvumcXEt6PpMoGiBN5kH0Tthb53HK9kyH3HpBpuOq3KZJ8l5jFItLV9TVzS3xZGFcE-DyzSmXvMQfFon06ofmCmYBstIIjvuMa1tgQ3E~K-9BDbmUUVCFFBGF2a2SiU_&Key-Pair-Id=APKAJLTNE6QMUY6HBC5A)"
   ]
  }
 ],
 "metadata": {
  "kernelspec": {
   "display_name": "Python 3 (ipykernel)",
   "language": "python",
   "name": "python3"
  },
  "language_info": {
   "codemirror_mode": {
    "name": "ipython",
    "version": 3
   },
   "file_extension": ".py",
   "mimetype": "text/x-python",
   "name": "python",
   "nbconvert_exporter": "python",
   "pygments_lexer": "ipython3",
   "version": "3.11.7"
  }
 },
 "nbformat": 4,
 "nbformat_minor": 2
}
