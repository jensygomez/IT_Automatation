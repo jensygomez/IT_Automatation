{
 "cells": [
  {
   "cell_type": "markdown",
   "metadata": {},
   "source": [
    "**Author:**       Jensy Gregorio Gómez \n",
    "---------------------------------------\n",
    "**Profession:**  IT Support Analyst and Automatation with Python\n",
    "\n",
    "**Date:**         03 April 2024     \n",
    "\n",
    "**Location:**     Vila Izabel, Curitiba/PR  \n",
    "\n",
    "\n",
    "---\n",
    "\n",
    "**Contacto:**\n",
    "\n",
    "- **Email:** [contact@jensygomez.us](mailto:contact@jensygomez.us)\n",
    "- **YouTube:** [Tu Canal de YouTube](https://www.youtube.com/@systechcwb826)\n",
    "- **LinkedIn:** [Tu Perfil de LinkedIn](https://www.linkedin.com/in/jensygomez/)\n",
    "\n",
    "\n"
   ]
  },
  {
   "cell_type": "markdown",
   "metadata": {},
   "source": [
    "\n",
    "# Review: Basic Linux commands\n",
    "\n",
    "This reading contains the code used in the instructional videos from [**Basic Linux Commands**](https://www.coursera.org/learn/python-operating-system/lecture/GO496/basic-linux-commands)\n",
    "\n",
    "## Introduction\n",
    "\n",
    "This follow-along reading is organized to match the content in the video that follows. It contains the same code shown in the next video. These code blocks will provide you with the opportunity to see how the code is written, allow you to practice running it, and can be used as a reference to refer back to.\n",
    "\n",
    "You can follow along in the reading as the instructor discusses the code or review the code after watching the video."
   ]
  },
  {
   "cell_type": "code",
   "execution_count": null,
   "metadata": {
    "vscode": {
     "languageId": "shellscript"
    }
   },
   "outputs": [],
   "source": [
    "mkdir mynewdir\n",
    "cd mynewdir/\n",
    "/mynewdir$ pwd\n",
    "/mynewdir$ cp ../spider.txt .\n",
    "/mynewdir$ touch myfile.txt\n",
    "/mynewdir$ ls -l \n",
    "#Output:\n",
    "#-rw-rw-r-- 1 user user   0 Mai 22 14:22 myfile.txt\n",
    "#-rw-rw-r-- 1 user user 192 Mai 22 14:18 spider.txt\n",
    "/mynewdir$ ls -la\n",
    "#Output:\n",
    "#total 12\n",
    "#drwxr-xr-x  2 user user  4096 Mai 22 14:17 .\n",
    "#drwxr-xr-x 56 user user 12288 Mai 22 14:17 ..\n",
    "#-rw-rw-r--  1 user user     0 Mai 22 14:22 myfile.txt\n",
    "#-rw-rw-r--  1 user user   192 Mai 22 14:18 spider.txt\n",
    "/mynewdir$ mv myfile.txt emptyfile.txt\n",
    "/mynewdir$ cp spider.txt yetanotherfile.txt\n",
    "/mynewdir$ ls -l\n",
    "#Output:\n",
    "#total 8\n",
    "#-rw-rw-r-- 1 user user   0 Mai 22 14:22 emptyfile.txt\n",
    "#-rw-rw-r-- 1 user user 192 Mai 22 14:18 spider.txt\n",
    "#-rw-rw-r-- 1 user user 192 Mai 22 14:23 yetanotherfile.txt\n",
    "/mynewdir$ rm *\n",
    "/mynewdir$ ls -l\n",
    "#total 0\n",
    "/mynewdir$ cd ..\n",
    "rmdir mynewdir/\n",
    "ls mynewdir\n",
    "#ls: cannot access 'mynewdir': No such file or directory"
   ]
  },
  {
   "cell_type": "markdown",
   "metadata": {},
   "source": [
    "\n",
    "## About this code\n",
    "\n",
    "Text that is written as a comment, following #, is what the code output will show on screen in the video at the Linux command line."
   ]
  }
 ],
 "metadata": {
  "kernelspec": {
   "display_name": "Python 3 (ipykernel)",
   "language": "python",
   "name": "python3"
  },
  "language_info": {
   "codemirror_mode": {
    "name": "ipython",
    "version": 3
   },
   "file_extension": ".py",
   "mimetype": "text/x-python",
   "name": "python",
   "nbconvert_exporter": "python",
   "pygments_lexer": "ipython3",
   "version": "3.11.7"
  }
 },
 "nbformat": 4,
 "nbformat_minor": 2
}
