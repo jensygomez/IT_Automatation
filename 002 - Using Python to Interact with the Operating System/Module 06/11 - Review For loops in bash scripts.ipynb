{
 "cells": [
  {
   "cell_type": "markdown",
   "metadata": {},
   "source": [
    "**Author:**       Jensy Gregorio Gómez \n",
    "---------------------------------------\n",
    "**Profession:**  IT Support Analyst and Automatation with Python\n",
    "\n",
    "**Date:**         06 April 2024     \n",
    "\n",
    "**Location:**     Vila Izabel, Curitiba/PR  \n",
    "\n",
    "\n",
    "---\n",
    "\n",
    "**Contacto:**\n",
    "\n",
    "- **Email:** [contact@jensygomez.us](mailto:contact@jensygomez.us)\n",
    "- **YouTube:** [Tu Canal de YouTube](https://www.youtube.com/@systechcwb826)\n",
    "- **LinkedIn:** [Tu Perfil de LinkedIn](https://www.linkedin.com/in/jensygomez/)\n",
    "\n",
    "\n"
   ]
  },
  {
   "cell_type": "markdown",
   "metadata": {},
   "source": [
    "\n",
    "# Review: For loops in bash scripts\n",
    "\n",
    "This reading contains the code used in the instructional videos from [**For Loops in Bash Scripts**](https://www.coursera.org/learn/python-operating-system/lecture/REXHO/for-loops-in-bash-scripts)\n",
    "\n",
    "## Introduction\n",
    "\n",
    "This follow-along reading is organized to match the content in the video that follows. It contains the same code shown in the next video. These code blocks will provide you with the opportunity to see how the code is written, allow you to practice running it, and can be used as a reference to refer back to.\n",
    "\n",
    "You can follow along in the reading as the instructor discusses the code or review the code after watching the video."
   ]
  },
  {
   "cell_type": "code",
   "execution_count": null,
   "metadata": {
    "vscode": {
     "languageId": "shellscript"
    }
   },
   "outputs": [],
   "source": [
    "cat fruits.sh"
   ]
  },
  {
   "cell_type": "markdown",
   "metadata": {},
   "source": [
    "\n",
    "## About this code\n",
    "\n",
    "Here we're iterating over three different elements that have the names of the fruits.\n",
    "\n",
    "**Code output:**\n",
    "\n",
    "#!/bin/bash\n",
    "\n",
    "for fruit in peach orange pear; do\n",
    "\n",
    "echo \"I like $fruit!\"\n",
    "\n",
    "done"
   ]
  },
  {
   "cell_type": "code",
   "execution_count": null,
   "metadata": {
    "vscode": {
     "languageId": "shellscript"
    }
   },
   "outputs": [],
   "source": [
    "./fruits.sh "
   ]
  },
  {
   "cell_type": "markdown",
   "metadata": {},
   "source": [
    "\n",
    "**Code output:**\n",
    "\n",
    "I like peach!\n",
    "\n",
    "I like orange!\n",
    "\n",
    "I like pear!"
   ]
  },
  {
   "cell_type": "code",
   "execution_count": null,
   "metadata": {
    "vscode": {
     "languageId": "shellscript"
    }
   },
   "outputs": [],
   "source": [
    "cd old_website/\n",
    "/old_website$ ls -l"
   ]
  },
  {
   "cell_type": "markdown",
   "metadata": {},
   "source": [
    "\n",
    "**Code output:**\n",
    "\n",
    "    total 0\n",
    "    \n",
    "    -rw-r--r-- 1 user user 0 May 24 10:19 about.HTM\n",
    "    \n",
    "    -rw-r--r-- 1 user user 0 May 24 10:20 contact.HTM\n",
    "    \n",
    "    -rw-r--r-- 1 user user 0 May 24 10:20 footer.HTM\n",
    "    \n",
    "    -rw-r--r-- 1 user user 0 May 24 10:20 header.HTM\n",
    "    \n",
    "    -rw-r--r-- 1 user user 0 May 24 10:19 index.HTM\n"
   ]
  },
  {
   "cell_type": "code",
   "execution_count": null,
   "metadata": {
    "vscode": {
     "languageId": "shellscript"
    }
   },
   "outputs": [],
   "source": [
    "/old_website$ basename index.HTM .HTM"
   ]
  },
  {
   "cell_type": "markdown",
   "metadata": {},
   "source": [
    "## About this code\n",
    "\n",
    "This command takes a filename and an extension, and then returns the name without the extension."
   ]
  },
  {
   "cell_type": "code",
   "execution_count": null,
   "metadata": {
    "vscode": {
     "languageId": "shellscript"
    }
   },
   "outputs": [],
   "source": [
    "#!/bin/bash\n",
    "\n",
    "for file in *.HTM; do\n",
    "        name=$(basename \"$file\" .HTM)\n",
    "        mv \"$file\" \"$name.html\" \n",
    "done "
   ]
  },
  {
   "cell_type": "code",
   "execution_count": null,
   "metadata": {
    "vscode": {
     "languageId": "shellscript"
    }
   },
   "outputs": [],
   "source": [
    "#!/bin/bash\n",
    "\n",
    "for file in *.HTM; do\n",
    "        name=$(basename \"$file\" .HTM)\n",
    "        echo mv \"$file\" \"$name.html\" \n",
    "done\n"
   ]
  },
  {
   "cell_type": "markdown",
   "metadata": {},
   "source": [
    "\n",
    "## About this code\n",
    "\n",
    "The script iterates through all files with the \".HTM\" extension in the current directory. For each file, it extracts the filename without the extension and generates the new filename with the \".html\" extension. Finally, it prints the mv command that would rename the original file to the new filename.\n",
    "\n",
    "**Note:** This script only prints the mv commands. To actually rename the files, you need to execute the script by running chmod +x script.sh && ./script.sh where script.sh is the name of the script file."
   ]
  },
  {
   "cell_type": "code",
   "execution_count": null,
   "metadata": {
    "vscode": {
     "languageId": "shellscript"
    }
   },
   "outputs": [],
   "source": [
    "/old_website$ chmod +x rename.sh\n",
    "/old_website$ ./rename.sh "
   ]
  },
  {
   "cell_type": "markdown",
   "metadata": {},
   "source": [
    "\n",
    "## About this code\n",
    "\n",
    "Here the script gets saved as rename.sh\n",
    "\n",
    "**Code output:**\n",
    "\n",
    "    mv about.HTM about.html\n",
    "    \n",
    "    mv contact.HTM contact.html\n",
    "    \n",
    "    mv footer.HTM footer.html\n",
    "    \n",
    "    mv header.HTM header.html\n",
    "    \n",
    "    mv index.HTM index.html\n"
   ]
  },
  {
   "cell_type": "code",
   "execution_count": null,
   "metadata": {
    "vscode": {
     "languageId": "shellscript"
    }
   },
   "outputs": [],
   "source": [
    "/old_website$ ./rename.sh \n",
    "/old_website$\n",
    "/old_website$ ls -l"
   ]
  },
  {
   "cell_type": "markdown",
   "metadata": {},
   "source": [
    "\n",
    "## About this code\n",
    "\n",
    "These commands won’t print anything. That's expected because these commands don't print anything when they succeed."
   ]
  },
  {
   "cell_type": "code",
   "execution_count": null,
   "metadata": {
    "vscode": {
     "languageId": "shellscript"
    }
   },
   "outputs": [],
   "source": [
    "ls -l "
   ]
  },
  {
   "cell_type": "markdown",
   "metadata": {},
   "source": [
    "\n",
    "## About this code\n",
    "\n",
    "ls -l is a command in Linux and Unix systems used to list the contents of a directory in a long format. This format provides detailed information about each file\n",
    "\n",
    "**Code output:**\n",
    "\n",
    "    total 4\n",
    "    \n",
    "    -rw-r--r-- 1 user user 0 May 24 10:19 about.html\n",
    "    \n",
    "    -rw-r--r-- 1 user user 0 May 24 10:20 contact.html\n",
    "    \n",
    "    -rw-r--r-- 1 user user 0 May 24 10:20 footer.html\n",
    "    \n",
    "    -rw-r--r-- 1 user user 0 May 24 10:20 header.html\n",
    "    \n",
    "    -rw-r--r-- 1 user user 0 May 24 10:19 index.html\n",
    "    \n",
    "    -rwxr-xr-x 1 user user 90 May 24 10:40 rename.sh"
   ]
  }
 ],
 "metadata": {
  "kernelspec": {
   "display_name": "Python 3 (ipykernel)",
   "language": "python",
   "name": "python3"
  },
  "language_info": {
   "codemirror_mode": {
    "name": "ipython",
    "version": 3
   },
   "file_extension": ".py",
   "mimetype": "text/x-python",
   "name": "python",
   "nbconvert_exporter": "python",
   "pygments_lexer": "ipython3",
   "version": "3.11.7"
  }
 },
 "nbformat": 4,
 "nbformat_minor": 2
}
