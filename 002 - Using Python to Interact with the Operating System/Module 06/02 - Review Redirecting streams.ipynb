{
 "cells": [
  {
   "cell_type": "markdown",
   "metadata": {},
   "source": [
    "**Author:**       Jensy Gregorio Gómez \n",
    "---------------------------------------\n",
    "**Profession:**  IT Support Analyst and Automatation with Python\n",
    "\n",
    "**Date:**         03 April 2024     \n",
    "\n",
    "**Location:**     Vila Izabel, Curitiba/PR  \n",
    "\n",
    "\n",
    "---\n",
    "\n",
    "**Contacto:**\n",
    "\n",
    "- **Email:** [contact@jensygomez.us](mailto:contact@jensygomez.us)\n",
    "- **YouTube:** [Tu Canal de YouTube](https://www.youtube.com/@systechcwb826)\n",
    "- **LinkedIn:** [Tu Perfil de LinkedIn](https://www.linkedin.com/in/jensygomez/)\n",
    "\n",
    "\n"
   ]
  },
  {
   "cell_type": "markdown",
   "metadata": {},
   "source": [
    "\n",
    "# Review: Redirecting streams\n",
    "\n",
    "This reading contains the code used in the instructional videos from [**Redirecting Streams**](https://www.coursera.org/learn/python-operating-system/lecture/CAisf/redirecting-streams)\n",
    "\n",
    "## Introduction\n",
    "\n",
    "This follow-along reading is organized to match the content in the video that follows. It contains the same code shown in the next video. These code blocks will provide you with the opportunity to see how the code is written, allow you to practice running it, and can be used as a reference to refer back to.\n",
    "\n",
    "You can follow along in the reading as the instructor discusses the code or review the code after watching the video."
   ]
  },
  {
   "cell_type": "code",
   "execution_count": null,
   "metadata": {
    "vscode": {
     "languageId": "shellscript"
    }
   },
   "outputs": [],
   "source": [
    "cat stdout_example.py \n",
    "#!/usr/bin/env python3\n",
    "print(\"Don't mind me, just a bit of text here...\")\n",
    "./stdout_example.py \n",
    "#Output: Don't mind me, just a bit of text here...\n",
    "./stdout_example.py > new_file.txt\n",
    "cat new_file.txt \n",
    "#Output: Don't mind me, just a bit of text here...\n",
    "./stdout_example.py >> new_file.txt\n",
    "cat new_file.txt \n",
    "#Output: Don't mind me, just a bit of text here...\n",
    " #Don't mind me, just a bit of text here...\n",
    "cat streams_err.py \n",
    "#!/usr/bin/env python3\n",
    "\n",
    "data = input(\"This will come from STDIN: \")\n",
    "print(\"Now we write it to STDOUT: \" + data)\n",
    "raise ValueError(\"Now we generate an error to STDERR\")\n",
    "./streams_err.py < new_file.txt\n",
    "#This will come from STDIN: Now we write it to STDOUT: Don't mind #me, just a bit of text here...\n",
    "#Traceback (most recent call last):\n",
    "  #File \"./streams_err.py\", line 5, in <module>\n",
    "    #raise ValueError(\"Now we generate an error to STDERR\")\n",
    "#ValueError: Now we generate an error to STDERR\n",
    "./streams_err.py < new_file.txt 2> error_file.txt\n",
    "#This will come from STDIN: Now we write it to STDOUT: Don't mind #me, just a bit of text here...\n",
    "cat error_file.txt \n",
    "#Traceback (most recent call last):\n",
    "  #File \"./streams_err.py\", line 5, in <module>\n",
    "    #raise ValueError(\"Now we generate an error to STDERR\")\n",
    "#ValueError: Now we generate an error to STDERR\n",
    "echo \"These are the contents of the file\" > myamazingfile.txt\n",
    "cat myamazingfile.txt \n",
    "#These are the contents of the file"
   ]
  },
  {
   "cell_type": "markdown",
   "metadata": {},
   "source": [
    "\n",
    "## About this code\n",
    "\n",
    "Text that is written as a comment, following #, is what the code output will show on screen in the video at the Linux command line."
   ]
  }
 ],
 "metadata": {
  "kernelspec": {
   "display_name": "Python 3 (ipykernel)",
   "language": "python",
   "name": "python3"
  },
  "language_info": {
   "codemirror_mode": {
    "name": "ipython",
    "version": 3
   },
   "file_extension": ".py",
   "mimetype": "text/x-python",
   "name": "python",
   "nbconvert_exporter": "python",
   "pygments_lexer": "ipython3",
   "version": "3.11.7"
  }
 },
 "nbformat": 4,
 "nbformat_minor": 2
}
