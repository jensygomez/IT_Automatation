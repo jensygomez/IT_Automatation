{
 "cells": [
  {
   "cell_type": "markdown",
   "metadata": {},
   "source": [
    "**Author:**       Jensy Gregorio Gómez \n",
    "---------------------------------------\n",
    "**Profession:**  IT Support Analyst and Automatation with Python\n",
    "\n",
    "**Date:**         06 April 2024     \n",
    "\n",
    "**Location:**     Vila Izabel, Curitiba/PR  \n",
    "\n",
    "\n",
    "---\n",
    "\n",
    "**Contacto:**\n",
    "\n",
    "- **Email:** [contact@jensygomez.us](mailto:contact@jensygomez.us)\n",
    "- **YouTube:** [Tu Canal de YouTube](https://www.youtube.com/@systechcwb826)\n",
    "- **LinkedIn:** [Tu Perfil de LinkedIn](https://www.linkedin.com/in/jensygomez/)\n",
    "\n",
    "\n"
   ]
  },
  {
   "cell_type": "markdown",
   "metadata": {},
   "source": [
    "\n",
    "# Review: Advanced Command Interaction\n",
    "\n",
    "This reading contains the code used in the instructional videos from [**Advanced Command Interaction**](https://www.coursera.org/learn/python-operating-system/lecture/eSaS2/advanced-command-interaction)\n",
    "\n",
    "## Introduction\n",
    "\n",
    "This follow-along reading is organized to match the content in the video that follows. It contains the same code shown in the next video. These code blocks will provide you with the opportunity to see how the code is written, allow you to practice running it, and can be used as a reference to refer back to.\n",
    "\n",
    "You can follow along in the reading as the instructor discusses the code or review the code after watching the video.\n"
   ]
  },
  {
   "cell_type": "code",
   "execution_count": null,
   "metadata": {
    "vscode": {
     "languageId": "shellscript"
    }
   },
   "outputs": [],
   "source": [
    "tail /var/log/syslog"
   ]
  },
  {
   "cell_type": "markdown",
   "metadata": {},
   "source": [
    "**Code output:**\n",
    "\n",
    "    May 24 10:17:01 ubuntu.local CRON[257236]: (root) CMD ( cd / && run-parts --report /etc/cron.hourly)\n",
    "    \n",
    "    May 24 10:18:41 ubuntu.local rsyslogd: -- MARK --\n",
    "    \n",
    "    May 24 10:25:19 ubuntu.local systemd[1]: Reloading."
   ]
  },
  {
   "cell_type": "code",
   "execution_count": null,
   "metadata": {
    "vscode": {
     "languageId": "shellscript"
    }
   },
   "outputs": [],
   "source": [
    "tail /var/log/syslog | cut -d' ' -f5-"
   ]
  },
  {
   "cell_type": "markdown",
   "metadata": {},
   "source": [
    "**Code output:**\n",
    "\n",
    "    CRON[257236]: (root) CMD ( cd / && run-parts --report /etc/cron.hourly)\n",
    "    \n",
    "    rsyslogd: -- MARK --\n",
    "    \n",
    "    systemd[1]: Reloading.\n"
   ]
  },
  {
   "cell_type": "code",
   "execution_count": null,
   "metadata": {
    "vscode": {
     "languageId": "shellscript"
    }
   },
   "outputs": [],
   "source": [
    "cut -d' ' -f5- /var/log/syslog | sort | uniq -c | sort -nr | head"
   ]
  },
  {
   "cell_type": "markdown",
   "metadata": {},
   "source": [
    "\n",
    "**Code output:**\n",
    "\n",
    "    41 systemd[1]: Starting Network Manager Script Dispatcher Service...\n",
    "    \n",
    "    41 systemd[1]: Started Network Manager Script Dispatcher Service.\n",
    "    \n",
    "    41 systemd[1]: NetworkManager-dispatcher.service: Succeeded.\n",
    "    \n",
    "    41 nm-dispatcher: req:1 'dhcp4-change' [ens3]: start running ordered scripts...\n",
    "    \n",
    "    41 nm-dispatcher: req:1 'dhcp4-change' [ens3]: new request (1 scripts)\n",
    "    \n",
    "    41 dhclient[757]: DHCPREQUEST for 192.168.122.103 on ens3 to 192.168.122.1 port 67 (xid=0x3a5ff7ed)\n",
    "    \n",
    "    41 dhclient[757]: DHCPACK of 192.168.122.103 from 192.168.122.1 (xid=0xedf75f3a)\n",
    "    \n",
    "    41 dbus-daemon[592]: [system] Successfully activated service 'org.freedesktop.nm_dispatcher'\n",
    "    \n",
    "    41 dbus-daemon[592]: [system] Activating via systemd: service name='org.freedesktop.nm_dispatcher' unit='dbus-org.freedesktop.nm-dispatcher.service' requested by ':1.15' (uid=0 pid=599 comm=\"/usr/sbin/NetworkManager --no-daemon \" label=\"unconfined\")\n",
    "    \n",
    "    9 systemd[1]: Started Run anacron jobs.\n"
   ]
  },
  {
   "cell_type": "code",
   "execution_count": null,
   "metadata": {
    "vscode": {
     "languageId": "shellscript"
    }
   },
   "outputs": [],
   "source": [
    "#!/bin/bash\n",
    "\n",
    "for logfile in /var/log/*log; do\n",
    "    echo \"Processing: $logfile\"\n",
    "    cut -d' ' -f5- $logfile | sort | uniq -c | sort -nr | head -5\n",
    "done"
   ]
  },
  {
   "cell_type": "markdown",
   "metadata": {},
   "source": [
    "## About this code\n",
    "\n",
    "This script is written in the Bash scripting language and designed to analyze log files. It analyzes each log file in the /var/log directory and displays the top 5 most frequently occurring messages along with their counts."
   ]
  },
  {
   "cell_type": "code",
   "execution_count": null,
   "metadata": {
    "vscode": {
     "languageId": "shellscript"
    }
   },
   "outputs": [],
   "source": [
    "./toploglines.sh"
   ]
  },
  {
   "cell_type": "markdown",
   "metadata": {},
   "source": [
    "\n",
    "**Code output:**\n",
    "\n",
    "    (...)\n",
    "    \n",
    "    Processing: /var/log/user.log\n",
    "    \n",
    "    23 system-updater[199481]: DEBUG Command exited with status: 0\n",
    "    \n",
    "    19 system-updater[46682]: DEBUG Command exited with status: 0\n",
    "    \n",
    "    16 system-updater[175060]: DEBUG Command exited with status: 0\n",
    "    \n",
    "    11 /usr/bin/lock: called by /bin/bash for . uid 0, euid 0.\n",
    "    \n",
    "    11 network-manager-dhclient-hooks: Dispatching run of '/etc/dhcp/dhclient-exit-hooks.d/hostname' ...\n",
    "    \n",
    "    Processing: /var/log/Xorg.0.log\n",
    "    \n",
    "    87 Printing DDC gathered Modelines:\n",
    "    \n",
    "    87 Modeline \"1920x1080\"x0.0 141.00 1920 1936 1952 2104 1080 1083 1097 1116 -hsync -vsync (67.0 kHz eP)\n",
    "    \n",
    "    87 EDID vendor \"AUO\", prod id 5949\n",
    "    \n",
    "    78 vendor \"AUO\", prod id 5949\n",
    "    \n",
    "    78 DDC gathered Modelines:\n"
   ]
  }
 ],
 "metadata": {
  "kernelspec": {
   "display_name": "Python 3 (ipykernel)",
   "language": "python",
   "name": "python3"
  },
  "language_info": {
   "codemirror_mode": {
    "name": "ipython",
    "version": 3
   },
   "file_extension": ".py",
   "mimetype": "text/x-python",
   "name": "python",
   "nbconvert_exporter": "python",
   "pygments_lexer": "ipython3",
   "version": "3.11.7"
  }
 },
 "nbformat": 4,
 "nbformat_minor": 2
}
