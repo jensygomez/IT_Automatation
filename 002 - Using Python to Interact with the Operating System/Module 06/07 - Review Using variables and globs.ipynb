{
 "cells": [
  {
   "cell_type": "markdown",
   "metadata": {},
   "source": [
    "**Author:**       Jensy Gregorio Gómez \n",
    "---------------------------------------\n",
    "**Profession:**  IT Support Analyst and Automatation with Python\n",
    "\n",
    "**Date:**         05 April 2024     \n",
    "\n",
    "**Location:**     Vila Izabel, Curitiba/PR  \n",
    "\n",
    "\n",
    "---\n",
    "\n",
    "**Contacto:**\n",
    "\n",
    "- **Email:** [contact@jensygomez.us](mailto:contact@jensygomez.us)\n",
    "- **YouTube:** [Tu Canal de YouTube](https://www.youtube.com/@systechcwb826)\n",
    "- **LinkedIn:** [Tu Perfil de LinkedIn](https://www.linkedin.com/in/jensygomez/)\n",
    "\n",
    "\n"
   ]
  },
  {
   "cell_type": "markdown",
   "metadata": {},
   "source": [
    "\n",
    "# Review: Using variables and globs\n",
    "\n",
    "This reading contains the code used in the instructional videos from [**Using Variables and Globs**](https://www.coursera.org/learn/python-operating-system/lecture/CBlpc/using-variables-and-globs)\n",
    "\n",
    "## Introduction\n",
    "\n",
    "This follow-along reading is organized to match the content in the video that follows. It contains the same code shown in the next video. These code blocks will provide you with the opportunity to see how the code is written, allow you to practice running it, and can be used as a reference to refer back to.\n",
    "\n",
    "You can follow along in the reading as the instructor discusses the code or review the code after watching the video."
   ]
  },
  {
   "cell_type": "code",
   "execution_count": null,
   "metadata": {
    "vscode": {
     "languageId": "shellscript"
    }
   },
   "outputs": [],
   "source": [
    "example=hello\n",
    "echo $example"
   ]
  },
  {
   "cell_type": "markdown",
   "metadata": {},
   "source": [
    "**Code output:**\n",
    "\n",
    "hello"
   ]
  },
  {
   "cell_type": "code",
   "execution_count": null,
   "metadata": {
    "vscode": {
     "languageId": "shellscript"
    }
   },
   "outputs": [],
   "source": [
    "example = hello"
   ]
  },
  {
   "cell_type": "markdown",
   "metadata": {},
   "source": [
    "\n",
    "**Code output:**\n",
    "\n",
    "Command ‘example’ not found, did you mean:\n",
    "\n",
    "Command ‘gexample’ from deb pvm-examples (3.4.6-2build1)\n",
    "\n",
    "Try: sudo apt install <deb name>"
   ]
  },
  {
   "cell_type": "code",
   "execution_count": null,
   "metadata": {
    "vscode": {
     "languageId": "shellscript"
    }
   },
   "outputs": [],
   "source": [
    "#!/bin/bash\n",
    "\n",
    "line=\"-------------------------------------------------\"\n",
    "\n",
    "echo \"Starting at: $(date)\"; echo $line\n",
    "\n",
    "echo \"UPTIME\"; uptime; echo $line\n",
    "\n",
    "echo \"FREE\"; free; echo $line\n",
    "\n",
    "echo \"WHO\"; who; echo $line\n",
    "\n",
    "echo \"Finishing at: $(date)\""
   ]
  },
  {
   "cell_type": "code",
   "execution_count": null,
   "metadata": {
    "vscode": {
     "languageId": "shellscript"
    }
   },
   "outputs": [],
   "source": [
    "./gather-information.sh "
   ]
  },
  {
   "cell_type": "markdown",
   "metadata": {},
   "source": [
    "Code output:\n",
    "\n",
    "Starting at: Mi 22. Mai 17:30:30 CEST 2019\n",
    "\n",
    "-------------------------------------------------\n",
    "\n",
    "UPTIME\n",
    "\n",
    " 17:30:30 up 8 days,  1:51,  2 users,  load average: 0,00, 0,00, 0,00\n",
    "\n",
    "-------------------------------------------------\n",
    "\n",
    "FREE\n",
    "\n",
    "              total        used        free      shared  buff/cache   available\n",
    "\n",
    "Mem:        4037132      862132      444720       10032     2730280     2875336\n",
    "\n",
    "Swap:       2097148        6156     2090992\n",
    "\n",
    "-------------------------------------------------\n",
    "\n",
    "WHO\n",
    "\n",
    "user     :0           2019-05-14 15:39 (:0)\n",
    "\n",
    "user     pts/1        2019-05-14 15:40 (192.168.122.1)\n",
    "\n",
    "-------------------------------------------------\n",
    "\n",
    "Finishing at: Mi 22. Mai 17:30:30 CEST 2019"
   ]
  },
  {
   "cell_type": "code",
   "execution_count": null,
   "metadata": {
    "vscode": {
     "languageId": "shellscript"
    }
   },
   "outputs": [],
   "source": [
    "echo *.py"
   ]
  },
  {
   "cell_type": "markdown",
   "metadata": {},
   "source": [
    "\n",
    "## About this code\n",
    "\n",
    "When we write star dot py [_***.py**_], the shell turns it into a list containing all filenames that end with py in the current directory. We can also put the star at the end of an expression to get a list of all files that start with a certain prefix.\n",
    "\n",
    "**Code output:**\n",
    "\n",
    "action_deprecation.py areas.py capitalize.py charfreq.py check_deprecation.py health_checks.py hello.py mycheck.py seconds.py stdout_example.py streams.py test.py validations.py"
   ]
  },
  {
   "cell_type": "code",
   "execution_count": null,
   "metadata": {
    "vscode": {
     "languageId": "shellscript"
    }
   },
   "outputs": [],
   "source": [
    "echo c*"
   ]
  },
  {
   "cell_type": "markdown",
   "metadata": {},
   "source": [
    "\n",
    "## About this code\n",
    "\n",
    "c* allows us to get all the files in the current directory that start with c.\n",
    "\n",
    "**Code output:**\n",
    "\n",
    "capitalize.py charfreq.py check_localhost.sh"
   ]
  },
  {
   "cell_type": "code",
   "execution_count": null,
   "metadata": {
    "vscode": {
     "languageId": "shellscript"
    }
   },
   "outputs": [],
   "source": [
    "echo *"
   ]
  },
  {
   "cell_type": "markdown",
   "metadata": {},
   "source": [
    "\n",
    "## About this code\n",
    "\n",
    "The star with no prefix or suffix matches _all_ the files in the current directory.\n",
    "\n",
    "**Code output:**\n",
    "\n",
    "(... all the files ...)"
   ]
  },
  {
   "cell_type": "code",
   "execution_count": null,
   "metadata": {
    "vscode": {
     "languageId": "shellscript"
    }
   },
   "outputs": [],
   "source": [
    "echo ?????.py"
   ]
  },
  {
   "cell_type": "markdown",
   "metadata": {},
   "source": [
    "\n",
    "## About this code\n",
    "\n",
    "The question mark symbol can be used to match exactly one character, instead of any amount of characters.We can repeat it as many times as we need. In this example, we can get the Python files with five characters in their name by using five question marks together.\n",
    "\n",
    "**Code output:**\n",
    "\n",
    "areas.py hello.py"
   ]
  }
 ],
 "metadata": {
  "kernelspec": {
   "display_name": "Python 3 (ipykernel)",
   "language": "python",
   "name": "python3"
  },
  "language_info": {
   "codemirror_mode": {
    "name": "ipython",
    "version": 3
   },
   "file_extension": ".py",
   "mimetype": "text/x-python",
   "name": "python",
   "nbconvert_exporter": "python",
   "pygments_lexer": "ipython3",
   "version": "3.11.7"
  }
 },
 "nbformat": 4,
 "nbformat_minor": 2
}
