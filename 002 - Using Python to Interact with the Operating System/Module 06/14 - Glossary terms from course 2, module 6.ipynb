{
 "cells": [
  {
   "cell_type": "markdown",
   "metadata": {},
   "source": [
    "**Author:**       Jensy Gregorio Gómez \n",
    "---------------------------------------\n",
    "**Profession:**  IT Support Analyst and Automatation with Python\n",
    "\n",
    "**Date:**         07 April 2024     \n",
    "\n",
    "**Location:**     Vila Izabel, Curitiba/PR  \n",
    "\n",
    "\n",
    "---\n",
    "\n",
    "**Contacto:**\n",
    "\n",
    "- **Email:** [contact@jensygomez.us](mailto:contact@jensygomez.us)\n",
    "- **YouTube:** [Tu Canal de YouTube](https://www.youtube.com/@systechcwb826)\n",
    "- **LinkedIn:** [Tu Perfil de LinkedIn](https://www.linkedin.com/in/jensygomez/)\n",
    "\n",
    "\n"
   ]
  },
  {
   "cell_type": "markdown",
   "metadata": {},
   "source": [
    "# Glossary terms from course 2, module 6\n",
    "\n",
    "## **Terms and definitions from Course 2, Module 6**\n",
    "\n",
    "**Bash script:** A script that contains multiple commands\n",
    "\n",
    "**Cut:** A command that can split and take only bits of each line using spaces\n",
    "\n",
    "**Globs:** Characters that create list of files, like the star and question mark\n",
    "\n",
    "**Pipes:** A process of connecting the output of one program to the input of another\n",
    "\n",
    "**Piping:** A process of connecting multiple scripts, commands, or other programs together into a data processing pipeline\n",
    "\n",
    "**Redirection:** A process of sending a stream to a different destination\n",
    "\n",
    "**Signals:** Tokens delivered to running processes to indicate a desired action"
   ]
  }
 ],
 "metadata": {
  "kernelspec": {
   "display_name": "Python 3 (ipykernel)",
   "language": "python",
   "name": "python3"
  },
  "language_info": {
   "codemirror_mode": {
    "name": "ipython",
    "version": 3
   },
   "file_extension": ".py",
   "mimetype": "text/x-python",
   "name": "python",
   "nbconvert_exporter": "python",
   "pygments_lexer": "ipython3",
   "version": "3.11.7"
  }
 },
 "nbformat": 4,
 "nbformat_minor": 2
}
