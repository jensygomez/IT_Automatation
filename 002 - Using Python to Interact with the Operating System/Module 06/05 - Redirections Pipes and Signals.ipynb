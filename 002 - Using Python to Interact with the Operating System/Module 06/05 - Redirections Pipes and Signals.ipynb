{
 "cells": [
  {
   "cell_type": "markdown",
   "metadata": {},
   "source": [
    "**Author:**       Jensy Gregorio Gómez \n",
    "---------------------------------------\n",
    "**Profession:**  IT Support Analyst and Automatation with Python\n",
    "\n",
    "**Date:**         03 April 2024     \n",
    "\n",
    "**Location:**     Vila Izabel, Curitiba/PR  \n",
    "\n",
    "\n",
    "---\n",
    "\n",
    "**Contacto:**\n",
    "\n",
    "- **Email:** [contact@jensygomez.us](mailto:contact@jensygomez.us)\n",
    "- **YouTube:** [Tu Canal de YouTube](https://www.youtube.com/@systechcwb826)\n",
    "- **LinkedIn:** [Tu Perfil de LinkedIn](https://www.linkedin.com/in/jensygomez/)\n",
    "\n",
    "\n"
   ]
  },
  {
   "cell_type": "markdown",
   "metadata": {},
   "source": [
    "\n",
    "# Redirections, Pipes, and Signals\n",
    "\n",
    "### Managing streams\n",
    "\n",
    "These are the redirectors that we can use to take control of the streams of our programs\n",
    "\n",
    "-   command **>** file: redirects standard output, overwrites file\n",
    "    \n",
    "-   command **>>** file: redirects standard output, appends to file\n",
    "    \n",
    "-   command **<** file: redirects standard input from file\n",
    "    \n",
    "-   command **2>** file: redirects standard error to file\n",
    "    \n",
    "-   command1 **|** command2: connects the output of command1 to the input of command2\n",
    "    \n",
    "\n",
    "### Operating with processes\n",
    "\n",
    "These are some commands that are useful to know in Linux when interacting with processes. Not all of them are explained in videos, so feel free to investigate them on your own.\n",
    "\n",
    "-   **ps:** lists the processes executing in the current terminal for the current user\n",
    "    \n",
    "-   **ps** ax: lists all processes currently executing for all users\n",
    "    \n",
    "-   **ps** e: shows the environment for the processes listed\n",
    "    \n",
    "-   **kill** PID: sends the SIGTERM signal to the process identified by PID\n",
    "    \n",
    "-   **fg**: causes a job that was stopped or in the background to return to the foreground\n",
    "    \n",
    "-   **bg:** causes a job that was stopped to go to the background\n",
    "    \n",
    "-   **jobs:** lists the jobs currently running or stopped\n",
    "    \n",
    "-   **top:** shows the processes currently using the most CPU time (press \"q\" to quit)\n",
    "\n"
   ]
  }
 ],
 "metadata": {
  "kernelspec": {
   "display_name": "Python 3 (ipykernel)",
   "language": "python",
   "name": "python3"
  },
  "language_info": {
   "codemirror_mode": {
    "name": "ipython",
    "version": 3
   },
   "file_extension": ".py",
   "mimetype": "text/x-python",
   "name": "python",
   "nbconvert_exporter": "python",
   "pygments_lexer": "ipython3",
   "version": "3.11.7"
  }
 },
 "nbformat": 4,
 "nbformat_minor": 2
}
