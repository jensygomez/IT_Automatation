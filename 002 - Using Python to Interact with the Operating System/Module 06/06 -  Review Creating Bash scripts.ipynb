{
 "cells": [
  {
   "cell_type": "markdown",
   "metadata": {},
   "source": [
    "**Author:**       Jensy Gregorio Gómez \n",
    "---------------------------------------\n",
    "**Profession:**  IT Support Analyst and Automatation with Python\n",
    "\n",
    "**Date:**         05 April 2024     \n",
    "\n",
    "**Location:**     Vila Izabel, Curitiba/PR  \n",
    "\n",
    "\n",
    "---\n",
    "\n",
    "**Contacto:**\n",
    "\n",
    "- **Email:** [contact@jensygomez.us](mailto:contact@jensygomez.us)\n",
    "- **YouTube:** [Tu Canal de YouTube](https://www.youtube.com/@systechcwb826)\n",
    "- **LinkedIn:** [Tu Perfil de LinkedIn](https://www.linkedin.com/in/jensygomez/)\n",
    "\n",
    "\n"
   ]
  },
  {
   "cell_type": "markdown",
   "metadata": {},
   "source": [
    "# Review: Creating Bash scripts\n",
    "\n",
    "This reading contains the code used in the instructional videos from [**Creating Bash Scripts**](https://www.coursera.org/learn/python-operating-system/lecture/4rtnS/creating-bash-scripts)\n",
    "\n",
    "## Introduction\n",
    "\n",
    "This follow-along reading is organized to match the content in the video that follows. It contains the same code shown in the next video. These code blocks will provide you with the opportunity to see how the code is written, allow you to practice running it, and can be used as a reference to refer back to.\n",
    "\n",
    "You can follow along in the reading as the instructor discusses the code or review the code after watching the video."
   ]
  },
  {
   "cell_type": "code",
   "execution_count": null,
   "metadata": {
    "vscode": {
     "languageId": "shellscript"
    }
   },
   "outputs": [],
   "source": [
    "#!/bin/bash\n",
    "echo \"Starting at: $(date)\"\n",
    "echo\n",
    "\n",
    "echo \"UPTIME\"\n",
    "uptime\n",
    "echo\n",
    "\n",
    "echo \"FREE\"\n",
    "free\n",
    "echo\n",
    "\n",
    "echo \"WHO\"\n",
    "who\n",
    "echo\n",
    "\n",
    "echo \"Finishing at: $(date)\""
   ]
  },
  {
   "cell_type": "code",
   "execution_count": null,
   "metadata": {
    "vscode": {
     "languageId": "shellscript"
    }
   },
   "outputs": [],
   "source": [
    "./gather-information.sh "
   ]
  },
  {
   "cell_type": "markdown",
   "metadata": {},
   "source": [
    "\n",
    "## About this code\n",
    "\n",
    "Here, the starting and finishing times are the same, because there are so few operations we're doing that it takes the computer less than a second to complete them.\n",
    "\n",
    "**Code output:**\n",
    "\n",
    "Starting at: Mi 22. Mai 17:13:06 CEST 2019\n",
    "\n",
    "UPTIME\n",
    "\n",
    "17:13:06 up 8 days, 1:34, 2 users, load average: 0,00, 0,00, 0,00\n",
    "\n",
    "FREE\n",
    "\n",
    "total used free shared buff/cache available\n",
    "\n",
    "Mem: 4037132 871336 253940 10032 2911856 2865984\n",
    "\n",
    "Swap: 2097148 4364 2092784\n",
    "\n",
    "WHO\n",
    "\n",
    "user :0 2019-05-14 15:39 (:0)\n",
    "\n",
    "user pts/1 2019-05-14 15:40 (192.168.122.1)\n",
    "\n",
    "Finishing at: Mi 22. Mai 17:13:06 CEST 2019"
   ]
  },
  {
   "cell_type": "code",
   "execution_count": null,
   "metadata": {
    "vscode": {
     "languageId": "shellscript"
    }
   },
   "outputs": [],
   "source": [
    "#!/bin/bash\n",
    "\n",
    "echo \"Starting at: $(date)\"; echo\n",
    "\n",
    "echo \"UPTIME\"; uptime; echo\n",
    "\n",
    "echo \"FREE\"; free; echo\n",
    "\n",
    "echo \"WHO\"; who; echo\n",
    "\n",
    "echo \"Finishing at: $(date)\""
   ]
  },
  {
   "cell_type": "code",
   "execution_count": null,
   "metadata": {
    "vscode": {
     "languageId": "shellscript"
    }
   },
   "outputs": [],
   "source": [
    "./gather-information.sh "
   ]
  },
  {
   "cell_type": "markdown",
   "metadata": {},
   "source": [
    "About this code\n",
    "Here we can see the code is still working as expected!\n",
    "\n",
    "Code output:\n",
    "\n",
    "Starting at: Mon 13 May 2019 02:52:11 PM CEST\n",
    "\n",
    "UPTIME\n",
    "\n",
    " 14:52:11 up 17 days,  2:35,  1 user,  load average: 0.70, 1.01, 1.16\n",
    "\n",
    "FREE\n",
    "\n",
    "              total        used        free      shared  buff/cache   available\n",
    "\n",
    "Mem:       32912600    19966400     1003304      321672    11942896    12281516\n",
    "\n",
    "Swap:      20250620      612352    19638268\n",
    "\n",
    "WHO\n",
    "\n",
    "user    tty7         2019-04-29 12:19 (:0)\n",
    "\n",
    "Finishing at: Mon 13 May 2019 02:52:11 PM CEST"
   ]
  }
 ],
 "metadata": {
  "kernelspec": {
   "display_name": "Python 3 (ipykernel)",
   "language": "python",
   "name": "python3"
  },
  "language_info": {
   "codemirror_mode": {
    "name": "ipython",
    "version": 3
   },
   "file_extension": ".py",
   "mimetype": "text/x-python",
   "name": "python",
   "nbconvert_exporter": "python",
   "pygments_lexer": "ipython3",
   "version": "3.11.7"
  }
 },
 "nbformat": 4,
 "nbformat_minor": 2
}
