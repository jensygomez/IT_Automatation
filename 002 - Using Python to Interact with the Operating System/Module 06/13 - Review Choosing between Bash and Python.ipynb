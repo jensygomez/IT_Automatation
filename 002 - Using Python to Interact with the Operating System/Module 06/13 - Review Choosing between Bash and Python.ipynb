{
 "cells": [
  {
   "cell_type": "markdown",
   "metadata": {},
   "source": [
    "**Author:**       Jensy Gregorio Gómez \n",
    "---------------------------------------\n",
    "**Profession:**  IT Support Analyst and Automatation with Python\n",
    "\n",
    "**Date:**         06 April 2024     \n",
    "\n",
    "**Location:**     Vila Izabel, Curitiba/PR  \n",
    "\n",
    "\n",
    "---\n",
    "\n",
    "**Contacto:**\n",
    "\n",
    "- **Email:** [contact@jensygomez.us](mailto:contact@jensygomez.us)\n",
    "- **YouTube:** [Tu Canal de YouTube](https://www.youtube.com/@systechcwb826)\n",
    "- **LinkedIn:** [Tu Perfil de LinkedIn](https://www.linkedin.com/in/jensygomez/)\n",
    "\n",
    "\n"
   ]
  },
  {
   "cell_type": "markdown",
   "metadata": {},
   "source": [
    "# Review: Choosing between Bash and Python\n",
    "\n",
    "This reading contains the code used in the instructional videos from [**Choosing Between Bash and Python**](https://www.coursera.org/learn/python-operating-system/lecture/mXJSX/choosing-between-bash-and-python).\n",
    "\n",
    "## Introduction\n",
    "\n",
    "This follow-along reading is organized to match the content in the video that follows. It contains the same code shown in the next video. These code blocks will provide you with the opportunity to see how the code is written, allow you to practice running it, and can be used as a reference to refer back to.\n",
    "\n",
    "You can follow along in the reading as the instructor discusses the code or review the code after watching the video."
   ]
  },
  {
   "cell_type": "code",
   "execution_count": null,
   "metadata": {
    "vscode": {
     "languageId": "shellscript"
    }
   },
   "outputs": [],
   "source": [
    "for i in $(cat story.txt); do B=`echo -n \"${i:0:1}\" | tr \"[:lower:]\" \"[:upper:]\"`; echo -n \"${B}${i:1} \"; done; echo -e \"\\n\""
   ]
  },
  {
   "cell_type": "markdown",
   "metadata": {},
   "source": [
    "\n",
    "## About this code\n",
    "\n",
    "This code snippet is written in the Bash scripting language and designed to capitalize the first letter of each word in a text file. This script iterates through each line in the story.txt file and capitalizes the first letter of each word. It then prints the modified text to the output."
   ]
  },
  {
   "cell_type": "code",
   "execution_count": null,
   "metadata": {
    "vscode": {
     "languageId": "shellscript"
    }
   },
   "outputs": [],
   "source": [
    "cat capitalize_words.py"
   ]
  },
  {
   "cell_type": "markdown",
   "metadata": {},
   "source": [
    "\n",
    "**Code output:**\n",
    "\n",
    "    #!/usr/bin/env python3\n",
    "    \n",
    "    import sys\n",
    "    \n",
    "    for line in sys.stdin:\n",
    "    \n",
    "    words = line.strip().split()\n",
    "    \n",
    "    print(\" \".join([word.capitalize() for word in words]))"
   ]
  },
  {
   "cell_type": "markdown",
   "metadata": {},
   "source": [
    "## About this code\n",
    "\n",
    "This script takes input from a text file or from another command, removes the whitespace, splits it into separate words, capitalizes the first letter of each word in every line, and prints the modified text to the standard output."
   ]
  },
  {
   "cell_type": "code",
   "execution_count": null,
   "metadata": {
    "vscode": {
     "languageId": "shellscript"
    }
   },
   "outputs": [],
   "source": [
    "cat story.txt | ./capitalize_words.py "
   ]
  },
  {
   "cell_type": "markdown",
   "metadata": {},
   "source": [
    "\n",
    "**Code output:**\n",
    "\n",
    "    Once Upon A Time There Was An Egg Of A Programming Language Called Python\n"
   ]
  }
 ],
 "metadata": {
  "kernelspec": {
   "display_name": "Python 3 (ipykernel)",
   "language": "python",
   "name": "python3"
  },
  "language_info": {
   "codemirror_mode": {
    "name": "ipython",
    "version": 3
   },
   "file_extension": ".py",
   "mimetype": "text/x-python",
   "name": "python",
   "nbconvert_exporter": "python",
   "pygments_lexer": "ipython3",
   "version": "3.11.7"
  }
 },
 "nbformat": 4,
 "nbformat_minor": 2
}
