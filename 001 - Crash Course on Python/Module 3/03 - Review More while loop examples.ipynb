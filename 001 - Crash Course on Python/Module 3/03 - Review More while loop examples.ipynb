{
 "cells": [
  {
   "cell_type": "markdown",
   "id": "26cc1050-4ada-4e53-9cb0-970880ad5d32",
   "metadata": {
    "jp-MarkdownHeadingCollapsed": true
   },
   "source": [
    "**Author:**       Jensy Gregorio Gómez \n",
    "---------------------------------------\n",
    "**Profession:**  IT Support Analyst  \n",
    "**Date:**         10 Febrero 2024     \n",
    "**Location:**     Vila Isabel, Curitiba/PR  \n",
    "\n",
    "\n",
    "---\n",
    "\n",
    "**Contacto:**\n",
    "\n",
    "- **Email:** [contact@jensygomez.us](mailto:contact@jensygomez.us)\n",
    "- **YouTube:** [Tu Canal de YouTube](https://www.youtube.com/@systechcwb826)\n",
    "- **LinkedIn:** [Tu Perfil de LinkedIn](https://www.linkedin.com/in/jensygomez/)\n",
    "\n",
    "\n"
   ]
  },
  {
   "cell_type": "markdown",
   "id": "666249bb-43f6-4701-8662-54c2923056cc",
   "metadata": {},
   "source": [
    "\n",
    "# Review: More while loop examples\n",
    "\n",
    "This reading contains the code used in the instructional videos from [**More while loop examples**](https://www.coursera.org/learn/python-crash-course/lecture/wXvhG/more-while-loop-examples)\n",
    "\n",
    "## **Introduction**\n",
    "\n",
    "This follow-along reading is organized to match the content in the video that follows. It contains the same code shown in the next video. You will find additional information throughout the guide to explain the purpose of each concept covered, why the code is written in a certain way, and tips for running the code. These code blocks will provide you with the opportunity to see how the code is written, allow you to practice running it, and can be used as a reference to refer back to.\n",
    "\n",
    "You can follow along in the reading as the instructor discusses the code or review the code after watching the video.\n"
   ]
  },
  {
   "cell_type": "code",
   "execution_count": null,
   "id": "44261b5a-0913-42f5-a542-7f3c89522235",
   "metadata": {},
   "outputs": [],
   "source": [
    "\n",
    "def attempts(n):\n",
    "    x = 1\n",
    "    while x <= n:\n",
    "        print(\"Attempt \" + str(x))\n",
    "        x += 1\n",
    "    print(\"Done\")\n",
    "\n",
    "attempts(5)\n"
   ]
  },
  {
   "cell_type": "code",
   "execution_count": null,
   "id": "8f8a62c9-9bf2-4f41-9b74-29f868bf6e71",
   "metadata": {},
   "outputs": [],
   "source": [
    "\n",
    "def attempts(n):\n",
    "    x = 1\n",
    "    while x <= n:\n",
    "        print(\"Attempt \" + str(x))\n",
    "        x += 1\n",
    "    print(\"Done\")\n",
    "attempts(5)\n"
   ]
  },
  {
   "cell_type": "code",
   "execution_count": null,
   "id": "69805ba6-ac27-4569-912e-0e562c01dcc3",
   "metadata": {},
   "outputs": [],
   "source": [
    "\n",
    "username = get_username()\n",
    "while not valid_username(username):\n",
    "    print(\"Invalid username\")\n",
    "    username = get_username()\n",
    "#This code will give an error because get_username is not defined\n"
   ]
  },
  {
   "cell_type": "markdown",
   "id": "4595e025-701d-4453-a9e1-2cc8896198ec",
   "metadata": {},
   "source": [
    "\n",
    "## **About this code**\n",
    "\n",
    "The username variable is assigned the value returned by the **get_username()** function. The while loop starts. The loop will continue to iterate as long as the value of the username variable is not valid. The **print()** function prints the message **\"Invalid username\"**. The username variable is assigned the value returned by the **get_username()** function. The while loop ends.\n",
    "\n",
    "The code you provided will give an error because the **valid_username()** function is not defined. The while loop will try to call the **valid_username()** function on line 3, but the function does not exist.\n"
   ]
  }
 ],
 "metadata": {
  "kernelspec": {
   "display_name": "Python 3 (ipykernel)",
   "language": "python",
   "name": "python3"
  },
  "language_info": {
   "codemirror_mode": {
    "name": "ipython",
    "version": 3
   },
   "file_extension": ".py",
   "mimetype": "text/x-python",
   "name": "python",
   "nbconvert_exporter": "python",
   "pygments_lexer": "ipython3",
   "version": "3.11.7"
  }
 },
 "nbformat": 4,
 "nbformat_minor": 5
}
