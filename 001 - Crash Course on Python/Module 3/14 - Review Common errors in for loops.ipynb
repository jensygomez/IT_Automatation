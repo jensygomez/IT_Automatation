{
 "cells": [
  {
   "cell_type": "markdown",
   "id": "6a280859-5885-47e0-ae04-19ff36bb483e",
   "metadata": {},
   "source": [
    "**Author:**       Jensy Gregorio Gómez \n",
    "---------------------------------------\n",
    "**Profession:**  IT Support Analyst  \n",
    "**Date:**         13 Febrero 2024     \n",
    "**Location:**     Vila Isabel, Curitiba/PR  \n",
    "\n",
    "\n",
    "---\n",
    "\n",
    "**Contacto:**\n",
    "\n",
    "- **Email:** [contact@jensygomez.us](mailto:contact@jensygomez.us)\n",
    "- **YouTube:** [Tu Canal de YouTube](https://www.youtube.com/@systechcwb826)\n",
    "- **LinkedIn:** [Tu Perfil de LinkedIn](https://www.linkedin.com/in/jensygomez/)\n",
    "\n",
    "\n"
   ]
  },
  {
   "cell_type": "markdown",
   "id": "e50e2e6e-431c-4e81-bdaa-e0ed81c15224",
   "metadata": {},
   "source": [
    "\n",
    "# Review: Common errors in for loops\n",
    "\n",
    "This reading contains the code used in the instructional videos from [**Common errors in for loops**](https://www.coursera.org/learn/python-crash-course/lecture/8XtCn/common-errors-in-for-loops)\n",
    "\n",
    "## **Introduction**\n",
    "\n",
    "This follow-along reading is organized to match the content in the video that follows. It contains the same code shown in the next video. These code blocks will provide you with the opportunity to see how the code is written, allow you to practice running it, and can be used as a reference to refer back to.\n",
    "\n",
    "You can follow along in the reading as the instructor discusses the code or review the code after watching the video."
   ]
  },
  {
   "cell_type": "code",
   "execution_count": null,
   "id": "1cd96b78-d4e7-455a-a23c-57c1515c149a",
   "metadata": {},
   "outputs": [],
   "source": [
    "\n",
    "for x in 25:\n",
    "    print(x)\n",
    "\n",
    "#this will produce an error\n"
   ]
  },
  {
   "cell_type": "code",
   "execution_count": null,
   "id": "c46c6698-9f80-43c4-93d7-e945360128dd",
   "metadata": {},
   "outputs": [],
   "source": [
    "\n",
    "for x in range(25):\n",
    "    print(x)\n",
    "\n",
    "#this will make the error go away\n"
   ]
  },
  {
   "cell_type": "code",
   "execution_count": null,
   "id": "9f3db6e5-a0a3-4aff-a1ab-a2b0f51f2e11",
   "metadata": {},
   "outputs": [],
   "source": [
    "\n",
    "def greet_friends(friends):\n",
    "    for friend in friends:\n",
    "        print(\"Hi \" + friend)\n",
    "\n",
    "greet_friends(['Taylor', 'Luisa', 'Jamaal', 'Eli'])\n"
   ]
  },
  {
   "cell_type": "code",
   "execution_count": null,
   "id": "fa5c8b32-6738-4265-bc65-77ee0d1e1863",
   "metadata": {},
   "outputs": [],
   "source": [
    "\n",
    "def greet_friends(friends):\n",
    "    for friend in friends:\n",
    "        print(\"Hi \" + friend)\n",
    "\n",
    "greet_friends(\"Barry\")\n"
   ]
  }
 ],
 "metadata": {
  "kernelspec": {
   "display_name": "Python 3 (ipykernel)",
   "language": "python",
   "name": "python3"
  },
  "language_info": {
   "codemirror_mode": {
    "name": "ipython",
    "version": 3
   },
   "file_extension": ".py",
   "mimetype": "text/x-python",
   "name": "python",
   "nbconvert_exporter": "python",
   "pygments_lexer": "ipython3",
   "version": "3.11.8"
  }
 },
 "nbformat": 4,
 "nbformat_minor": 5
}
