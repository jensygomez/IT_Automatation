{
 "cells": [
  {
   "cell_type": "markdown",
   "id": "7ce94186-d9df-4dcb-8a15-c6a94c2a728a",
   "metadata": {},
   "source": [
    "**Author:**       Jensy Gregorio Gómez \n",
    "---------------------------------------\n",
    "**Profession:**  IT Support Analyst  \n",
    "**Date:**         13 Febrero 2024     \n",
    "**Location:**     Vila Isabel, Curitiba/PR  \n",
    "\n",
    "\n",
    "---\n",
    "\n",
    "**Contacto:**\n",
    "\n",
    "- **Email:** [contact@jensygomez.us](mailto:contact@jensygomez.us)\n",
    "- **YouTube:** [Tu Canal de YouTube](https://www.youtube.com/@systechcwb826)\n",
    "- **LinkedIn:** [Tu Perfil de LinkedIn](https://www.linkedin.com/in/jensygomez/)\n",
    "\n",
    "\n"
   ]
  },
  {
   "cell_type": "markdown",
   "id": "15920dad-4d55-4ecc-9b89-fd4ffef50e06",
   "metadata": {},
   "source": [
    "\n",
    "\n",
    "# Strings and for loops\n",
    "\n",
    "Over the past few modules we’ve been talking about using loops and their syntax in Python. As you have seen, a loop is an instruction that repeats multiple times as long as the condition set forth in the loop is met. You use loops to repeat a block of code. For example, if you want to send users an invitation, asking them to subscribe every time they open a new project, you would use a loop.\n",
    "\n",
    "In this reading, you will learn the basics about for loops and how you can use them with strings.\n",
    "\n",
    "## For  **Loop Recap**\n",
    "\n",
    "As a reminder, for loops enable you to iterate over a sequence of values, such as numbers, names, or lines in a file. You can even iterate over a list of strings.\n",
    "\n",
    "## **What are strings?**\n",
    "\n",
    "At the beginning of this course we identified strings as one of the basic data types used by Python and other programming languages. Strings represent a sequence of characters and are often used to display output to the user.\n",
    "\n",
    "You can recognize a string because it’s surrounded by single or double quotes like the following examples:\n",
    "\n",
    "\"Hello world.\"\n",
    "\n",
    "‘Ostriches can’t fly.’\n",
    "\n",
    "\"567.89\"\n",
    "\n",
    "**Pro tip**: You can’t mix single and double quotes in the same string or you’ll get a syntax error.\n",
    "\n",
    "**Note**: In the examples above, Python does not consider “567.89” a number. It is a string because it is surrounded by quotes.\n",
    "\n",
    "## **Using**  for  **loops with strings**\n",
    "\n",
    "In an earlier video, you learned that a for loop iterates over the items in a collection until each item in the collection has been looped over.\n",
    "\n",
    "**Pro tip:** Every for loop can also be written as a while loop.\n",
    "\n",
    "Let’s see what that looks like. In the example below, we’re using a for loop to print out the characters in the string “Hello.”\n",
    "                                                                 "
   ]
  },
  {
   "cell_type": "code",
   "execution_count": null,
   "id": "350384a7-5b9e-4988-a1fb-cd86e642a007",
   "metadata": {},
   "outputs": [],
   "source": [
    "\n",
    "\n",
    ">>> greeting = \"Hello\"\n",
    "\n",
    ">>> for c in greeting:\n",
    "\n",
    ">>> print(\"The next character is: \", c)\n",
    "\n",
    "The next character is: H\n",
    "\n",
    "The next character is: e\n",
    "\n",
    "The next character is: l\n",
    "\n",
    "The next character is: l\n",
    "\n",
    "The next character is: o"
   ]
  },
  {
   "cell_type": "markdown",
   "id": "dbb56b98-6aad-4a01-b185-27f694e5e285",
   "metadata": {},
   "source": [
    "\n",
    "Notice that the for loop will stop iterating after the “o” is printed. You can also use for loops with Python’s range () function to generate a series of numbers, which you can see in the following example:\n"
   ]
  },
  {
   "cell_type": "code",
   "execution_count": null,
   "id": "d01a096d-2989-4046-8a1b-ff84974d0a75",
   "metadata": {},
   "outputs": [],
   "source": [
    "\n",
    ">>> for i in range(0, 3):\n",
    "\n",
    ">>>   print(\"The next value is:” i)\n",
    "\n",
    "The next value is 0 \n",
    "\n",
    "The next value is 1 \n",
    "\n",
    "The next value is 2\n"
   ]
  },
  {
   "cell_type": "markdown",
   "id": "09414a6f-0118-46ad-afbb-a10eb234d83c",
   "metadata": {},
   "source": [
    "\n",
    "\n",
    "Practically every Python script you write will use strings, which we’ll talk about in more detail in Module 4. For now, it’s enough for you to know that they are immutable. In other words, once you create a string, it can’t be changed. But you can use for loops to create a new string.\n",
    "\n",
    "You can use for loops with strings to perform tasks and functions such as:\n",
    "\n",
    "-   Reading text from a file\n",
    "    \n",
    "-   Searching for a value or specific data in a document or spreadsheet\n",
    "    \n",
    "\n",
    "**Pro tip:** If you modify or update a collection of items you are using with a for loop, make sure you modify your for loop as well.\n",
    "\n",
    "## **Key takeaways**\n",
    "\n",
    "The real power of for loops is that they allow you to repeat sequences of any kind of data, not just a range of numbers or letters. They can help you find and use data faster. Over the next several videos and readings, you’ll get a chance to see what else you can do with loops and strings.\n",
    "                                                                                                                                                                                                                         "
   ]
  }
 ],
 "metadata": {
  "kernelspec": {
   "display_name": "Python 3 (ipykernel)",
   "language": "python",
   "name": "python3"
  },
  "language_info": {
   "codemirror_mode": {
    "name": "ipython",
    "version": 3
   },
   "file_extension": ".py",
   "mimetype": "text/x-python",
   "name": "python",
   "nbconvert_exporter": "python",
   "pygments_lexer": "ipython3",
   "version": "3.11.8"
  }
 },
 "nbformat": 4,
 "nbformat_minor": 5
}
