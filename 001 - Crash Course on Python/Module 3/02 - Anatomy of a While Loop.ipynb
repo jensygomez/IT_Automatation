{
 "cells": [
  {
   "cell_type": "markdown",
   "id": "ee2710a0-5093-4cb4-b087-f5f3e02f58f2",
   "metadata": {
    "jp-MarkdownHeadingCollapsed": true
   },
   "source": [
    "**Author:**       Jensy Gregorio Gómez \n",
    "---------------------------------------\n",
    "**Profession:**  IT Support Analyst  \n",
    "**Date:**         10 Febrero 2024     \n",
    "**Location:**     Vila Isabel, Curitiba/PR  \n",
    "\n",
    "\n",
    "---\n",
    "\n",
    "**Contacto:**\n",
    "\n",
    "- **Email:** [contact@jensygomez.us](mailto:contact@jensygomez.us)\n",
    "- **YouTube:** [Tu Canal de YouTube](https://www.youtube.com/@systechcwb826)\n",
    "- **LinkedIn:** [Tu Perfil de LinkedIn](https://www.linkedin.com/in/jensygomez/)\n",
    "\n",
    "\n"
   ]
  },
  {
   "cell_type": "markdown",
   "id": "1c3bc084-9258-491b-b767-c77316a64d7e",
   "metadata": {},
   "source": [
    "\n",
    "# Anatomy of a While Loop\n",
    "\n",
    "A _while_ loop will continuously execute code depending on the value of a condition. It begins with the keyword _while,_ followed by a comparison to be evaluated, then a colon. On the next line is the code block to be executed, indented to the right. Similar to an _if_ statement, the code in the body will only be executed if the comparison is evaluated to be true. What sets a _while_ loop apart, however, is that this code block will keep executing as long as the evaluation statement is true. Once the statement is no longer true, the loop exits and the next line of code will be executed.\n"
   ]
  },
  {
   "cell_type": "code",
   "execution_count": null,
   "id": "d499b9ac-d000-45fc-a310-892e5d186423",
   "metadata": {},
   "outputs": [],
   "source": []
  }
 ],
 "metadata": {
  "kernelspec": {
   "display_name": "Python 3 (ipykernel)",
   "language": "python",
   "name": "python3"
  },
  "language_info": {
   "codemirror_mode": {
    "name": "ipython",
    "version": 3
   },
   "file_extension": ".py",
   "mimetype": "text/x-python",
   "name": "python",
   "nbconvert_exporter": "python",
   "pygments_lexer": "ipython3",
   "version": "3.11.7"
  }
 },
 "nbformat": 4,
 "nbformat_minor": 5
}
