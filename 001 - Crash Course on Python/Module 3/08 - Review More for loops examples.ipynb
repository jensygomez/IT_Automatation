{
 "cells": [
  {
   "cell_type": "markdown",
   "id": "8fa5b9d5-8ba2-4906-b600-8beb162d794b",
   "metadata": {},
   "source": [
    "\n",
    "# Review: More for loops examples\n",
    "\n",
    "This reading contains the code used in the instructional videos from [**More for loops examples**](https://www.coursera.org/learn/python-crash-course/lecture/00vRH/more-for-loop-examples)\n",
    "\n",
    "## **Introduction**\n",
    "\n",
    "This follow-along reading is organized to match the content in the video that follows. It contains the same code shown in the next video. These code blocks will provide you with the opportunity to see how the code is written, allow you to practice running it, and can be used as a reference to refer back to.\n",
    "\n",
    "You can follow along in the reading as the instructor discusses the code or review the code after watching the video.\n"
   ]
  },
  {
   "cell_type": "code",
   "execution_count": 1,
   "id": "096e3397-4833-45ec-a128-759fea5a9314",
   "metadata": {},
   "outputs": [
    {
     "name": "stdout",
     "output_type": "stream",
     "text": [
      "362880\n"
     ]
    }
   ],
   "source": [
    "\n",
    "product = 1\n",
    "for n in range(1,10):\n",
    "  product = product * n\n",
    "\n",
    "print(product)\n"
   ]
  },
  {
   "cell_type": "markdown",
   "id": "47030179-a300-4ab5-91f9-f8f5bf8f902b",
   "metadata": {},
   "source": [
    "\n",
    "\n",
    "## About this code\n",
    "\n",
    "This code first defines a variable product and initializes it to 1. Then, it uses a for loop to iterate over the range of numbers from 1 to 9. In each iteration of the loop, the variable n is assigned the current number in the range. The code then multiplies product by n. This means that after the first iteration, product will be equal to 1 * 1 = 1. After the second iteration, product will be equal to 1 * 2 = 2. And so on.\n",
    "\n",
    "The loop will terminate when the value of n is 9. At this point, the value of product will be 1 * 2 * 3 * ... * 9 = 362880.\n"
   ]
  },
  {
   "cell_type": "code",
   "execution_count": 2,
   "id": "90038935-d938-4dd9-9777-4fbdd427f7d4",
   "metadata": {},
   "outputs": [
    {
     "name": "stdout",
     "output_type": "stream",
     "text": [
      "0 -17.77777777777778\n",
      "10 -12.222222222222221\n",
      "20 -6.666666666666667\n",
      "30 -1.1111111111111112\n",
      "40 4.444444444444445\n",
      "50 10.0\n",
      "60 15.555555555555555\n",
      "70 21.11111111111111\n",
      "80 26.666666666666668\n",
      "90 32.22222222222222\n",
      "100 37.77777777777778\n"
     ]
    }
   ],
   "source": [
    "\n",
    "def to_celsius(x):\n",
    "  return (x-32)*5/9\n",
    "\n",
    "for x in range(0,101,10):\n",
    "  print(x, to_celsius(x))\n",
    "    "
   ]
  },
  {
   "cell_type": "code",
   "execution_count": null,
   "id": "7fa0c0c6-cc94-4442-bc76-659d48bbe2dc",
   "metadata": {},
   "outputs": [],
   "source": []
  }
 ],
 "metadata": {
  "kernelspec": {
   "display_name": "Python 3 (ipykernel)",
   "language": "python",
   "name": "python3"
  },
  "language_info": {
   "codemirror_mode": {
    "name": "ipython",
    "version": 3
   },
   "file_extension": ".py",
   "mimetype": "text/x-python",
   "name": "python",
   "nbconvert_exporter": "python",
   "pygments_lexer": "ipython3",
   "version": "3.11.7"
  }
 },
 "nbformat": 4,
 "nbformat_minor": 5
}
