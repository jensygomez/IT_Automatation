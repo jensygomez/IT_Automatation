{
 "cells": [
  {
   "cell_type": "markdown",
   "id": "b1031e88-2121-421c-b033-5cd68ff3f7c1",
   "metadata": {},
   "source": [
    "**Author:**       Jensy Gregorio Gómez \n",
    "---------------------------------------\n",
    "**Profession:**  IT Support Analyst  \n",
    "**Date:**         14 Febrero 2024     \n",
    "**Location:**     Vila Isabel, Curitiba/PR  \n",
    "\n",
    "\n",
    "---\n",
    "\n",
    "**Contacto:**\n",
    "\n",
    "- **Email:** [contact@jensygomez.us](mailto:contact@jensygomez.us)\n",
    "- **YouTube:** [Tu Canal de YouTube](https://www.youtube.com/@systechcwb826)\n",
    "- **LinkedIn:** [Tu Perfil de LinkedIn](https://www.linkedin.com/in/jensygomez/)\n",
    "\n",
    "\n"
   ]
  },
  {
   "cell_type": "markdown",
   "id": "bbe433c4-2ef5-4f0a-bc31-2394c9bcf1ed",
   "metadata": {},
   "source": [
    "\n",
    "\n",
    "# Additional Recursion Sources\n",
    "\n",
    "## Additional Recursion Sources\n",
    "\n",
    "In the past videos, we visited the basic concepts of recursive functions.\n",
    "\n",
    "A recursive function must include a recursive case and base case. The recursive case calls the function again, with a different value. The base case returns a value without calling the same function.\n",
    "\n",
    "A recursive function will usually have this structure:\n"
   ]
  },
  {
   "cell_type": "code",
   "execution_count": null,
   "id": "5d8d2306-7d67-4dad-b8d0-c8e16fa14400",
   "metadata": {},
   "outputs": [],
   "source": [
    "\n",
    "def recursive_function(parameters):\n",
    "    if base_case_condition(parameters):\n",
    "        return base_case_value\n",
    "    recursive_function(modified_parameters)\n",
    "    "
   ]
  },
  {
   "cell_type": "markdown",
   "id": "213073d4-cdcb-4834-b2e6-ab70a3e75ef4",
   "metadata": {},
   "source": [
    "\n",
    "\n",
    "For more information on recursion, check out these resources:\n",
    "\n",
    "-   [Wikipedia Recursion page](https://en.wikipedia.org/wiki/Recursion)\n",
    "    \n",
    "-   See what happens when you [Search Google for Recursion](https://www.google.com/search?q=recursion)\n",
    "                                                            "
   ]
  }
 ],
 "metadata": {
  "kernelspec": {
   "display_name": "Python 3 (ipykernel)",
   "language": "python",
   "name": "python3"
  },
  "language_info": {
   "codemirror_mode": {
    "name": "ipython",
    "version": 3
   },
   "file_extension": ".py",
   "mimetype": "text/x-python",
   "name": "python",
   "nbconvert_exporter": "python",
   "pygments_lexer": "ipython3",
   "version": "3.11.8"
  }
 },
 "nbformat": 4,
 "nbformat_minor": 5
}
