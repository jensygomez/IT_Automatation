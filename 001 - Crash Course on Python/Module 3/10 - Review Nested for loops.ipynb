{
 "cells": [
  {
   "cell_type": "markdown",
   "id": "c8905e0c-6d25-4db7-8a7e-2170cbfeca6e",
   "metadata": {},
   "source": [
    "**Author:**       Jensy Gregorio Gómez \n",
    "---------------------------------------\n",
    "**Profession:**  IT Support Analyst  \n",
    "**Date:**         13 Febrero 2024     \n",
    "**Location:**     Vila Isabel, Curitiba/PR  \n",
    "\n",
    "\n",
    "---\n",
    "\n",
    "**Contacto:**\n",
    "\n",
    "- **Email:** [contact@jensygomez.us](mailto:contact@jensygomez.us)\n",
    "- **YouTube:** [Tu Canal de YouTube](https://www.youtube.com/@systechcwb826)\n",
    "- **LinkedIn:** [Tu Perfil de LinkedIn](https://www.linkedin.com/in/jensygomez/)\n",
    "\n",
    "\n"
   ]
  },
  {
   "cell_type": "markdown",
   "id": "a3e859f5-9b9e-4dd2-86ef-2f3402d5e9ed",
   "metadata": {},
   "source": [
    "\n",
    "# Review: Nested for loops\n",
    "\n",
    "This reading contains the code used in the instructional videos from [**Nested for loops**](https://www.coursera.org/learn/python-crash-course/lecture/f7w6D/nested-for-loops)\n",
    "\n",
    "## **Introduction**\n",
    "\n",
    "This follow-along reading is organized to match the content in the video that follows. It contains the same code shown in the next video. These code blocks will provide you with the opportunity to see how the code is written, allow you to practice running it, and can be used as a reference to refer back to.\n",
    "\n",
    "You can follow along in the reading as the instructor discusses the code or review the code after watching the video.\n"
   ]
  },
  {
   "cell_type": "code",
   "execution_count": null,
   "id": "641e0120-5b8c-4e31-85b9-8cdbb0271601",
   "metadata": {},
   "outputs": [],
   "source": [
    "\n",
    "for left in range(7):\n",
    "  for right in range(left, 7):\n",
    "    print(\"[\" + str(left) + \"|\" + str(right) + \"]\", end=\" \")\n",
    "  print()\n",
    "    "
   ]
  },
  {
   "cell_type": "code",
   "execution_count": null,
   "id": "6b42cc9d-fc9c-4add-aa9a-445e758ed3be",
   "metadata": {},
   "outputs": [],
   "source": [
    "\n",
    "teams = [ 'Dragons', 'Wolves', 'Pandas', 'Unicorns']\n",
    "for home_team in teams:\n",
    "  for away_team in teams:\n",
    "    if home_team != away_team:\n",
    "      print(home_team + \" vs \" + away_team)\n",
    "        "
   ]
  },
  {
   "cell_type": "code",
   "execution_count": null,
   "id": "24129c70-12ef-4c87-a763-bbe8764a15fd",
   "metadata": {},
   "outputs": [],
   "source": [
    "\n",
    "for element in long_list:\n",
    "  do_something(element)\n",
    "\n",
    "for element1 in long_list:\n",
    "  for element2 in long_list:\n",
    "    do_something(element1, element2)\n",
    "      "
   ]
  }
 ],
 "metadata": {
  "kernelspec": {
   "display_name": "Python 3 (ipykernel)",
   "language": "python",
   "name": "python3"
  },
  "language_info": {
   "codemirror_mode": {
    "name": "ipython",
    "version": 3
   },
   "file_extension": ".py",
   "mimetype": "text/x-python",
   "name": "python",
   "nbconvert_exporter": "python",
   "pygments_lexer": "ipython3",
   "version": "3.11.8"
  }
 },
 "nbformat": 4,
 "nbformat_minor": 5
}
