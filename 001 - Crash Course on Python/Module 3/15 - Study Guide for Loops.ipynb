{
 "cells": [
  {
   "cell_type": "markdown",
   "id": "c6e1b667-c34b-4ae0-915f-0afb939b51fd",
   "metadata": {},
   "source": [
    "**Author:**       Jensy Gregorio Gómez \n",
    "---------------------------------------\n",
    "**Profession:**  IT Support Analyst  \n",
    "**Date:**         13 Febrero 2024     \n",
    "**Location:**     Vila Isabel, Curitiba/PR  \n",
    "\n",
    "\n",
    "---\n",
    "\n",
    "**Contacto:**\n",
    "\n",
    "- **Email:** [contact@jensygomez.us](mailto:contact@jensygomez.us)\n",
    "- **YouTube:** [Tu Canal de YouTube](https://www.youtube.com/@systechcwb826)\n",
    "- **LinkedIn:** [Tu Perfil de LinkedIn](https://www.linkedin.com/in/jensygomez/)\n",
    "\n",
    "\n"
   ]
  },
  {
   "cell_type": "markdown",
   "id": "bd0806d2-3f42-44c4-a16f-48a557f6a6c1",
   "metadata": {},
   "source": [
    "\n",
    "\n",
    "# Study Guide: for Loops\n",
    "\n",
    "## Study guide: for loops\n",
    "\n",
    "This study guide provides a summary of what you learned in this segment and serves as a guide for the upcoming practice quiz.\n",
    "\n",
    "In the for Loops segment, you learned about the logical structure and syntax of for loops. You took a closer look at the **range()** function. You learned about nested for loops and complex nested for loops with if statements. You also learned how to fix common errors in for loops.\n",
    "\n",
    "## for Loops vs. while Loops\n",
    "\n",
    "**for** loops and **while** loops share several characteristics. Both loops can be used with a variety of data types, both can be nested, and both can be used with the keywords break and continue. However, there are important differences between the two types of loops:\n",
    "\n",
    "-   **while** loops are used when a segment of code needs to execute repeatedly while a condition is true\n",
    "    \n",
    "-   **for** loops iterate over a sequence of elements, executing the body of the loop for each element in the sequence\n",
    "    \n",
    "\n",
    "An important distinction is that for loops are suited for objects that have iterable structures. So lists, strings, ranges of integers. Individual integers are not iterable, but can be looped over by the use of the **range()** function, which is covered below. While loops do not iterate per se, rather they watch a truth condition\n",
    "\n",
    "### Syntax\n",
    "\n",
    "The syntax of a for loop with the in keyword:\n",
    "                                                                                                                                                                            "
   ]
  },
  {
   "cell_type": "code",
   "execution_count": null,
   "id": "a500ad92-1c6a-4a7d-a478-bebaa8d7a003",
   "metadata": {},
   "outputs": [],
   "source": [
    "\n",
    "for variable in sequence:\n",
    "    body of loop\n",
    "    "
   ]
  },
  {
   "cell_type": "markdown",
   "id": "9d6b4fef-1523-4bdc-ae91-0919ca86612c",
   "metadata": {},
   "source": [
    "\n",
    "\n",
    "### Common for Loop Structures\n",
    "\n",
    "**for** Loop with **range()**\n",
    "\n",
    "The in keyword with the **range()** function generates a sequence of integer numbers, which can be used with a for loop to configure the iterations of the code. The range of numbers **[0, 1, 2]** correlates to ordinal index positions (1st, 2nd, 3rd), rather than the cardinal (quantity) values of the numbers 0, 1, and 2. For example, **range(5)** means the five index positions in the range [0, 1, 2, 3, 4].\n",
    "\n",
    "The **range()** function can take up to three parameters. The roles of the three possible **range(x,y,z)** parameters are:\n",
    "\n",
    "-   **x = Start** - Starting index position of the range\n",
    "    \n",
    "    -   Default index position is 0.\n",
    "        \n",
    "    -   The starting index position is included in the range.\n",
    "        \n",
    "    -   Example syntax: range(2, y, z) or range(x+3, y, z)\n",
    "        \n",
    "-   **y = Stop** - Ending index position of range\n",
    "    \n",
    "    -   No default index position. Must include the ending index position in the **range()** parameters.\n",
    "        \n",
    "        -   Example syntax: **range(y)**\n",
    "            \n",
    "    -   The value of the ending index position is excluded from the range.\n",
    "        \n",
    "    -   To include the ending index number, use the expression: y+1 (index + 1)\n",
    "        \n",
    "        -   Example syntax: range(x, y+1, z)\n",
    "            \n",
    "        -   Alternatively, if y = 10, you can write: range(x, 11, z)\n",
    "            \n",
    "-   **z = Step** - Incremental value\n",
    "    \n",
    "\n",
    "Example of a for loop with the in keyword and the **range()** function:\n",
    "    "
   ]
  },
  {
   "cell_type": "code",
   "execution_count": 1,
   "id": "0c4abf55-31c8-421a-aa28-c985bc59c719",
   "metadata": {},
   "outputs": [
    {
     "name": "stdout",
     "output_type": "stream",
     "text": [
      "3\n",
      "9\n",
      "15\n"
     ]
    }
   ],
   "source": [
    "\n",
    "# This loop iterates on the value of the \"number\" variable in a range\n",
    "# of 1 to 6+1 (the upper range limit of 6 is excluded, so +1 has\n",
    "# been added to it to include 6 in the range). The incremental value\n",
    "# for the loop is 2 (number+2). The print() function will output the\n",
    "# resulting value of \"number\" multiplied by 3.\n",
    "\n",
    "for number in range(1, 6+1, 2):\n",
    "    print(number * 3)\n",
    "\n",
    "# The loop should print 3, 9, 15\n"
   ]
  },
  {
   "cell_type": "markdown",
   "id": "c1f63e60-1d9d-4f15-aefc-b89be771b55f",
   "metadata": {},
   "source": [
    "\n",
    "\n",
    "## Common pitfalls when using the range() function:\n",
    "\n",
    "-   Forgetting that **the upper limit of a** range() **isn’t included** in the range.\n",
    "    \n",
    "-   **Iterating over non-sequences**. For example, strings are iterable letter by letter, but not word by word.\n",
    "    \n",
    "\n",
    "Example of a **range()** function where the value of the upper limit of the range is excluded:\n"
   ]
  },
  {
   "cell_type": "code",
   "execution_count": null,
   "id": "44d8ad72-40cd-4e29-83e9-c1f69a83f34b",
   "metadata": {},
   "outputs": [],
   "source": [
    "\n",
    "# This loop iterates on the value of the \"number\" variable in a range\n",
    "# of 2 to 7 (the upper range limit of 8 is excluded). The print() \n",
    "# function will output the resulting value of \"number\" squared.\n",
    "\n",
    "for number in range(2,8):\n",
    "    print(number**2)\n",
    "\n",
    "# The loop should print 4, 9, 16, 25, 36, 49\n"
   ]
  },
  {
   "cell_type": "markdown",
   "id": "c0c9e42a-c1c4-4310-94e3-4ba05dfa0420",
   "metadata": {},
   "source": [
    "\n",
    "\n",
    "## Nested for Loops\n",
    "\n",
    "The syntax of nested for loops:\n"
   ]
  },
  {
   "cell_type": "code",
   "execution_count": null,
   "id": "b64aebd0-3935-4b96-b20a-ebeae9e92299",
   "metadata": {},
   "outputs": [],
   "source": [
    "\n",
    "for x in sequence:\n",
    "    # start of the outer loop body\n",
    "    for y in sequence:\n",
    "        # start of the inner loop body\n",
    "        # end of of the inner loop body\n",
    "    # continue body of the outer loop\n",
    "    # end of the outer loop body\n",
    "    "
   ]
  },
  {
   "cell_type": "markdown",
   "id": "0d7c86f8-1222-49fe-8bd4-04ad84ec44d5",
   "metadata": {},
   "source": [
    "\n",
    "Example of nested **for** loops:\n"
   ]
  },
  {
   "cell_type": "code",
   "execution_count": null,
   "id": "f8b9482b-2d86-43b4-b746-15e7df81cd45",
   "metadata": {},
   "outputs": [],
   "source": [
    "\n",
    "# This code demonstrates the outer and inner loop iterations of a pair \n",
    "# of nested for loops. Click \"Run\" to see the results. The outer loop\n",
    "# will run twice for the range pointer positions [0, 1] in range(2).\n",
    "# The inner loop will run 4 times for the range pointer positions \n",
    "# [0, 1, 2, 3] in range(3+1) or range(4) each time the outer loop runs.\n",
    "# So, the inner loop will execute 8 times in total.\n",
    "\n",
    "for x in range(2):\n",
    "    print(\"This is the outer loop iteration number \" + str(x))\n",
    "    for y in range(3+1):\n",
    "        print(\"Inner loop iteration number \" + str(y))\n",
    "    print(\"Exit inner loop\")\n",
    "    "
   ]
  },
  {
   "cell_type": "markdown",
   "id": "5c088629-2fb3-4ded-81c5-d918425eca86",
   "metadata": {},
   "source": [
    "\n",
    "## for loop with nested if Statement\n",
    "\n",
    "The syntax of a **for** Loop with nested if Statement:\n",
    "    "
   ]
  },
  {
   "cell_type": "code",
   "execution_count": null,
   "id": "bce5e478-7ed0-4108-9ad7-01575ab9af55",
   "metadata": {},
   "outputs": [],
   "source": [
    "\n",
    "for x in sequence:\n",
    "    # start of body of for loop\n",
    "    if condition is true:\n",
    "        # start of body of if-statement\n",
    "        # end of body of if-statement\n",
    "    # continue body of for loop\n",
    "    # end of body of for loop\n",
    "\n",
    "# As a list comprehension:\n",
    "[x for x in sequence if condition]\n"
   ]
  },
  {
   "cell_type": "markdown",
   "id": "fb3fc608-d87a-45a2-925c-42bbfe97fb5d",
   "metadata": {},
   "source": [
    "\n",
    "Example of a **for** Loop with Nested **if** Statement:\n",
    "    "
   ]
  },
  {
   "cell_type": "code",
   "execution_count": null,
   "id": "27c2ff6d-5e4c-4120-9e5a-f975c41eabbf",
   "metadata": {},
   "outputs": [],
   "source": [
    "\n",
    "# This for loop iterates through the numbers 0 to 6. The if statement\n",
    "# uses the modulo operator to test if the \"x\" variable is divisible by\n",
    "# 2. If True, the if statement will print the value of \"x\" and exit\n",
    "# back into the for loop for the next iteration of \"x\". Since no \n",
    "# incremental value is specified in the range() parameters, the default\n",
    "# increment is +1. \n",
    "\n",
    "for x in range(7):\n",
    "    if x % 2 == 0:\n",
    "        print(x)\n",
    "\n",
    "# The loop should print 0, 2, 4, 6\n",
    "\n",
    "# As a list comprehension:\n",
    "even_numbers = [x for x in range(7) if x % 2 == 0]\n",
    "print(even_numbers)\n"
   ]
  },
  {
   "cell_type": "markdown",
   "id": "f9c0f240-5a63-4506-ade1-34fd070a5c20",
   "metadata": {},
   "source": [
    "\n",
    "\n",
    "## List comprehensions\n",
    "\n",
    "It is important to know that loops can be avoided sometimes; as you progress, you will develop a sense of when and how to do so. The concepts **for** loops are similar between other languages, but in Python, **list comprehensions** provide a concise way to create lists based on existing lists or sequences.\n",
    "\n",
    "Here is a concrete example for better understanding. Let's say you have a sequence of numbers and you want to create a new list containing only the even numbers from the sequence.\n",
    "\n",
    "With a traditional **for** Loop, you might write:\n"
   ]
  },
  {
   "cell_type": "code",
   "execution_count": null,
   "id": "d7061ea5-3ae5-4f8e-b5d0-f56291e8a489",
   "metadata": {},
   "outputs": [],
   "source": [
    "\n",
    "sequence = range(10)\n",
    "new_list = []\n",
    "for x in sequence:\n",
    "    if x % 2 == 0:\n",
    "        new_list.append(x)\n",
    "        "
   ]
  },
  {
   "cell_type": "code",
   "execution_count": null,
   "id": "e4ca9be5-cc93-4f52-b9db-2b3d1a50dcc6",
   "metadata": {},
   "outputs": [],
   "source": [
    "\n",
    "With a list comprehension, you could achieve the same result in a more concise way:\n"
   ]
  },
  {
   "cell_type": "code",
   "execution_count": null,
   "id": "3ad32433-5098-4907-81c3-26a833a4106c",
   "metadata": {},
   "outputs": [],
   "source": [
    "\n",
    "sequence = range(10)\n",
    "new_list = [x for x in sequence if x % 2 == 0]\n"
   ]
  },
  {
   "cell_type": "markdown",
   "id": "c3d0f536-ef33-405d-8ee5-641c36d92fc7",
   "metadata": {},
   "source": [
    "\n",
    "Both of these pieces of code will create a list of even numbers from 0 to 10: [0, 2, 4, 6, 8]. The list comprehension version does this in a single, compact line. These “one-liners” are very useful and dramatically reduce overhead. \n",
    "\n",
    "An example of a useful one-liner is:\n"
   ]
  },
  {
   "cell_type": "code",
   "execution_count": null,
   "id": "4043812f-32c9-4ca9-96b1-a1da1c02fc88",
   "metadata": {},
   "outputs": [],
   "source": [
    "\n",
    "print(\"*\" * 8)\n"
   ]
  },
  {
   "cell_type": "markdown",
   "id": "d4d310e5-869b-4316-b775-9c03450718e3",
   "metadata": {},
   "source": [
    "\n",
    "This prints “*” 8 times. The number can be replaced by an integer variable, and to do this with a loop would be several lines of code and run more slowly.  \n"
   ]
  }
 ],
 "metadata": {
  "kernelspec": {
   "display_name": "Python 3 (ipykernel)",
   "language": "python",
   "name": "python3"
  },
  "language_info": {
   "codemirror_mode": {
    "name": "ipython",
    "version": 3
   },
   "file_extension": ".py",
   "mimetype": "text/x-python",
   "name": "python",
   "nbconvert_exporter": "python",
   "pygments_lexer": "ipython3",
   "version": "3.11.8"
  }
 },
 "nbformat": 4,
 "nbformat_minor": 5
}
