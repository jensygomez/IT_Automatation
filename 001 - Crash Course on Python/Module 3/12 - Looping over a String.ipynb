{
 "cells": [
  {
   "cell_type": "markdown",
   "id": "e1108155-6f42-4a3c-913d-717520f36621",
   "metadata": {},
   "source": [
    "**Author:**       Jensy Gregorio Gómez \n",
    "---------------------------------------\n",
    "**Profession:**  IT Support Analyst  \n",
    "**Date:**         13 Febrero 2024     \n",
    "**Location:**     Vila Isabel, Curitiba/PR  \n",
    "\n",
    "\n",
    "---\n",
    "\n",
    "**Contacto:**\n",
    "\n",
    "- **Email:** [contact@jensygomez.us](mailto:contact@jensygomez.us)\n",
    "- **YouTube:** [Tu Canal de YouTube](https://www.youtube.com/@systechcwb826)\n",
    "- **LinkedIn:** [Tu Perfil de LinkedIn](https://www.linkedin.com/in/jensygomez/)\n",
    "\n",
    "\n"
   ]
  },
  {
   "cell_type": "markdown",
   "id": "49c9cc72-2cde-4689-b0f8-0dbeb78db12d",
   "metadata": {},
   "source": [
    "\n",
    "# Looping over a String\n",
    "\n",
    "Looping over a string allows programmers to examine each character within a string individually, gather information about its occurrences, and perform a given operation. There are multiple ways to loop over a string—some ways are more beneficial than others—and which one you choose depends on the information you need. \n",
    "\n",
    "In this reading, you will learn about looping over a string, how to do it, and see some examples along the way.\n",
    "\n",
    "## **Looping over a string**\n",
    "\n",
    "To loop over a string means to start with the first character in a string and iterate over each character until the end of the string. Strings are objects that contain a sequence of single-character strings. Yes, a single letter is classified as a string in Python. For example, string[0] is considered a string even though it is just a single character.\n",
    "\n",
    "**Note**: Python does not use characters as a type like other programming languages do; it just supports strings with a length of 1.\n",
    "\n",
    "### for **Loop**\n",
    "\n",
    "The most direct—and common—way to loop over a string is to use the for loop. Let’s look at an example:"
   ]
  },
  {
   "cell_type": "code",
   "execution_count": 1,
   "id": "9cc27b65-fe0c-4b73-9255-58e8131392ce",
   "metadata": {},
   "outputs": [
    {
     "name": "stdout",
     "output_type": "stream",
     "text": [
      "H\n",
      "e\n",
      "l\n",
      "l\n",
      "o\n"
     ]
    }
   ],
   "source": [
    "\n",
    "greeting = 'Hello'\n",
    "for char in greeting:\n",
    "\tprint(char)\n",
    "    "
   ]
  },
  {
   "cell_type": "markdown",
   "id": "a1c1f471-5fe5-4686-974a-218a66ac4b7e",
   "metadata": {},
   "source": [
    "\n",
    "Notice that `greeting` is defined as the string `'Hello'`. The loop begins with `char = 0`, which is the first element in the string. It directly calls the elements of the string and prints each element on a new line, resulting in the output below:\n"
   ]
  },
  {
   "cell_type": "code",
   "execution_count": null,
   "id": "83919ccb-6dab-4d1b-b420-5025b8a91e72",
   "metadata": {},
   "outputs": [],
   "source": [
    "\n",
    "    H    \n",
    "    e    \n",
    "    l    \n",
    "    l    \n",
    "    o\n"
   ]
  },
  {
   "cell_type": "markdown",
   "id": "2f14d052-e1bb-4da9-ba0b-a1ad76e88e3d",
   "metadata": {},
   "source": [
    "\n",
    "What if you don’t want the elements of the string but the position of the string instead? You’re in luck because Python can work that magic too!\n"
   ]
  },
  {
   "cell_type": "code",
   "execution_count": 2,
   "id": "c52a4ea8-ebd5-4c55-a53e-bc446acafbf6",
   "metadata": {},
   "outputs": [
    {
     "name": "stdout",
     "output_type": "stream",
     "text": [
      "0\n",
      "1\n",
      "2\n",
      "3\n",
      "4\n"
     ]
    }
   ],
   "source": [
    "\n",
    "for i in range(len(greeting)):\n",
    "\tprint(i)\n",
    "    "
   ]
  },
  {
   "cell_type": "markdown",
   "id": "80deab05-a5dd-46f5-9a63-54cbc3892209",
   "metadata": {},
   "source": [
    "\n",
    "\n",
    "**len(greeting)** is an integer that tells Python how many characters are in the string. But because it’s an integer, you need to convert it to an iterable sequence by using the **range()** function. This loop does the same thing as the loop above, but instead of printing elements, it prints integers resulting in the output below:\n"
   ]
  },
  {
   "cell_type": "code",
   "execution_count": null,
   "id": "82beb9ee-d0ea-477d-976a-4d810f111576",
   "metadata": {},
   "outputs": [],
   "source": [
    "\n",
    "    0\n",
    "    1\n",
    "    2\n",
    "    3\n",
    "    4\n"
   ]
  },
  {
   "cell_type": "markdown",
   "id": "43c7aa57-9848-4651-979f-d49def7d9731",
   "metadata": {},
   "source": [
    "\n",
    "### while  **loop with indexing**\n",
    "\n",
    "This `while` loop is the more “common” `while` loop that programmers often use. This type of loop involves an index variable to represent the current position within the sequence. Most of the time, this will start with 0 for the initial iteration. Let’s take a look at an example:\n"
   ]
  },
  {
   "cell_type": "code",
   "execution_count": 3,
   "id": "41c225bf-2f90-40cf-9c56-a933db324694",
   "metadata": {},
   "outputs": [
    {
     "name": "stdout",
     "output_type": "stream",
     "text": [
      "H\n",
      "e\n",
      "l\n",
      "l\n",
      "o\n"
     ]
    }
   ],
   "source": [
    "\n",
    "greeting = 'Hello'\n",
    "index = 0\n",
    "while index < len(greeting):\n",
    "\tprint(greeting[index])\n",
    "\tindex += 1\n",
    "    "
   ]
  },
  {
   "cell_type": "markdown",
   "id": "b7a2bc6d-b50e-4ac9-94e9-ae892367ee79",
   "metadata": {},
   "source": [
    "\n",
    "\n",
    "The initial index value is 0, and the `while` loop continues to execute as long as the index variable is less than the length of the `len(greeting)`. At each iteration, Python prints the value at the current index position `(greeting[index])`. Then, Python increments the index by 1 `(index += 1)` to move to the next position. The output of this example is:\n"
   ]
  },
  {
   "cell_type": "markdown",
   "id": "81198db0-fbd1-407c-b91a-537ce91bb6de",
   "metadata": {},
   "source": [
    "\n",
    "\n",
    "\n",
    "**Pro Tip:** In any `while` loop, you can add conditional statements and stop the iteration process early so that the loop does not examine every character.\n",
    "\n",
    "### while  **loop with slicing**\n",
    "\n",
    "Using a `while` loop with slicing accomplishes the same thing that a `while` loop with indexing does—like the example you explored above—this is just another way to write a `while` loop. You use this `while` loop in combination with string slicing to iterate over a portion of a sequence. Remember, it’s up to you to choose the method for looping over a string based on your level of comfort. There are multiple ways to write lines of code to execute the same result. Let’s explore how a `while` loop with slicing results in the same output.\n"
   ]
  },
  {
   "cell_type": "code",
   "execution_count": 4,
   "id": "abc61561-bfdb-4cca-8b70-083f6cadb78d",
   "metadata": {},
   "outputs": [
    {
     "ename": "SyntaxError",
     "evalue": "invalid non-printable character U+00A0 (2807171160.py, line 4)",
     "output_type": "error",
     "traceback": [
      "\u001b[0;36m  Cell \u001b[0;32mIn[4], line 4\u001b[0;36m\u001b[0m\n\u001b[0;31m    print(greeting[index:index+1])\u001b[0m\n\u001b[0m    ^\u001b[0m\n\u001b[0;31mSyntaxError\u001b[0m\u001b[0;31m:\u001b[0m invalid non-printable character U+00A0\n"
     ]
    }
   ],
   "source": [
    "\n",
    "greeting = 'Hello'\n",
    "index = 0\n",
    "while index < len(greeting):\n",
    "    print(greeting[index:index+1])\n",
    "    index += 1\n"
   ]
  },
  {
   "cell_type": "markdown",
   "id": "4f5f8280-bdaa-490b-98fd-1c123a00f9fd",
   "metadata": {},
   "source": [
    "\n",
    "\n",
    "This `while` loop continues to run as long as the index variable is less than the length of the string, which is determined by using `len(greeting).` With each iteration, a substring of length 1 is extracted using `(greeting[index:index+1])` and printed. Then, the index is incremented by 1 `(index += 1)` to move to the next position. The output is:\n"
   ]
  },
  {
   "cell_type": "code",
   "execution_count": null,
   "id": "3df444e1-417c-4f48-8997-66d509356f69",
   "metadata": {},
   "outputs": [],
   "source": [
    "\n",
    "\n",
    "    H\n",
    "    e\n",
    "    l\n",
    "    l\n",
    "    o\n"
   ]
  },
  {
   "cell_type": "code",
   "execution_count": null,
   "id": "7d543c7a-09ba-4053-9b1b-0ed122e4a12d",
   "metadata": {},
   "outputs": [],
   "source": [
    "\n",
    "### **List comprehensions**\n",
    "\n",
    "List comprehensions are a concise way to create lists in Python. Let’s look at an example:\n"
   ]
  },
  {
   "cell_type": "code",
   "execution_count": 5,
   "id": "23f9bf79-e5ee-4d2b-bc39-1c5fa4e16ad2",
   "metadata": {},
   "outputs": [
    {
     "name": "stdout",
     "output_type": "stream",
     "text": [
      "[1, 4, 9, 16, 25]\n"
     ]
    }
   ],
   "source": [
    "\n",
    "numbers = [1, 2, 3, 4, 5]\n",
    "squared_numbers = [x ** 2 for x in numbers]\n",
    "print(squared_numbers)\n"
   ]
  },
  {
   "cell_type": "markdown",
   "id": "30fa993e-8ca3-4987-a929-bf6542f60a76",
   "metadata": {},
   "source": [
    "\n",
    "This example starts with a list of numbers. The second line of code defines the type of transformation you want to execute on each element in the original list. In this case, you’re using this line of code to create a new list called `squared_numbers` and apply `x ** 2` to square each element in the `numbers` list. The result of each squared element is then printed in a new list:\n"
   ]
  },
  {
   "cell_type": "code",
   "execution_count": null,
   "id": "090e20d2-1ef9-4e1e-bbd0-cefa0b5a93d8",
   "metadata": {},
   "outputs": [],
   "source": [
    "[1, 4, 9, 16, 25]\n"
   ]
  },
  {
   "cell_type": "markdown",
   "id": "66c686f0-acb4-4700-82e3-e25ab1f695f2",
   "metadata": {},
   "source": [
    "\n",
    "**Note:** List comprehensions can include conditional statements and nested loops, which allows for additional filtering of elements based on specific called conditions.\n",
    "\n",
    "## **Additional advanced string loop techniques**\n",
    "\n",
    "There are additional ways to loop over a string in Python that you should learn, practice, and master. These additional looping techniques include the generator functions, **map()**, and **zip()**. The **map()** and **zip()** functions are extremely powerful string manipulation tools that demonstrate functional programming concepts. To learn more about these advanced techniques, see these resources:\n",
    "\n",
    "-   [Python - map() function](https://www.tutorialsteacher.com/python/python-map-function)\n",
    "    \n",
    "-   [Python zip() method](https://www.tutorialsteacher.com/python/zip-method)\n",
    "    \n",
    "\n",
    "**Pro Tip:** Looping over multiple strings at once can push the limits of for loops. Because of this, it’s important to be aware of other alternatives to simplify a for or while loop.\n",
    "\n",
    "## **Key takeaways**\n",
    "\n",
    "When you loop over a string, you are able to examine each individual element in the string and manipulate it how you’d like. A for loop iterates over each element, and a while loop allows you to add conditional statements and stop the iteration process early. As you saw in this reading, there are a variety of methods to loop over a string. It’s up to you to familiarize yourself with each technique and write code according to the advantages and disadvantages of each.\n"
   ]
  }
 ],
 "metadata": {
  "kernelspec": {
   "display_name": "Python 3 (ipykernel)",
   "language": "python",
   "name": "python3"
  },
  "language_info": {
   "codemirror_mode": {
    "name": "ipython",
    "version": 3
   },
   "file_extension": ".py",
   "mimetype": "text/x-python",
   "name": "python",
   "nbconvert_exporter": "python",
   "pygments_lexer": "ipython3",
   "version": "3.11.8"
  }
 },
 "nbformat": 4,
 "nbformat_minor": 5
}
