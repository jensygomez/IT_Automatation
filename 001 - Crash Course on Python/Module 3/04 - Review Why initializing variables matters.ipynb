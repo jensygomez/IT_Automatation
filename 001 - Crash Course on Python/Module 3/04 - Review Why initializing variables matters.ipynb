{
 "cells": [
  {
   "cell_type": "markdown",
   "id": "0e835a3f-0034-4ad3-965d-4f2bf30b8b1f",
   "metadata": {
    "jp-MarkdownHeadingCollapsed": true
   },
   "source": [
    "**Author:**       Jensy Gregorio Gómez \n",
    "---------------------------------------\n",
    "**Profession:**  IT Support Analyst  \n",
    "**Date:**         10 Febrero 2024     \n",
    "**Location:**     Vila Isabel, Curitiba/PR  \n",
    "\n",
    "\n",
    "---\n",
    "\n",
    "**Contacto:**\n",
    "\n",
    "- **Email:** [contact@jensygomez.us](mailto:contact@jensygomez.us)\n",
    "- **YouTube:** [Tu Canal de YouTube](https://www.youtube.com/@systechcwb826)\n",
    "- **LinkedIn:** [Tu Perfil de LinkedIn](https://www.linkedin.com/in/jensygomez/)\n",
    "\n",
    "\n"
   ]
  },
  {
   "cell_type": "markdown",
   "id": "90c9514c-d734-4ed3-938a-eb1d7f9cf0a2",
   "metadata": {},
   "source": [
    "\n",
    "# Review: Why initializing variables matters\n",
    "\n",
    "This reading contains the code used in the instructional videos from [**Why initializing variables matters**](https://www.coursera.org/learn/python-crash-course/lecture/oRAfO/why-initializing-variables-matters)\n",
    "\n",
    "## **Introduction**\n",
    "\n",
    "This follow-along reading is organized to match the content in the video that follows. It contains the same code shown in the next video. You will find additional information throughout the guide to explain the purpose of each concept covered, why the code is written in a certain way, and tips for running the code. These code blocks will provide you with the opportunity to see how the code is written, allow you to practice running it, and can be used as a reference to refer back to.\n",
    "\n",
    "You can follow along in the reading as the instructor discusses the code or review the code after watching the video.\n"
   ]
  },
  {
   "cell_type": "code",
   "execution_count": null,
   "id": "bf7ee926-3bd2-40cb-b013-cb41db52d925",
   "metadata": {},
   "outputs": [],
   "source": [
    "\n",
    "while my_variable < 10:\n",
    "    print(\"Hello\")\n",
    "    my_variable += 1\n",
    "#This code will give a NameError\n",
    "#Variable is not defined \n"
   ]
  },
  {
   "cell_type": "code",
   "execution_count": null,
   "id": "f875c847-f13c-4717-9bf6-9d3d0e7428c8",
   "metadata": {},
   "outputs": [],
   "source": [
    "\n",
    "my_variable = 5\n",
    "while my_variable < 10:\n",
    "    print(\"Hello\")\n",
    "    my_variable += 1\n",
    "    "
   ]
  },
  {
   "cell_type": "code",
   "execution_count": null,
   "id": "8872de30-5953-49d3-8ba4-8bbd52d27d15",
   "metadata": {},
   "outputs": [],
   "source": [
    "\n",
    "x = 1\n",
    "sum = 0\n",
    "while x < 10:\n",
    "    sum = sum + x\n",
    "    x = x + 1\n",
    "\n",
    "product = 1\n",
    "while x < 10:\n",
    "    product = product * x\n",
    "    x = x + 1\n",
    "\n",
    "print(sum, product)\n",
    "#Ouput 45 1\n"
   ]
  },
  {
   "cell_type": "markdown",
   "id": "8ffab08f-f97a-4f65-a044-88bfd41af7f8",
   "metadata": {},
   "source": [
    "\n",
    "\n",
    "## About this code\n",
    "\n",
    "This code contains an error, but it will not give an error when the code is run. The problem here is that product should be set to product = x. In this code, x is never initialized so this code is false before it is even run. The product variable has the wrong value\n"
   ]
  }
 ],
 "metadata": {
  "kernelspec": {
   "display_name": "Python 3 (ipykernel)",
   "language": "python",
   "name": "python3"
  },
  "language_info": {
   "codemirror_mode": {
    "name": "ipython",
    "version": 3
   },
   "file_extension": ".py",
   "mimetype": "text/x-python",
   "name": "python",
   "nbconvert_exporter": "python",
   "pygments_lexer": "ipython3",
   "version": "3.11.7"
  }
 },
 "nbformat": 4,
 "nbformat_minor": 5
}
