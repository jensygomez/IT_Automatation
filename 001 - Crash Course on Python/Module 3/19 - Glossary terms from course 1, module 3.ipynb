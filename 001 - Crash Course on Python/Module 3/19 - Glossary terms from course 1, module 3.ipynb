{
 "cells": [
  {
   "cell_type": "markdown",
   "id": "2f90e51d-fbcf-4fe5-8ba3-6a4665114d73",
   "metadata": {},
   "source": [
    "**Author:**       Jensy Gregorio Gómez \n",
    "---------------------------------------\n",
    "**Profession:**  IT Support Analyst  \n",
    "**Date:**         14 Febrero 2024     \n",
    "**Location:**     Vila Isabel, Curitiba/PR  \n",
    "\n",
    "\n",
    "---\n",
    "\n",
    "**Contacto:**\n",
    "\n",
    "- **Email:** [contact@jensygomez.us](mailto:contact@jensygomez.us)\n",
    "- **YouTube:** [Tu Canal de YouTube](https://www.youtube.com/@systechcwb826)\n",
    "- **LinkedIn:** [Tu Perfil de LinkedIn](https://www.linkedin.com/in/jensygomez/)\n",
    "\n",
    "\n"
   ]
  },
  {
   "cell_type": "markdown",
   "id": "e720cada-8475-4d74-a651-b4d834f9ece0",
   "metadata": {},
   "source": [
    "\n",
    "\n",
    "# Glossary terms from course 1, module 3\n",
    "\n",
    "## **Terms and definitions from Course 1, Module 3**\n",
    "\n",
    "**Break:** A way to exit out of a loop before the loop's condition is false\n",
    "\n",
    "**Control statements:** Programming constructs that direct the flow of execution of a program by allowing you to make decisions, repeat actions, or choose between different code paths based on specific conditions.\n",
    "\n",
    "**For loop:** This executes a block of code for a specified number of iterations or over a collection of items.\n",
    "\n",
    "**Infinite loop:** A sequence that is missing a method for exiting the loop, causing the loop to run forever\n",
    "\n",
    "**Iterators**: Variables that allow you to loop through a collection one item at a time\n",
    "\n",
    "**Loop:** A sequence that makes the computer do repetitive tasks\n",
    "\n",
    "**Programming:** The process of writing a program to behave in different ways\n",
    "\n",
    "**Pass:** A placeholder statement which is used when the syntax requires a statement, but you don't want to execute any code or command\n",
    "\n",
    "**Recursion:** The repeated application of the same procedure to a smaller problem\n",
    "\n",
    "**While loop:** This is used when a segment of code needs to execute repeatedly while a condition is true\n"
   ]
  }
 ],
 "metadata": {
  "kernelspec": {
   "display_name": "Python 3 (ipykernel)",
   "language": "python",
   "name": "python3"
  },
  "language_info": {
   "codemirror_mode": {
    "name": "ipython",
    "version": 3
   },
   "file_extension": ".py",
   "mimetype": "text/x-python",
   "name": "python",
   "nbconvert_exporter": "python",
   "pygments_lexer": "ipython3",
   "version": "3.11.8"
  }
 },
 "nbformat": 4,
 "nbformat_minor": 5
}
