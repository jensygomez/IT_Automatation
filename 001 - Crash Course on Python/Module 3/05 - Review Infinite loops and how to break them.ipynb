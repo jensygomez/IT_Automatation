{
 "cells": [
  {
   "cell_type": "markdown",
   "id": "18d20ec2-9c4b-4c10-b15e-05108234d633",
   "metadata": {
    "jp-MarkdownHeadingCollapsed": true
   },
   "source": [
    "**Author:**       Jensy Gregorio Gómez \n",
    "---------------------------------------\n",
    "**Profession:**  IT Support Analyst  \n",
    "**Date:**         10 Febrero 2024     \n",
    "**Location:**     Vila Isabel, Curitiba/PR  \n",
    "\n",
    "\n",
    "---\n",
    "\n",
    "**Contacto:**\n",
    "\n",
    "- **Email:** [contact@jensygomez.us](mailto:contact@jensygomez.us)\n",
    "- **YouTube:** [Tu Canal de YouTube](https://www.youtube.com/@systechcwb826)\n",
    "- **LinkedIn:** [Tu Perfil de LinkedIn](https://www.linkedin.com/in/jensygomez/)\n",
    "\n",
    "\n"
   ]
  },
  {
   "cell_type": "markdown",
   "id": "468e8f66-1c8c-44eb-ad1c-0d5f1f061773",
   "metadata": {},
   "source": [
    "\n",
    "# Review: Infinite loops and how to break them\n",
    "\n",
    "This reading contains the code used in the instructional videos from [**Infinite loops and how to break them**](https://www.coursera.org/learn/python-crash-course/lecture/qt7y9/infinite-loops-and-how-to-break-them).\n",
    "\n",
    "## **Introduction**\n",
    "\n",
    "This follow-along reading is organized to match the content in the video that follows. It contains the same code shown in the next video. You will find additional information throughout the guide to explain the purpose of each concept covered, why the code is written in a certain way, and tips for running the code. These code blocks will provide you with the opportunity to see how the code is written, allow you to practice running it, and can be used as a reference to refer back to.\n",
    "\n",
    "You can follow along in the reading as the instructor discusses the code or review the code after watching the video.\n"
   ]
  },
  {
   "cell_type": "code",
   "execution_count": null,
   "id": "a78ae1c7-4d99-452e-929a-bfd617896b4a",
   "metadata": {},
   "outputs": [],
   "source": [
    "\n",
    "while x % 2 == 0:\n",
    "    x = x / 2\n",
    "#No output\n"
   ]
  },
  {
   "cell_type": "code",
   "execution_count": null,
   "id": "3d139ea4-e0a9-4058-afb5-0edfbc041224",
   "metadata": {},
   "outputs": [],
   "source": [
    "\n",
    "if x != 0:\n",
    "    while x % 2 == 0:\n",
    "        x = x / 2\n",
    "#No output\n"
   ]
  },
  {
   "cell_type": "code",
   "execution_count": null,
   "id": "2b480f0a-feb4-48e4-9f36-71aa6c3dda6b",
   "metadata": {},
   "outputs": [],
   "source": [
    "\n",
    "while x != 0 and x % 2 == 0:\n",
    "    x = x / 2\n",
    "#No output\n"
   ]
  },
  {
   "cell_type": "code",
   "execution_count": null,
   "id": "8eba0e57-54f2-4886-9335-2b4798f02c52",
   "metadata": {},
   "outputs": [],
   "source": [
    "\n",
    "while True:\n",
    "    do_something_cool()\n",
    "    if user_requested_to_stop():\n",
    "        break\n",
    "#This code will give an error because do_something_cool is not defined\n"
   ]
  },
  {
   "cell_type": "markdown",
   "id": "db852684-76e4-4a9e-9cc9-2d90f51823de",
   "metadata": {},
   "source": [
    "\n",
    "## About this code\n",
    "\n",
    "This code block is an example snippet of code. In your code, you could have an infinite loop that looks something like this. In Python, we use the break keyword which you can see here to signal that the current loop should stop running. We can use it not only to stop infinite loops but also to stop a loop early if the code has already achieved what's needed.\n"
   ]
  },
  {
   "cell_type": "code",
   "execution_count": null,
   "id": "7de51b0f-7756-4ce7-98df-f7e47b3c88b9",
   "metadata": {},
   "outputs": [],
   "source": []
  }
 ],
 "metadata": {
  "kernelspec": {
   "display_name": "Python 3 (ipykernel)",
   "language": "python",
   "name": "python3"
  },
  "language_info": {
   "codemirror_mode": {
    "name": "ipython",
    "version": 3
   },
   "file_extension": ".py",
   "mimetype": "text/x-python",
   "name": "python",
   "nbconvert_exporter": "python",
   "pygments_lexer": "ipython3",
   "version": "3.11.7"
  }
 },
 "nbformat": 4,
 "nbformat_minor": 5
}
