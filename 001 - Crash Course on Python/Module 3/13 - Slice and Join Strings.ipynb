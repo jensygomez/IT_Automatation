{
 "cells": [
  {
   "cell_type": "markdown",
   "id": "cb4a4a63-a8f7-41ae-ade8-0f07d106299e",
   "metadata": {},
   "source": [
    "**Author:**       Jensy Gregorio Gómez \n",
    "---------------------------------------\n",
    "**Profession:**  IT Support Analyst  \n",
    "**Date:**         13 Febrero 2024     \n",
    "**Location:**     Vila Isabel, Curitiba/PR  \n",
    "\n",
    "\n",
    "---\n",
    "\n",
    "**Contacto:**\n",
    "\n",
    "- **Email:** [contact@jensygomez.us](mailto:contact@jensygomez.us)\n",
    "- **YouTube:** [Tu Canal de YouTube](https://www.youtube.com/@systechcwb826)\n",
    "- **LinkedIn:** [Tu Perfil de LinkedIn](https://www.linkedin.com/in/jensygomez/)\n",
    "\n",
    "\n"
   ]
  },
  {
   "cell_type": "markdown",
   "id": "f316a4e4-3efb-496d-a6a7-7ccd720a50f4",
   "metadata": {},
   "source": [
    "\n",
    "\n",
    "# Slice and Join Strings\n",
    "\n",
    "You’ve been learning all about strings. Now it’s time to learn how to extract parts of a string—what we call “slicing” a string—or create a longer string by joining two or more strings together.\n",
    "\n",
    "Slicing a string is just like taking a slice out of a homemade apple pie. When it comes to strings, slices can be as small or as big as you want. If you want to put two or more of those slices back together, you join them together end-to-end—in Python speak, you **“concatenate”** them—to make one bigger, single string.\n",
    "\n",
    "In this reading, you will learn when to slice and join strings, how to do it, and see some examples along the way.\n",
    "\n",
    "## **What is slicing and joining strings?**\n",
    "\n",
    "When you **slice** a string, you extract a subset of the original string—sometimes referred to as indexing a string. **Joining** strings is the process of linking two or more strings together to create a bigger string.\n",
    "\n",
    "## **How to slice strings**\n",
    "\n",
    "Bracket notation, **[ ]**, is used to specify the start of the index, ending index, or both. If you do not include the starting index, then the slice contains everything from the beginning of the string to the ending index. This is the same if you do not include the ending index. Let’s look at a couple of examples:\n",
    "\n",
    "**Pro tip:** Remember that the indexes in Python start with 0, and not 1.\n"
   ]
  },
  {
   "cell_type": "code",
   "execution_count": 6,
   "id": "7fc60f66-6115-4671-ae42-59bd3a6c0f95",
   "metadata": {},
   "outputs": [
    {
     "name": "stdout",
     "output_type": "stream",
     "text": [
      "G\n",
      "ting\n",
      "Earthlings\n",
      "Greet\n"
     ]
    }
   ],
   "source": [
    "\n",
    "string1 = \"Greetings, Earthlings\"\n",
    "print(string1[0])   # Prints “G”\n",
    "print(string1[4:8]) # Prints “ting”\n",
    "print(string1[11:]) # Prints “Earthlings”\n",
    "print(string1[:5])  # Prints “Greet”\n",
    "\n"
   ]
  },
  {
   "cell_type": "markdown",
   "id": "9e1dd122-3c6c-41b2-9f09-6365783f6ca8",
   "metadata": {},
   "source": [
    "\n",
    "\n",
    "**Note:** When you specify an ending index, Python slices everything up to, but not including the ending index. Notice in the second example the ending index is 8, but the characters sliced are 4–7.\n",
    "\n",
    "If your index is negative, Python counts back from the end of the string instead of the beginning.\n"
   ]
  },
  {
   "cell_type": "code",
   "execution_count": null,
   "id": "e02d74a8-05af-41d3-929c-977a42b4b9da",
   "metadata": {},
   "outputs": [],
   "source": [
    "\n",
    "print(string1[-10:])     # Prints “Earthlings” again\n"
   ]
  },
  {
   "cell_type": "markdown",
   "id": "dacede5b-b0a9-4294-b4c5-7b0e5e52144a",
   "metadata": {},
   "source": [
    "\n",
    "If your index is beyond the end of the string, Python returns an empty string.\n"
   ]
  },
  {
   "cell_type": "code",
   "execution_count": null,
   "id": "2563cbbe-b7a5-4d54-9807-0a51e357824a",
   "metadata": {},
   "outputs": [],
   "source": [
    "\n",
    "print(string1[55:])     # Prints “” \n"
   ]
  },
  {
   "cell_type": "markdown",
   "id": "56dbc33a-4887-4c37-b19f-9d29b6f72af5",
   "metadata": {},
   "source": [
    "\n",
    "An optional way to slice an index is by the **stride** argument, indicated by using a double colon. This allows you to skip over the corresponding number of characters in your index, or if you’re using a negative *stride*, the string prints backwards.\n"
   ]
  },
  {
   "cell_type": "code",
   "execution_count": 7,
   "id": "632ff442-6d6b-40ee-8520-1875f269467b",
   "metadata": {},
   "outputs": [
    {
     "ename": "SyntaxError",
     "evalue": "invalid non-printable character U+00A0 (2648858369.py, line 1)",
     "output_type": "error",
     "traceback": [
      "\u001b[0;36m  Cell \u001b[0;32mIn[7], line 1\u001b[0;36m\u001b[0m\n\u001b[0;31m    print(string1[0::2])    # Prints “Getns atlns”\u001b[0m\n\u001b[0m                        ^\u001b[0m\n\u001b[0;31mSyntaxError\u001b[0m\u001b[0;31m:\u001b[0m invalid non-printable character U+00A0\n"
     ]
    }
   ],
   "source": [
    "\n",
    "print(string1[0::2])    # Prints “Getns atlns”\n",
    "print(string1[::-1])    # Prints “sgnilhtraE ,sgniteerG”\n"
   ]
  },
  {
   "cell_type": "markdown",
   "id": "af221075-8f7c-4a30-92eb-d34b5717cdb1",
   "metadata": {},
   "source": [
    "\n",
    "\n",
    "## **How to join strings**\n",
    "\n",
    "To join strings in Python, you use the plus operator, **+** , just as if you were adding two numbers together. The following example joins three strings together.\n"
   ]
  },
  {
   "cell_type": "code",
   "execution_count": 8,
   "id": "ba7ba15f-6908-431f-a5f4-9b82f71a0335",
   "metadata": {},
   "outputs": [
    {
     "name": "stdout",
     "output_type": "stream",
     "text": [
      "Hello world\n"
     ]
    }
   ],
   "source": [
    "\n",
    "print(\"Hello\" + \" \" + \"world\") #Prints “Hello world”\n"
   ]
  },
  {
   "cell_type": "markdown",
   "id": "df447a69-667a-4977-a781-d366c689dd5a",
   "metadata": {},
   "source": [
    "\n",
    "\n",
    "You can also use the **join()** function, which is very useful when you want to concatenate elements from a list of strings with a specific delimiter. In the following example, we have a list of strings called greetings and we join them with a space using **.join(greetings)**. The **join()** function concatenates all the strings in the list greetings, and places a space between each string.\n"
   ]
  },
  {
   "cell_type": "code",
   "execution_count": null,
   "id": "d96ce08f-6508-44ef-bd92-1671b7aa9980",
   "metadata": {},
   "outputs": [],
   "source": [
    "\n",
    "greetings = [\"Hello\", \"world\"]\n",
    "print(\" \".join(greetings))  # Prints \"Hello world\"\n",
    "You can also concatenate a combination of strings and variables like in the following example.\n",
    "name = \"Alice\"\n",
    "print(\"Hello, \" + name + \"!\")  # Prints \"Hello, Alice!\"\n"
   ]
  },
  {
   "cell_type": "markdown",
   "id": "4c1df9fe-9efa-41ad-8545-9e28f1fead3e",
   "metadata": {},
   "source": [
    "\n",
    "## **How to combine slicing and joining strings**\n",
    "\n",
    "Now you know how to slice strings and join strings. Now, let’s put the two operations together by taking an unformatted phone number, 2025551212, and return it as a properly formatted U.S. number. In this example, we’ll use **phonenum** to refer to the unformatted phone number.\n"
   ]
  },
  {
   "cell_type": "code",
   "execution_count": null,
   "id": "f75413da-a934-4c34-b400-68ec1fcb16ca",
   "metadata": {},
   "outputs": [],
   "source": [
    "\n",
    "# The first 3 digits are the area code:\n",
    "  area_code = \"(\" + phonenum[:3] + \")\"\n"
   ]
  },
  {
   "cell_type": "code",
   "execution_count": null,
   "id": "148ef1a9-463b-4c80-b768-38c62c16acb2",
   "metadata": {},
   "outputs": [],
   "source": [
    "\n",
    "This function slices the first three numbers from the list.\n"
   ]
  },
  {
   "cell_type": "code",
   "execution_count": null,
   "id": "4bf5178b-be84-47bc-a510-8e8869d005a1",
   "metadata": {},
   "outputs": [],
   "source": [
    "\n",
    "# The next 3 digits are called the “exchange”:\n",
    "  exchange = phonenum[3:6]\n"
   ]
  },
  {
   "cell_type": "markdown",
   "id": "91c97b9b-fec6-4481-bb79-ddf7176b86fe",
   "metadata": {},
   "source": [
    "\n",
    "This function slices the numbers 4–6 from the list.\n"
   ]
  },
  {
   "cell_type": "code",
   "execution_count": null,
   "id": "e0f6abc5-a8ca-44ab-95e1-085dbdf35979",
   "metadata": {},
   "outputs": [],
   "source": [
    "\n",
    "# The next 3 digits are the line number:\n",
    "  line = phonenum[-4:]\n"
   ]
  },
  {
   "cell_type": "markdown",
   "id": "75c4e3c1-eb24-43fa-9eef-6cd3f3693b96",
   "metadata": {},
   "source": [
    "\n",
    " This negative index function counts backwards from the end of the numbers, slicing the last four numbers in the list.\n"
   ]
  },
  {
   "cell_type": "code",
   "execution_count": null,
   "id": "78aed0b3-c2c1-4863-b5c0-58f76078e4f8",
   "metadata": {},
   "outputs": [],
   "source": [
    "\n",
    "# Put the pieces back together into a nicely formatted string:\n",
    "  return area_code + \" \" + exchange + \"-\" + line\n"
   ]
  },
  {
   "cell_type": "code",
   "execution_count": null,
   "id": "58f02a9d-996d-4637-8fb1-ab6bd6adef92",
   "metadata": {},
   "outputs": [],
   "source": [
    "\n",
    "When you’re done, your code will look like this:\n"
   ]
  },
  {
   "cell_type": "code",
   "execution_count": 11,
   "id": "1c07cdaa-dbed-472e-86e8-ff48ee811c13",
   "metadata": {},
   "outputs": [],
   "source": [
    "\n",
    "def format_phone(phonenum):\n",
    "    if len(phonenum) != 10:\n",
    "        return \"Número de teléfono inválido\"\n",
    "\n",
    "    area_code = \"(\" + phonenum[:3] + \")\"\n",
    "    exchange = phonenum[3:6]\n",
    "    line = phonenum[-4:]\n",
    "    return area_code + \" \" + exchange + \"-\" + line\n",
    "\n"
   ]
  },
  {
   "cell_type": "markdown",
   "id": "10be7a71-d152-46c6-8114-aef81e6b48f6",
   "metadata": {},
   "source": [
    "\n",
    "Finally, we’ll use the print function to join the three previously sliced numbers together in the correct format. With this function definition, when you call **print(format_phone(\"2025551212\"))**, it will print (202) 555-1212.\n"
   ]
  },
  {
   "cell_type": "code",
   "execution_count": 12,
   "id": "5dcdc583-02d6-45f5-9b69-328b995ffebc",
   "metadata": {},
   "outputs": [
    {
     "name": "stdout",
     "output_type": "stream",
     "text": [
      "(202) 555-1212\n"
     ]
    }
   ],
   "source": [
    "\n",
    "print(format_phone(\"2025551212\")) # Outputs: (202) 555-1212\n"
   ]
  },
  {
   "cell_type": "markdown",
   "id": "01239a85-4e4d-4493-be78-978ac2735c00",
   "metadata": {},
   "source": [
    "\n",
    "## **Key takeaways**\n",
    "\n",
    "Slicing and joining strings can be beneficial to correctly format numbers, making it easier to manipulate data in a more efficient and meaningful way. Slicing strings allows you to access individual characters of a string by specifying the index. The index can be as long or as short as you like—you can even have a negative index, if counting backwards is your thing! Joining strings allows you to add two or more strings together, which is beneficial when needing to create a sentence or even properly format different numbers.\n"
   ]
  }
 ],
 "metadata": {
  "kernelspec": {
   "display_name": "Python 3 (ipykernel)",
   "language": "python",
   "name": "python3"
  },
  "language_info": {
   "codemirror_mode": {
    "name": "ipython",
    "version": 3
   },
   "file_extension": ".py",
   "mimetype": "text/x-python",
   "name": "python",
   "nbconvert_exporter": "python",
   "pygments_lexer": "ipython3",
   "version": "3.11.8"
  }
 },
 "nbformat": 4,
 "nbformat_minor": 5
}
