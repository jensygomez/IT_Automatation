{
 "cells": [
  {
   "cell_type": "markdown",
   "id": "c52ab844-442c-4927-91a0-46fc83bc68bc",
   "metadata": {},
   "source": [
    "**Author:**       Jensy Gregorio Gómez \n",
    "---------------------------------------\n",
    "**Profession:**  IT Support Analyst  \n",
    "**Date:**         12 Febrero 2024     \n",
    "**Location:**     Vila Isabel, Curitiba/PR  \n",
    "\n",
    "\n",
    "---\n",
    "\n",
    "**Contacto:**\n",
    "\n",
    "- **Email:** [contact@jensygomez.us](mailto:contact@jensygomez.us)\n",
    "- **YouTube:** [Tu Canal de YouTube](https://www.youtube.com/@systechcwb826)\n",
    "- **LinkedIn:** [Tu Perfil de LinkedIn](https://www.linkedin.com/in/jensygomez/)\n",
    "\n",
    "\n"
   ]
  },
  {
   "cell_type": "markdown",
   "id": "2b6434df-26ac-488b-a20d-d1cfa96ad6d9",
   "metadata": {},
   "source": [
    "\n",
    "# A Closer Look at the Range() Function\n",
    "\n",
    "The **in** keyword, when used with the **range()** function, generates a sequence of integer numbers, which can be used with a **for** loop to control the start point, the end point, and the incremental values of the loop.\n",
    "\n",
    "**Syntax:**"
   ]
  },
  {
   "cell_type": "code",
   "execution_count": null,
   "id": "6f0e463f-0ccf-4771-a950-c4c35e236fb2",
   "metadata": {},
   "outputs": [],
   "source": [
    "\n",
    "for n in range(x, y, z):\n",
    "    print(n)\n",
    "    "
   ]
  },
  {
   "cell_type": "markdown",
   "id": "4e37472b-3bf3-4edf-9e6d-766d8563827b",
   "metadata": {},
   "source": [
    "\n",
    "The **range()** function uses a set of indices that point to integer values, which start at the number 0. The numeric values 0, 1, 2, 3, 4 correlate to ordinal index positions 1st, 2nd, 3rd, 4th, 5th. So, when a range call to the 5th index position is made using **range(5)** the index is pointing to the numeric value of 4.\n",
    "\n",
    "| Index Number | 1st index | 2nd index | 3rd index | 4th index | 5th index |\n",
    "| --- | --- | --- | --- | --- | --- |\n",
    "| Value | 0   | 1   | 2   | 3   | 4   |\n",
    "\n",
    "The **range()** function can take up to three parameters:  **range(start, stop, step)** \n",
    "\n",
    "**Start**  The first item in the **range()** function parameters is the starting position of the range. The default is the first index position, which points to the numeric value 0. This value is included in the range. \n",
    "\n",
    "**Stop** The second item in the **range()** function parameters is the ending position of the range. There is no default index position, so this index number must be given to the **range()** parameters. For example, the line **for n in range(4)** will loop 4 times with the **n** variable starting at 0 and looping 4 index positions: 0, 1, 2, 3. As you can see, **range(4)** (meaning index position 4) ends at the numeric value 3. In Python, this structure may be phrased as “the end-of-range value is *excluded* from the range.” In order to include the value 4 in  **range(4)**, the syntax can be written as **range(4+1)** or **range(5)**. Both of these ranges will produce the numeric values 0, 1, 2, 3, 4.\n",
    "\n",
    "**Step** The third item in the **range()** function parameters is the incremental step value. The default increment is +1. The default value can be overridden with any valid increment. However, note that the loop will still end at the end-of-range index position, regardless of the incremental value. For example, if you have a loop with the range: **for n in range(1, 5, 6)**, the range will only produce the numeric value 1. This is because the incremental value of 6 exceeded the ending point of the range.\n",
    "\n",
    "## Practice Exercise\n",
    "\n",
    "You can use the code block below to test the values of **n** with various **range()** parameters. A few suggestions to test are:\n",
    "\n",
    "**range(stop)**\n",
    "\n",
    "- range(3) \n",
    "  \n",
    "- range(3+1) \n",
    "  \n",
    "\n",
    "**range(start, stop)**\n",
    "\n",
    "- range(2, 6)     \n",
    "  \n",
    "- range(5,10+1) \n",
    "  \n",
    "\n",
    "**range(start, stop, step)**\n",
    "\n",
    "- range(4, 15+1, 2)         \n",
    "  \n",
    "- range(2*2, 25, 3+2) \n",
    "  \n",
    "- range(10, 0, -2)\n"
   ]
  },
  {
   "cell_type": "code",
   "execution_count": 1,
   "id": "bfcf5a23-6842-4d1f-8de9-508d2e841ffd",
   "metadata": {},
   "outputs": [
    {
     "name": "stdout",
     "output_type": "stream",
     "text": [
      "1\n"
     ]
    }
   ],
   "source": [
    "\n",
    "for n in range(1, 5, 6):  \n",
    "    print(n)\n",
    "    "
   ]
  },
  {
   "cell_type": "markdown",
   "id": "69cd13d5-617e-4c91-966d-143fc26863fb",
   "metadata": {},
   "source": [
    "\n",
    "## Examples of the range() function in code:\n",
    "\n",
    "**Example 1**\n"
   ]
  },
  {
   "cell_type": "code",
   "execution_count": null,
   "id": "545f74da-af1f-4bb7-afd0-5cb03fd37448",
   "metadata": {},
   "outputs": [],
   "source": [
    "\n",
    "# This loop iterates on the value of the \"n\" variable in a range\n",
    "# of 0 to 10 (the value of the end-of-range index 11 is excluded).\n",
    "# The incremental value for the loop is 2. The print() function will \n",
    "# output the resulting value of \"n\" as the loop counts from 0 to 10 \n",
    "# (end-of-range index 11) in incremental steps of 2. This is one \n",
    "# method that can be used in Python to print a list of even numbers.\n",
    "\n",
    "\n",
    "for n in range(0,11,2):\n",
    "    print(n)\n",
    "\n",
    "\n",
    "# The loop should print 0, 2, 4, 6, 8, 10\n"
   ]
  },
  {
   "cell_type": "markdown",
   "id": "57bc6c41-8bf7-42e3-bc86-0d1cb93f9281",
   "metadata": {},
   "source": [
    "\n",
    "**Example 2**\n"
   ]
  },
  {
   "cell_type": "code",
   "execution_count": null,
   "id": "c2f7df4e-9938-4777-b643-1fd05402e7d1",
   "metadata": {},
   "outputs": [],
   "source": [
    "\n",
    "# This loop iterates on the value of the \"number\" variable in a range\n",
    "# of 2 to 7+1 (the value of the end-of-range index 7 is excluded, so \n",
    "# +1 has been added to the parameter to include the numeric value 7 in \n",
    "# the range). The incremental value for the loop is the default of +1.\n",
    "# The print() function will output the resulting value of \"number\" \n",
    "# multiplied by 3.\n",
    "\n",
    "\n",
    "for number in range(2,7+1):\n",
    "    print(number*3)\n",
    "\n",
    "\n",
    "# The loop should print 6, 9, 12, 15, 18, 21\n"
   ]
  },
  {
   "cell_type": "markdown",
   "id": "0270447b-d745-4a82-9b64-52bc4a84cd57",
   "metadata": {},
   "source": [
    "\n",
    "**Example 3**\n"
   ]
  },
  {
   "cell_type": "code",
   "execution_count": null,
   "id": "8a72eb5e-6f53-4df5-9b18-0efd2eff77d7",
   "metadata": {},
   "outputs": [],
   "source": [
    "\n",
    "# This loop iterates on the value of the \"x\" variable in a range\n",
    "# of 2 to -1 (the end-of-range index -2 is excluded). The third \n",
    "# parameter is also a negative number, making it a decremental value\n",
    "# of -1. The print() function will output the resulting value of\n",
    "# \"x\" as it starts at 2 and counts down to -1 (index -2).\n",
    "\n",
    "\n",
    "for x in range(2, -2, -1):\n",
    "    print(x)\n",
    "\n",
    "\n",
    "# The loop should print 2, 1, 0, -1\n"
   ]
  },
  {
   "cell_type": "markdown",
   "id": "c049cf64-0106-4034-8ade-41877293fe71",
   "metadata": {},
   "source": [
    "\n",
    "\n",
    "# Key takeaways\n",
    "\n",
    "The roles of the **range(start, stop, step)** function parameters are:\n",
    "\n",
    "-   **Start** - Beginning of range\n",
    "    \n",
    "    -   value included in range\n",
    "        \n",
    "    -   default = 0\n",
    "        \n",
    "-   **Stop** - End of range\n",
    "    \n",
    "    -   value excluded from range (to include, use stop+1)\n",
    "        \n",
    "    -   no default\n",
    "        \n",
    "    -   must provide the ending index number\n",
    "        \n",
    "-   **Step** - Incremental value\n",
    "    \n",
    "    -   default = 1\n",
    "        \n",
    "\n",
    "# Resources for more information\n",
    "\n",
    "-   [Python range() function](https://www.geeksforgeeks.org/python-range-function/) - This site provides some helpful visualizations for the range index positions. It also offers multiple **for** x **in**  **range()** examples and practice exercises.\n",
    "    \n",
    "\n",
    "For additional Python practice, the following links will take you to several popular online interpreters and codepads:\n",
    "\n",
    "-   [Welcome to Python](https://www.python.org/shell/)\n",
    "    \n",
    "-   [Online Python Interpreter](https://www.onlinegdb.com/online_python_interpreter)\n",
    "    \n",
    "-   [Create a new Repl](https://repl.it/languages/python3)\n",
    "    \n",
    "-   [Online Python-3 Compiler (Interpreter)](https://www.tutorialspoint.com/execute_python3_online.php)\n",
    "    \n",
    "-   [Compile Python 3 Online](https://rextester.com/l/python3_online_compiler)\n",
    "    \n",
    "-   [Your Python Trinket](https://trinket.io/python3)\n",
    "                                                                                                                                    "
   ]
  }
 ],
 "metadata": {
  "kernelspec": {
   "display_name": "Python 3 (ipykernel)",
   "language": "python",
   "name": "python3"
  },
  "language_info": {
   "codemirror_mode": {
    "name": "ipython",
    "version": 3
   },
   "file_extension": ".py",
   "mimetype": "text/x-python",
   "name": "python",
   "nbconvert_exporter": "python",
   "pygments_lexer": "ipython3",
   "version": "3.11.7"
  }
 },
 "nbformat": 4,
 "nbformat_minor": 5
}
