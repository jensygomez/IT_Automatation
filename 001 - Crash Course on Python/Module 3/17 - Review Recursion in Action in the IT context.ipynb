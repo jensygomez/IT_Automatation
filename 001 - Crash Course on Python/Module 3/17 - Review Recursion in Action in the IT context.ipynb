{
 "cells": [
  {
   "cell_type": "markdown",
   "id": "57f90537-ebe2-45f9-b39e-6633223e1d5e",
   "metadata": {},
   "source": [
    "**Author:**       Jensy Gregorio Gómez \n",
    "---------------------------------------\n",
    "**Profession:**  IT Support Analyst  \n",
    "**Date:**         14 Febrero 2024     \n",
    "**Location:**     Vila Isabel, Curitiba/PR  \n",
    "\n",
    "\n",
    "---\n",
    "\n",
    "**Contacto:**\n",
    "\n",
    "- **Email:** [contact@jensygomez.us](mailto:contact@jensygomez.us)\n",
    "- **YouTube:** [Tu Canal de YouTube](https://www.youtube.com/@systechcwb826)\n",
    "- **LinkedIn:** [Tu Perfil de LinkedIn](https://www.linkedin.com/in/jensygomez/)\n",
    "\n",
    "\n"
   ]
  },
  {
   "cell_type": "markdown",
   "id": "f8226f1b-47bb-4f05-b752-4c0b2227bf47",
   "metadata": {},
   "source": [
    "\n",
    "\n",
    "# Review: Recursion in Action in the IT context\n",
    "\n",
    "This reading contains the code used in the instructional videos from [**Recursion in the IT context**](https://www.coursera.org/learn/python-crash-course/lecture/pQhjw/recursion-in-action-in-the-it-context)\n",
    "\n",
    "## **Introduction**\n",
    "\n",
    "This follow-along reading is organized to match the content in the video that follows. It contains the same code shown in the next video. These code blocks will provide you with the opportunity to see how the code is written, allow you to practice running it, and can be used as a reference to refer back to.\n",
    "\n",
    "You can follow along in the reading as the instructor discusses the code or review the code after watching the video.\n"
   ]
  },
  {
   "cell_type": "code",
   "execution_count": null,
   "id": "b33e9732-831a-4a2d-b85a-64f5f333c25b",
   "metadata": {},
   "outputs": [],
   "source": [
    "\n",
    "def factorial(n):\n",
    "  if n < 2:\n",
    "    return 1\n",
    "  return n * factorial(n-1)\n",
    "\n",
    "factorial(1000)\n",
    "\n",
    "#this will produce an error\n"
   ]
  },
  {
   "cell_type": "code",
   "execution_count": null,
   "id": "42058989-3133-4e4e-8de1-ac99de761ea0",
   "metadata": {},
   "outputs": [],
   "source": []
  }
 ],
 "metadata": {
  "kernelspec": {
   "display_name": "Python 3 (ipykernel)",
   "language": "python",
   "name": "python3"
  },
  "language_info": {
   "codemirror_mode": {
    "name": "ipython",
    "version": 3
   },
   "file_extension": ".py",
   "mimetype": "text/x-python",
   "name": "python",
   "nbconvert_exporter": "python",
   "pygments_lexer": "ipython3",
   "version": "3.11.8"
  }
 },
 "nbformat": 4,
 "nbformat_minor": 5
}
