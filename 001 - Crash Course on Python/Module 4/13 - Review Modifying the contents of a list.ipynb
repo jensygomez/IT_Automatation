{
 "cells": [
  {
   "cell_type": "markdown",
   "metadata": {},
   "source": [
    "**Author:**       Jensy Gregorio Gómez \n",
    "---------------------------------------\n",
    "**Profession:**  IT Support Analyst  \n",
    "**Date:**         21 Febrero 2024     \n",
    "**Location:**     Vila Isabel, Curitiba/PR  \n",
    "\n",
    "\n",
    "---\n",
    "\n",
    "**Contacto:**\n",
    "\n",
    "- **Email:** [contact@jensygomez.us](mailto:contact@jensygomez.us)\n",
    "- **YouTube:** [Tu Canal de YouTube](https://www.youtube.com/@systechcwb826)\n",
    "- **LinkedIn:** [Tu Perfil de LinkedIn](https://www.linkedin.com/in/jensygomez/)\n",
    "\n",
    "\n"
   ]
  },
  {
   "cell_type": "markdown",
   "metadata": {},
   "source": [
    "\n",
    "\n",
    "# Review: Modifying the contents of a list\n",
    "\n",
    "This reading contains the code used in the instructional videos from [**Modifying the contents of a list**](https://www.coursera.org/learn/python-crash-course/supplement/v07vB/modifying-lists)\n",
    "\n",
    "## **Introduction**\n",
    "\n",
    "This follow-along reading is organized to match the content in the video that follows. It contains the same code shown in the next video. These code blocks will provide you with the opportunity to see how the code is written, allow you to practice running it, and can be used as a reference to refer back to.\n",
    "\n",
    "You can follow along in the reading as the instructor discusses the code or review the code after watching the video.\n"
   ]
  },
  {
   "cell_type": "code",
   "execution_count": null,
   "metadata": {},
   "outputs": [],
   "source": [
    "\n",
    "# We create a list called 'fruits' containing some fruits.\n",
    "fruits = [\"Pineapple\", \"Banana\", \"Apple\", \"Melon\"]\n",
    "\n",
    "# We add a new fruit (\"Kiwi\") to the list using the 'append' method.\n",
    "fruits.append(\"Kiwi\")\n",
    "\n",
    "# We print the updated list of fruits.\n",
    "print(fruits)\n"
   ]
  },
  {
   "cell_type": "code",
   "execution_count": null,
   "metadata": {},
   "outputs": [],
   "source": [
    "\n",
    "# Create a list named 'fruits' containing some fruit names.\n",
    "fruits = [\"Pineapple\", \"Banana\", \"Apple\", \"Melon\"]\n",
    "\n",
    "# Insert the fruit \"Orange\" at index 0 using the 'insert' method.\n",
    "fruits.insert(0, \"Orange\")\n",
    "\n",
    "# Print the updated list of fruits.\n",
    "print(fruits)\n"
   ]
  },
  {
   "cell_type": "code",
   "execution_count": null,
   "metadata": {},
   "outputs": [],
   "source": [
    "\n",
    "# Create a list named 'fruits' containing some fruit names.\n",
    "fruits = [\"Pineapple\", \"Banana\", \"Apple\", \"Melon\"]\n",
    "\n",
    "# Insert the fruit \"Orange\" at index 0 using the 'insert' method.\n",
    "# Since there is no index 25, this will simply append \"Peach\" to the end of the list.\n",
    "fruits.insert(0, \"Orange\")\n",
    "fruits.insert(25, \"Peach\")\n",
    "\n",
    "# Print the updated list of fruits.\n",
    "print(fruits)\n"
   ]
  },
  {
   "cell_type": "code",
   "execution_count": null,
   "metadata": {},
   "outputs": [],
   "source": [
    "\n",
    "# Create a list named 'fruits' containing some fruit names.\n",
    "fruits = [\"Pineapple\", \"Banana\", \"Apple\", \"Melon\"]\n",
    "\n",
    "# Insert the fruit \"Orange\" at index 0 using the 'insert' method.\n",
    "# Since there is no index 25, this will simply append \"Peach\" to the end of the list.\n",
    "fruits.insert(0, \"Orange\")\n",
    "fruits.insert(25, \"Peach\")\n",
    "\n",
    "# Remove the fruit \"Melon\" from the list using the 'remove' method.\n",
    "fruits.remove(\"Melon\")\n",
    "\n",
    "# Print the updated list of fruits.\n",
    "print(fruits)\n"
   ]
  },
  {
   "cell_type": "code",
   "execution_count": null,
   "metadata": {},
   "outputs": [],
   "source": [
    "\n",
    "# Create a list named 'fruits' containing some fruit names.\n",
    "fruits = [\"Pineapple\", \"Banana\", \"Apple\", \"Melon\"]\n",
    "\n",
    "# Try to remove the fruit \"Pear\" from the list using the 'remove' method.\n",
    "# This line will throw a ValueError since \"Pear\" is not in the list.\n",
    "fruits.remove(\"Pear\")\n",
    "\n"
   ]
  },
  {
   "cell_type": "code",
   "execution_count": null,
   "metadata": {},
   "outputs": [],
   "source": [
    "\n",
    "# Create a list named 'fruits' containing some fruit names.\n",
    "fruits = [\"Pineapple\", \"Banana\", \"Apple\", \"Melon\"]\n",
    "\n",
    "# Insert the fruit \"Orange\" at index 0 using the 'insert' method.\n",
    "# Since there is no index 25, this will simply append \"Peach\" to the end of the list.\n",
    "fruits.insert(0, \"Orange\")\n",
    "fruits.insert(25, \"Peach\")\n",
    "\n",
    "# Remove the fruit \"Melon\" from the list using the 'remove' method.\n",
    "fruits.remove(\"Melon\")\n",
    "\n",
    "# Remove the element at index 3 (which is \"Melon\" after \"Orange\" is inserted) using the 'pop' method.\n",
    "fruits.pop(3)\n",
    "\n",
    "# Print the updated list of fruits.\n",
    "print(fruits)\n"
   ]
  },
  {
   "cell_type": "code",
   "execution_count": null,
   "metadata": {},
   "outputs": [],
   "source": [
    "\n",
    "# Create a list named 'fruits' containing some fruit names.\n",
    "fruits = [\"Pineapple\", \"Banana\", \"Apple\", \"Melon\"]\n",
    "\n",
    "# Insert the fruit \"Orange\" at index 0 using the 'insert' method.\n",
    "# Since there is no index 25, this will simply append \"Peach\" to the end of the list.\n",
    "fruits.insert(0, \"Orange\")\n",
    "fruits.insert(25, \"Peach\")\n",
    "\n",
    "# Remove the fruit \"Melon\" from the list using the 'remove' method.\n",
    "fruits.remove(\"Melon\")\n",
    "\n",
    "# Remove the element at index 3 (which is \"Melon\" after \"Orange\" is inserted) using the 'pop' method.\n",
    "fruits.pop(3)\n",
    "\n",
    "# Replace the element at index 2 with \"Strawberry\".\n",
    "fruits[2] = \"Strawberry\"\n",
    "\n",
    "# Print the updated list of fruits.\n",
    "print(fruits)\n"
   ]
  }
 ],
 "metadata": {
  "kernelspec": {
   "display_name": "Python 3 (ipykernel)",
   "language": "python",
   "name": "python3"
  },
  "language_info": {
   "codemirror_mode": {
    "name": "ipython",
    "version": 3
   },
   "file_extension": ".py",
   "mimetype": "text/x-python",
   "name": "python",
   "nbconvert_exporter": "python",
   "pygments_lexer": "ipython3",
   "version": "3.11.8"
  }
 },
 "nbformat": 4,
 "nbformat_minor": 2
}
