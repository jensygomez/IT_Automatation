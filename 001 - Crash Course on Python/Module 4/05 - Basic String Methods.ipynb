{
 "cells": [
  {
   "cell_type": "markdown",
   "metadata": {},
   "source": [
    "**Author:**       Jensy Gregorio Gómez \n",
    "---------------------------------------\n",
    "**Profession:**  IT Support Analyst  \n",
    "**Date:**         17 Febrero 2024     \n",
    "**Location:**     Vila Isabel, Curitiba/PR  \n",
    "\n",
    "\n",
    "---\n",
    "\n",
    "**Contacto:**\n",
    "\n",
    "- **Email:** [contact@jensygomez.us](mailto:contact@jensygomez.us)\n",
    "- **YouTube:** [Tu Canal de YouTube](https://www.youtube.com/@systechcwb826)\n",
    "- **LinkedIn:** [Tu Perfil de LinkedIn](https://www.linkedin.com/in/jensygomez/)\n",
    "\n",
    "\n"
   ]
  },
  {
   "cell_type": "markdown",
   "metadata": {},
   "source": [
    "\n",
    "\n",
    "# Basic String Methods\n",
    "\n",
    "In Python, strings are immutable. This means that they can't be modified. So if we wanted to fix a typo in a string, we can't simply modify the wrong character. We would have to create a new string with the typo corrected. We can also assign a new value to the variable holding our string.\n",
    "\n",
    "If we aren't sure what the index of our typo is, we can use the string method _index_ to locate it and return the index. Let's imagine we have the string **\"lions tigers and bears\"** in the variable **animals**. We can locate the index that contains the letter **g** using _animals.index(\"g\")_, which will return the index; in this case 8. We can also use substrings to locate the index where the substring begins. _animals.index(\"bears\")_ would return 17, since that’s the start of the substring. If there’s more than one match for a substring, the index method will return the first match. If we try to locate a substring that doesn't exist in the string, we’ll receive a **ValueError** explaining that the substring was not found.\n"
   ]
  },
  {
   "cell_type": "code",
   "execution_count": 4,
   "metadata": {},
   "outputs": [
    {
     "data": {
      "text/plain": [
       "8"
      ]
     },
     "execution_count": 4,
     "metadata": {},
     "output_type": "execute_result"
    }
   ],
   "source": [
    "\n",
    "animals = \"lions tigers and bears\"\n",
    "animals.index(\"g\")\n"
   ]
  },
  {
   "cell_type": "code",
   "execution_count": 3,
   "metadata": {},
   "outputs": [
    {
     "data": {
      "text/plain": [
       "17"
      ]
     },
     "execution_count": 3,
     "metadata": {},
     "output_type": "execute_result"
    }
   ],
   "source": [
    "\n",
    "animals = \"lions tigers and bears\"\n",
    "animals.index(\"bears\")\n"
   ]
  },
  {
   "cell_type": "markdown",
   "metadata": {},
   "source": [
    "\n",
    "\n",
    "We can avoid a ValueError by first checking if the substring exists in the string. This can be done using the _**in**_ keyword. We saw this keyword earlier when we covered _for_ loops. In this case, it's a conditional that will be either True or False. If the substring is found in the string, it will be True. If the substring is not found in the string, it will be False. Using our previous variable **animals**, we can do **\"horses\"**  **in animals** to check if the substring \"horses\" is found in our variable. In this case, it would evaluate to False, since horses aren’t included in our example string. If we did **\"tigers\" in animals**, we'd get True, since this substring is contained in our string.\n"
   ]
  },
  {
   "cell_type": "code",
   "execution_count": 2,
   "metadata": {},
   "outputs": [
    {
     "data": {
      "text/plain": [
       "False"
      ]
     },
     "execution_count": 2,
     "metadata": {},
     "output_type": "execute_result"
    }
   ],
   "source": [
    "\n",
    "animals = \"lions tigers and bears\"\n",
    "\"horses\" in animals\n"
   ]
  },
  {
   "cell_type": "code",
   "execution_count": 1,
   "metadata": {},
   "outputs": [
    {
     "data": {
      "text/plain": [
       "True"
      ]
     },
     "execution_count": 1,
     "metadata": {},
     "output_type": "execute_result"
    }
   ],
   "source": [
    "\n",
    "animals = \"lions tigers and bears\"\n",
    "\"tigers\" in animals\n"
   ]
  }
 ],
 "metadata": {
  "kernelspec": {
   "display_name": "Python 3 (ipykernel)",
   "language": "python",
   "name": "python3"
  },
  "language_info": {
   "codemirror_mode": {
    "name": "ipython",
    "version": 3
   },
   "file_extension": ".py",
   "mimetype": "text/x-python",
   "name": "python",
   "nbconvert_exporter": "python",
   "pygments_lexer": "ipython3",
   "version": "3.12.2"
  }
 },
 "nbformat": 4,
 "nbformat_minor": 2
}
