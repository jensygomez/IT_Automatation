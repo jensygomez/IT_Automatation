{
 "cells": [
  {
   "cell_type": "markdown",
   "metadata": {},
   "source": [
    "**Author:**       Jensy Gregorio Gómez \n",
    "---------------------------------------\n",
    "**Profession:**  IT Support Analyst  \n",
    "**Date:**         18 Febrero 2024     \n",
    "**Location:**     Vila Isabel, Curitiba/PR  \n",
    "\n",
    "\n",
    "---\n",
    "\n",
    "**Contacto:**\n",
    "\n",
    "- **Email:** [contact@jensygomez.us](mailto:contact@jensygomez.us)\n",
    "- **YouTube:** [Tu Canal de YouTube](https://www.youtube.com/@systechcwb826)\n",
    "- **LinkedIn:** [Tu Perfil de LinkedIn](https://www.linkedin.com/in/jensygomez/)\n",
    "\n",
    "\n"
   ]
  },
  {
   "cell_type": "markdown",
   "metadata": {},
   "source": [
    "\n",
    "\n",
    "# Review: Formatting strings\n",
    "\n",
    "This reading contains the code used in the instructional videos from [**Formatting strings**](https://www.coursera.org/learn/python-crash-course/lecture/cx2nU/formatting-strings)\n",
    "\n",
    "## **Introduction**\n",
    "\n",
    "This follow-along reading is organized to match the content in the video that follows. It contains the same code shown in the next video. These code blocks will provide you with the opportunity to see how the code is written, allow you to practice running it, and can be used as a reference to refer back to.\n",
    "\n",
    "You can follow along in the reading as the instructor discusses the code or review the code after watching the video.\n"
   ]
  },
  {
   "cell_type": "code",
   "execution_count": null,
   "metadata": {},
   "outputs": [],
   "source": [
    "\n",
    "# Assigning a string value to the variable 'name'\n",
    "name = \"Manny\"\n",
    "\n",
    "# Calculating the length of the string stored in the variable 'name'\n",
    "# and multiplying it by 3, then assigning the result to the variable 'number'\n",
    "number = len(name) * 3\n",
    "\n",
    "# Printing a formatted string that includes the value of 'name'\n",
    "# and the calculated value of 'number'\n",
    "print(\"Hello {}, your lucky number is {}\".format(name, number))\n",
    "\n"
   ]
  },
  {
   "cell_type": "code",
   "execution_count": 2,
   "metadata": {},
   "outputs": [
    {
     "name": "stdout",
     "output_type": "stream",
     "text": [
      "Your lucky number is 15, Manny.\n"
     ]
    }
   ],
   "source": [
    "# Assigning a string value to the variable 'name'\n",
    "name = \"Manny\"\n",
    "\n",
    "# Printing a formatted string that includes the value of 'name'\n",
    "# and the calculated value of 'number'\n",
    "# Using named placeholders in the string\n",
    "# and passing values to those placeholders using the format() method\n",
    "print(\"Your lucky number is {number}, {name}.\".format(name=name, number=len(name)*3))\n"
   ]
  },
  {
   "cell_type": "code",
   "execution_count": null,
   "metadata": {},
   "outputs": [],
   "source": [
    "# Assigning a float value to the variable 'price'\n",
    "price = 7.5\n",
    "\n",
    "# Calculating the price with tax by multiplying the price by 1.09\n",
    "# and assigning the result to the variable 'with_tax'\n",
    "with_tax = price * 1.09\n",
    "\n",
    "# Printing the values of 'price' and 'with_tax' separated by a space\n",
    "print(price, with_tax)\n",
    "\n",
    "# Printing a formatted string that includes the base price and the price with tax\n",
    "# Using string formatting with placeholders \n",
    "# and the format() method to insert the values of 'price'\n",
    "# and 'with_tax' into the string\n",
    "print(\"Base price: ${:.2f}. With Tax: ${:.2f}\".format(price, with_tax))\n"
   ]
  },
  {
   "cell_type": "code",
   "execution_count": null,
   "metadata": {},
   "outputs": [],
   "source": [
    "def to_celsius(x):\n",
    "    \"\"\"\n",
    "    Convert temperature from Fahrenheit to Celsius.\n",
    "\n",
    "    Parameters:\n",
    "        x (float): Temperature in Fahrenheit.\n",
    "\n",
    "    Returns:\n",
    "        float: Temperature converted to Celsius.\n",
    "    \"\"\"\n",
    "    return (x - 32) * 5 / 9\n",
    "\n",
    "# Iterate over temperatures in Fahrenheit from 0 to 100 in increments of 10\n",
    "for x in range(0, 101, 10):\n",
    "    \"\"\"\n",
    "    Iterate over temperatures in Fahrenheit from 0 to 100 in increments of 10,\n",
    "    then print the temperature in Fahrenheit followed by its equivalent in Celsius,\n",
    "    using string formatting to ensure alignment and precision.\n",
    "    \"\"\"\n",
    "    print(\"{:>3} F | {:>6.2f} C\".format(x, to_celsius(x)))\n",
    "\n"
   ]
  }
 ],
 "metadata": {
  "kernelspec": {
   "display_name": "Python 3 (ipykernel)",
   "language": "python",
   "name": "python3"
  },
  "language_info": {
   "codemirror_mode": {
    "name": "ipython",
    "version": 3
   },
   "file_extension": ".py",
   "mimetype": "text/x-python",
   "name": "python",
   "nbconvert_exporter": "python",
   "pygments_lexer": "ipython3",
   "version": "3.12.2"
  }
 },
 "nbformat": 4,
 "nbformat_minor": 2
}
