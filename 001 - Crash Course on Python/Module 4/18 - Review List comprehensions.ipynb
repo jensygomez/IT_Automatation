{
 "cells": [
  {
   "cell_type": "markdown",
   "metadata": {},
   "source": [
    "**Author:**       Jensy Gregorio Gómez \n",
    "---------------------------------------\n",
    "**Profession:**  IT Support Analyst  \n",
    "**Date:**         21 Febrero 2024     \n",
    "**Location:**     Vila Isabel, Curitiba/PR  \n",
    "\n",
    "\n",
    "---\n",
    "\n",
    "**Contacto:**\n",
    "\n",
    "- **Email:** [contact@jensygomez.us](mailto:contact@jensygomez.us)\n",
    "- **YouTube:** [Tu Canal de YouTube](https://www.youtube.com/@systechcwb826)\n",
    "- **LinkedIn:** [Tu Perfil de LinkedIn](https://www.linkedin.com/in/jensygomez/)\n",
    "\n",
    "\n"
   ]
  },
  {
   "cell_type": "markdown",
   "metadata": {},
   "source": [
    "\n",
    "\n",
    "# Review: List comprehensions\n",
    "\n",
    "This reading contains the code used in the instructional videos from [**List comprehensions**](https://www.coursera.org/learn/python-crash-course/lecture/J9gYw/list-comprehensions)\n",
    "\n",
    "## **Introduction**\n",
    "\n",
    "This follow-along reading is organized to match the content in the video that follows. It contains the same code shown in the next video. These code blocks will provide you with the opportunity to see how the code is written, allow you to practice running it, and can be used as a reference to refer back to.\n",
    "\n",
    "You can follow along in the reading as the instructor discusses the code or review the code after watching the video.\n"
   ]
  },
  {
   "cell_type": "code",
   "execution_count": null,
   "metadata": {},
   "outputs": [],
   "source": [
    "\n",
    "multiples = []\n",
    "\n",
    "# Iterate over numbers from 1 to 10 (inclusive)\n",
    "for x in range(1, 11):\n",
    "    # Multiply each number by 7 and append the result to the 'multiples' list\n",
    "    multiples.append(x * 7)\n",
    "\n",
    "# Print the list of multiples\n",
    "print(multiples)\n"
   ]
  },
  {
   "cell_type": "code",
   "execution_count": null,
   "metadata": {},
   "outputs": [],
   "source": [
    "\n",
    "# Using list comprehension to generate a list of multiples of 7\n",
    "# Iterate over numbers from 1 to 10 (inclusive), multiply each number by 7\n",
    "# and store the result in the 'multiples' list\n",
    "multiples = [x * 7 for x in range(1, 11)]\n",
    "\n",
    "# Print the list of multiples\n",
    "print(multiples)\n"
   ]
  },
  {
   "cell_type": "code",
   "execution_count": null,
   "metadata": {},
   "outputs": [],
   "source": [
    "# Define a list of programming languages\n",
    "languages = [\"Python\", \"Perl\", \"Ruby\", \"Go\", \"Java\", \"C\"]\n",
    "\n",
    "# Using list comprehension to create a list of lengths of strings in the 'languages' list\n",
    "# Iterate over each string in the 'languages' list, calculate the length of each string,\n",
    "# and store the result in the 'lengths' list\n",
    "lengths = [len(language) for language in languages]\n",
    "\n",
    "# Print the list containing the lengths of the strings\n",
    "print(lengths)\n"
   ]
  },
  {
   "cell_type": "code",
   "execution_count": null,
   "metadata": {},
   "outputs": [],
   "source": [
    "# Using list comprehension to create a list of numbers divisible evenly by 3\n",
    "# Iterate over numbers from 0 to 100 (inclusive), and include only those numbers\n",
    "# that are divisible evenly by 3 in the 'z' list\n",
    "z = [x for x in range(0, 101) if x % 3 == 0]\n",
    "\n",
    "# Print the list containing numbers divisible evenly by 3\n",
    "print(z)\n"
   ]
  }
 ],
 "metadata": {
  "kernelspec": {
   "display_name": "Python 3 (ipykernel)",
   "language": "python",
   "name": "python3"
  }
 },
 "nbformat": 4,
 "nbformat_minor": 2
}
