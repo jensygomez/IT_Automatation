{
 "cells": [
  {
   "cell_type": "markdown",
   "metadata": {},
   "source": [
    "**Author:**       Jensy Gregorio Gómez \n",
    "---------------------------------------\n",
    "**Profession:**  IT Support Analyst  \n",
    "**Date:**         21 Febrero 2024     \n",
    "**Location:**     Vila Isabel, Curitiba/PR  \n",
    "\n",
    "\n",
    "---\n",
    "\n",
    "**Contacto:**\n",
    "\n",
    "- **Email:** [contact@jensygomez.us](mailto:contact@jensygomez.us)\n",
    "- **YouTube:** [Tu Canal de YouTube](https://www.youtube.com/@systechcwb826)\n",
    "- **LinkedIn:** [Tu Perfil de LinkedIn](https://www.linkedin.com/in/jensygomez/)\n",
    "\n",
    "\n"
   ]
  },
  {
   "cell_type": "markdown",
   "metadata": {},
   "source": [
    "\n",
    "\n",
    "# Review: Lists and tuples\n",
    "\n",
    "This reading contains the code used in the instructional videos from [**Lists and tuples**](https://www.coursera.org/lecture/python-crash-course/lists-and-tuples-jxAkv)\n",
    "\n",
    "## **Introduction**\n",
    "\n",
    "This follow-along reading is organized to match the content in the video that follows. It contains the same code shown in the next video. These code blocks will provide you with the opportunity to see how the code is written, allow you to practice running it, and can be used as a reference to refer back to.\n",
    "\n",
    "You can follow along in the reading as the instructor discusses the code or review the code after watching the video.\n"
   ]
  },
  {
   "cell_type": "code",
   "execution_count": null,
   "metadata": {},
   "outputs": [],
   "source": [
    "\n",
    "# Define a tuple named fullname containing the first name, middle initial,\n",
    "# and last name of a person.\n",
    "fullname = ('Grace', 'M', 'Hopper')\n"
   ]
  },
  {
   "cell_type": "code",
   "execution_count": null,
   "metadata": {},
   "outputs": [],
   "source": [
    "def convert_seconds(seconds):\n",
    "    \"\"\"\n",
    "    Convert a given number of seconds into hours, minutes, and remaining seconds.\n",
    "\n",
    "    Parameters:\n",
    "        seconds (int): The total number of seconds to be converted.\n",
    "\n",
    "    Returns:\n",
    "        tuple: A tuple containing three elements: hours, minutes, and remaining seconds.\n",
    "    \"\"\"\n",
    "    hours = seconds // 3600\n",
    "    minutes = (seconds - hours * 3600) // 60\n",
    "    remaining_seconds = seconds - hours * 3600 - minutes * 60\n",
    "    return hours, minutes, remaining_seconds\n",
    "\n",
    "result = convert_seconds(5000)\n",
    "result_type = type(result)\n",
    "print(\"Result:\", result)\n",
    "print(\"Type of result:\", result_type)\n"
   ]
  },
  {
   "cell_type": "code",
   "execution_count": null,
   "metadata": {},
   "outputs": [],
   "source": [
    "def convert_seconds(seconds):\n",
    "    \"\"\"\n",
    "    Convert a given number of seconds into hours, minutes, and remaining seconds.\n",
    "\n",
    "    Parameters:\n",
    "        seconds (int): The total number of seconds to be converted.\n",
    "\n",
    "    Returns:\n",
    "        tuple: A tuple containing three elements: hours, minutes, and remaining seconds.\n",
    "    \"\"\"\n",
    "    hours = seconds // 3600\n",
    "    minutes = (seconds - hours * 3600) // 60\n",
    "    remaining_seconds = seconds - hours * 3600 - minutes * 60\n",
    "    return hours, minutes, remaining_seconds\n",
    "\n",
    "# Call the convert_seconds function with an argument of 5000 seconds\n",
    "result = convert_seconds(5000)\n",
    "\n",
    "# Print the result\n",
    "print(result)\n"
   ]
  },
  {
   "cell_type": "code",
   "execution_count": null,
   "metadata": {},
   "outputs": [],
   "source": [
    "def convert_seconds(seconds):\n",
    "    \"\"\"\n",
    "    Convert a given number of seconds into hours, minutes, and remaining seconds.\n",
    "\n",
    "    Parameters:\n",
    "        seconds (int): The total number of seconds to be converted.\n",
    "\n",
    "    Returns:\n",
    "        tuple: A tuple containing three elements: hours, minutes, and remaining seconds.\n",
    "    \"\"\"\n",
    "    hours = seconds // 3600\n",
    "    minutes = (seconds - hours * 3600) // 60\n",
    "    remaining_seconds = seconds - hours * 3600 - minutes * 60\n",
    "    return hours, minutes, remaining_seconds\n",
    "\n",
    "# Call the convert_seconds function with an argument of 5000 seconds\n",
    "result = convert_seconds(5000)\n",
    "\n",
    "# Unpack the tuple returned by the function into individual variables\n",
    "hours, minutes, seconds = result\n",
    "\n",
    "# Print the converted time\n",
    "print(hours, minutes, seconds)\n"
   ]
  },
  {
   "cell_type": "code",
   "execution_count": null,
   "metadata": {},
   "outputs": [],
   "source": [
    "def convert_seconds(seconds):\n",
    "    \"\"\"\n",
    "    Convert a given number of seconds into hours, minutes, and remaining seconds.\n",
    "\n",
    "    Parameters:\n",
    "        seconds (int): The total number of seconds to be converted.\n",
    "\n",
    "    Returns:\n",
    "        tuple: A tuple containing three elements: hours, minutes, and remaining seconds.\n",
    "    \"\"\"\n",
    "    hours = seconds // 3600\n",
    "    minutes = (seconds - hours * 3600) // 60\n",
    "    remaining_seconds = seconds - hours * 3600 - minutes * 60\n",
    "    return hours, minutes, remaining_seconds\n",
    "\n",
    "# Call the convert_seconds function with an argument of 1000 seconds\n",
    "# Unpack the tuple returned by the function into individual variables\n",
    "hours, minutes, seconds = convert_seconds(1000)\n",
    "\n",
    "# Print the converted time\n",
    "print(hours, minutes, seconds)\n"
   ]
  }
 ],
 "metadata": {
  "kernelspec": {
   "display_name": "Python 3 (ipykernel)",
   "language": "python",
   "name": "python3"
  },
  "language_info": {
   "codemirror_mode": {
    "name": "ipython",
    "version": 3
   },
   "file_extension": ".py",
   "mimetype": "text/x-python",
   "name": "python",
   "nbconvert_exporter": "python",
   "pygments_lexer": "ipython3",
   "version": "3.11.8"
  }
 },
 "nbformat": 4,
 "nbformat_minor": 2
}
