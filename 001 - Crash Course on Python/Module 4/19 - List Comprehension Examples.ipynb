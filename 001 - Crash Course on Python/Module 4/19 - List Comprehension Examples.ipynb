{
 "cells": [
  {
   "cell_type": "markdown",
   "metadata": {},
   "source": [
    "**Author:**       Jensy Gregorio Gómez \n",
    "---------------------------------------\n",
    "**Profession:**  IT Support Analyst  \n",
    "**Date:**         22 Febrero 2024     \n",
    "**Location:**     Vila Isabel, Curitiba/PR  \n",
    "\n",
    "\n",
    "---\n",
    "\n",
    "**Contacto:**\n",
    "\n",
    "- **Email:** [contact@jensygomez.us](mailto:contact@jensygomez.us)\n",
    "- **YouTube:** [Tu Canal de YouTube](https://www.youtube.com/@systechcwb826)\n",
    "- **LinkedIn:** [Tu Perfil de LinkedIn](https://www.linkedin.com/in/jensygomez/)\n",
    "\n",
    "\n"
   ]
  },
  {
   "cell_type": "markdown",
   "metadata": {},
   "source": [
    "\n",
    "\n",
    "\n",
    "# List Comprehension Examples\n",
    "\n",
    "You can create a list from an iterable using a for loop, which is a useful way to iterate over an iterable:\n",
    "\n"
   ]
  },
  {
   "cell_type": "code",
   "execution_count": null,
   "metadata": {},
   "outputs": [],
   "source": [
    "\n",
    "# Create a new empty list to store processed results.\n",
    "new_list = []\n",
    "\n",
    "# Iterate over each element in the original list.\n",
    "for thing in list_of_things:\n",
    "    # Apply the function do_something to each element and append the result to the new list.\n",
    "    new_list.append(do_something(thing))\n",
    "\n"
   ]
  },
  {
   "cell_type": "markdown",
   "metadata": {},
   "source": [
    "\n",
    "\n",
    "There is also a more streamlined way to do this by using a list comprehension. A list comprehension allows you to create a new list from an iterable in a single line. This line achieves the same result as the previous for loop, but in a more concise way:\n",
    "\n",
    "    new_list = [do_something(thing) for thing in list_of_things]\n",
    "\n",
    "List comprehensions can be used with tuples in Python, too. Here is an example of a list of tuples. In this example each tuple will contain the numbers 1, 2, and 3. This code will create 5 sets of (1,2,3).\n"
   ]
  },
  {
   "cell_type": "code",
   "execution_count": null,
   "metadata": {},
   "outputs": [],
   "source": [
    "\n",
    "# Create a list of tuples where each tuple contains the numbers 1, 2, and 3.\n",
    "numbers = [(1, 2, 3) for _ in range(5)]\n"
   ]
  },
  {
   "cell_type": "markdown",
   "metadata": {},
   "source": [
    "\n",
    "\n",
    "## For  **loop vs. list comprehension**\n",
    "\n",
    "The two code blocks below compare performing the same process using a list comprehension and a **for** loop. The line **[ x*2 for x in range(1,11) ]** is a simple list comprehension. This single line of code iterates over a range from 1 to 10, multiplies each element in the range by 2, and ultimately creates a new list from all multiples of 2 from 2 to 20.\n",
    "\n",
    "The second block of code below is a for loop designed to carry out the same function as the list comprehension. The for loop, however, requires three lines of code.\n"
   ]
  },
  {
   "cell_type": "code",
   "execution_count": null,
   "metadata": {},
   "outputs": [],
   "source": [
    "### Simple List Comprehension\n",
    "print(\"List comprehension result:\")\n",
    "\n",
    "# The following list comprehension compacts several lines \n",
    "# of code into one line:\n",
    "print([x*2 for x in range(1,11)])\n",
    "\n",
    "### Long form for loop\n",
    "print(\"Long form code result:\")\n",
    "\n",
    "# The list comprehension above accomplishes the same result as\n",
    "# the long form version of the code shown below:\n",
    "my_list = []\n",
    "for x in range(1,11):\n",
    "    my_list.append(x*2)\n",
    "print(my_list)\n",
    "\n",
    "# Click Run to compare the two results.\n"
   ]
  },
  {
   "cell_type": "markdown",
   "metadata": {},
   "source": [
    "\n",
    "\n",
    "## **List comprehension with conditional statement**\n",
    "\n",
    "You can also use conditionals with list comprehensions to build even more complex and powerful statements. You can do this by appending an **if** statement to the end of the list comprehension. For example, [ **x for x in range(1,101) if x % 10 == 0 ]** generates a new list containing all the integers divisible by 10 from 1 to 100. The **if** statement evaluates each value in the range from 1 to 100 to check if it’s evenly divisible by 10. If it is, the number is added to a new list.\n"
   ]
  },
  {
   "cell_type": "code",
   "execution_count": null,
   "metadata": {},
   "outputs": [],
   "source": [
    "\n",
    "print(\"List comprehension result:\")\n",
    "print([x for x in range(1, 101) if x % 10 == 0])\n",
    "\n",
    "# The list comprehension above accomplishes the same result as\n",
    "# the long form version of the code:\n",
    "print(\"Long form code result:\")\n",
    "my_list = []\n",
    "for x in range(1, 101):\n",
    "    if x % 10 == 0:\n",
    "        my_list.append(x)\n",
    "print(my_list)\n",
    "\n",
    "# Click Run to observe the two results.\n"
   ]
  },
  {
   "cell_type": "markdown",
   "metadata": {},
   "source": [
    "\n",
    "\n",
    "\n",
    "List comprehensions can be really powerful, but they can also be complex, resulting in code that’s hard to read. Be careful when using them, because they might make it more difficult for someone else looking at your code to easily understand what the code is doing. It is a best practice to add descriptive comments about any list comprehensions used in your code. This helps to communicate the purpose of list comprehensions to other coders. Comments will also help you remember the goal of the code when performing future code additions and maintenance.\n",
    "\n",
    "## **Practice exercise**\n",
    "\n",
    "This exercise walks you through how to write a list comprehension to create a list of squared numbers (n*n or n^2). It needs to return a list of squares of consecutive numbers between “start” and “end” _inclusively_. For example, squares(2, 3) should return a list containing [4, 9].\n",
    "\n",
    "1.  The function receives the variables “start” and “end” through the function parameters.\n",
    "    \n",
    "2.  In the return line, start by entering the list brackets [ ].\n",
    "    \n",
    "3.  Between the brackets [ ], enter the arithmetic expression to square a variable “n”.\n",
    "    \n",
    "4.  To the right of the square expression, write a for loop that iterates over “n” in a range from the “start” to “end” variables.\n",
    "    \n",
    "5.  Ensure the “end” range value is included in the range() by adding 1 to it.\n",
    "    \n",
    "6.  Run your code to see if it works! If needed, the solution to this code is included in the “Study Guide: Lists and Tuples” reading under “Skill Group 2” (list comprehensions).\n",
    "\n"
   ]
  },
  {
   "cell_type": "code",
   "execution_count": null,
   "metadata": {},
   "outputs": [],
   "source": [
    "\n",
    "\n",
    "def squares(start, end):\n",
    "    return ___ \n",
    "\n",
    "\n",
    "print(squares(2, 3))    # Should print [4, 9]\n",
    "print(squares(1, 5))    # Should print [1, 4, 9, 16, 25]\n",
    "print(squares(0, 10))   # Should print [0, 1, 4, 9, 16, 25, 36, 49, 64, 81, 100]\n",
    "\n"
   ]
  },
  {
   "cell_type": "code",
   "execution_count": null,
   "metadata": {},
   "outputs": [],
   "source": [
    "\n",
    "def squares(start, end):\n",
    "    \"\"\"\n",
    "    Generates a list of squares of integers within the specified range.\n",
    "\n",
    "    Parameters:\n",
    "        start (int): The starting value of the range (inclusive).\n",
    "        end (int): The ending value of the range (inclusive).\n",
    "\n",
    "    Returns:\n",
    "        list: A list containing the squares of integers within the specified range.\n",
    "    \"\"\"\n",
    "    return [x * x for x in range(start, end + 1)]\n",
    "\n",
    "print(squares(2, 3))    # Should print [4, 9]\n",
    "print(squares(1, 5))    # Should print [1, 4, 9, 16, 25]\n",
    "print(squares(0, 10))   # Should print [0, 1, 4, 9, 16, 25, 36, 49, 64, 81, 100]\n"
   ]
  }
 ],
 "metadata": {
  "kernelspec": {
   "display_name": "Python 3 (ipykernel)",
   "language": "python",
   "name": "python3"
  },
  "language_info": {
   "codemirror_mode": {
    "name": "ipython",
    "version": 3
   },
   "file_extension": ".py",
   "mimetype": "text/x-python",
   "name": "python",
   "nbconvert_exporter": "python",
   "pygments_lexer": "ipython3",
   "version": "3.11.8"
  }
 },
 "nbformat": 4,
 "nbformat_minor": 2
}
