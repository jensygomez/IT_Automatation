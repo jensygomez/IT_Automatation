{
 "cells": [
  {
   "cell_type": "markdown",
   "metadata": {},
   "source": [
    "**Author:**       Jensy Gregorio Gómez \n",
    "---------------------------------------\n",
    "**Profession:**  IT Support Analyst  \n",
    "**Date:**         19 Febrero 2024     \n",
    "**Location:**     Vila Isabel, Curitiba/PR  \n",
    "\n",
    "\n",
    "---\n",
    "\n",
    "**Contacto:**\n",
    "\n",
    "- **Email:** [contact@jensygomez.us](mailto:contact@jensygomez.us)\n",
    "- **YouTube:** [Tu Canal de YouTube](https://www.youtube.com/@systechcwb826)\n",
    "- **LinkedIn:** [Tu Perfil de LinkedIn](https://www.linkedin.com/in/jensygomez/)\n",
    "\n",
    "\n"
   ]
  },
  {
   "cell_type": "markdown",
   "metadata": {},
   "source": [
    "\n",
    "# Formatting strings reference guide\n",
    "\n",
    "Most programs eventually need to provide some kind of output or feedback to the user. Formatting the output makes it easier to read.\n",
    "\n",
    "For example, imagine you are working in a farmer’s market and need to generate receipts for your customers. You need to weigh the items, calculate the total price for each item (weight times the price per pound), and then add sales tax to the subtotal. Your first attempt might look like this:"
   ]
  },
  {
   "cell_type": "code",
   "execution_count": null,
   "metadata": {},
   "outputs": [],
   "source": [
    "\n",
    "# Here are the items in the customer's basket. Each item is a tuple\n",
    "# of (item name, weight, price per pound).\n",
    "#\n",
    "basket = [\n",
    "    (\"Peaches\", 3.0, 2.99),\n",
    "    (\"Pears\", 5.0, 1.66),\n",
    "    (\"Plums\", 2.5, 3.99)\n",
    "]\n",
    "\n",
    "\n",
    "# Calculate the total price for each item (weight times price per pound)\n",
    "# and add them up to get a subtotal.\n",
    "#\n",
    "subtotal = 0.00\n",
    "for item in basket:\n",
    "  fruit, weight, unit_price = item\n",
    "  subtotal += (weight * unit_price)\n",
    "\n",
    "\n",
    "# Now calculate the sales tax and total bill.\n",
    "#\n",
    "tax_rate = 0.06625  # 6.625% sales tax in New Jersey\n",
    "tax_amt = subtotal * tax_rate\n",
    "total = subtotal + tax_amt\n",
    "\n",
    "\n",
    "# Print the receipt for the customer.\n",
    "#\n",
    "print(\"Subtotal:\", subtotal)\n",
    "print(\"Sales Tax:\", tax_amt)\n",
    "print(\"Total:\", total)\n"
   ]
  },
  {
   "cell_type": "markdown",
   "metadata": {},
   "source": [
    "If you run the above code, you’ll notice the output looks a bit messy:\n",
    "\n",
    "    Subtotal: 27.245\n",
    "    \n",
    "    Sales Tax: 1.8049812500000002\n",
    "    \n",
    "    Total: 29.049981250000002\n",
    "\n",
    "We’d much prefer the output to look like a real register receipt:\n",
    "\n",
    "    Subtotal: $27.25\n",
    "    \n",
    "    Sales Tax: $ 1.80\n",
    "    \n",
    "    Total: $29.05\n",
    "\n",
    "The way to do this in Python is by formatting strings in your output.\n",
    "\n",
    "Python offers different ways to format strings. In the [Formatting Strings video](https://www.coursera.org/learn/python-crash-course/lecture/cx2nU/formatting-strings), we explained the format() method. In this reading, we'll highlight three different ways of formatting strings. For this course you need to know only the format() method. But on the internet, you might find any of the three, so it's a good idea to know that the others exist.\n",
    "\n",
    "## **Using the**  format()  **method**\n",
    "\n",
    "The **format()** method takes a string containing special placeholders, called the format string, and replaces the special placeholder characters **{}** with the value of the arguments you pass. The arguments are converted to strings if they weren’t already. The number of arguments you pass must exactly match the number of placeholders in the format string:"
   ]
  },
  {
   "cell_type": "code",
   "execution_count": null,
   "metadata": {},
   "outputs": [],
   "source": [
    "\n",
    "fruit = \"peaches\"\n",
    "weight = 3.0\n",
    "per_pound = 2.99\n",
    "\n",
    "\n",
    "output = \"You are buying {} pounds of {} at {} per pound.\".format(weight, fruit, per_pound)\n",
    "print(output)\n"
   ]
  },
  {
   "cell_type": "markdown",
   "metadata": {},
   "source": [
    "\n",
    "\n",
    "    You are buying 3.0 pounds of peaches at 2.99 per pound.\n",
    "\n",
    "You can also consume the arguments to **format()** in any order you want by specifying the index inside the placeholder. As with lists and arrays, the index always starts with 0. You can even use an index more than once. Here you can see we’re using the second argument twice."
   ]
  },
  {
   "cell_type": "code",
   "execution_count": null,
   "metadata": {},
   "outputs": [],
   "source": [
    "output = \"{1} are {2} per pound, and you have {0} pounds of {1}.\".format(weight, fruit, per_pound)\n",
    "print(output)"
   ]
  },
  {
   "cell_type": "markdown",
   "metadata": {},
   "source": [
    "\n",
    "    Peaches are 2.99 per pound, and you have 3.0 pounds of peaches.\n",
    "\n",
    "A third option for the placeholders is to use field names instead of indexes. This can make your code much more readable."
   ]
  },
  {
   "cell_type": "code",
   "execution_count": null,
   "metadata": {},
   "outputs": [],
   "source": [
    "output = \"{fruit} are {price} per pound, and you have {weight} pounds of {fruit}.\".format(weight=weight, fruit=fruit, price=per_pound)\n",
    "print(output)"
   ]
  },
  {
   "cell_type": "markdown",
   "metadata": {},
   "source": [
    "\n",
    "    Peaches are 2.99 per pound, and you have 3.0 pounds of peaches.\n",
    "\n",
    "Python also gives you many options to control the appearance of the output. Remember the messy output from the first example? You can have Python automatically round things up to the nearest penny and produce nice output by using a _formatting expression_. In the example below, the code tells Python to round up the numbers to two decimal places."
   ]
  },
  {
   "cell_type": "code",
   "execution_count": null,
   "metadata": {},
   "outputs": [],
   "source": [
    "# Print the receipt for the customer. The format string \":10,.2f\" \n",
    "# works as follows:\n",
    "#   - \":10\" makes the output 10 characters wide.\n",
    "#   - \",\" inserts thousands separators between groups of digits.\n",
    "#   - \".2\" limits the output to two digits after the decimal.\n",
    "#   - \"f\" tells Python to expect a floating-point number.\n",
    "#\n",
    "print(\"Subtotal:     ${:10,.2f}\".format(subtotal))\n",
    "print(\"Sales Tax:    ${:10,.2f}\".format(tax_amt))\n",
    "print(\"Total:        ${:10,.2f}\".format(total))"
   ]
  },
  {
   "cell_type": "markdown",
   "metadata": {},
   "source": [
    "\n",
    "\n",
    "    Subtotal: $ 27.25\n",
    "    Sales Tax: $ 1.80\n",
    "    Total: $ 29.05\n",
    "\n",
    "Everything inside the placeholder after the “:” colon is part of the formatting expression. The expression “:10,.2f” means “make the output 10 characters wide, use digit separators if the amount is over 1000, output no more than 2 digits after the decimal, and expect the input to be a floating-point decimal number”.\n",
    "\n",
    "The following table gives you some more examples of formatting expressions:\n",
    "\n",
    "**Formatting expressions**"
   ]
  },
  {
   "cell_type": "markdown",
   "metadata": {},
   "source": [
    "| Expr   | Meaning                               | Example                     |\n",
    "|--------|---------------------------------------|-----------------------------|\n",
    "| {:d}   | integer value                         | \"{0:.0f}\".format(10.5) → '10' |\n",
    "| {:.2f} | floating point with that many decimals | '{:.2f}'.format(0.5) → '0.50' |\n",
    "| {:.2s} | string with that many characters      | '{:.2s}'.format('Python') → 'Py' |\n",
    "| {:<6s} | string aligned to the left that many spaces | '{:<6s}'.format('Py') → 'Py    ' |\n",
    "| {:>6s} | string aligned to the right that many spaces | '{:>6s}'.format('Py') → '    Py' |\n",
    "| {:^6s} | string centered in that many spaces  | '{:^6s}'.format('Py') → '  Py  ' |\n",
    "\n",
    "[Check out the official documentation for all available expressions](https://docs.python.org/3/library/string.html#format-specification-mini-language)"
   ]
  },
  {
   "cell_type": "markdown",
   "metadata": {},
   "source": [
    "## **Formatted string literals (Optional)**\n",
    "\n",
    "The formatted string literal feature, added in Python 3.6, isn’t used a lot yet. Again, it's included here in case you run into it in the future, but it's not needed for this or any upcoming courses.\n",
    "\n",
    "A formatted string literal or f-string is a string that starts with 'f' or 'F' before the quotes. These strings might contain {} placeholders using expressions like the ones used for format() method strings.\n",
    "\n",
    "The important difference between f-strings and the format() method is that f-strings take the value of the variables from the current context, instead of taking the values from parameters.\n",
    "\n",
    "Examples:\n",
    "\n",
    ">>> name = \"Micah\"\n",
    "\n",
    ">>> print(f'Hello {name}')\n",
    "\n",
    "Hello Micah\n",
    "\n",
    ">>> item = \"Purple Cup\"\n",
    "\n",
    ">>> amount = 5\n",
    "\n",
    ">>> price = amount * 3.25\n",
    "\n",
    ">>> print(f'Item: {item} - Amount: {amount} - Price: {price:.2f}')\n",
    "\n",
    "Item: Purple Cup - Amount: 5 - Price: 16.25\n",
    "\n",
    "Check out the official documentation for [f-strings](https://docs.python.org/3/reference/lexical_analysis.html#f-strings).\n",
    "\n",
    "## **Old string formatting (Optional)**\n",
    "\n",
    "The format() method was introduced in Python 2.6. Before that, the % (modulo) operator could be used to get a similar result. Although this method is **no longer recommended** for new code, you might come across it in someone else's code. This is what it looks like:\n",
    "\n",
    "    \"base string with %s placeholder\" % variable\n",
    "\n",
    "The % (modulo) operator returns a copy of the string where the placeholders indicated by % followed by a formatting expression are replaced by the variables after the operator.\n",
    "\n",
    "To replace more than one value, you need to supply the values as a tuple. The formatting expression must match the value type.\n",
    "\n",
    "    \"base string with %d and %d placeholders\" % (value1, value2)\n",
    "\n",
    "Variables can also be replaced by name using a dictionary syntax (you’ll learn about dictionaries in an upcoming video).\n",
    "\n",
    "    print(\"%(var1)d %(var2)d\" % {\"var1\":value1, \"var2\":value2})\n",
    "\n",
    "The formatting expressions are mostly the same as those of the format() method.\n",
    "\n",
    "    \"Item: %s - Amount: %d - Price: %.2f\" % (item, amount, price)\n",
    "\n",
    "Check out the official documentation for [old string formatting](https://docs.python.org/3/library/stdtypes.html#old-string-formatting)."
   ]
  }
 ],
 "metadata": {
  "kernelspec": {
   "display_name": "Python 3 (ipykernel)",
   "language": "python",
   "name": "python3"
  },
  "language_info": {
   "codemirror_mode": {
    "name": "ipython",
    "version": 3
   },
   "file_extension": ".py",
   "mimetype": "text/x-python",
   "name": "python",
   "nbconvert_exporter": "python",
   "pygments_lexer": "ipython3",
   "version": "3.12.2"
  }
 },
 "nbformat": 4,
 "nbformat_minor": 2
}
