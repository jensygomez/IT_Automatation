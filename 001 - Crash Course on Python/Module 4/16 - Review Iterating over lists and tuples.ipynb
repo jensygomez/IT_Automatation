{
 "cells": [
  {
   "cell_type": "markdown",
   "metadata": {},
   "source": [
    "**Author:**       Jensy Gregorio Gómez \n",
    "---------------------------------------\n",
    "**Profession:**  IT Support Analyst  \n",
    "**Date:**         21 Febrero 2024     \n",
    "**Location:**     Vila Isabel, Curitiba/PR  \n",
    "\n",
    "\n",
    "---\n",
    "\n",
    "**Contacto:**\n",
    "\n",
    "- **Email:** [contact@jensygomez.us](mailto:contact@jensygomez.us)\n",
    "- **YouTube:** [Tu Canal de YouTube](https://www.youtube.com/@systechcwb826)\n",
    "- **LinkedIn:** [Tu Perfil de LinkedIn](https://www.linkedin.com/in/jensygomez/)\n",
    "\n",
    "\n"
   ]
  },
  {
   "cell_type": "markdown",
   "metadata": {},
   "source": [
    "\n",
    "\n",
    "# Review: Iterating over lists and tuples\n",
    "\n",
    "This reading contains the code used in the instructional videos from [**Iterating over lists and tuples**](https://www.coursera.org/learn/python-crash-course/lecture/M7Dbr/iterating-over-lists-and-tuples)\n",
    "\n",
    "## **Introduction**\n",
    "\n",
    "This follow-along reading is organized to match the content in the video that follows. It contains the same code shown in the next video. These code blocks will provide you with the opportunity to see how the code is written, allow you to practice running it, and can be used as a reference to refer back to.\n",
    "\n",
    "You can follow along in the reading as the instructor discusses the code or review the code after watching the video.\n"
   ]
  },
  {
   "cell_type": "code",
   "execution_count": null,
   "metadata": {},
   "outputs": [],
   "source": [
    "animals = [\"Lion\", \"Zebra\", \"Dolphin\", \"Monkey\"]\n",
    "chars = 0\n",
    "\n",
    "# Iterate over each animal in the list\n",
    "for animal in animals:\n",
    "    # Add the length of each animal's name to the total characters count\n",
    "    chars += len(animal)\n",
    "\n",
    "# Calculate the average length of the animal names\n",
    "average_length = chars / len(animals)\n",
    "\n",
    "# Print the total characters count and the average length\n",
    "print(\"Total characters: {}, Average length: {}\".format(chars, average_length))\n"
   ]
  },
  {
   "cell_type": "code",
   "execution_count": null,
   "metadata": {},
   "outputs": [],
   "source": [
    "\n",
    "winners = [\"Ashley\", \"Dylan\", \"Reese\"]\n",
    "\n",
    "# Iterate over each winner in the list along with their index\n",
    "for index, person in enumerate(winners):\n",
    "    # Print the index (1-based) and the person's name\n",
    "    print(\"{} - {}\".format(index + 1, person))\n",
    "    # En el bucle, index representa el índice actual en la lista winners, \n",
    "    # y person representa el nombre de la persona en ese índice.\n",
    "\n"
   ]
  },
  {
   "cell_type": "code",
   "execution_count": 1,
   "metadata": {},
   "outputs": [
    {
     "name": "stdout",
     "output_type": "stream",
     "text": [
      "['Alex Diego <alex@example.com>', 'Shay Brandt <shay@example.com>']\n"
     ]
    }
   ],
   "source": [
    "def full_emails(people):\n",
    "    \"\"\"\n",
    "    Create a list of full email addresses with names and emails.\n",
    "\n",
    "    Parameters:\n",
    "        people (list of tuple): A list of tuples containing email addresses and names.\n",
    "\n",
    "    Returns:\n",
    "        list of str: A list of formatted email addresses with names.\n",
    "    \"\"\"\n",
    "    result = []\n",
    "    for email, name in people:\n",
    "        # Format the name and email into a string\n",
    "        full_email = \"{} <{}>\".format(name, email)\n",
    "        # Add the formatted string to the result list\n",
    "        result.append(full_email)\n",
    "    return result\n",
    "\n",
    "# Example usage of the function with a list of tuples of names and emails\n",
    "print(full_emails([(\"alex@example.com\", \"Alex Diego\"), (\"shay@example.com\", \"Shay Brandt\")]))\n"
   ]
  }
 ],
 "metadata": {
  "kernelspec": {
   "display_name": "Python 3 (ipykernel)",
   "language": "python",
   "name": "python3"
  }
 },
 "nbformat": 4,
 "nbformat_minor": 2
}
