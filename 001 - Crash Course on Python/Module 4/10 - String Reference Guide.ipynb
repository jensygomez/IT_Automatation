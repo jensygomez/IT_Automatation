{
 "cells": [
  {
   "cell_type": "markdown",
   "metadata": {},
   "source": [
    "**Author:**       Jensy Gregorio Gómez \n",
    "---------------------------------------\n",
    "**Profession:**  IT Support Analyst  \n",
    "**Date:**         19 Febrero 2024     \n",
    "**Location:**     Vila Isabel, Curitiba/PR  \n",
    "\n",
    "\n",
    "---\n",
    "\n",
    "**Contacto:**\n",
    "\n",
    "- **Email:** [contact@jensygomez.us](mailto:contact@jensygomez.us)\n",
    "- **YouTube:** [Tu Canal de YouTube](https://www.youtube.com/@systechcwb826)\n",
    "- **LinkedIn:** [Tu Perfil de LinkedIn](https://www.linkedin.com/in/jensygomez/)\n",
    "\n",
    "\n"
   ]
  },
  {
   "cell_type": "markdown",
   "metadata": {},
   "source": [
    "\n",
    "\n",
    "# String Reference Guide\n",
    "\n",
    "In Python, there are a lot of things you can do with strings. In this study guide, you’ll find the most common string operations and string methods.\n",
    "\n",
    "## String operations\n",
    "\n",
    "-   len(string) - Returns the length of the string\n",
    "  "
   ]
  },
  {
   "cell_type": "code",
   "execution_count": null,
   "metadata": {},
   "outputs": [],
   "source": [
    "# The len() function in Python is used to find the length (the number of elements)\n",
    "# of an iterable object, such as a string.\n",
    "# In this case, \"abcde\" is a string, \n",
    "# and the len() function will return the number of characters in that string.\n",
    "\n",
    "print(len(\"abcde\"))  \n",
    "# This will print 5, as there are 5 characters in the string \"abcde\".\n"
   ]
  },
  {
   "cell_type": "markdown",
   "metadata": {},
   "source": [
    "-   for character in string - Iterates over each character in the string"
   ]
  },
  {
   "cell_type": "code",
   "execution_count": null,
   "metadata": {},
   "outputs": [],
   "source": [
    "# This loop iterates over each character in the string \"abcde\" \n",
    "# and prints each character individually.\n",
    "# The variable 'c' takes on each character in the string in each iteration.\n",
    "\n",
    "for c in \"abcde\":\n",
    "    print(c)  # This will print each character of the string \"abcde\" one by one.\n"
   ]
  },
  {
   "cell_type": "markdown",
   "metadata": {},
   "source": [
    "-   if substring in string - Checks whether the substring is part of the string"
   ]
  },
  {
   "cell_type": "code",
   "execution_count": null,
   "metadata": {},
   "outputs": [],
   "source": [
    "# This line checks if the substring \"abc\" is present in the string \"abcde\"\n",
    "# and prints the result.\n",
    "# Since \"abc\" is indeed a substring of \"abcde\", this will print True.\n",
    "\n",
    "print(\"abc\" in \"abcde\")  # This will print True.\n",
    "\n",
    "# This line checks if the substring \"def\" is present in the string \"abcde\" \n",
    "# and prints the result.\n",
    "# Since \"def\" is not a substring of \"abcde\", this will print False.\n",
    "\n",
    "print(\"def\" in \"abcde\")  # This will print False.\n"
   ]
  },
  {
   "cell_type": "markdown",
   "metadata": {},
   "source": [
    "-   string[i] - Accesses the character at index i of the string, starting at zero"
   ]
  },
  {
   "cell_type": "code",
   "execution_count": null,
   "metadata": {},
   "outputs": [],
   "source": [
    "# This line accesses the character at index 2 in the string \"abcde\" and prints it.\n",
    "# In Python, indexing starts at 0, so the character at index 2 is \"c\".\n",
    "\n",
    "print(\"abcde\"[2])  # This will print \"c\".\n",
    "\n",
    "# This line accesses the character at index -1 in the string \"abcde\" and prints it.\n",
    "# Negative indexing in Python starts from the end of the string, so -1 refers to the last character, which is \"e\".\n",
    "\n",
    "print(\"abcde\"[-1])  # This will print \"e\".\n"
   ]
  },
  {
   "cell_type": "markdown",
   "metadata": {},
   "source": [
    "-   string[i:j] - Accesses the substring starting at index i, ending at index j minus 1. If i is omitted, its value defaults to 0. If j is omitted, Python returns everything from i to the end of the string."
   ]
  },
  {
   "cell_type": "code",
   "execution_count": null,
   "metadata": {},
   "outputs": [],
   "source": [
    "# This line slices the string \"abcde\" from index 0 (inclusive)\n",
    "# up to index 2 (exclusive), and then prints the resulting substring.\n",
    "# So, it prints characters from index 0 (inclusive) to index 1 (inclusive),\n",
    "# which results in \"ab\".\n",
    "\n",
    "print(\"abcde\"[0:2])  # This will print \"ab\".\n",
    "\n",
    "# This line slices the string \"abcde\" from index 2 (inclusive) to the end of the string, and then prints the resulting substring.\n",
    "# So, it prints characters from index 2 (inclusive) to the end, resulting in \"cde\".\n",
    "\n",
    "print(\"abcde\"[2:])  # This will print \"cde\".\n"
   ]
  },
  {
   "cell_type": "markdown",
   "metadata": {},
   "source": [
    "## String methods\n",
    "\n",
    "-   string.**lower()** - Returns a copy of the string with all lowercase characters"
   ]
  },
  {
   "cell_type": "code",
   "execution_count": null,
   "metadata": {},
   "outputs": [],
   "source": [
    "# This line converts the string \"AaBbCcDdEe\" to lowercase using the lower() method,\n",
    "# which converts all uppercase characters in the string to lowercase, and then prints the resulting string.\n",
    "\n",
    "print(\"AaBbCcDdEe\".lower())  # This will print \"aabbccddee\".\n"
   ]
  },
  {
   "cell_type": "markdown",
   "metadata": {},
   "source": [
    "\n",
    "-   **string.upper()** - Returns a copy of the string with all uppercase characters"
   ]
  },
  {
   "cell_type": "code",
   "execution_count": null,
   "metadata": {},
   "outputs": [],
   "source": [
    "# This line converts the string \"AaBbCcDdEe\" to uppercase using the upper() method,\n",
    "# which converts all lowercase characters in the string to uppercase, \n",
    "# and then prints the resulting string.\n",
    "\n",
    "print(\"AaBbCcDdEe\".upper())  # This will print \"AABBCCDDEE\".\n"
   ]
  },
  {
   "cell_type": "markdown",
   "metadata": {},
   "source": [
    "-   **string.lstrip()** - Returns a copy of the string with the left-side whitespace removed"
   ]
  },
  {
   "cell_type": "code",
   "execution_count": null,
   "metadata": {},
   "outputs": [],
   "source": [
    "# This line removes leading whitespace (spaces, tabs, newlines) from the left side of the string \"   Hello   \"\n",
    "# using the lstrip() method, which returns a new string with leading whitespace characters removed,\n",
    "# and then prints the resulting string.\n",
    "\n",
    "print(\"   Hello   \".lstrip())  # This will print \"Hello   \".\n"
   ]
  },
  {
   "cell_type": "markdown",
   "metadata": {},
   "source": [
    "-   **string.rstrip()** - Returns a copy of the string with the right-side whitespace removed"
   ]
  },
  {
   "cell_type": "code",
   "execution_count": null,
   "metadata": {},
   "outputs": [],
   "source": [
    "# This line removes trailing whitespace (spaces, tabs, newlines) from the right side of the string \"   Hello   \"\n",
    "# using the rstrip() method, which returns a new string with trailing whitespace characters removed,\n",
    "# and then prints the resulting string.\n",
    "\n",
    "print(\"   Hello   \".rstrip())  # This will print \"   Hello\".\n"
   ]
  },
  {
   "cell_type": "markdown",
   "metadata": {},
   "source": [
    "-   **string.strip()** - Returns a copy of the string with both the left and right-side whitespace removed"
   ]
  },
  {
   "cell_type": "code",
   "execution_count": null,
   "metadata": {},
   "outputs": [],
   "source": [
    "# This line removes leading and trailing whitespace (spaces, tabs, newlines) from both sides of the string \"   Hello   \"\n",
    "# using the strip() method, which returns a new string with leading and trailing whitespace characters removed,\n",
    "# and then prints the resulting string.\n",
    "\n",
    "print(\"   Hello   \".strip())  # This will print \"Hello\".\n"
   ]
  },
  {
   "cell_type": "markdown",
   "metadata": {},
   "source": [
    "-   **string.count(substring)**- Returns the number of times substring is present in the string"
   ]
  },
  {
   "cell_type": "code",
   "execution_count": null,
   "metadata": {},
   "outputs": [],
   "source": [
    "# This line initializes a variable named \"test\" with the string \"How much wood would a woodchuck chuck\".\n",
    "test = \"How much wood would a woodchuck chuck\"\n",
    "\n",
    "# This line uses the count() method to count the number of occurrences of the substring \"wood\" within the string stored in the variable \"test\".\n",
    "# It then prints the result, which is the number of times \"wood\" appears in the string.\n",
    "print(test.count(\"wood\"))  # This will print 2.\n"
   ]
  },
  {
   "cell_type": "markdown",
   "metadata": {},
   "source": [
    "-   **string.isnumeric()** - Returns True if there are only numeric characters in the string. If not, returns False."
   ]
  },
  {
   "cell_type": "code",
   "execution_count": null,
   "metadata": {},
   "outputs": [],
   "source": [
    "# This line checks if the string \"12345\" consists only of numeric characters using the isnumeric() method.\n",
    "# Since \"12345\" consists only of numeric characters, this will print True.\n",
    "print(\"12345\".isnumeric())  # This will print True.\n",
    "\n",
    "# This line checks if the string \"-123.45\" consists only of numeric characters using the isnumeric() method.\n",
    "# Since \"-123.45\" contains non-numeric characters (the negative sign \"-\" and the decimal point \".\"), this will print False.\n",
    "print(\"-123.45\".isnumeric())  # This will print False.\n"
   ]
  },
  {
   "cell_type": "markdown",
   "metadata": {},
   "source": [
    "-   **string.isalpha()** - Returns True if there are only letters in the string. If not, returns False."
   ]
  },
  {
   "cell_type": "code",
   "execution_count": null,
   "metadata": {},
   "outputs": [],
   "source": [
    "# This line checks if the string \"xyzzy\" consists only of alphabetic characters using the isalpha() method.\n",
    "# Since \"xyzzy\" consists only of alphabetic characters, this will print True.\n",
    "print(\"xyzzy\".isalpha())  # This will print True.\n"
   ]
  },
  {
   "cell_type": "markdown",
   "metadata": {},
   "source": [
    "-   **string.split()** - Returns a list of substrings that were separated by whitespace (whitespace can be a space, tab, or new line)"
   ]
  },
  {
   "cell_type": "code",
   "execution_count": null,
   "metadata": {},
   "outputs": [],
   "source": [
    "# This line splits the string stored in the variable \"test\" into a list of substrings using whitespace as the delimiter.\n",
    "# By default, the split() method splits the string using whitespace characters (spaces, tabs, newlines, etc.).\n",
    "# It then prints the resulting list.\n",
    "\n",
    "print(test.split())  # This will print ['How', 'much', 'wood', 'would', 'a', 'woodchuck', 'chuck'].\n"
   ]
  },
  {
   "cell_type": "markdown",
   "metadata": {},
   "source": [
    "-   **string.split(delimiter)** - Returns a list of substrings that were separated by whitespace or another string"
   ]
  },
  {
   "cell_type": "code",
   "execution_count": null,
   "metadata": {},
   "outputs": [],
   "source": [
    "# This line initializes a variable named \"test\" with the string \"How-much-wood-would-a-woodchuck-chuck\".\n",
    "test = \"How-much-wood-would-a-woodchuck-chuck\"\n",
    "\n",
    "# This line splits the string stored in the variable \"test\" into a list of substrings using \"-\" as the delimiter.\n",
    "# The split() method is called with \"-\" as the argument, so it splits the string wherever it encounters \"-\" character.\n",
    "# It then prints the resulting list.\n",
    "\n",
    "print(test.split(\"-\"))  # This will print ['How', 'much', 'wood', 'would', 'a', 'woodchuck', 'chuck'].\n"
   ]
  },
  {
   "cell_type": "markdown",
   "metadata": {},
   "source": [
    "-   **string.replace(old, new)** - Returns a new string where all occurrences of old have been replaced by new."
   ]
  },
  {
   "cell_type": "code",
   "execution_count": null,
   "metadata": {},
   "outputs": [],
   "source": [
    "# This line replaces all occurrences of the substring \"wood\" with \"plastic\" in the string stored in the variable \"test\".\n",
    "# The replace() method takes two arguments: the substring to be replaced (\"wood\") and the replacement string (\"plastic\").\n",
    "# It then prints the resulting string.\n",
    "\n",
    "print(test.replace(\"wood\", \"plastic\"))  # This will print \"How much plastic would a plasticchuck chuck\".\n"
   ]
  },
  {
   "cell_type": "markdown",
   "metadata": {},
   "source": [
    "-   **delimiter.join(list of strings)** - Returns a new string with all the strings joined by the delimiter"
   ]
  },
  {
   "cell_type": "code",
   "execution_count": null,
   "metadata": {},
   "outputs": [],
   "source": [
    "# This line splits the string stored in the variable \"test\" into a list of substrings using whitespace as the delimiter.\n",
    "# The split() method without any arguments splits the string using whitespace characters (spaces, tabs, newlines, etc.).\n",
    "# Then, the resulting list is joined back together into a single string using \"-\" as the separator.\n",
    "# The join() method is called on the list, with \"-\" as the argument.\n",
    "# Finally, the resulting string is printed.\n",
    "\n",
    "print(\"-\".join(test.split()))  # This will print \"How-much-wood-would-a-woodchuck-chuck\".\n"
   ]
  },
  {
   "cell_type": "markdown",
   "metadata": {},
   "source": [
    "The [String methods](https://docs.python.org/3/library/stdtypes.html#string-methods) page in the Python documentation has a more complete list of the available string methods."
   ]
  }
 ],
 "metadata": {
  "kernelspec": {
   "display_name": "Python 3 (ipykernel)",
   "language": "python",
   "name": "python3"
  }
 },
 "nbformat": 4,
 "nbformat_minor": 2
}
