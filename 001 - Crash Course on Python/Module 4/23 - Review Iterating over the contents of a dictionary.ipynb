{
 "cells": [
  {
   "cell_type": "markdown",
   "metadata": {},
   "source": [
    "**Author:**       Jensy Gregorio Gómez \n",
    "---------------------------------------\n",
    "**Profession:**  IT Support Analyst  \n",
    "**Date:**         24 Febrero 2024     \n",
    "**Location:**     Vila Isabel, Curitiba/PR  \n",
    "\n",
    "\n",
    "---\n",
    "\n",
    "**Contacto:**\n",
    "\n",
    "- **Email:** [contact@jensygomez.us](mailto:contact@jensygomez.us)\n",
    "- **YouTube:** [Tu Canal de YouTube](https://www.youtube.com/@systechcwb826)\n",
    "- **LinkedIn:** [Tu Perfil de LinkedIn](https://www.linkedin.com/in/jensygomez/)\n",
    "\n",
    "\n"
   ]
  },
  {
   "cell_type": "markdown",
   "metadata": {},
   "source": [
    "\n",
    "# Review: Iterating over the contents of a dictionary\n",
    "\n",
    "This reading contains the code used in the instructional videos from [**Iterating over the contents of a dictionary.**](https://www.coursera.org/learn/python-crash-course/lecture/PBuyf/iterating-over-the-contents-of-a-dictionary)\n",
    "\n",
    "## **Introduction**\n",
    "\n",
    "This follow-along reading is organized to match the content in the video that follows. It contains the same code shown in the next video. These code blocks will provide you with the opportunity to see how the code is written, allow you to practice running it, and can be used as a reference to refer back to.\n",
    "\n",
    "You can follow along in the reading as the instructor discusses the code or review the code after watching the video.\n"
   ]
  },
  {
   "cell_type": "code",
   "execution_count": null,
   "metadata": {},
   "outputs": [],
   "source": [
    "# Define a dictionary with file extensions and their counts\n",
    "file_counts = {\"jpg\": 10, \"txt\": 14, \"csv\": 2, \"py\": 23}\n",
    "\n",
    "# Iterate over the keys of the file_counts dictionary and print each key\n",
    "for extension in file_counts:\n",
    "    print(extension)\n"
   ]
  },
  {
   "cell_type": "code",
   "execution_count": null,
   "metadata": {},
   "outputs": [],
   "source": [
    "# Define a dictionary with file extensions and their counts\n",
    "file_counts = {\"jpg\": 10, \"txt\": 14, \"csv\": 2, \"py\": 23}\n",
    "\n",
    "# Iterate over the key-value pairs in the file_counts dictionary\n",
    "# and print a message for each pair\n",
    "for ext, amount in file_counts.items():\n",
    "    print(\"There are {} files with the .{} extension\".format(amount, ext))\n"
   ]
  },
  {
   "cell_type": "code",
   "execution_count": null,
   "metadata": {},
   "outputs": [],
   "source": [
    "# Define a dictionary with file extensions and their counts\n",
    "file_counts = {\"jpg\": 10, \"txt\": 14, \"csv\": 2, \"py\": 23}\n",
    "\n",
    "# Get the keys of the file_counts dictionary\n",
    "file_counts.keys()"
   ]
  },
  {
   "cell_type": "code",
   "execution_count": null,
   "metadata": {},
   "outputs": [],
   "source": [
    "# Define a dictionary with file extensions and their counts\n",
    "file_counts = {\"jpg\": 10, \"txt\": 14, \"csv\": 2, \"py\": 23}\n",
    "\n",
    "# Get the values of the file_counts dictionary\n",
    "file_counts.values()\n"
   ]
  },
  {
   "cell_type": "code",
   "execution_count": null,
   "metadata": {},
   "outputs": [],
   "source": [
    "# Define a dictionary with file extensions and their counts\n",
    "file_counts = {\"jpg\": 10, \"txt\": 14, \"csv\": 2, \"py\": 23}\n",
    "\n",
    "# Iterate over the values of the file_counts dictionary and print each value\n",
    "for value in file_counts.values():\n",
    "    print(value)\n"
   ]
  },
  {
   "cell_type": "code",
   "execution_count": null,
   "metadata": {},
   "outputs": [],
   "source": [
    "def count_letters(text):\n",
    "    # Initialize an empty dictionary to store letter counts\n",
    "    result = {}\n",
    "\n",
    "    # Iterate over each character in the input text\n",
    "    for letter in text:\n",
    "        # Check if the letter is already a key in the result dictionary\n",
    "        if letter not in result:\n",
    "            # If the letter is not in the dictionary, initialize its count to 0\n",
    "            result[letter] = 0\n",
    "        # Increment the count of the current letter\n",
    "        result[letter] += 1\n",
    "\n",
    "    # Return the dictionary containing letter counts\n",
    "    return result\n",
    "\n",
    "# Example usage:\n",
    "count_letters(\"aaaaa\")\n",
    "count_letters(\"tenant\")\n",
    "count_letters(\"a long string with a lot of letters\")\n"
   ]
  }
 ],
 "metadata": {
  "kernelspec": {
   "display_name": "Python 3 (ipykernel)",
   "language": "python",
   "name": "python3"
  },
  "language_info": {
   "codemirror_mode": {
    "name": "ipython",
    "version": 3
   },
   "file_extension": ".py",
   "mimetype": "text/x-python",
   "name": "python",
   "nbconvert_exporter": "python",
   "pygments_lexer": "ipython3",
   "version": "3.12.2"
  }
 },
 "nbformat": 4,
 "nbformat_minor": 2
}
