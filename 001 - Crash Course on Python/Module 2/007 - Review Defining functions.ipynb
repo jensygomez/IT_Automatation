{
  "nbformat": 4,
  "nbformat_minor": 0,
  "metadata": {
    "colab": {
      "provenance": []
    },
    "kernelspec": {
      "name": "python3",
      "display_name": "Python 3"
    },
    "language_info": {
      "name": "python"
    }
  },
  "cells": [
    {
      "cell_type": "markdown",
      "source": [
        "\n",
        "# Review: Defining functions\n",
        "\n",
        "This reading contains the code used in the instructional videos from [**Defining functions**](https://www.coursera.org/learn/python-crash-course/lecture/Jzoz1/defining-functions)\n",
        "\n",
        "## **Introduction**\n",
        "\n",
        "This follow-along reading is organized to match the content in the video that follows. It contains the same code shown in the next video. These code blocks will provide you with the opportunity to see how the code is written, allow you to practice running it, and can be used as a reference to refer back to.\n",
        "\n",
        "You can follow along in the reading as the instructor discusses the code or review the code after watching the video.\n"
      ],
      "metadata": {
        "id": "DbFLsD6PodZh"
      }
    },
    {
      "cell_type": "code",
      "source": [
        "def greeting(name):\n",
        "    print(\"Welcome, \" + name)\n",
        "\n",
        "greeting(\"Kay\")\n",
        "greeting(\"Cameron\")"
      ],
      "metadata": {
        "colab": {
          "base_uri": "https://localhost:8080/"
        },
        "id": "ydDyXRTtoe3x",
        "outputId": "c35fe23e-e831-4aeb-9797-c3e0061ec88f"
      },
      "execution_count": 11,
      "outputs": [
        {
          "output_type": "stream",
          "name": "stdout",
          "text": [
            "Welcome, Kay\n",
            "Welcome, Cameron\n"
          ]
        }
      ]
    },
    {
      "cell_type": "markdown",
      "source": [
        "================================================================================"
      ],
      "metadata": {
        "id": "8mLrvKDyoozr"
      }
    },
    {
      "cell_type": "code",
      "source": [
        "def greeting(name, department):\n",
        "    print(\"Welcome, \" + name)\n",
        "    print(\"You are part of \" + department)\n",
        "\n",
        "greeting(\"Blake\", \"Software engineering\")\n",
        "greeting(\"Ellis\", \"Software engineering\")"
      ],
      "metadata": {
        "colab": {
          "base_uri": "https://localhost:8080/"
        },
        "id": "AXYorHgmosg6",
        "outputId": "bb38b91e-f5da-4f02-e44f-7a7c295c7b78"
      },
      "execution_count": 12,
      "outputs": [
        {
          "output_type": "stream",
          "name": "stdout",
          "text": [
            "Welcome, Blake\n",
            "You are part of Software engineering\n",
            "Welcome, Ellis\n",
            "You are part of Software engineering\n"
          ]
        }
      ]
    }
  ]
}