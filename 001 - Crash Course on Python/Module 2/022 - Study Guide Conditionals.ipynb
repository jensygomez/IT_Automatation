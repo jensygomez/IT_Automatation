{
 "cells": [
  {
   "cell_type": "markdown",
   "id": "8fd1b9fd-76fd-447a-b29d-7c7a8545df3f",
   "metadata": {},
   "source": [
    "# Study Guide: Conditionals\n",
    "\n",
    "This study guide provides a quick-reference summary of what you learned in this lesson and serves as a guide for the upcoming practice quiz.  \n",
    "\n",
    "In the Conditionals segment, you learned about the built-in Python operators used for comparing values and the logical operators for making complex comparisons. You also learned how to use operators in if-else-elif blocks. \n",
    "\n",
    "# Knowledge\n",
    "\n",
    "## Comparison operators with numerical values\n",
    "\n",
    "Comparison expressions return a Boolean result (True or False). \n",
    "\n",
    "- x **==** y        If x is equal to y, return True. Else, return False.\n",
    "  \n",
    "- x **!=** y         If x is not equal to y, return True. Else, return False.\n",
    "  \n",
    "- x **<** y          If x is less than y, return True. Else, return False.\n",
    "  \n",
    "- x **<=** y        If x is less than or equal to y, return True. Else, return False.\n",
    "  \n",
    "- x **>** y          If x is greater than y, return True. Else, return False.\n",
    "  \n",
    "- x **>=** y        If x is greater or equal to y, return True. Else, return False.\n",
    "  \n",
    "\n",
    "## Comparison operators with strings\n",
    "\n",
    "Comparison expressions with strings also return a Boolean result (True or False).\n",
    "\n",
    "- \"x\" **==** \"y\"  If the words are the same, return True. Else, return False.\n",
    "  \n",
    "- \"x\" **!=** \"y\"   If the words are **not** the same, return True. Else, return False.\n",
    "  \n",
    "\n",
    "When used with strings, the following comparison expressions will alphabetize the strings.\n",
    "\n",
    "- \"x\" **<** \"y\"   If string \"x\"  has a smaller Unicode value than string \"y\", return True. Else, return False.\n",
    "  \n",
    "- \"x\" **<=** \"y\" If the Unicode value for string \"x\" is smaller than or equal to the Unicode value of string \"y\", return True. Else, return False.\n",
    "  \n",
    "- \"x\" **>** \"y\"    If string \"x\" has a larger Unicode value than string \"y\", return True. Else, return False.\n",
    "  \n",
    "- \"x\" **>=** \"y\"  If the Unicode value for string \"x\" is greater than or equal to the Unicode value of string \"y\", return True. Else, return False.\n",
    "  \n",
    "\n",
    "**Unicode values for the alphabet**\n",
    "\n",
    "![Image containing the unicode value of each letter of the alphabet](https://d3c33hcgiwev3.cloudfront.net/imageAssetProxy.v1/2ct56G7FQw2v8tQEGondGA_406050de37a347d89594906734514cf1_Unicode_table.png?expiry=1707523200000&hmac=v6yFWyL7xBwpmKQe_ZFRVo9Az9nVNgAUU2QsfA-N7b0)\n",
    "\n",
    "The Unicode numbering for the alphabet starts at 65 for capital letter A and runs to 90 for capital letter Z. Then, the lowercase alphabet values start at 97 for lowercase a and run to 122 for lowercase z. Using these Unicode numbers, capital A's code is less than the codes of all other letters, which Python interprets as the beginning of the alphabet. Lowercase z's code is greater than the codes of all other letters, which Python interprets as the ultimate end of the English alphabet.\n",
    "\n",
    "## Logical operators\n",
    "\n",
    "Logical operators are used to combine comparison expressions and also return Boolean results (True or False).\n",
    "\n",
    "- comparison1 **and** comparison2\n",
    "  \n",
    "  - Returns a True result if both comparison1 **and** comparison2 are true.\n",
    "    \n",
    "  - If they are not both true, return False.\n",
    "    \n",
    "- comparison1 **or** comparison2 \n",
    "  \n",
    "  - Returns a True result if either comparison1 and/or comparison2 are True.\n",
    "    \n",
    "  - If neither comparison is true, return False.\n",
    "    \n",
    "- **not** comparison1\n",
    "  \n",
    "  - Returns the inverse Boolean value of the comparison.\n",
    "    \n",
    "    - Returns a True result if comparison1 is false.\n",
    "      \n",
    "    - If comparison1 is true, then returns False."
   ]
  },
  {
   "cell_type": "code",
   "execution_count": null,
   "id": "f31b154b-52cd-481b-aec9-a3cb96604ec7",
   "metadata": {},
   "outputs": [],
   "source": []
  },
  {
   "cell_type": "code",
   "execution_count": null,
   "id": "78f79c41-4e2b-4552-b474-f7bb6eafbd98",
   "metadata": {},
   "outputs": [],
   "source": [
    "if condition1:\n",
    "    action1\n",
    "elif condition2:\n",
    "    action2\n",
    "else:\n",
    "    action3"
   ]
  },
  {
   "cell_type": "code",
   "execution_count": null,
   "id": "bb8f4d15-f935-4510-b3b2-43f59b9fad94",
   "metadata": {},
   "outputs": [],
   "source": []
  },
  {
   "cell_type": "markdown",
   "id": "7a1223fa-6d1f-4811-ae8e-814ca1eff45d",
   "metadata": {},
   "source": [
    "- If condition1 is True:\n",
    "  \n",
    "  - Then perform action1 and exit if-elif-else block\n",
    "- If condition2 is True:\n",
    "  \n",
    "  - Then perform action2 and exit if-elif-else block\n",
    "- If neither condition1 nor condition2 are True:\n",
    "  \n",
    "  - Then perform action3 and exit if-elif-else block\n",
    "\n",
    "# Coding skills\n",
    "\n",
    "**Skill Group 1**\n",
    "\n",
    "- Use a comparison operator with numbers\n",
    "  \n",
    "- Use a comparison operator to alphabetize strings"
   ]
  },
  {
   "cell_type": "code",
   "execution_count": null,
   "id": "6f801b87-baf2-457b-beda-5499d894c41f",
   "metadata": {},
   "outputs": [],
   "source": []
  },
  {
   "cell_type": "code",
   "execution_count": 1,
   "id": "1058be08-3c2a-4dd9-95ea-8e7536c8cb9c",
   "metadata": {},
   "outputs": [
    {
     "name": "stdout",
     "output_type": "stream",
     "text": [
      "True\n",
      "False\n"
     ]
    }
   ],
   "source": [
    "# The value of 10*4 (40) is greater than 14+23 (37), therefore this \n",
    "# comparison expression will return the Boolean value of True.\n",
    "\n",
    "\n",
    "print(10*4 > 14+23) # Should print True\n",
    "\n",
    "# The letter \"t\" has a Unicode value of 116 and the letter \"s\" has a\n",
    "# Unicode value of 115. Since 116 is not less than 115, the \n",
    "# comparison of \"tall\" < \"short\" (or 116 < 115) is False. \n",
    "\n",
    "print(\"tall\" < \"short\")  # Should print False"
   ]
  },
  {
   "cell_type": "code",
   "execution_count": null,
   "id": "3b053bb8-47fa-4457-9262-895f94e2457d",
   "metadata": {},
   "outputs": [],
   "source": []
  },
  {
   "cell_type": "markdown",
   "id": "e2e6f0ff-3cdc-41d0-8fbf-1b21340d4676",
   "metadata": {},
   "source": [
    "**Skill Group 2**\n",
    "\n",
    "- Use a function with the def() keyword\n",
    "  \n",
    "- Pass a parameter to the function\n",
    "  \n",
    "- Use an if-elif-else statement\n",
    "  \n",
    "- Assign strings to variables \n",
    "  \n",
    "- Use conditional operators\n",
    "  \n",
    "- Return a value"
   ]
  },
  {
   "cell_type": "code",
   "execution_count": null,
   "id": "09514ec1-9b63-46b1-81a9-6fc7d646dc61",
   "metadata": {},
   "outputs": [],
   "source": []
  },
  {
   "cell_type": "code",
   "execution_count": 2,
   "id": "f4938dfc-90d3-4da2-a111-082c58fbe6fc",
   "metadata": {},
   "outputs": [
    {
     "name": "stdout",
     "output_type": "stream",
     "text": [
      "Requested web page not found on server\n"
     ]
    }
   ],
   "source": [
    "# This function accepts one variable as a parameter\n",
    "def translate_error_code(error_code):\n",
    " \n",
    "# The if-elif-else block assesses the value of the variable\n",
    "# passed to the function as a parameter. The if statement uses \n",
    "# the equality operator == to test the value of the variable.\n",
    "# This test returns a Boolean (True/False) result.\n",
    "    if error_code == \"401 Unauthorized\":\n",
    "# If the comparison above returns True, then the indented \n",
    "# line(s) inside the if-statement will run. In this case, the\n",
    "# action is to assign a string to the translation variable.\n",
    "# The remainder of the if-elif-else block will not run.\n",
    "# The Python interpreter will skip to the next line outside of \n",
    "# the if-elif-else block. In this case, the next line is the \n",
    "# return value statement.  \n",
    "        translation = \"Server received an unauthenticated request\"\n",
    " \n",
    "# If the initial if-statement returns a False result, then the\n",
    "# first elif-statement will run a different test on the value\n",
    "# of the variable.\n",
    "    elif error_code == \"404 Not Found\":\n",
    "# If the first elif-statement returns a True result, then the\n",
    "# indented line(s) inside the first elif-statement will run. \n",
    "# After this line, the remainder of the if-elif-else block will\n",
    "# not run. The Python interpreter will skip to the next line\n",
    "# outside of the if-elif-else block. \n",
    "        translation = \"Requested web page not found on server\"\n",
    " \n",
    "# If both the initial if-statement and the first elif-statement \n",
    "# return a False result, then the second elif-statement will\n",
    "# run.\n",
    "    elif error_code == \"408 Request Timeout\":\n",
    "# If the second elif-statement returns a True result, then the\n",
    "# indented line(s) inside the second elif-statement will run. \n",
    "# After this line, the remainder of the if-elif-else block will\n",
    "# not run. The Python interpreter will skip to the next line\n",
    "# outside of the if-elif-else block. \n",
    "        translation = \"Server request to close unused connection\"\n",
    " \n",
    "# If the conditional tests above do not produce a True result\n",
    "# then the else-statement will run. \n",
    "    else:\n",
    "        translation = \"Unknown error code\"\n",
    "# The if-elif-else block ends.\n",
    "\n",
    "# The next line outside of the if-elif-else block will run\n",
    "# after exiting the block. In this case, the next line returns\n",
    "# the output from the if-elif-else block.\n",
    "    return translation\n",
    "\n",
    "# The print() function allows us to display the output of the\n",
    "# function. To call a function in a print statement, the syntax\n",
    "# is print(name_of_function(parameter))\n",
    "print(translate_error_code(\"404 Not Found\"))\n",
    "\n",
    "# Expected output:\n",
    "# Requested web page not found on server"
   ]
  },
  {
   "cell_type": "code",
   "execution_count": null,
   "id": "462e3ea4-b8aa-46d8-b512-e0465e325254",
   "metadata": {},
   "outputs": [],
   "source": []
  },
  {
   "cell_type": "markdown",
   "id": "51cc5caf-20d6-4309-8583-26e7811ec63d",
   "metadata": {},
   "source": [
    "**Skill Group 3**\n",
    "\n",
    "- Use an if-elif-else statement with:\n",
    "  \n",
    "  - comparison operators\n",
    "    \n",
    "  - logical operators"
   ]
  },
  {
   "cell_type": "code",
   "execution_count": null,
   "id": "c7c5bbb9-e73b-4eb5-abdf-d1b7fdf06ccc",
   "metadata": {},
   "outputs": [],
   "source": []
  },
  {
   "cell_type": "code",
   "execution_count": 3,
   "id": "75312ea6-3bb4-449a-a796-8d02e6740960",
   "metadata": {},
   "outputs": [
    {
     "name": "stdout",
     "output_type": "stream",
     "text": [
      "The number is less than 32 and greater than 6.\n"
     ]
    }
   ],
   "source": [
    "# Sets value of the \"number\" variable\n",
    "number = 25\n",
    "\n",
    "# The \"number\" variable will first be compared to 5. Since it is \n",
    "# False that \"number\" is not less than or equal to 5, the expression indented \n",
    "# under this line will be ignored. \n",
    "if number <= 5: \n",
    "   print(\"The number is 5 or smaller.\")\n",
    " \n",
    "# Next, the \"number\" variable will be compared to 33. Since it is \n",
    "# False that \"number\" is equal to 33, the expression indented under \n",
    "# this line will be ignored. \n",
    "elif number == 33:\n",
    "   print(\"The number is 33.\")\n",
    " \n",
    "# Then, the \"number\" variable will be compared to 32 and 6. Since it \n",
    "# is True that 25 is less than 32 and greater than 6, the Python \n",
    "# interpreter will print \"The number is less than 32 and/or greater\n",
    "# than 6.\" Then, it will exit the if-elif-else statement and the remainder \n",
    "# of the if-elif-else statement will be ignored.\n",
    "elif number < 32 and number >= 6:\n",
    "   print(\"The number is less than 32 and greater than 6.\")\n",
    " \n",
    "else:\n",
    "   print(\"The number is \" + str(number))\n",
    " \n",
    "# Expected output is: \n",
    "# The number is less than 32 and greater than 6.\n"
   ]
  },
  {
   "cell_type": "code",
   "execution_count": null,
   "id": "6907e0b5-05f8-4467-b497-8dd6be7265ac",
   "metadata": {},
   "outputs": [],
   "source": []
  },
  {
   "cell_type": "markdown",
   "id": "100b8126-9324-4e79-8b9c-59726277c0b5",
   "metadata": {},
   "source": [
    "**Skill Group 4**\n",
    "\n",
    "- Use an if statement to calculate a return value\n",
    "  \n",
    "- Use conditional operators\n",
    "  \n",
    "- Recall the arithmetic operators // and %"
   ]
  },
  {
   "cell_type": "code",
   "execution_count": null,
   "id": "dbce86fb-2a5d-4fdc-8ab8-3fde687d465f",
   "metadata": {},
   "outputs": [],
   "source": []
  },
  {
   "cell_type": "code",
   "execution_count": 4,
   "id": "1d218ef4-1a51-45a4-b453-01804f6d838c",
   "metadata": {},
   "outputs": [
    {
     "name": "stdout",
     "output_type": "stream",
     "text": [
      "40\n"
     ]
    }
   ],
   "source": [
    "# This function rounds a variable number up to the nearest 10x value\n",
    "def round_up(number):\n",
    "  x = 10\n",
    "# The floor division operator will calculate the integer value of\n",
    "# \"number\" divided by x: 35 // 10 will return the integer 3.\n",
    "  whole_number = number // x\n",
    "# The modulo operator will calculate the remainder value of \"number\"\n",
    "# divided by x: 35 % 10 will return the remainder value 5.\n",
    "  remainder = number % x\n",
    "# If the remainder is greater than or equal to 5: \n",
    "  if remainder >= 5: \n",
    "# Return x multiplied by the (whole_number+1) to round up\n",
    "    return x*(whole_number+1)\n",
    "# Else, return x multiplied by the whole_number to round down\n",
    "  return x*whole_number\n",
    " \n",
    "# Calls the function with the parameter value of 35.\n",
    "print(round_up(35)) # Should print 40"
   ]
  },
  {
   "cell_type": "code",
   "execution_count": null,
   "id": "48238095-1782-434a-9749-a38c60c61abc",
   "metadata": {},
   "outputs": [],
   "source": []
  },
  {
   "cell_type": "markdown",
   "id": "f5e8d2fa-8f65-472f-b533-26700a3dc811",
   "metadata": {},
   "source": [
    "\n",
    "# Python practice information\n",
    "\n",
    "For additional Python practice, the following links will take you to several popular online interpreters and codepads:\n",
    "\n",
    "-   [Welcome to Python](https://www.python.org/shell/)\n",
    "    \n",
    "-   [Online Python Interpreter](https://www.onlinegdb.com/online_python_interpreter)\n",
    "    \n",
    "-   [Create a new Repl](https://repl.it/languages/python3)\n",
    "    \n",
    "-   [Online Python-3 Compiler (Interpreter)](https://www.tutorialspoint.com/execute_python3_online.php)\n",
    "    \n",
    "-   [Compile Python 3 Online](https://rextester.com/l/python3_online_compiler)\n",
    "    \n",
    "-   [Your Python Trinket](https://trinket.io/python3)"
   ]
  }
 ],
 "metadata": {
  "kernelspec": {
   "display_name": "Python 3 (ipykernel)",
   "language": "python",
   "name": "python3"
  },
  "language_info": {
   "codemirror_mode": {
    "name": "ipython",
    "version": 3
   },
   "file_extension": ".py",
   "mimetype": "text/x-python",
   "name": "python",
   "nbconvert_exporter": "python",
   "pygments_lexer": "ipython3",
   "version": "3.11.7"
  }
 },
 "nbformat": 4,
 "nbformat_minor": 5
}
