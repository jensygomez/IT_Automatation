{
 "cells": [
  {
   "cell_type": "markdown",
   "metadata": {},
   "source": [
    "\n",
    "# Review: Code style\n",
    "\n",
    "This reading contains the code used in the instructional videos from [**Code style**](https://www.coursera.org/learn/python-crash-course/lecture/Et6bk/code-style)\n",
    "\n",
    "## **Introduction**\n",
    "\n",
    "This follow-along reading is organized to match the content in the video that follows. It contains the same code shown in the next video. These code blocks will provide you with the opportunity to see how the code is written, allow you to practice running it, and can be used as a reference to refer back to.\n",
    "\n",
    "You can follow along in the reading as the instructor discusses the code or review the code after watching the video"
   ]
  },
  {
   "cell_type": "code",
   "execution_count": 1,
   "metadata": {},
   "outputs": [
    {
     "name": "stdout",
     "output_type": "stream",
     "text": [
      "78.5\n"
     ]
    }
   ],
   "source": [
    "def calculate(d):\n",
    "    q = 3.14\n",
    "    z = q * (d ** 2)\n",
    "    print(z)\n",
    "\n",
    "calculate(5)\n",
    "#Output is 78.5"
   ]
  },
  {
   "cell_type": "markdown",
   "metadata": {},
   "source": [
    "====================================================================================================="
   ]
  },
  {
   "cell_type": "markdown",
   "metadata": {},
   "source": [
    "### Let's calculate the Circle Area."
   ]
  },
  {
   "cell_type": "code",
   "execution_count": 2,
   "metadata": {},
   "outputs": [
    {
     "name": "stdout",
     "output_type": "stream",
     "text": [
      "78.5\n"
     ]
    }
   ],
   "source": [
    "def circle_area(radius):\n",
    "    pi = 3.14\n",
    "    area = pi * (radius ** 2)\n",
    "    print(area)\n",
    "\n",
    "circle_area(5)\n",
    "#Output is 78.5"
   ]
  },
  {
   "cell_type": "code",
   "execution_count": 3,
   "metadata": {},
   "outputs": [],
   "source": [
    "#This is how you write a comment in Python\n",
    "#Just add a hash symbol to the beginning of your line of code"
   ]
  }
 ],
 "metadata": {
  "kernelspec": {
   "display_name": "Python 3",
   "language": "python",
   "name": "python3"
  },
  "language_info": {
   "codemirror_mode": {
    "name": "ipython",
    "version": 3
   },
   "file_extension": ".py",
   "mimetype": "text/x-python",
   "name": "python",
   "nbconvert_exporter": "python",
   "pygments_lexer": "ipython3",
   "version": "3.11.7"
  }
 },
 "nbformat": 4,
 "nbformat_minor": 2
}
