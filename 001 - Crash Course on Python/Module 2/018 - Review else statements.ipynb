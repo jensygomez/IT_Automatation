{
 "cells": [
  {
   "cell_type": "markdown",
   "id": "82eb1743-a354-426f-89cf-13da6ef5955b",
   "metadata": {},
   "source": [
    "\n",
    "# Review: else statements\n",
    "\n",
    "This reading contains the code used in the instructional videos from [**else statements**](https://www.coursera.org/learn/python-crash-course/lecture/k2wDX/else-statements)\n",
    "\n",
    "## **Introduction**\n",
    "\n",
    "This follow-along reading is organized to match the content in the video that follows. It contains the same code shown in the next video. These code blocks will provide you with the opportunity to see how the code is written, allow you to practice running it, and can be used as a reference to refer back to.\n",
    "\n",
    "You can follow along in the reading as the instructor discusses the code or review the code after watching the video."
   ]
  },
  {
   "cell_type": "code",
   "execution_count": 1,
   "id": "33b4be7d-caac-4fc8-817b-57651166f9e9",
   "metadata": {},
   "outputs": [],
   "source": [
    "def hint_username(username):\n",
    "    if len(username) < 3:\n",
    "        print(\"Invalid username. Must be at least 3 characters long\")\n",
    "    else:\n",
    "        print(\"Valid username\")\n",
    "#This code will not have an output. "
   ]
  },
  {
   "cell_type": "code",
   "execution_count": null,
   "id": "faa3c4f7-f597-4796-8dde-1ed35fb5192e",
   "metadata": {},
   "outputs": [],
   "source": []
  },
  {
   "cell_type": "markdown",
   "id": "c4c5da6e-89d2-427b-8236-67c8d33dee75",
   "metadata": {},
   "source": [
    "\n",
    "## **About this code**\n",
    "\n",
    "This snippet of code defines a function called **hint_username**. The **if len(username) < 3:** statement checks the length of the string **username**. If the length of the string is less than 3 characters, the code inside the **if** statement is executed. The **print(\"Invalid username. Must be at least 3 characters long\")** statement prints the message \"Invalid username. Must be at least 3 characters long\". The **else:** statement is executed if the length of the string **username** is not less than 3 characters. In this case, the code inside the **else** statement is executed, which is the **print(\"Valid username\")** statement."
   ]
  },
  {
   "cell_type": "code",
   "execution_count": null,
   "id": "d138f85a-f24d-4af7-a272-0ed96f5ae8ce",
   "metadata": {},
   "outputs": [],
   "source": [
    "def is_even(number):\n",
    "    if number % 2 == 0:\n",
    "        return True\n",
    "    return False\n",
    "#This code has no ouput"
   ]
  },
  {
   "cell_type": "code",
   "execution_count": null,
   "id": "8aed2ba2-22ab-4667-b633-966025955c82",
   "metadata": {},
   "outputs": [],
   "source": []
  },
  {
   "cell_type": "markdown",
   "id": "c0008f78-80b5-4f0c-8bde-bb8c836af1d0",
   "metadata": {},
   "source": [
    "\n",
    "## **About this code**\n",
    "\n",
    "This code snippet defines a function called if_even. It checks whether a number is even. **if number % 2 == 0:** is the part of the code that checks if the number is even. If the number is odd, it will return false. The code does not have any output currently because it has not been provided with a number to check."
   ]
  },
  {
   "cell_type": "code",
   "execution_count": null,
   "id": "820e0cd5-2c18-4e81-a785-4a0a19e5c19b",
   "metadata": {},
   "outputs": [],
   "source": []
  }
 ],
 "metadata": {
  "kernelspec": {
   "display_name": "Python 3 (ipykernel)",
   "language": "python",
   "name": "python3"
  },
  "language_info": {
   "codemirror_mode": {
    "name": "ipython",
    "version": 3
   },
   "file_extension": ".py",
   "mimetype": "text/x-python",
   "name": "python",
   "nbconvert_exporter": "python",
   "pygments_lexer": "ipython3",
   "version": "3.11.7"
  }
 },
 "nbformat": 4,
 "nbformat_minor": 5
}
