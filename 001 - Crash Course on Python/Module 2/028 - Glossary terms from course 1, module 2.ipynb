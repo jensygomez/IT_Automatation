{
 "cells": [
  {
   "cell_type": "markdown",
   "id": "603bd495-8ea6-41bd-bb9c-733c9cf8a9e8",
   "metadata": {},
   "source": [
    "\n",
    "# Glossary terms from course 1, module 2\n",
    "\n",
    "## **Terms and definitions from Course 1, Module 2**\n",
    "\n",
    "**Built-in functions:** Functions that exist within Python and can be called directly\n",
    "\n",
    "**Comments:** Notes to yourself and/or other programmers to make the purpose of the code clear\n",
    "\n",
    "**Data types:** Classes of data (e.g., string, int, float, Boolean, etc.), which include the properties and behaviors of instances of the data type (variables)\n",
    "\n",
    "**Explicit conversion:** This occurs when code is written to manually convert one data type to another using a data type conversion function\n",
    "\n",
    "**Expression:** A combination of numbers, symbols, or other values that produce a result when evaluated\n",
    "\n",
    "**Implicit conversion:** This occurs when the Python interpreter automatically converts one data type to another\n",
    "\n",
    "**Logical operators:** Operators used to combine or manipulate boolean values (True or False) to create complex conditions for decision-making.\n",
    "\n",
    "**Parameter (argument):** A value passed into a function for use within the function, controlling the behavior of the CSV reader and writer\n",
    "\n",
    "**Refactoring:** When a code is updated to be more self-documenting and clarify the intent\n",
    "\n",
    "**Return value**: This is the value or variable returned as the end result of a function"
   ]
  }
 ],
 "metadata": {
  "kernelspec": {
   "display_name": "Python 3 (ipykernel)",
   "language": "python",
   "name": "python3"
  },
  "language_info": {
   "codemirror_mode": {
    "name": "ipython",
    "version": 3
   },
   "file_extension": ".py",
   "mimetype": "text/x-python",
   "name": "python",
   "nbconvert_exporter": "python",
   "pygments_lexer": "ipython3",
   "version": "3.11.7"
  }
 },
 "nbformat": 4,
 "nbformat_minor": 5
}
