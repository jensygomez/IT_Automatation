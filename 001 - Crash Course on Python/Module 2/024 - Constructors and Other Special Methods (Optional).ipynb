{
 "cells": [
  {
   "cell_type": "markdown",
   "id": "47fb1afe-4dfd-4938-8ab5-419879e96b0c",
   "metadata": {},
   "source": [
    "\n",
    "\n",
    "# Constructors and Other Special Methods (Optional)\n",
    "\n",
    "As you have been learning, you can use a class in Python to bundle data and functionality together. When you create a new class, you create a new type of object.\n",
    "\n",
    "## Creating an instance of a class\n",
    "\n",
    "Each time you create an instance of a class, Python calls a special class method the constructor. The constructor’s job is to set up the object, meaning that instance of the class, so it’s ready to be used. Usually this means initializing some variables and doing other simple housekeeping.\n",
    "\n",
    "When writing a Python class, you define a method called __init__ to be your constructor. The special name tells Python to use that method as the constructor. Just like any other method, the constructor can take arguments. When making an argument to the class, the first constructor must always be self.\n",
    "\n",
    "Here’s a simple example of a constructor that initializes an object’s variables.\n",
    "\n"
   ]
  },
  {
   "cell_type": "code",
   "execution_count": 1,
   "id": "b2b8abf8-dd35-4df0-91ad-0c35dc5fe666",
   "metadata": {},
   "outputs": [
    {
     "name": "stdout",
     "output_type": "stream",
     "text": [
      "red\n"
     ]
    }
   ],
   "source": [
    "class Apple:\n",
    "    def __init__(self):\n",
    "        self.color = \"red\"\n",
    "        self.flavor = \"sweet\"\n",
    "\n",
    "honeycrisp = Apple()\n",
    "print(honeycrisp.color)\n",
    "\n",
    "# prints \"red\""
   ]
  },
  {
   "cell_type": "markdown",
   "id": "f8dc9130-1c91-4733-905d-2ba02f139c47",
   "metadata": {},
   "source": [
    "\n",
    "\n",
    "## Modify variables\n",
    "\n",
    "If we wanted to make our Apple class more flexible, we could allow the user to specify the color and flavor as arguments when creating the object. We can modify our constructor to take those arguments and use them:\n"
   ]
  },
  {
   "cell_type": "code",
   "execution_count": null,
   "id": "e06bb672-4666-4137-ba8f-0185c8e3be10",
   "metadata": {},
   "outputs": [],
   "source": [
    "class Apple:\n",
    "    def __init__(self, color, flavor):\n",
    "        self.color = color\n",
    "        self.flavor = flavor\n",
    "\n",
    "honeycrisp = Apple(\"red\", \"sweet\")\n",
    "fuji = Apple(\"red\", \"tart\")\n",
    "print(honeycrisp.flavor)\n",
    "print(fuji.flavor)\n",
    "\n",
    "# prints \"sweet\" and \"tart\""
   ]
  },
  {
   "cell_type": "markdown",
   "id": "01ccfae8-8728-4b73-b5a7-e5f12bfd5131",
   "metadata": {},
   "source": [
    "\n",
    "\n",
    "## Other special methods\n",
    "\n",
    "As you might expect, Python classes have many other special methods. Most of these have default implementations provided by the Python standard library, but you are free to override the behavior of any of them. Like the __init__ constructor, special methods begin and end with a double underscore, and this is called **dunder method**. The word “dunder” combines the “d” in double and the “under” in **unders**core.\n",
    "\n",
    "For example, the __str__ special method controls how your object is converted to a string representation for output. When you print() something, Python calls the object’s __str__() method and outputs whatever that method returns. In most cases, the default output is just the class name and a memory location:\n"
   ]
  },
  {
   "cell_type": "code",
   "execution_count": null,
   "id": "ab741434-69de-4ca7-9c65-c18f7e279717",
   "metadata": {},
   "outputs": [],
   "source": [
    ">>> print(honeycrisp)\n",
    "<__main__.Apple object at 0x7ffa68d78970>"
   ]
  },
  {
   "cell_type": "markdown",
   "id": "b319901f-1f6d-47cc-8939-ac9ab2e7ec25",
   "metadata": {},
   "source": [
    "\n",
    "Let’s override the __str__ method to be more useful for apples:\n"
   ]
  },
  {
   "cell_type": "code",
   "execution_count": null,
   "id": "eb169d36-c095-4316-aebd-b78af1f69bb6",
   "metadata": {},
   "outputs": [],
   "source": [
    "\n",
    "class Apple:\n",
    "    def __init__(self, color, flavor):\n",
    "        self.color = color\n",
    "        self.flavor = flavor\n",
    "\n",
    "    def __str__(self):\n",
    "        return \"an apple which is {} and {}\".format(self.color, self.flavor)\n",
    "\n",
    "honeycrisp = Apple(\"red\", \"sweet\")\n",
    "print(honeycrisp)\n",
    "\n",
    "# prints \"an apple which is red and sweet\"\n"
   ]
  },
  {
   "cell_type": "markdown",
   "id": "9e753df2-cea0-494a-8759-104ce802fc52",
   "metadata": {},
   "source": [
    "\n",
    "Here are some of the other special methods you can override in your own classes:\n",
    "\n",
    "-   __len__ returns the length of the object or collection.\n",
    "    \n",
    "-   __contains__ tests whether the object contains an item.\n",
    "    \n",
    "-   __eq__ tests whether two objects are equal.\n",
    "    \n",
    "\n",
    "## Key takeaways\n",
    "\n",
    "A constructor (such as __init__) is a special class method that sets up the object in Python. When making an argument to a class, the first constructor must always be self. Python classes have many special methods available in the standard library. These methods can be overridden using the method called **dunder method**.\n"
   ]
  }
 ],
 "metadata": {
  "kernelspec": {
   "display_name": "Python 3 (ipykernel)",
   "language": "python",
   "name": "python3"
  },
  "language_info": {
   "codemirror_mode": {
    "name": "ipython",
    "version": 3
   },
   "file_extension": ".py",
   "mimetype": "text/x-python",
   "name": "python",
   "nbconvert_exporter": "python",
   "pygments_lexer": "ipython3",
   "version": "3.11.7"
  }
 },
 "nbformat": 4,
 "nbformat_minor": 5
}
