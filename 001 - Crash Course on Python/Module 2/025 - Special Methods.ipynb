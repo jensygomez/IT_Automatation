{
 "cells": [
  {
   "cell_type": "markdown",
   "id": "c98c7c46-3470-40da-b53f-daae0509a75a",
   "metadata": {},
   "source": [
    "\n",
    "\n",
    "# Special Methods\n",
    "\n",
    "Instead of creating classes with empty or default values, we can set these values when we create the instance. This ensures that we don't miss an important value and avoids a lot of unnecessary lines of code. To do this, we use a special method called a **constructor**. Below is an example of an Apple class with a constructor method defined.\n"
   ]
  },
  {
   "cell_type": "code",
   "execution_count": null,
   "id": "053be868-fefc-4f66-a7fd-46154c8a706f",
   "metadata": {},
   "outputs": [],
   "source": [
    "\n",
    "class Apple:\n",
    "    def __init__(self, color, flavor):\n",
    "        self.color = color\n",
    "        self.flavor = flavor\n",
    "        "
   ]
  },
  {
   "cell_type": "markdown",
   "id": "446b5d76-2ce8-4aee-9c6f-68edc13a22a4",
   "metadata": {},
   "source": [
    "\n",
    "\n",
    "When you call the name of a class, the constructor of that class is called. This constructor method is always named **__init__**. You might remember that special methods start and end with two underscore characters. In our example above, the constructor method takes the self variable, which represents the instance, as well as color and flavor parameters. These parameters are then used by the constructor method to set the values for the current instance. So we can now create a new instance of the Apple class and set the color and flavor values all in go:\n"
   ]
  },
  {
   "cell_type": "code",
   "execution_count": null,
   "id": "64622b63-7566-421b-91bc-4881c5aaafbb",
   "metadata": {},
   "outputs": [],
   "source": [
    "\n",
    "jonagold = Apple(\"red\", \"sweet\")\n",
    "print(jonagold.color)\n",
    "\n"
   ]
  },
  {
   "cell_type": "markdown",
   "id": "75544b1e-9e3a-4983-8886-cf4b2a416972",
   "metadata": {},
   "source": [
    "\n",
    "In addition to the **__init__** constructor special method, there is also the **__str__** special method. This method allows us to define how an instance of an object will be printed when it’s passed to the print() function. If an object doesn’t have this special method defined, it will wind up using the default representation, which will print the position of the object in memory. Not super useful. Here is our Apple class, with the **__str__** method added:\n"
   ]
  },
  {
   "cell_type": "code",
   "execution_count": null,
   "id": "5f0dbb32-4f4c-4d06-8395-c241d490ade2",
   "metadata": {},
   "outputs": [],
   "source": [
    "\n",
    "class Apple:\n",
    "    def __init__(self, color, flavor):\n",
    "        self.color = color\n",
    "        self.flavor = flavor\n",
    "    def __str__(self):\n",
    "        return \"This apple is {} and its flavor is {}\".format(self.color, self.flavor)\n",
    "\n"
   ]
  },
  {
   "cell_type": "markdown",
   "id": "33fc9a29-b55c-4490-b25e-c40184cb1c27",
   "metadata": {},
   "source": [
    "\n",
    "Now, when we pass an Apple object to the print function, we get a nice formatted string:\n"
   ]
  },
  {
   "cell_type": "code",
   "execution_count": null,
   "id": "c0c2cd8d-685e-4d7e-8c45-1645dd0d690c",
   "metadata": {},
   "outputs": [],
   "source": [
    "\n",
    "jonagold = Apple(\"red\", \"sweet\")\n",
    "print(jonagold)\n",
    "\n"
   ]
  },
  {
   "cell_type": "markdown",
   "id": "f5511188-e38b-457f-84de-d5d6ac44b679",
   "metadata": {},
   "source": [
    "\n",
    "This apple is red and its flavor is sweet\n",
    "\n",
    "It's good practice to think about how your class might be used and to define a __str__ method when creating objects that you may want to print later.\n"
   ]
  }
 ],
 "metadata": {
  "kernelspec": {
   "display_name": "Python 3 (ipykernel)",
   "language": "python",
   "name": "python3"
  },
  "language_info": {
   "codemirror_mode": {
    "name": "ipython",
    "version": 3
   },
   "file_extension": ".py",
   "mimetype": "text/x-python",
   "name": "python",
   "nbconvert_exporter": "python",
   "pygments_lexer": "ipython3",
   "version": "3.11.7"
  }
 },
 "nbformat": 4,
 "nbformat_minor": 5
}
