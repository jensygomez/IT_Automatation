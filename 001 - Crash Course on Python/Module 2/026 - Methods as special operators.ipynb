{
 "cells": [
  {
   "cell_type": "markdown",
   "id": "d018743e-6167-4917-8315-59740f795436",
   "metadata": {},
   "source": [
    "\n",
    "# Methods as special operators\n",
    "\n",
    "You have already learned about methods and how they are just functions that belong to a class. They define the behavior that an object of the class can perform. Special operators are specific symbols or keywords that are built-in and provide special behavior when used with certain data types or objects. In your class, you can define methods to implement or override the standard behavior of Python operators, thus creating methods as special operators.\n",
    "\n",
    "In this reading you will learn about the different types of special operators, how to override the standard operators and embed them in your code, and see examples along the way.\n",
    "\n",
    "## **Different types of special operators**\n",
    "\n",
    "Python supports a variety of different operators that you can use in your code to make life easier for you. Some of the more common operators are:\n",
    "\n",
    "-   Arithmetic operators. These include + (addition), - (subtraction), * (multiplication), / (division), and ** (exponentiation).\n",
    "    \n",
    "-   Comparison operators. These include == (equality), != (inequality), < (less than), and >= (greater than or equal to)\n",
    "    \n",
    "-   Logical operators. These include and, or, and not.\n",
    "    \n",
    "-   Assignment operators. These include = (simple assignment), += (addition assignment), and %= (modulo assignment)\n",
    "    \n",
    "\n",
    "**Note:** This is not an all-inclusive list, but different examples of common operators that you would use in Python.\n",
    "\n",
    "## **Performing special operations**\n",
    "\n",
    "Every special operator has a corresponding **dunder method** that implements the operation. In Python, you denote a dunder method by placing double underscores at the beginning and end of the name; in fact, the term “dunder” comes from this use of **d**ouble **unders**cores. You can change how an operator behaves with an instance of your object by overriding the implementation. Let’s look at an example:\n"
   ]
  },
  {
   "cell_type": "code",
   "execution_count": null,
   "id": "19c4078b-f169-4c03-a2f9-0dd213069137",
   "metadata": {},
   "outputs": [],
   "source": [
    "\n",
    "class Triangle:\n",
    "\n",
    "  def __init__(self, base, height):\n",
    "\n",
    "    self.base = base\n",
    "\n",
    "    self.height = height\n",
    "      "
   ]
  },
  {
   "cell_type": "markdown",
   "id": "1a532e77-1b76-4a56-86de-97f01bc87418",
   "metadata": {},
   "source": [
    "\n",
    "In this example, the Triangle class has a method __init__()which is called a constructor and is used to initialize the object’s attributes.\n"
   ]
  },
  {
   "cell_type": "code",
   "execution_count": null,
   "id": "ab92aba4-d723-4d13-a0a0-911af5adc0f1",
   "metadata": {},
   "outputs": [],
   "source": [
    "\n",
    "def area(self):\n",
    "\n",
    "    return 0.5 * self.base * self.height\n",
    "    "
   ]
  },
  {
   "cell_type": "markdown",
   "id": "bc652bde-9684-4f2a-8d5a-bd1553ba3bdc",
   "metadata": {},
   "source": [
    "\n",
    "This part of the code, **area(self)** method, computes the area of the triangle based on its height and base length.\n"
   ]
  },
  {
   "cell_type": "code",
   "execution_count": null,
   "id": "49920137-03b1-46c2-a466-62faf9815f44",
   "metadata": {},
   "outputs": [],
   "source": [
    "\n",
    "  def __add__(self, other):\n",
    "\n",
    "    return self.area() + other.area()\n",
    "      "
   ]
  },
  {
   "cell_type": "markdown",
   "id": "9fbf2518-1586-4e32-b76d-c6ac96383ba9",
   "metadata": {},
   "source": [
    "\n",
    "This method overrides the **+** operator to **\"add\"** two triangles together.\n"
   ]
  },
  {
   "cell_type": "code",
   "execution_count": null,
   "id": "f0e34286-bd46-4a7f-bb77-b296f314a45d",
   "metadata": {},
   "outputs": [],
   "source": [
    "\n",
    "triangle1 = Triangle(10, 5)\n",
    "\n",
    "triangle2 = Triangle(6, 8)\n",
    "\n",
    "print(\"The area of triangle 1 is\", triangle1.area())\n",
    "\n",
    "print(\"The area of triangle 2 is\", triangle2.area())\n",
    "\n",
    "print(\"The area of both triangles is\", triangle1 + triangle2)\n"
   ]
  },
  {
   "cell_type": "markdown",
   "id": "5a1a0336-d55a-46a7-828b-3b4e0d778222",
   "metadata": {},
   "source": [
    "\n",
    "The output of this problem is:\n"
   ]
  },
  {
   "cell_type": "code",
   "execution_count": null,
   "id": "47fdfb23-5880-41dc-b484-be234975df38",
   "metadata": {},
   "outputs": [],
   "source": [
    "\n",
    "The area of triangle 1 is 25.0 \n",
    "\n",
    "The area of triangle 2 is 24.0 \n",
    "\n",
    "The area of both triangles is 49.0\n"
   ]
  },
  {
   "cell_type": "markdown",
   "id": "6d6050eb-0d1a-46c1-bb41-7a544bb7fe5d",
   "metadata": {},
   "source": [
    "\n",
    "Putting it all together, this is what the code should look like:\n"
   ]
  },
  {
   "cell_type": "code",
   "execution_count": null,
   "id": "7366d0f2-f68d-43a7-8b7a-ebfce367c341",
   "metadata": {},
   "outputs": [],
   "source": [
    "\n",
    "class Triangle:\n",
    "    def __init__(self, base, height):\n",
    "        self.base = base\n",
    "        self.height = height\n",
    "    def area(self):\n",
    "        return 0.5 * self.base * self.height\n",
    "    def __add__(self, other):\n",
    "        return self.area() + other.area()\n",
    "    \n",
    "triangle1 = Triangle(10, 5)\n",
    "triangle2 = Triangle(6, 8)\n",
    "print(\"The area of triangle 1 is\", triangle1.area())\n",
    "print(\"The area of triangle 2 is\", triangle2.area())\n",
    "print(\"The area of both triangles is\", triangle1 + triangle2)\n"
   ]
  },
  {
   "cell_type": "markdown",
   "id": "c0d84a08-19d9-481e-9acb-ef370a2653fd",
   "metadata": {},
   "source": [
    "\n",
    "For a full list of operators and the method names you can use to override their behavior, view this resource:\n",
    "\n",
    "-   [Mapping operators to functions](https://docs.python.org/3/library/operator.html#mapping-operators-to-functions)\n",
    "    \n",
    "\n",
    "## **Key takeaways**\n",
    "\n",
    "Python allows you to override or implement standard operations in your code to make your code cleaner for yourself and others to read. Being able to override certain behaviors allows you to control the output of your code and provides flexibility in how you write code.\n"
   ]
  }
 ],
 "metadata": {
  "kernelspec": {
   "display_name": "Python 3 (ipykernel)",
   "language": "python",
   "name": "python3"
  },
  "language_info": {
   "codemirror_mode": {
    "name": "ipython",
    "version": 3
   },
   "file_extension": ".py",
   "mimetype": "text/x-python",
   "name": "python",
   "nbconvert_exporter": "python",
   "pygments_lexer": "ipython3",
   "version": "3.11.7"
  }
 },
 "nbformat": 4,
 "nbformat_minor": 5
}
