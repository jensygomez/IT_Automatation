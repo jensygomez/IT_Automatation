{
 "cells": [
  {
   "cell_type": "markdown",
   "id": "1734d407-2599-46e1-8c0b-10a29bde9337",
   "metadata": {
    "editable": true,
    "slideshow": {
     "slide_type": ""
    },
    "tags": []
   },
   "source": [
    "\n",
    "# Review: elif statements\n",
    "\n",
    "This reading contains the code used in the instructional videos from [**elif statements**](https://www.coursera.org/learn/python-crash-course/lecture/A9mHE/elif-statements)\n",
    "\n",
    "## **Introduction**\n",
    "\n",
    "This follow-along reading is organized to match the content in the video that follows. It contains the same code shown in the next video. These code blocks will provide you with the opportunity to see how the code is written, allow you to practice running it, and can be used as a reference to refer back to.\n",
    "\n",
    "You can follow along in the reading as the instructor discusses the code or review the code after watching the video."
   ]
  },
  {
   "cell_type": "code",
   "execution_count": null,
   "id": "fa473ea9-0ed6-4628-ac04-b36aa53fac78",
   "metadata": {},
   "outputs": [],
   "source": [
    "def hint_username(username):\n",
    "    if len(username) < 3:\n",
    "        print(\"Invalid username. Must be at least 3 characters long\")\n",
    "    else:\n",
    "        if len(username) > 15:\n",
    "            print(\"Invalid username. Must be at most 15 characters long\")\n",
    "        else:\n",
    "            print(\"Valid username\")"
   ]
  },
  {
   "cell_type": "code",
   "execution_count": null,
   "id": "7c031d2b-80a0-4fd1-b983-96b6a5c63b1e",
   "metadata": {},
   "outputs": [],
   "source": []
  },
  {
   "cell_type": "markdown",
   "id": "4174a153-8be8-4b8a-bfc1-97efe16986ac",
   "metadata": {},
   "source": [
    "\n",
    "## **About this code**\n",
    "\n",
    "This snippet of code defines a function called **hint_username**. The **if len(username) < 3:** statement checks the length of the string username. If the length of the string is less than 3 characters, the code inside the if statement is executed. The **print(\"Invalid username. Must be at least 3 characters long\")** statement prints the message \"Invalid username. Must be at least 3 characters long\". The **else:** statement is executed if the length of the string username is greater than 15 characters. In this case, the code inside the else statement is executed, which is the **print(\"Invalid username. Must be at most 15 characters long\")** statement. If the username is the correct length, between 3 and 15 characters long, **print(\"Valid username\")** is executed."
   ]
  },
  {
   "cell_type": "code",
   "execution_count": null,
   "id": "22ce2b5a-2e72-48cf-9588-bb294a5d2218",
   "metadata": {},
   "outputs": [],
   "source": []
  },
  {
   "cell_type": "code",
   "execution_count": null,
   "id": "7343e6c6-49d8-404b-9566-40a54ddfd62a",
   "metadata": {},
   "outputs": [],
   "source": [
    "def hint_username(username):\n",
    "    if len(username) < 3:\n",
    "        print(\"Invalid username. Must be at least 3 characters long\")\n",
    "    elif len(username) > 15:\n",
    "        print(\"Invalid username. Must be at most 15 characters long\")\n",
    "    else:\n",
    "        print(\"Valid username\")"
   ]
  },
  {
   "cell_type": "code",
   "execution_count": null,
   "id": "d11e3e01-b66a-4c28-a569-edc41a89b10f",
   "metadata": {},
   "outputs": [],
   "source": []
  },
  {
   "cell_type": "markdown",
   "id": "13c981d7-70ab-4ab8-a158-ccf09bd20b9d",
   "metadata": {},
   "source": [
    "## **About this code**\n",
    "\n",
    "This snippet of code works the same way as the code block we just looked at. The difference is that this code uses the **elif** statement. **elif** statements must be used along with an if statement. The **elif** statement will only be checked if the condition of the **if** statement was not true."
   ]
  },
  {
   "cell_type": "code",
   "execution_count": null,
   "id": "5c27ee97-f697-4ee5-b4cd-4c3432f964b5",
   "metadata": {},
   "outputs": [],
   "source": []
  }
 ],
 "metadata": {
  "kernelspec": {
   "display_name": "Python 3 (ipykernel)",
   "language": "python",
   "name": "python3"
  },
  "language_info": {
   "codemirror_mode": {
    "name": "ipython",
    "version": 3
   },
   "file_extension": ".py",
   "mimetype": "text/x-python",
   "name": "python",
   "nbconvert_exporter": "python",
   "pygments_lexer": "ipython3",
   "version": "3.11.8"
  }
 },
 "nbformat": 4,
 "nbformat_minor": 5
}
