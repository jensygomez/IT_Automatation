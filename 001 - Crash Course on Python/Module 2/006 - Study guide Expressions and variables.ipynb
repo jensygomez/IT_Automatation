{
  "nbformat": 4,
  "nbformat_minor": 0,
  "metadata": {
    "colab": {
      "provenance": []
    },
    "kernelspec": {
      "name": "python3",
      "display_name": "Python 3"
    },
    "language_info": {
      "name": "python"
    }
  },
  "cells": [
    {
      "cell_type": "markdown",
      "source": [
        "\n",
        "# Study guide: Expressions and variables\n",
        "\n",
        "This study guide provides a quick-reference summary of what you learned in this lesson and serves as a guide for the upcoming practice quiz.\n",
        "\n",
        "In the Expressions and Variables segment, you learned about expressions, variables, and the data types: string, integer, and float. You learned how to convert a value from one data type to another and you learned how to resolve a few common errors in Python.\n",
        "\n",
        "## **Terms**\n",
        "\n",
        "-   **expression** - a combination of numbers, symbols, or other values that produce a result when evaluated\n",
        "    \n",
        "-   **data types** - classes of data (e.g., string, int, float, Boolean, etc.), which include the properties and behaviors of instances of the data type (variables)\n",
        "    \n",
        "-   **variable** - an instance of a data type class, represented by a unique name within the code, that stores changeable values of the specific data type\n",
        "    \n",
        "-   **implicit conversion** - when the Python interpreter automatically converts one data type to another\n",
        "    \n",
        "-   **explicit conversion** - when code is written to manually convert one data type to another using a data type conversion function:\n",
        "    \n",
        "    -   str() - converts a value (often numeric) to a **string** data type\n",
        "        \n",
        "    -   int() - converts a value (usually a float) to an **integer** data type\n",
        "        \n",
        "    -   float() - converts a value (usually an integer) to a **float** data type\n",
        "        \n",
        "\n",
        "## **Variables Annotated by Type**\n",
        "\n",
        "Type annotations are optional in Python. They can be very helpful, though, because they make code easier to read. Annotations make the variable types clear to those reading the code. They can also help you catch errors during compilation. In the example below, we are using the typing module to annotate the different types of variables.\n"
      ],
      "metadata": {
        "id": "sexknvo9f2jo"
      }
    },
    {
      "cell_type": "code",
      "source": [
        "import typing\n",
        "# Define a variable of type str\n",
        "z: str = \"Hello, world!\"\n",
        "# Define a variable of type int\n",
        "x: int = 10\n",
        "# Define a variable of type float\n",
        "y: float = 1.23\n",
        "# Define a variable of type list\n",
        "list_of_numbers: typing.List[int] = [1, 2, 3]\n",
        "# Define a variable of type tuple\n",
        "tuple_of_numbers: typing.Tuple[int, int, int] = (1, 2, 3)\n",
        "# Define a variable of type dict\n",
        "dictionary: typing.Dict[str, int] = {\"key1\": 1, \"key2\": 2}\n",
        "# Define a variable of type set\n",
        "set_of_numbers: typing.Set[int] = {1, 2, 3}"
      ],
      "metadata": {
        "id": "QfkZEJPIf5nZ"
      },
      "execution_count": 6,
      "outputs": []
    },
    {
      "cell_type": "markdown",
      "source": [
        "________________________________________________________________________________"
      ],
      "metadata": {
        "id": "ZpfNocaygbXw"
      }
    },
    {
      "cell_type": "markdown",
      "source": [
        "\n",
        "## **Coding skills**\n",
        "\n",
        "### **Skill Group 1**\n",
        "\n",
        "-   Use variables to store values\n",
        "    \n",
        "-   Use basic arithmetic operators with variables to create expressions\n",
        "    \n",
        "-   Use explicit conversion to change a data type from float to string"
      ],
      "metadata": {
        "id": "4Ee_K1u7gZjw"
      }
    },
    {
      "cell_type": "code",
      "source": [
        "# The following lines assign the variable to the left of the =\n",
        "# assignment operator with the values and arithmetic expressions\n",
        "# on the right side of the = assignment operator.\n",
        "hotel_room = 100\n",
        "tax = hotel_room * 0.08\n",
        "total = hotel_room + tax\n",
        "room_guests = 4\n",
        "share_per_person = total/room_guests\n",
        "\n",
        "\n",
        "# This line outputs the result of the final calculation stored\n",
        "# in the variable \"share_per_person\"\n",
        "print(\"Each person needs to pay: \" + str(share_per_person)) # change a data type"
      ],
      "metadata": {
        "colab": {
          "base_uri": "https://localhost:8080/"
        },
        "id": "KQL8YnkSgcb4",
        "outputId": "3f02953d-48d1-41ff-9cf4-d93589b3d561"
      },
      "execution_count": 7,
      "outputs": [
        {
          "output_type": "stream",
          "name": "stdout",
          "text": [
            "Each person needs to pay: 27.0\n"
          ]
        }
      ]
    },
    {
      "cell_type": "markdown",
      "source": [
        "________________________________________________________________________________"
      ],
      "metadata": {
        "id": "ihgPyIIjg3wp"
      }
    },
    {
      "cell_type": "markdown",
      "source": [
        "\n",
        "### **Skill Group 2**\n",
        "\n",
        "-   Output multiple string variables on a single line to form a sentence\n",
        "    \n",
        "-   Use the plus (+) connector or a comma to connect strings in a print() function\n",
        "    \n",
        "-   Create spaces between variables in a print() function"
      ],
      "metadata": {
        "id": "BU5jzJ7wg7HB"
      }
    },
    {
      "cell_type": "code",
      "source": [
        "# The following 5 lines assign strings to a list of variables.\n",
        "salutation = \"Dr.\"\n",
        "first_name = \"Prisha\"\n",
        "middle_name = \"Jai\"\n",
        "last_name = \"Agarwal\"\n",
        "suffix = \"Ph.D.\"\n",
        "\n",
        "print(salutation + \" \" + first_name + \" \" + middle_name + \" \" + last_name + \", \" + suffix)\n",
        "# The comma as a string \", \" adds the conventional use of a comma plus a\n",
        "# space to separate the last name from the suffix.\n",
        "\n",
        "# Alternatively, you could use commas in place of the + connector:\n",
        "print(salutation, first_name, middle_name, last_name,\",\", suffix)\n",
        "# However, you will find that this produces a space before a comma within a string."
      ],
      "metadata": {
        "colab": {
          "base_uri": "https://localhost:8080/"
        },
        "id": "SuZwdMn2hD0h",
        "outputId": "71b89bbd-7f69-45dc-bae7-78de093c5e73"
      },
      "execution_count": 8,
      "outputs": [
        {
          "output_type": "stream",
          "name": "stdout",
          "text": [
            "Dr. Prisha Jai Agarwal, Ph.D.\n",
            "Dr. Prisha Jai Agarwal , Ph.D.\n"
          ]
        }
      ]
    },
    {
      "cell_type": "markdown",
      "source": [
        "________________________________________________________________________________"
      ],
      "metadata": {
        "id": "kkm_NsE_hccS"
      }
    },
    {
      "cell_type": "markdown",
      "source": [
        "\n",
        "### **Skill Group 3**\n",
        "\n",
        "-   Resolve TypeError caused by a data type mismatch issue\n",
        "    \n",
        "-   Use an explicit conversion function"
      ],
      "metadata": {
        "id": "waMwUuUFhfHK"
      }
    },
    {
      "cell_type": "code",
      "source": [
        "# The following code causes a type error between a string\n",
        "# and an integer:\n",
        "\n",
        "print(\"5 * 3 = \" + (5*3))\n",
        "\n",
        "\n",
        "# Resolution:\n",
        "# print(\"5 * 3 = \" + str(5*3))\n",
        "#\n",
        "# To avoid a type error between the string and the integer within the\n",
        "# print() function, you can make an explicit data type conversion by\n",
        "# using the str() function to convert the integer to a string."
      ],
      "metadata": {
        "colab": {
          "base_uri": "https://localhost:8080/",
          "height": 245
        },
        "id": "WbLxRIPEhsQp",
        "outputId": "77eb780b-a46a-41f5-b3ec-733cb1ef898f"
      },
      "execution_count": 9,
      "outputs": [
        {
          "output_type": "error",
          "ename": "TypeError",
          "evalue": "can only concatenate str (not \"int\") to str",
          "traceback": [
            "\u001b[0;31m---------------------------------------------------------------------------\u001b[0m",
            "\u001b[0;31mTypeError\u001b[0m                                 Traceback (most recent call last)",
            "\u001b[0;32m<ipython-input-9-20dda1874c88>\u001b[0m in \u001b[0;36m<cell line: 4>\u001b[0;34m()\u001b[0m\n\u001b[1;32m      2\u001b[0m \u001b[0;31m# and an integer:\u001b[0m\u001b[0;34m\u001b[0m\u001b[0;34m\u001b[0m\u001b[0m\n\u001b[1;32m      3\u001b[0m \u001b[0;34m\u001b[0m\u001b[0m\n\u001b[0;32m----> 4\u001b[0;31m \u001b[0mprint\u001b[0m\u001b[0;34m(\u001b[0m\u001b[0;34m\"5 * 3 = \"\u001b[0m \u001b[0;34m+\u001b[0m \u001b[0;34m(\u001b[0m\u001b[0;36m5\u001b[0m\u001b[0;34m*\u001b[0m\u001b[0;36m3\u001b[0m\u001b[0;34m)\u001b[0m\u001b[0;34m)\u001b[0m\u001b[0;34m\u001b[0m\u001b[0;34m\u001b[0m\u001b[0m\n\u001b[0m\u001b[1;32m      5\u001b[0m \u001b[0;34m\u001b[0m\u001b[0m\n\u001b[1;32m      6\u001b[0m \u001b[0;34m\u001b[0m\u001b[0m\n",
            "\u001b[0;31mTypeError\u001b[0m: can only concatenate str (not \"int\") to str"
          ]
        }
      ]
    },
    {
      "cell_type": "markdown",
      "source": [
        "________________________________________________________________________________"
      ],
      "metadata": {
        "id": "KdeNdHqfiJ2a"
      }
    },
    {
      "cell_type": "markdown",
      "source": [
        "\n",
        "### **Skill Group 4**\n",
        "\n",
        "-   Resolve a ZeroDivisionError caused by an attempt to divide by 0"
      ],
      "metadata": {
        "id": "p8vINtO-iMRr"
      }
    },
    {
      "cell_type": "code",
      "source": [
        "numerator = 7\n",
        "denominator = 0   # Possible resolution: Change the denominator value\n",
        "result = numerator / denominator\n",
        "print(result)\n",
        "\n",
        "\n",
        "# One possible assumption for a number divided by zero error might\n",
        "# include the issue of a null value as a denominator (could happen when\n",
        "# using a loop to iterate over values in a database). In such cases, the\n",
        "# desired outcome may be to leave the numerator value intact. The\n",
        "# numerator value can be preserved by reassigning the denominator with\n",
        "# the integer value of 1. The result would then equal the numerator."
      ],
      "metadata": {
        "colab": {
          "base_uri": "https://localhost:8080/",
          "height": 245
        },
        "id": "c3kNQncgiSDL",
        "outputId": "ce4e6182-aff0-4b35-ffd3-cf25ad517fff"
      },
      "execution_count": 10,
      "outputs": [
        {
          "output_type": "error",
          "ename": "ZeroDivisionError",
          "evalue": "division by zero",
          "traceback": [
            "\u001b[0;31m---------------------------------------------------------------------------\u001b[0m",
            "\u001b[0;31mZeroDivisionError\u001b[0m                         Traceback (most recent call last)",
            "\u001b[0;32m<ipython-input-10-9b60a66ac326>\u001b[0m in \u001b[0;36m<cell line: 3>\u001b[0;34m()\u001b[0m\n\u001b[1;32m      1\u001b[0m \u001b[0mnumerator\u001b[0m \u001b[0;34m=\u001b[0m \u001b[0;36m7\u001b[0m\u001b[0;34m\u001b[0m\u001b[0;34m\u001b[0m\u001b[0m\n\u001b[1;32m      2\u001b[0m \u001b[0mdenominator\u001b[0m \u001b[0;34m=\u001b[0m \u001b[0;36m0\u001b[0m   \u001b[0;31m# Possible resolution: Change the denominator value\u001b[0m\u001b[0;34m\u001b[0m\u001b[0;34m\u001b[0m\u001b[0m\n\u001b[0;32m----> 3\u001b[0;31m \u001b[0mresult\u001b[0m \u001b[0;34m=\u001b[0m \u001b[0mnumerator\u001b[0m \u001b[0;34m/\u001b[0m \u001b[0mdenominator\u001b[0m\u001b[0;34m\u001b[0m\u001b[0;34m\u001b[0m\u001b[0m\n\u001b[0m\u001b[1;32m      4\u001b[0m \u001b[0mprint\u001b[0m\u001b[0;34m(\u001b[0m\u001b[0mresult\u001b[0m\u001b[0;34m)\u001b[0m\u001b[0;34m\u001b[0m\u001b[0;34m\u001b[0m\u001b[0m\n\u001b[1;32m      5\u001b[0m \u001b[0;34m\u001b[0m\u001b[0m\n",
            "\u001b[0;31mZeroDivisionError\u001b[0m: division by zero"
          ]
        }
      ]
    },
    {
      "cell_type": "markdown",
      "source": [
        "________________________________________________________________________________"
      ],
      "metadata": {
        "id": "uzxzzgVVicyi"
      }
    },
    {
      "cell_type": "markdown",
      "source": [
        "\n",
        "## **Python practice information**\n",
        "\n",
        "For additional Python practice, the following links will take you to several popular online interpreters and codepads:\n",
        "\n",
        "-   [Welcome to Python](https://www.python.org/shell/)\n",
        "    \n",
        "-   [Online Python Interpreter](https://www.onlinegdb.com/online_python_interpreter)\n",
        "    \n",
        "-   [Create a new Repl](https://repl.it/languages/python3)\n",
        "    \n",
        "-   [Online Python-3 Compiler (Interpreter)](https://www.tutorialspoint.com/execute_python3_online.php)\n",
        "    \n",
        "-   [Compile Python 3 Online](https://rextester.com/l/python3_online_compiler)\n",
        "    \n",
        "-   [Your Python Trinket](https://trinket.io/python3)"
      ],
      "metadata": {
        "id": "EK3IdC8oifja"
      }
    }
  ]
}