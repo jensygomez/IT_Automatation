{
  "nbformat": 4,
  "nbformat_minor": 0,
  "metadata": {
    "colab": {
      "provenance": []
    },
    "kernelspec": {
      "name": "python3",
      "display_name": "Python 3"
    },
    "language_info": {
      "name": "python"
    }
  },
  "cells": [
    {
      "cell_type": "markdown",
      "source": [
        "\n",
        "# Built-in functions\n",
        "\n",
        "## **Built-in functions**\n",
        "\n",
        "In the last video, we explored built-in functions in Python, including print(), type(), and str(). **Built-in functions** are functions that exist within Python and can be called directly. In this reading, you’ll explore these further and also learn about the sorted() function and max()and min() function. In addition, you'll review how to pass the output of one function into another function.\n",
        "\n",
        "## **print()**\n",
        "\n",
        "The print() function outputs a specified object to the screen. The print() function is one of the most commonly used functions in Python because it allows you to output any detail from your code.\n",
        "\n",
        "To use the print() function, you pass the object you want to print as an argument to the function. The print() function takes in any number of arguments, separated by a comma, and prints all of them. For example, you can run the following code that prints a string, a variable, another string, and an integer together:"
      ],
      "metadata": {
        "id": "hEuletjTsjpB"
      }
    },
    {
      "cell_type": "code",
      "source": [
        "month = \"September\"\n",
        "print(\"Investigate failed login attempts during\", month, \"if more than\", 100)"
      ],
      "metadata": {
        "colab": {
          "base_uri": "https://localhost:8080/"
        },
        "id": "rcf0YpNlsmtC",
        "outputId": "07b132c3-3236-4b25-f7a8-05bf5bdfa77b"
      },
      "execution_count": 13,
      "outputs": [
        {
          "output_type": "stream",
          "name": "stdout",
          "text": [
            "Investigate failed login attempts during September if more than 100\n"
          ]
        }
      ]
    },
    {
      "cell_type": "markdown",
      "source": [
        "================================================================================"
      ],
      "metadata": {
        "id": "ZxnN7709swm8"
      }
    },
    {
      "cell_type": "markdown",
      "source": [
        "\n",
        "## **type()**\n",
        "\n",
        "The type() function returns the data type of its argument. The type() function helps you keep track of the data types of variables to avoid errors throughout your code.\n",
        "\n",
        "To use it, you pass the object as an argument, and it returns its data type. It only accepts one argument. For example, you could specify type(\"security\") or type(7).\n",
        "\n",
        "### Passing one function into another\n",
        "\n",
        "When working with functions, you often need to pass them through print() if you want to output the data type to the screen. This is the case when using a function like type(). Consider the following code:"
      ],
      "metadata": {
        "id": "qYccS_Z-szKM"
      }
    },
    {
      "cell_type": "code",
      "source": [
        "print(type(\"This is a string\"))"
      ],
      "metadata": {
        "colab": {
          "base_uri": "https://localhost:8080/"
        },
        "id": "yPQ-57yws4vb",
        "outputId": "c186f1fe-e7ba-4cee-8452-8cd3e1dcda87"
      },
      "execution_count": 14,
      "outputs": [
        {
          "output_type": "stream",
          "name": "stdout",
          "text": [
            "<class 'str'>\n"
          ]
        }
      ]
    },
    {
      "cell_type": "markdown",
      "source": [
        "It displays str(), which means that the argument passed to the type() function is a string. This happens because the type() function is processed first and its output is passed as an argument to the print() function."
      ],
      "metadata": {
        "id": "XHlGJlRAtBpj"
      }
    },
    {
      "cell_type": "markdown",
      "source": [
        "================================================================================"
      ],
      "metadata": {
        "id": "vLIeTElHs8Tj"
      }
    },
    {
      "cell_type": "markdown",
      "source": [
        "## **str()**\n",
        "\n",
        "The str() function can be used to convert any data type to a string. The str()function takes a single argument, which is the value that you want to convert to a string. The str() function will then return a string representation of the value.\n",
        "\n",
        "In this example, the str() function will convert the number 12 to a string. This will run the code and print the string representation of the number."
      ],
      "metadata": {
        "id": "wd-SiuljtDND"
      }
    },
    {
      "cell_type": "code",
      "source": [
        "number = 12\n",
        "string_representation = str(number)\n",
        "print(string_representation)"
      ],
      "metadata": {
        "colab": {
          "base_uri": "https://localhost:8080/"
        },
        "id": "81QcEdYWt1b_",
        "outputId": "08fe44be-eb7f-4a6c-aec0-a4e43024356d"
      },
      "execution_count": 15,
      "outputs": [
        {
          "output_type": "stream",
          "name": "stdout",
          "text": [
            "12\n"
          ]
        }
      ]
    },
    {
      "cell_type": "markdown",
      "source": [
        "================================================================================"
      ],
      "metadata": {
        "id": "9y1e8tYDt5k-"
      }
    },
    {
      "cell_type": "markdown",
      "source": [
        "## **sorted()**\n",
        "\n",
        "The **sorted()** function sorts the components of a list. The **sorted()** function also works on any iterable, like a string, and returns the sorted elements in a list. By default, it sorts them in ascending order. When given an iterable that contains numbers, it sorts them from smallest to largest; this includes iterables that contain numeric data as well as iterables that contain string data beginning with numbers. An iterable that contains strings that begin with alphabetic characters will be sorted alphabetically.\n",
        "\n",
        "The **sorted()** function takes an iterable, like a list or a string, as an input. So, for example, you can use the following code to sort the list of login sessions from shortest to longest:"
      ],
      "metadata": {
        "id": "ocgQP7vwt8R2"
      }
    },
    {
      "cell_type": "code",
      "source": [
        "time_list = [12, 2, 32, 19, 57, 22, 14]\n",
        "print(sorted(time_list))"
      ],
      "metadata": {
        "colab": {
          "base_uri": "https://localhost:8080/"
        },
        "id": "tPGM96K8uL8v",
        "outputId": "8016df91-9ccb-4bf1-c7ad-26ddb06d574f"
      },
      "execution_count": 16,
      "outputs": [
        {
          "output_type": "stream",
          "name": "stdout",
          "text": [
            "[2, 12, 14, 19, 22, 32, 57]\n"
          ]
        }
      ]
    },
    {
      "cell_type": "markdown",
      "source": [
        "This displays the sorted list.\n",
        "\n",
        "The **sorted()** function does not change the iterable that it sorts. The following code illustrates this:"
      ],
      "metadata": {
        "id": "B7Q9Q6SeueYG"
      }
    },
    {
      "cell_type": "code",
      "source": [
        "time_list = [12, 2, 32, 19, 57, 22, 14]\n",
        "print(sorted(time_list))\n",
        "print(time_list)"
      ],
      "metadata": {
        "colab": {
          "base_uri": "https://localhost:8080/"
        },
        "id": "d9zFHlnuuiAY",
        "outputId": "e30aecfe-c0d8-4ece-bbef-ea4ad9ed19ac"
      },
      "execution_count": 17,
      "outputs": [
        {
          "output_type": "stream",
          "name": "stdout",
          "text": [
            "[2, 12, 14, 19, 22, 32, 57]\n",
            "[12, 2, 32, 19, 57, 22, 14]\n"
          ]
        }
      ]
    },
    {
      "cell_type": "markdown",
      "source": [
        "The first **print()** function displays the sorted list. However, the** second print()** function, which does not include the **sorted()** function, displays the list as assigned to time_list in the first line of code.\n",
        "\n",
        "One more important detail about the **sorted()** function is that it cannot take lists or strings that have elements of more than one data type. For example, you can’t use the list **[1, 2, \"hello\"].**\n",
        "\n"
      ],
      "metadata": {
        "id": "8sH4ic9luoU-"
      }
    },
    {
      "cell_type": "markdown",
      "source": [
        "================================================================================"
      ],
      "metadata": {
        "id": "TJVmVaLPuz6f"
      }
    },
    {
      "cell_type": "markdown",
      "source": [
        "\n",
        "## **max() and min()**\n",
        "\n",
        "The **max()** function returns the largest numeric input passed into it. The **min()** function returns the smallest numeric input passed into it.\n",
        "\n",
        "The **max()** and **min()** functions accept arguments of either multiple numeric values or of an iterable like a list, and they return the largest or smallest value respectively.\n",
        "\n",
        "For example, you could use these functions to identify the longest or shortest session that a user logged in for. If a specific user logged in seven times during a week, and you stored their access times in minutes in a list, you can use the **max()** and **min()** functions to find and print their longest and shortest sessions:\n"
      ],
      "metadata": {
        "id": "SJQBqijFvJ8H"
      }
    },
    {
      "cell_type": "code",
      "source": [
        "time_list = [12, 2, 32, 19, 57, 22, 14]\n",
        "print(min(time_list))\n",
        "print(max(time_list))"
      ],
      "metadata": {
        "colab": {
          "base_uri": "https://localhost:8080/"
        },
        "id": "auN_mA9nvLN_",
        "outputId": "08cb9ff4-3050-4e7b-eb3a-873d897366b8"
      },
      "execution_count": 18,
      "outputs": [
        {
          "output_type": "stream",
          "name": "stdout",
          "text": [
            "2\n",
            "57\n"
          ]
        }
      ]
    },
    {
      "cell_type": "markdown",
      "source": [
        "================================================================================"
      ],
      "metadata": {
        "id": "jFmMqD1vvRSQ"
      }
    },
    {
      "cell_type": "markdown",
      "source": [
        "\n",
        "## **Key takeaways**\n",
        "\n",
        "Built-in functions are powerful tools in Python that allow you to perform tasks with one simple command. The print() function prints its arguments to the screen, the type() function returns the data type of its argument, the sorted() organizes its argument, and the min() and max() functions return the smallest and largest values of an iterable respectively.\n",
        "\n",
        "## **Resources for more information**\n",
        "\n",
        "These were just a few of Python's built-in functions. You can continue learning about others on your own:\n",
        "\n",
        "-   [The Python Standard Library documentationOpens in a new tab](https://docs.python.org/3/library/functions.html) : A list of Python’s built-in functions and information on how to use them"
      ],
      "metadata": {
        "id": "MzviVmWDvUDJ"
      }
    }
  ]
}