{
 "cells": [
  {
   "cell_type": "markdown",
   "id": "88189d01-0c8a-479d-889d-6ebf968a7c60",
   "metadata": {},
   "source": [
    "# Logical Operators\n",
    "\n",
    "Logical operators are used to construct more complex expressions. You can make complex comparisons by joining comparison statements together using the logical operators: **and**, **or**, **not**. Complex comparisons return a Boolean (**True** or **False**) result. \n",
    "\n",
    "- **and**\n",
    "  \n",
    "  - Both sides of the statement being evaluated must be True for the whole statement to be True.\n",
    "    \n",
    "  - Example: (5 > 1 **and** 5 **<** 10) = **True**\n",
    "    \n",
    "- **or**\n",
    "  \n",
    "  - If either side of the comparison is True, then the whole statement is True.\n",
    "    \n",
    "  - Example: (color = \"blue\" **or** color = \"green\") = **True**\n",
    "    \n",
    "- **not**\n",
    "  \n",
    "  - Inverts the Boolean result of the statement immediately following it. So, if a statement evaluates to True, and we put the not operator in front of it, it would become False.\n",
    "    \n",
    "  - Example: (**not** \"A\" **==** \"A\") = **False**\n",
    "    \n",
    "\n",
    "# PART 1: The **and** Logical Operator\n",
    "\n",
    "In Python, you can use the logical operator **and** to connect more than one comparison. This type of complex comparison is used to check if two comparison statements are both True or not. You might use the **and** operator when you need to execute a block of code, but only if two different conditions are true. For example, you might want to write a script  that automates sending you an emergency alert if a server stops responding *and* there is an unusual increase in employees opening trouble tickets.  \n",
    "\n",
    "**Example 1:**\n",
    "\n",
    "The following model demonstrates the use of the **and** logical operator to join comparisons between two mathematical expressions. The description below the example explains the order in which Python will process the line of code."
   ]
  },
  {
   "cell_type": "code",
   "execution_count": 1,
   "id": "b9e9b6b3-441b-42ee-8ca6-666854f56659",
   "metadata": {},
   "outputs": [
    {
     "name": "stdout",
     "output_type": "stream",
     "text": [
      "True\n"
     ]
    }
   ],
   "source": [
    "# Example 1\n",
    "\n",
    "print((6*3 >= 18) and (9+9 <= 36/2))"
   ]
  },
  {
   "cell_type": "markdown",
   "id": "fcc5e1ce-ee49-4284-bbe6-ccf420039bd3",
   "metadata": {},
   "source": [
    "In the example above, the following activities were completed by Python in the following order:  \n",
    "\n",
    "1. Python solves the numerical expressions using the order of operations. **(6*3 >= 18) and (9+9 <= 36/2) becomes (18 >= 18) and (18 <= 18)**\n",
    "  \n",
    "2. Python compares the results of the numerical expressions using the comparison operators (in this case >= and <=). **(18 >= 18) and (18 <= 18) becomes True and True**\n",
    "  \n",
    "3. Python checks if both sides of the logical operator \"and\" are true. **True and True become True**\n",
    "  \n",
    "4. Python returns a Boolean value: True or False. **The complex comparison returns a True result.**\n",
    "  \n",
    "\n",
    "**Example 2:**\n",
    "\n",
    "In this next example, \"Nairobi\" < \"Milan\" and \"Nairobi\" > \"Hanoi\", the **and** logical operator is connecting two string comparison statements. You learned previously that using the greater than and less than operators on strings will test the alphabetical order (technically Unicode values) of the strings. So, this complex comparison is checking if \"Nairobi\" is alphabetized before \"Milan\" (False) AND after \"Hanoi\" (True). \n",
    "\n",
    "This comparison returns a False result because both sides of the logical operator are not True. A comparison statement like this might be used to iterate through a list of names to check if they are alphabetized in the correct order."
   ]
  },
  {
   "cell_type": "code",
   "execution_count": 2,
   "id": "1c2b1bd5-15b3-425f-8adf-0e4dc9c361f8",
   "metadata": {},
   "outputs": [
    {
     "name": "stdout",
     "output_type": "stream",
     "text": [
      "False\n"
     ]
    }
   ],
   "source": [
    "# Example 2\n",
    "\n",
    "print(\"Nairobi\" < \"Milan\" and \"Nairobi\" > \"Hanoi\")"
   ]
  },
  {
   "cell_type": "markdown",
   "id": "8418547a-2cf2-4a69-9107-822d6239148c",
   "metadata": {},
   "source": [
    "\n",
    " PART 2: The **or** Logical Operator\n",
    "\n",
    "The **or** logical operator tests two conditions to determine if at least one side of the **or** logical operator is True. The result of the test can be used to trigger a block of code if at least one condition is present.\n",
    "\n",
    "**Syntax:**"
   ]
  },
  {
   "cell_type": "code",
   "execution_count": null,
   "id": "5583aaa8-0e17-483e-9b21-27a29c10788c",
   "metadata": {},
   "outputs": [],
   "source": [
    "Expression1 or Expression2"
   ]
  },
  {
   "cell_type": "markdown",
   "id": "ef4497e4-cc4e-4d56-a457-7ddad338a38c",
   "metadata": {},
   "source": [
    "**Returns Booleans:** \n",
    "\n",
    "| **Expression1** | **Expression2** | **Returns Result** |\n",
    "| --- | --- | --- |\n",
    "| True | True | True |\n",
    "| True | False | True |\n",
    "| False | True | True |\n",
    "| False | False | False |\n",
    "\n",
    "**Examples:**"
   ]
  },
  {
   "cell_type": "code",
   "execution_count": null,
   "id": "4fa35a46-d60b-404a-8c72-296766b41904",
   "metadata": {},
   "outputs": [],
   "source": [
    "# True or True returns True\n",
    "print((15/3 < 2+4) or (0 >= 6-7))\n",
    "True\n",
    "\n",
    "# False or True returns True\n",
    "print(country == \"New York City\" or city == \"New York City\")\n",
    "True\n",
    "\n",
    "# True or False returns True\n",
    "print(16 <= 4**2 or 9**(0.5) != 3)\n",
    "True\n",
    "\n",
    "# False or False returns False\n",
    "print(\"B_name\" > \"C_name\" or \"B_name\" < \"A_name”)\n",
    "False"
   ]
  },
  {
   "cell_type": "markdown",
   "id": "1ad6b019-abfc-45c7-8b4a-a468c6355dd2",
   "metadata": {},
   "source": [
    "PART 3: The **not** Logical Operator\n",
    "\n",
    "The **not** logical operator inverts the value of the comparison expression. This is a helpful tool when you want to execute a block of code as long as a certain condition is **not** present.\n",
    "\n",
    "-   If the conditional expression is True, the **not** logical operator can be added to make the expression **not** True (False).\n",
    "    \n",
    "-   If the conditional expression is False, the **not** logical operator can be added to make the expression **not** False (True).\n",
    "    \n",
    "\n",
    "**Syntax:**"
   ]
  },
  {
   "cell_type": "code",
   "execution_count": null,
   "id": "0e8f5c1b-f568-4771-99a2-c14d82a2ca47",
   "metadata": {},
   "outputs": [],
   "source": [
    "not expression"
   ]
  },
  {
   "cell_type": "code",
   "execution_count": 3,
   "id": "4d2e2d30-05bf-4ad7-9ec4-6b9f72159cf8",
   "metadata": {},
   "outputs": [
    {
     "name": "stdout",
     "output_type": "stream",
     "text": [
      "The value of x is:\n",
      "False\n",
      "\n",
      "The inverse value of x is:\n",
      "True\n"
     ]
    }
   ],
   "source": [
    "# Test Example 1:\n",
    "\n",
    "x = 2*3 > 6\n",
    "print(\"The value of x is:\")\n",
    "print(x)\n",
    "\n",
    "print(\"\")  # Prints a blank line\n",
    "\n",
    "print(\"The inverse value of x is:\")\n",
    "print(not x)"
   ]
  },
  {
   "cell_type": "markdown",
   "id": "8745b1e0-b7a8-4194-8955-99a2702cee66",
   "metadata": {},
   "source": [
    "\n",
    "**Example 2:**\n",
    "\n",
    "Can you determine the result of the following comparison?"
   ]
  },
  {
   "cell_type": "code",
   "execution_count": 4,
   "id": "b3760bce-8cbf-4a1b-bd16-699173420c51",
   "metadata": {},
   "outputs": [
    {
     "name": "stdout",
     "output_type": "stream",
     "text": [
      "True\n"
     ]
    }
   ],
   "source": [
    "# What happens when you negate a False statement? \n",
    "# Click Run when you are ready to check your answer.\n",
    "\n",
    "\n",
    "today = \"Monday\"\n",
    "print(not today == \"Tuesday\") \n",
    "\n",
    "\n",
    "# The \"today\" variable states today is Monday. This makes the comparison\n",
    "# \"today == Tuesday\" False. The logical operator \"not\" inverts the False\n",
    "# result to become True. In other words, this expression asks if it is\n",
    "# false that today is not Tuesday. More succinctly, \"not False\" means \n",
    "# True.\""
   ]
  },
  {
   "cell_type": "markdown",
   "id": "7f6163c7-3979-45e9-b9b6-25d75fd837b6",
   "metadata": {},
   "source": [
    "PART 4: Practice\n",
    "\n",
    "If you would like more practice using the logical (**and**, **or**, **not**) operators, feel free to create your own comparisons using the code block below. Note that there is no feedback associated with this code block."
   ]
  },
  {
   "cell_type": "code",
   "execution_count": null,
   "id": "3a0ed733-0090-4058-8ccd-c2c0dced9694",
   "metadata": {},
   "outputs": [],
   "source": [
    "### YOUR CODE HERE ###"
   ]
  },
  {
   "cell_type": "markdown",
   "id": "655ec619-06fe-4e4e-9999-13fa89efd9e0",
   "metadata": {},
   "source": [
    "For additional Python practice, the following links are for several popular online interpreters and codepads:\n",
    "\n",
    "- [Welcome to Python](https://www.python.org/shell/) \n",
    "  \n",
    "- [Online Python Interpreter](https://www.onlinegdb.com/online_python_interpreter) \n",
    "  \n",
    "- [Create a new Repl](https://repl.it/languages/python3) \n",
    "  \n",
    "- [Online Python-3 Compiler (Interpreter)](https://www.tutorialspoint.com/execute_python3_online.php)\n",
    "  \n",
    "- [Compile Python 3 Online](https://rextester.com/l/python3_online_compiler)\n",
    "  \n",
    "- [Your Python Trinket](https://trinket.io/python3)\n",
    "  \n",
    "\n",
    "# Key takeaways\n",
    "\n",
    "When Python logical operators are used with comparison operators, the interpreter will return Boolean results (**True** or **False**):\n",
    "\n",
    "| **Expression** | **Description** |\n",
    "| --- | --- |\n",
    "| a **==** a **and** a **!=** b | True if both sides are True, otherwise False. |\n",
    "| a **>** b **or** a **<=** c | True if either side is True. False if both sides are False. |\n",
    "| **not** a **==** b | True if the statement is False, False if the statement is True. |\n",
    "\n",
    "# Resources for more information\n",
    "\n",
    "For more information about the concepts covered in these practice exercises, please visit:\n",
    "\n",
    "- [Understanding Boolean Logic in Python 3](https://www.digitalocean.com/community/tutorials/understanding-boolean-logic-in-python-3) - A handy guide for reviewing both logical and conditional operators."
   ]
  }
 ],
 "metadata": {
  "kernelspec": {
   "display_name": "Python 3 (ipykernel)",
   "language": "python",
   "name": "python3"
  },
  "language_info": {
   "codemirror_mode": {
    "name": "ipython",
    "version": 3
   },
   "file_extension": ".py",
   "mimetype": "text/x-python",
   "name": "python",
   "nbconvert_exporter": "python",
   "pygments_lexer": "ipython3",
   "version": "3.11.7"
  }
 },
 "nbformat": 4,
 "nbformat_minor": 5
}
