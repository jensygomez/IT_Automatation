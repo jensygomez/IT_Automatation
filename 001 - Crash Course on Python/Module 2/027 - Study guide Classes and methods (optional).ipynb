{
 "cells": [
  {
   "cell_type": "markdown",
   "id": "8cda8300-c73d-45b3-9fa2-20960211146d",
   "metadata": {},
   "source": [
    "\n",
    "# Study guide: Classes and methods (optional)\n",
    "\n",
    "In the past few videos, we’ve seen how to define classes and methods in Python. Here, you’ll find a run-down of everything we’ve covered, so you can refer to it whenever you need a refresher.\n",
    "\n",
    "## **Defining classes and methods**\n"
   ]
  },
  {
   "cell_type": "code",
   "execution_count": null,
   "id": "d775cb84-d813-4594-982c-85769a062bfb",
   "metadata": {},
   "outputs": [],
   "source": [
    "\n",
    "class ClassName:\n",
    "    def method_name(self, other_parameters):\n",
    "        body_of_method\n",
    "        "
   ]
  },
  {
   "cell_type": "markdown",
   "id": "adbcb800-3169-4a15-9dfa-6a62d731db6d",
   "metadata": {},
   "source": [
    "\n",
    "\n",
    "## **Classes and instances**\n",
    "\n",
    "-   Classes define the behavior of all instances of a specific class. In Python, the code defining a class is, itself, an object; classes can be used without instantiating a single object, such as when using static methods\n",
    "    \n",
    "-   Remember, each variable of a specific class is an instance or object.\n",
    "    \n",
    "-   In Python, \"getters and setters\" are methods used for controlling access to an object's attributes. The getter method retrieves the value of an attribute, while the setter method sets or changes the attribute's value, often including some sort of validation or modification to the data before setting the value.\n",
    "    \n",
    "-   You can access an instance's attribute, like name, by calling self.name within the class methods, or <instance>.name outside the class, where <instance> is the specific instance of the class you're working with.Objects can have attributes, which store information about the object.\n",
    "    \n",
    "-   You can make objects do work by calling their methods.\n",
    "    \n",
    "-   The first parameter of the methods, (self), represents the current instance.\n",
    "    \n",
    "-   Methods are just like functions, but they can only be used through a class.\n",
    "    \n",
    "-   You can use class methods in conjunction with a class variable to track the number of instances of a class, incrementing the class variable each time an instance is created in the class's __init__ method.\n",
    "    \n",
    "\n",
    "## **Special methods**\n",
    "\n",
    "-   Special methods start and end with __.\n",
    "    \n",
    "-   Special methods have specific names, like __init__ for the constructor or __str__ for the conversion to string.\n",
    "    \n",
    "-   The methods __str__ and __repr__ allow you to define human-readable and unambiguous string representations of your objects, respectively.\n",
    "    \n",
    "-   By defining methods like __eq__, __ne__, __lt__, __gt__, __le__, and __ge__, you can control how objects of your class are compared.\n",
    "    \n",
    "\n",
    "## **Documenting classes, methods, and functions**\n",
    "\n",
    "-   You can add documentation to classes, methods, and functions by using docstrings right after the definition. Like this:\n",
    "-   "
   ]
  },
  {
   "cell_type": "code",
   "execution_count": null,
   "id": "3f738b3e-499d-41eb-9b10-e78dcf76d3a3",
   "metadata": {},
   "outputs": [],
   "source": [
    "\n",
    "class ClassName:\n",
    "    \"\"\"Documentation for the class.\"\"\"\n",
    "    def method_name(self, other_parameters):\n",
    "        \"\"\"Documentation for the method.\"\"\"\n",
    "        body_of_method\n",
    "        \n",
    "def function_name(parameters):\n",
    "    \"\"\"Documentation for the function.\"\"\"\n",
    "    body_of_function\n",
    "    "
   ]
  },
  {
   "cell_type": "markdown",
   "id": "6d8340bc-7c98-4ee9-9741-e14c9cb78ef1",
   "metadata": {},
   "source": [
    "\n",
    "A great way to use `docstrings` is to have an example of using the function, with its expected output.\n"
   ]
  },
  {
   "cell_type": "code",
   "execution_count": null,
   "id": "50c2825c-0282-4a6b-8f37-859d2a7bec55",
   "metadata": {},
   "outputs": [],
   "source": [
    "\n",
    "def my_function(x):\n",
    "    \"\"\"\n",
    "    Sample usage:\n",
    "    >>> my_function(“example input”)\n",
    "    \"example output\"\n",
    "    \"\"\"\n",
    "    "
   ]
  },
  {
   "cell_type": "markdown",
   "id": "3d88f15c-9099-4113-89e2-57d3e0af4d3e",
   "metadata": {},
   "source": [
    "\n",
    "When in an interactive Python section, you can display `docstrings` with:\n"
   ]
  },
  {
   "cell_type": "code",
   "execution_count": null,
   "id": "d2600838-4041-4289-9fef-753e85bbb884",
   "metadata": {},
   "outputs": [],
   "source": [
    "\n",
    "help(some_function)\n"
   ]
  },
  {
   "cell_type": "markdown",
   "id": "981d0428-9781-4612-9bc6-51e2ffd32d26",
   "metadata": {},
   "source": [
    "\n",
    "Or in your code code you can retrieve it and use it in your program just as you would with any other string:\n"
   ]
  },
  {
   "cell_type": "code",
   "execution_count": null,
   "id": "0c3ea437-15c5-4f8b-8319-c8b91d5bc292",
   "metadata": {},
   "outputs": [],
   "source": [
    "\n",
    "some_function.__doc__\n",
    "print(some_function.__doc__)\n",
    "function_explanation = other_function.__doc__\n"
   ]
  },
  {
   "cell_type": "markdown",
   "id": "14a57801-4d75-42ce-a91c-c0064958e471",
   "metadata": {},
   "source": [
    "\n",
    "Reference: [Data model](https://docs.python.org/3/reference/datamodel.html)\n"
   ]
  },
  {
   "cell_type": "code",
   "execution_count": null,
   "id": "940b1a59-ae29-428f-a23a-531d2fe1c8fa",
   "metadata": {},
   "outputs": [],
   "source": []
  }
 ],
 "metadata": {
  "kernelspec": {
   "display_name": "Python 3 (ipykernel)",
   "language": "python",
   "name": "python3"
  },
  "language_info": {
   "codemirror_mode": {
    "name": "ipython",
    "version": 3
   },
   "file_extension": ".py",
   "mimetype": "text/x-python",
   "name": "python",
   "nbconvert_exporter": "python",
   "pygments_lexer": "ipython3",
   "version": "3.11.7"
  }
 },
 "nbformat": 4,
 "nbformat_minor": 5
}
