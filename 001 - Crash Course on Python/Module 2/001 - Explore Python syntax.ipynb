{
 "cells": [
  {
   "cell_type": "markdown",
   "metadata": {},
   "source": [
    "\n",
    "# Explore Python syntax\n",
    "\n",
    "Python is a flexible programming language used in a wide range of fields, including software development, machine learning, and data analysis. Python is one of the most popular programming languages for data professionals, so getting familiar with its fundamental syntax and semantics will be useful for your future career. In this reading, you will learn about Python’s syntax and semantics, as well as where to find resources to further your learning.\n",
    "\n",
    "## The Language of Python\n",
    "\n",
    "People use language to communicate and give instructions to each other. Computers do the same thing, except computers use languages like Python, C++, and Java. So, in order to communicate instructions to the computer, programmers need to arrange ideas and concepts into a language it will understand.\n",
    "\n",
    "Python syntax includes words that represent objects and commands, as well as punctuation that gives the words structure, hierarchy, and context. Together, the words and punctuation communicate ideas and processes; this is known as semantics. Semantics is the meaning conveyed by the syntax. The best way to learn syntax and semantics is through exposure. Practice coding and become familiar and comfortable with reading other people’s code. In addition, there are some general conventions that practitioners use to help maintain stylistic uniformity within the language.\n",
    "\n",
    "Coding languages are similar to spoken languages in that they have a way to classify words according to their function. For example, English sentences are composed of nouns, verbs, prepositions, etc. Here are some of the basics:\n",
    "\n",
    "-   **Variables:** Represent data stored as strings, tuples, dictionaries, lists, and objects (note: future readings explain these categories)\n",
    "    \n",
    "-   **Keywords:** Special words that are reserved for specific purposes and that can only be used for those purposes"
   ]
  },
  {
   "cell_type": "code",
   "execution_count": null,
   "metadata": {},
   "outputs": [],
   "source": [
    "in\n",
    "not\n",
    "or\n",
    "for\n",
    "while\n",
    "return"
   ]
  },
  {
   "cell_type": "markdown",
   "metadata": {},
   "source": [
    "\n",
    "-   **Operators:** Symbols that perform operations on objects and values"
   ]
  },
  {
   "cell_type": "code",
   "execution_count": null,
   "metadata": {},
   "outputs": [],
   "source": [
    "+\n",
    "-\n",
    "*\n",
    "/\n",
    "**\n",
    "%\n",
    "//\n",
    ">\n",
    "<\n",
    "=="
   ]
  },
  {
   "cell_type": "markdown",
   "metadata": {},
   "source": [
    "-   **Expressions:** A combination of numbers, symbols, and variables to compute and return a result upon evaluation\n",
    "    \n",
    "-   **Functions:** A group of related statements to perform a task and return a value"
   ]
  },
  {
   "cell_type": "code",
   "execution_count": null,
   "metadata": {},
   "outputs": [],
   "source": [
    "def to_celsius(x):\n",
    "    '''Convert Fahrenheit to Celsius'''\n",
    "return (x-32) * 5/9\n",
    "\n",
    "\n",
    "to_celsius(75)"
   ]
  },
  {
   "cell_type": "markdown",
   "metadata": {},
   "source": [
    "-   **Conditional statements:** Sections of code that direct program execution based on specified conditions"
   ]
  },
  {
   "cell_type": "code",
   "execution_count": 3,
   "metadata": {},
   "outputs": [
    {
     "name": "stdout",
     "output_type": "stream",
     "text": [
      "Number is negative.\n"
     ]
    }
   ],
   "source": [
    "number = -4\n",
    "\n",
    "\n",
    "if number > 0:\n",
    "    print('Number is positive.')\n",
    "elif number == 0:\n",
    "    print('Number is zero.')\n",
    "else:\n",
    "    print('Number is negative.')"
   ]
  },
  {
   "cell_type": "markdown",
   "metadata": {},
   "source": [
    "As you’ll surely discover, Python generates syntax errors for incorrectly used keywords and syntax.\n",
    "\n",
    "Example:"
   ]
  },
  {
   "cell_type": "code",
   "execution_count": 4,
   "metadata": {},
   "outputs": [
    {
     "ename": "SyntaxError",
     "evalue": "invalid character '’' (U+2019) (1015363433.py, line 1)",
     "output_type": "error",
     "traceback": [
      "\u001b[0;36m  Cell \u001b[0;32mIn[4], line 1\u001b[0;36m\u001b[0m\n\u001b[0;31m    print(This will throw an error because I didn’t make it a string.)\u001b[0m\n\u001b[0m                                                 ^\u001b[0m\n\u001b[0;31mSyntaxError\u001b[0m\u001b[0;31m:\u001b[0m invalid character '’' (U+2019)\n"
     ]
    }
   ],
   "source": [
    "print(This will throw an error because I didn’t make it a string.)"
   ]
  },
  {
   "cell_type": "markdown",
   "metadata": {},
   "source": [
    "\n",
    "## Naming rules and conventions\n",
    "\n",
    "When assigning names to objects, programmers adhere to a set of rules and conventions which help to standardize code and make it more accessible to everyone. Here are some naming rules and conventions that you should know:\n",
    "\n",
    "-   Names cannot contain spaces.\n",
    "    \n",
    "-   Names may be a mixture of upper and lower case characters.\n",
    "    \n",
    "-   Names can’t start with a number but may contain numbers after the first character.\n",
    "    \n",
    "-   Variable names and function names should be written in snake_case, which means that all letters are lowercase and words are separated using an underscore.\n",
    "    \n",
    "-   Descriptive names are better than cryptic abbreviations because they help other programmers (and you) read and interpret your code. For example, student_name is better than sn. It may feel excessive when you write it, but when you return to your code you’ll find it much easier to understand.\n",
    "    \n",
    "\n",
    "Tim Peters, a Python programmer, wrote this now-famous “poem” of guiding principles for coding in Python:\n",
    "\n",
    "## The Zen of Python\n",
    "\n",
    "Beautiful is better than ugly.\n",
    "\n",
    "Explicit is better than implicit.\n",
    "\n",
    "Simple is better than complex.\n",
    "\n",
    "Complex is better than complicated.\n",
    "\n",
    "Flat is better than nested.\n",
    "\n",
    "Sparse is better than dense.\n",
    "\n",
    "Readability counts.\n",
    "\n",
    "Special cases aren't special enough to break the rules.\n",
    "\n",
    "Although practicality beats purity.\n",
    "\n",
    "Errors should never pass silently.\n",
    "\n",
    "Unless explicitly silenced.\n",
    "\n",
    "In the face of ambiguity, refuse the temptation to guess.\n",
    "\n",
    "There should be one—and preferably only one—obvious way to do it.\n",
    "\n",
    "Although that way may not be obvious at first unless you're Dutch.\n",
    "\n",
    "Now is better than never.\n",
    "\n",
    "Although never is often better than *right* now.\n",
    "\n",
    "If the implementation is hard to explain, it's a bad idea.\n",
    "\n",
    "If the implementation is easy to explain, it may be a good idea.\n",
    "\n",
    "Namespaces are one honking great idea -- let's do more of those!\n",
    "\n",
    "Finally, it’s helpful to bookmark the [PEP 8 Style Guide for Python](https://peps.python.org/pep-0008/) so you can reference it as needed. This reading is limited in scope, and PEP 8 is a more exhaustive resource for style-related matters. PEP stands for Python Enhancement Proposals. These are a running catalog of ways to improve or standardize Python as a language. Because Python is open source, PEP offers a framework to guide developers and build consensus around ideas. It’s a useful and trusted resource.\n",
    "\n",
    "## Key takeaways\n",
    "\n",
    "Syntax and semantics are what give form and meaning to a language, including Python. A large part of learning a new language is familiarizing yourself with its syntax and semantics. Much of this comes through exposure and practice, but there are a few guiding principles and resources that can help you along the way. If you learn the rules about naming objects and build a bank of resources that you can reference for guidance, you’ll surely make progress as a Python learner. As you get more familiar with Python, you’ll be able to communicate more efficiently with computers and do more with your data analysis tools!\n",
    "\n",
    "# Resources for more information\n",
    "\n",
    "Here are a few useful resources to help you get more familiar with Python:\n",
    "\n",
    "-   Python [Reference Library](https://docs.python.org/3/library/)\n",
    "    \n",
    "    -   [Built-in Data types](https://docs.python.org/3/library/stdtypes.html)\n",
    "        \n",
    "    -   [Built-in functions](https://docs.python.org/3/library/functions.html#built-in-functions)\n",
    "        \n",
    "-   [Python operators](https://python-reference.readthedocs.io/en/latest/docs/operators/index.html)"
   ]
  }
 ],
 "metadata": {
  "kernelspec": {
   "display_name": "Python 3",
   "language": "python",
   "name": "python3"
  },
  "language_info": {
   "codemirror_mode": {
    "name": "ipython",
    "version": 3
   },
   "file_extension": ".py",
   "mimetype": "text/x-python",
   "name": "python",
   "nbconvert_exporter": "python",
   "pygments_lexer": "ipython3",
   "version": "3.11.7"
  }
 },
 "nbformat": 4,
 "nbformat_minor": 2
}
