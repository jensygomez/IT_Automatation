{
 "cells": [
  {
   "cell_type": "markdown",
   "metadata": {},
   "source": [
    "**Author:**       Jensy Gregorio Gómez \n",
    "---------------------------------------\n",
    "**Profession:**  IT Support Analyst  \n",
    "**Date:**         26 Febrero 2024     \n",
    "**Location:**     Vila Isabel, Curitiba/PR  \n",
    "\n",
    "\n",
    "---\n",
    "\n",
    "**Contacto:**\n",
    "\n",
    "- **Email:** [contact@jensygomez.us](mailto:contact@jensygomez.us)\n",
    "- **YouTube:** [Tu Canal de YouTube](https://www.youtube.com/@systechcwb826)\n",
    "- **LinkedIn:** [Tu Perfil de LinkedIn](https://www.linkedin.com/in/jensygomez/)\n",
    "\n",
    "\n"
   ]
  },
  {
   "cell_type": "markdown",
   "metadata": {},
   "source": [
    "\n",
    "# Review: Writing the Script\n",
    "\n",
    "This reading contains the code used in the instructional videos from [**Writing the Script**](https://www.coursera.org/learn/python-crash-course/lecture/l5dZ7/writing-the-script).\n",
    "\n",
    "## Introduction\n",
    "\n",
    "This follow-along reading is organized to match the content in the video that follows. It contains the same code shown in the next video. These code blocks will provide you with the opportunity to see how the code is written, allow you to practice running it, and can be used as a reference to refer back to.\n",
    "\n",
    "You can follow along in the reading as the instructor discusses the code or review the code after watching the video.\n"
   ]
  },
  {
   "cell_type": "code",
   "execution_count": null,
   "metadata": {},
   "outputs": [],
   "source": [
    "def get_event_date(event):\n",
    "    # Retrieve the date attribute from the event object\n",
    "    return event.date\n"
   ]
  },
  {
   "cell_type": "markdown",
   "metadata": {},
   "source": [
    "\n",
    "**Explanation:**\n",
    "\n",
    "-   This function takes an event object as input.\n",
    "-   It assumes that the event object has a `date` attribute.\n",
    "-   It simply returns the value of the `date` attribute from the event object.\n",
    "-   This function is likely used as a key function for sorting events based on their date, as seen in the `current_users` function."
   ]
  },
  {
   "cell_type": "code",
   "execution_count": null,
   "metadata": {},
   "outputs": [],
   "source": [
    "def current_users(events):\n",
    "    # Sort the events chronologically based on their date\n",
    "    events.sort(key=get_event_date)\n",
    "    \n",
    "    # Create an empty dictionary to store the current users for each machine\n",
    "    machines = {}\n",
    "    \n",
    "    # Iterate through each event\n",
    "    for event in events:\n",
    "        # Check if the machine associated with the event is not already in the 'machines' dictionary\n",
    "        if event.machine not in machines:\n",
    "            # If the machine is not present, initialize an empty set for it\n",
    "            machines[event.machine] = set()\n",
    "        \n",
    "        # Check the type of the event\n",
    "        if event.type == \"login\":\n",
    "            # If it's a login event, add the user to the set of users for that machine\n",
    "            machines[event.machine].add(event.user)\n",
    "        elif event.type == \"logout\":\n",
    "            # If it's a logout event, remove the user from the set of users for that machine\n",
    "            machines[event.machine].remove(event.user)\n",
    "    \n",
    "    # Return the dictionary containing the current users for each machine\n",
    "    return machines\n"
   ]
  },
  {
   "cell_type": "markdown",
   "metadata": {},
   "source": [
    "\n",
    "**Explanation:**\n",
    "\n",
    "-   The `current_users` function takes a list of events as input.\n",
    "-   It sorts the events chronologically based on their dates using the `get_event_date` function.\n",
    "-   It initializes an empty dictionary `machines` to store the current users for each machine.\n",
    "-   It iterates through each event:\n",
    "    -   If the machine associated with the event is not already in the `machines` dictionary, it initializes an empty set for that machine.\n",
    "    -   If the event type is \"login\", it adds the user to the set of users for that machine.\n",
    "    -   If the event type is \"logout\", it removes the user from the set of users for that machine.\n",
    "-   Finally, it returns the `machines` dictionary containing the current users for each machine."
   ]
  },
  {
   "cell_type": "code",
   "execution_count": null,
   "metadata": {},
   "outputs": [],
   "source": [
    "def generate_report(machines):\n",
    "    # Iterate over each machine and its associated users in the 'machines' dictionary\n",
    "    for machine, users in machines.items():\n",
    "        # Check if there are any users associated with the current machine\n",
    "        if len(users) > 0:\n",
    "            # If there are users, join them into a comma-separated string\n",
    "            user_list = \",\".join(users)\n",
    "            # Print the machine name and the associated user list\n",
    "            print(\"{}: {}\".format(machine, user_list))\n"
   ]
  },
  {
   "cell_type": "markdown",
   "metadata": {},
   "source": [
    "\n",
    "**Explanation:**\n",
    "\n",
    "-   The `generate_report` function takes a dictionary `machines` as input, where keys represent machine names and values represent sets of users logged into each machine.\n",
    "-   It iterates over each key-value pair in the `machines` dictionary using the `items()` method.\n",
    "-   For each machine, it checks if there are any users associated with it by checking the length of the user set. If the length is greater than 0, it means there are users logged into that machine.\n",
    "-   It then joins the users into a comma-separated string using `\",\".join(users)`.\n",
    "-   Finally, it prints out the machine name along with the associated user list using the `print()` function and string formatting.\n",
    "  "
   ]
  }
 ],
 "metadata": {
  "kernelspec": {
   "display_name": "Python 3 (ipykernel)",
   "language": "python",
   "name": "python3"
  },
  "language_info": {
   "codemirror_mode": {
    "name": "ipython",
    "version": 3
   },
   "file_extension": ".py",
   "mimetype": "text/x-python",
   "name": "python",
   "nbconvert_exporter": "python",
   "pygments_lexer": "ipython3",
   "version": "3.11.8"
  }
 },
 "nbformat": 4,
 "nbformat_minor": 2
}
