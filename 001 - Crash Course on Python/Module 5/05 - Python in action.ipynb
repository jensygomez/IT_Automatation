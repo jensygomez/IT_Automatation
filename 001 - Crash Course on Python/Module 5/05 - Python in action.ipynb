{
 "cells": [
  {
   "cell_type": "markdown",
   "metadata": {},
   "source": [
    "**Author:**       Jensy Gregorio Gómez \n",
    "---------------------------------------\n",
    "**Profession:**  IT Support Analyst  \n",
    "**Date:**         26 Febrero 2024     \n",
    "**Location:**     Vila Isabel, Curitiba/PR  \n",
    "\n",
    "\n",
    "---\n",
    "\n",
    "**Contacto:**\n",
    "\n",
    "- **Email:** [contact@jensygomez.us](mailto:contact@jensygomez.us)\n",
    "- **YouTube:** [Tu Canal de YouTube](https://www.youtube.com/@systechcwb826)\n",
    "- **LinkedIn:** [Tu Perfil de LinkedIn](https://www.linkedin.com/in/jensygomez/)\n",
    "\n",
    "\n"
   ]
  },
  {
   "cell_type": "markdown",
   "metadata": {},
   "source": [
    "\n",
    "# Python in action\n",
    "\n",
    "Well done! Everything that you’ve been learning and all your hard work have brought you to this point. You’ve learned how to write a Python script from the ground up to solve a complex problem. You’ve also practiced how to:\n",
    "\n",
    "-   Identify a problem statement.\n",
    "    \n",
    "-   Research the tools needed to help solve the problem.\n",
    "    \n",
    "-   Plan an approach or best strategy to figure out what needs to be done, how it’s done, and how to structure the code.\n",
    "    \n",
    "-   Write a script to solve the problem.\n",
    "    \n",
    "-   Run and check that the code works the way it should.\n",
    "    \n",
    "\n",
    "Let’s now take a look at an example of how you can apply this process in the real world. This reading will provide you with a real-life example and walk you through the application of each step in the process.\n",
    "\n",
    "## **The problem and solution**\n",
    "\n",
    "Imagine this scenario: Every month, you are handed a spreadsheet with hundreds of new hires. You are asked to create user accounts for all of them on a Linux server. The formatting on the spreadsheet looks like this:\n",
    "\n",
    "username,password,real_name\n",
    "\n",
    "amanda,,Amanda Alonso\n",
    "\n",
    "ian,,Ian Ortega\n",
    "\n",
    "eugene,,Eugene Konya\n",
    "\n",
    "[...]\n",
    "\n",
    "Notice that the password field is empty for all the records. This means you need to generate random passwords for each user and then create their accounts. You also want to write the passwords that you generate back to a new CSV file so that you can tell the new employees their passwords.\n",
    "\n",
    "This task isn’t difficult, but it is time-intensive if you create passwords and accounts for the hundreds of new hires one by one. Your solution is to automate this task in Python.\n",
    "\n",
    "## **The script**\n",
    "\n",
    "To automate the task of creating passwords and accounts for all of these new hires, the script should do the following:\n",
    "\n",
    "-   Read a list of new hires from users_in.csv.\n",
    "    \n",
    "-   Generate random 16-character passwords for each user.\n",
    "    \n",
    "-   Create each user account.\n",
    "    \n",
    "-   Write the spreadsheet back to users_out.csv with the new passwords.\n",
    "    \n",
    "\n",
    "### **Your tools**\n",
    "\n",
    "To help organize all the data, create accounts for the new hires, and create passwords for each new user, you first need to import a few standard Python libraries.\n",
    "\n",
    "import csv\n",
    "\n",
    "This library helps read and write the CSV files.\n",
    "\n",
    "import secrets\n",
    "\n",
    "This helps generate random passwords for each user account.\n",
    "\n",
    "import subprocess\n",
    "\n",
    "This calls the useradd command, which creates and adds each user account.\n",
    "\n",
    "from pathlib import Path # to locate the data files\n",
    "\n",
    "This library helps to locate the data files for each user account.\n",
    "\n",
    "### **Getting started**\n",
    "\n",
    "After importing the libraries that help you execute your script, you need to get the current working directory and find the subdirectory where the CSV files are stored. Use cwd for “current working directory” and identify the path of the Python directory as a string:"
   ]
  },
  {
   "cell_type": "code",
   "execution_count": null,
   "metadata": {},
   "outputs": [],
   "source": [
    "cwd = Path.cwd() / \"drive/MyDrive/Colab Notebooks\""
   ]
  },
  {
   "cell_type": "markdown",
   "metadata": {},
   "source": [
    "Next, you use a **with** statement and an as keyword. The with statement helps with resource management, and the as keyword creates an alias for the resource you want to call. Consider the following code:"
   ]
  },
  {
   "cell_type": "code",
   "execution_count": null,
   "metadata": {},
   "outputs": [],
   "source": [
    "with open(cwd / \"data/users_in.csv\", \"r\") as file_input, open(cwd / \"data/users_out.csv\", \"w\") as file_output:"
   ]
  },
  {
   "cell_type": "markdown",
   "metadata": {},
   "source": [
    "The CSV library takes care of reading and parsing the input from the file.\n",
    "\n",
    "Next, you can use a DictReader object so that each row in the file is read into a dict() with the field names and values, like this: {\"username\": \"amanda\", \"password\": \"\", \"real_name\": \"Amanda Alonso\"}.\n",
    "\n",
    "The following code is an example of how you use the DictReader:"
   ]
  },
  {
   "cell_type": "code",
   "execution_count": null,
   "metadata": {},
   "outputs": [],
   "source": [
    "    reader = csv.DictReader(file_input)"
   ]
  },
  {
   "cell_type": "markdown",
   "metadata": {},
   "source": [
    "\n",
    "The input for the script is now complete! Now you need to set up the output. You create a **DictWriter** and use the same field names from the input, like so:"
   ]
  },
  {
   "cell_type": "code",
   "execution_count": null,
   "metadata": {},
   "outputs": [],
   "source": [
    " writer = csv.DictWriter(file_output,fieldnames=reader.fieldnames)\n",
    "     writer.writeheader()"
   ]
  },
  {
   "cell_type": "markdown",
   "metadata": {},
   "source": [
    "  Now, you create a for loop to run through each record from the input file. \n",
    "\n"
   ]
  },
  {
   "cell_type": "code",
   "execution_count": null,
   "metadata": {},
   "outputs": [],
   "source": [
    "    for user in reader:"
   ]
  },
  {
   "cell_type": "markdown",
   "metadata": {},
   "source": [
    "After the for loop, you use the secrets library that you imported at the beginning of the script to generate a random password of eight hex bytes, which equals 16 characters in total. Then, run the /sbin/useradd command to create each user. The check=True parameter causes the script to exit with a CalledProcessError if the command fails for any reason."
   ]
  },
  {
   "cell_type": "code",
   "execution_count": null,
   "metadata": {},
   "outputs": [],
   "source": [
    "        user[\"password\"] = secrets.token_hex(8)\n",
    "        useradd_cmd = [\"/sbin/useradd\",\n",
    "                       \"-c\", user[\"real_name\"],\n",
    "                       \"-m\",\n",
    "                       \"-G\", \"users\",\n",
    "                       \"-p\", user[\"password\"],\n",
    "                       user[\"username\"]]\n",
    "        subprocess.run(useradd_cmd, check=True)"
   ]
  },
  {
   "cell_type": "markdown",
   "metadata": {},
   "source": [
    "Finally, you write the records back to the output file, including the passwords. When you run the code, the new user accounts and their passwords are generated into a new CSV file."
   ]
  },
  {
   "cell_type": "code",
   "execution_count": null,
   "metadata": {},
   "outputs": [],
   "source": [
    " writer.writerow(user)"
   ]
  },
  {
   "cell_type": "markdown",
   "metadata": {},
   "source": [
    "After the script runs, the output CSV file should look something like this:\n",
    "\n",
    "![The users_out.csv file with three columns containing the usernames, passwords, and names of the new user accounts.](https://d3c33hcgiwev3.cloudfront.net/imageAssetProxy.v1/Zq3kAhR2Sd2vFg99Zm2sZQ_e7edd446cce540a2a714ee5167a610f1_PhBbJSLZfU2iM4isN9uo2cdTudzebhcYBZtMRFV2nzhWc-nUhUydmdyXGKuoV8R56Iqll1DQoem38TGGtmEuLaTYDZSm2BfaRvjQ2BvKOysP6I6x-omiUCuFXlfAdNCkwLcGrjS_4H9ggmqDbhtlDsg3CUXsz1lIvd61eshe608KKxk_1puVnjuPi8Erdqs?expiry=1709078400000&hmac=IQ0srCFwx-8wsI-UI1FX31LC-MxPcsWuHSrIWL8bIUA)\n",
    "\n",
    "And there you have it! You’ve just saved yourself countless hours of creating hundreds of new employee accounts and passwords by creating a short, simple script to do the work for you.\n",
    "\n",
    "## **Key takeaways**\n",
    "\n",
    "There are many real-world applications for using Python: creating programs, solving complex problems, simplifying and/or automating time-intensive tasks, and many more. But the process always remains the same—identifying a problem, coming up with a solution, determining the tools that help you achieve your solution, as well as the most significant part—writing the actual script! As you saw in this example, any time you have a repetitive task, think of using Python to automate that task. The programming skills you’ve learned can make the work you do in your IT job a lot faster and more efficient!"
   ]
  }
 ],
 "metadata": {
  "kernelspec": {
   "display_name": "Python 3 (ipykernel)",
   "language": "python",
   "name": "python3"
  }
 },
 "nbformat": 4,
 "nbformat_minor": 2
}
