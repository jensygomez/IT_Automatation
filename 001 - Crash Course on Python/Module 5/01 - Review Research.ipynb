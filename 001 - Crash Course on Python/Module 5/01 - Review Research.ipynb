{
 "cells": [
  {
   "cell_type": "markdown",
   "metadata": {},
   "source": [
    "**Author:**       Jensy Gregorio Gómez \n",
    "---------------------------------------\n",
    "**Profession:**  IT Support Analyst  \n",
    "**Date:**         26 Febrero 2024     \n",
    "**Location:**     Vila Isabel, Curitiba/PR  \n",
    "\n",
    "\n",
    "---\n",
    "\n",
    "**Contacto:**\n",
    "\n",
    "- **Email:** [contact@jensygomez.us](mailto:contact@jensygomez.us)\n",
    "- **YouTube:** [Tu Canal de YouTube](https://www.youtube.com/@systechcwb826)\n",
    "- **LinkedIn:** [Tu Perfil de LinkedIn](https://www.linkedin.com/in/jensygomez/)\n",
    "\n",
    "\n"
   ]
  },
  {
   "cell_type": "markdown",
   "metadata": {},
   "source": [
    "\n",
    "This reading contains the code used in the instructional videos from [**Research**](https://www.coursera.org/learn/python-crash-course/lecture/WWJe4/research)\n",
    "\n",
    "## **Introduction**\n",
    "\n",
    "This follow-along reading is organized to match the content in the video that follows. It contains the same code shown in the next video. These code blocks will provide you with the opportunity to see how the code is written, allow you to practice running it, and can be used as a reference to refer back to.\n",
    "\n",
    "You can follow along in the reading as the instructor discusses the code or review the code after watching the video.\n"
   ]
  },
  {
   "cell_type": "code",
   "execution_count": null,
   "metadata": {},
   "outputs": [],
   "source": [
    "# Define a list of numbers\n",
    "numbers = [4, 6, 2, 7, 1]\n",
    "\n",
    "# Sort the list in ascending order (from smallest to largest)\n",
    "numbers.sort()\n",
    "\n",
    "# Print the sorted list\n",
    "print(numbers)\n"
   ]
  },
  {
   "cell_type": "markdown",
   "metadata": {},
   "source": [
    "\n",
    "Explanation:\n",
    "\n",
    "-   The `numbers` list contains a sequence of integers: `[4, 6, 2, 7, 1]`.\n",
    "-   The `sort()` method is used to sort the elements of the list in ascending order.\n",
    "-   After sorting, the `print()` function displays the sorted list, resulting in `[1, 2, 4, 6, 7]`."
   ]
  },
  {
   "cell_type": "code",
   "execution_count": null,
   "metadata": {},
   "outputs": [],
   "source": [
    "# Define a list of names\n",
    "names = [\"Carlos\", \"Ray\", \"Alex\", \"Kelly\"]\n",
    "\n",
    "# Print the sorted version of the names list alphabetically\n",
    "print(sorted(names))\n",
    "\n",
    "# Print the original names list\n",
    "print(names)\n",
    "\n",
    "# Print the sorted version of the names list based on the length of each name\n",
    "print(sorted(names, key=len))\n"
   ]
  },
  {
   "cell_type": "markdown",
   "metadata": {},
   "source": [
    "\n",
    "Explanation:\n",
    "\n",
    "-   The `sorted()` function returns a new sorted list without modifying the original list.\n",
    "-   The first `print(sorted(names))` statement sorts the `names` list alphabetically and prints the sorted version.\n",
    "-   The second `print(names)` statement prints the original `names` list, demonstrating that the `sorted()` function did not modify it.\n",
    "-   The third `print(sorted(names, key=len))` statement sorts the `names` list based on the length of each name and prints the sorted version. This uses the `key` parameter of the `sorted()` function to specify the sorting criterion."
   ]
  }
 ],
 "metadata": {
  "kernelspec": {
   "display_name": "Python 3 (ipykernel)",
   "language": "python",
   "name": "python3"
  },
  "language_info": {
   "codemirror_mode": {
    "name": "ipython",
    "version": 3
   },
   "file_extension": ".py",
   "mimetype": "text/x-python",
   "name": "python",
   "nbconvert_exporter": "python",
   "pygments_lexer": "ipython3",
   "version": "3.11.8"
  }
 },
 "nbformat": 4,
 "nbformat_minor": 2
}
