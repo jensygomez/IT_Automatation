{
 "cells": [
  {
   "cell_type": "markdown",
   "metadata": {},
   "source": [
    "**Author:**       Jensy Gregorio Gómez \n",
    "---------------------------------------\n",
    "**Profession:**  IT Support Analyst  \n",
    "**Date:**         26 Febrero 2024     \n",
    "**Location:**     Vila Isabel, Curitiba/PR  \n",
    "\n",
    "\n",
    "---\n",
    "\n",
    "**Contacto:**\n",
    "\n",
    "- **Email:** [contact@jensygomez.us](mailto:contact@jensygomez.us)\n",
    "- **YouTube:** [Tu Canal de YouTube](https://www.youtube.com/@systechcwb826)\n",
    "- **LinkedIn:** [Tu Perfil de LinkedIn](https://www.linkedin.com/in/jensygomez/)\n",
    "\n",
    "\n"
   ]
  },
  {
   "cell_type": "markdown",
   "metadata": {},
   "source": [
    "\n",
    "# Review: Putting it all together\n",
    "\n",
    "This reading contains the code used in the instructional videos from [**Putting it all together**](https://www.coursera.org/learn/python-crash-course/lecture/ezD07/putting-it-all-together)\n",
    "\n",
    "## **Introduction**\n",
    "\n",
    "This follow-along reading is organized to match the content in the video that follows. It contains the same code shown in the next video. These code blocks will provide you with the opportunity to see how the code is written, allow you to practice running it, and can be used as a reference to refer back to.\n",
    "\n",
    "You can follow along in the reading as the instructor discusses the code or review the code after watching the video."
   ]
  },
  {
   "cell_type": "code",
   "execution_count": 5,
   "metadata": {},
   "outputs": [
    {
     "name": "stdout",
     "output_type": "stream",
     "text": [
      "{'webserver.local': {'lane'}, 'myworkstation.local': set(), 'mailserver.local': {'chris'}}\n",
      "webserver.local: lane\n",
      "mailserver.local: chris\n"
     ]
    }
   ],
   "source": [
    "# Define a function to extract the date from an event object\n",
    "def get_event_date(event):\n",
    "    return event.date\n",
    "\n",
    "# Define a function to track current users logged into machines based on events\n",
    "def current_users(events):\n",
    "    # Sort events based on their dates\n",
    "    events.sort(key=get_event_date)\n",
    "    machines = {}\n",
    "    for event in events:\n",
    "        # Initialize an empty set for each machine if not already present\n",
    "        if event.machine not in machines:\n",
    "            machines[event.machine] = set()\n",
    "        # Update the user set based on login/logout events\n",
    "        if event.type == \"login\":\n",
    "            machines[event.machine].add(event.user)\n",
    "        elif event.type == \"logout\":\n",
    "            machines[event.machine].remove(event.user)\n",
    "    return machines\n",
    "\n",
    "# Define a function to generate a report of users logged into machines\n",
    "def generate_report(machines):\n",
    "    for machine, users in machines.items():\n",
    "        if len(users) > 0:\n",
    "            user_list = \", \".join(users)\n",
    "            # Print machine name and associated users\n",
    "            print(\"{}: {}\".format(machine, user_list))\n",
    "\n",
    "# Define a class to represent an event\n",
    "class Event:\n",
    "    def __init__(self, event_date, event_type, machine_name, user):\n",
    "        self.date = event_date\n",
    "        self.type = event_type\n",
    "        self.machine = machine_name\n",
    "        self.user = user\n",
    "\n",
    "# Define a list of Event objects\n",
    "events = [\n",
    "    Event('2020-01-21 12:45:46', 'login', 'myworkstation.local', 'jordan'),\n",
    "    Event('2020-01-22 15:53:42', 'logout', 'webserver.local', 'jordan'),\n",
    "    Event('2020-01-21 18:53:21', 'login', 'webserver.local', 'lane'),\n",
    "    Event('2020-01-22 10:25:34', 'logout', 'myworkstation.local', 'jordan'),\n",
    "    Event('2020-01-21 08:20:01', 'login', 'webserver.local', 'jordan'),\n",
    "    Event('2020-01-23 11:24:35', 'login', 'mailserver.local', 'chris'),\n",
    "]\n",
    "\n",
    "# Retrieve current users logged into machines based on events\n",
    "users = current_users(events)\n",
    "print(users)\n",
    "# Generate and print a report of current users logged into machines\n",
    "generate_report(users)\n",
    "\n"
   ]
  },
  {
   "cell_type": "markdown",
   "metadata": {},
   "source": [
    "\n",
    "\n",
    "**Explanation:**\n",
    "\n",
    "-   The code defines a `get_event_date` function to extract the date from an event object.\n",
    "-   The `current_users` function tracks the current users logged into machines based on login/logout events.\n",
    "-   The `generate_report` function generates a report of current users logged into machines.\n",
    "-   An `Event` class is defined to represent an event, which includes attributes such as date, type, machine, and user.\n",
    "-   A list of `Event` objects is created to simulate a series of events.\n",
    "-   The `current_users` function is called to determine the current users logged into machines based on the events.\n",
    "-   The `generate_report` function is then called to generate and print a report of current users logged into machines."
   ]
  }
 ],
 "metadata": {
  "kernelspec": {
   "display_name": "Python 3 (ipykernel)",
   "language": "python",
   "name": "python3"
  }
 },
 "nbformat": 4,
 "nbformat_minor": 2
}
