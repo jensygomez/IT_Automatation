{
 "cells": [
  {
   "cell_type": "markdown",
   "metadata": {},
   "source": [
    "**Author:**       Jensy Gregorio Gómez \n",
    "---------------------------------------\n",
    "**Profession:**  IT Support Analyst  \n",
    "**Date:**         28 Febrero 2024     \n",
    "**Location:**     Vila Isabel, Curitiba/PR  \n",
    "\n",
    "\n",
    "---\n",
    "\n",
    "**Contacto:**\n",
    "\n",
    "- **Email:** [contact@jensygomez.us](mailto:contact@jensygomez.us)\n",
    "- **YouTube:** [Tu Canal de YouTube](https://www.youtube.com/@systechcwb826)\n",
    "- **LinkedIn:** [Tu Perfil de LinkedIn](https://www.linkedin.com/in/jensygomez/)\n",
    "\n",
    "\n"
   ]
  },
  {
   "cell_type": "markdown",
   "metadata": {},
   "source": [
    "\n",
    "# Transitioning to a new career\n",
    "\n",
    "In this reading, we will cover some tips for making a successful career transition. Making a career transition is both scary and exciting! The good news is that you will bring all of your past experience and knowledge with you. The trick to making a seamless career transition is to lean on the skills you already have while highlighting your new skills. Below are some ways you can do that!\n",
    "\n",
    "## **Think about your transferable skills**\n",
    "\n",
    "In your current career, you have gained tons of skills and knowledge that will help you as you make your career transition into the IT field. Communication, problem solving, critical thinking, teamwork, and self directed learning are all skills that are important in IT. Think about ways you have used these skills in the past. How could you apply these same skills to a role as an Site Reliability Engineer or Systems Engineer?\n",
    "\n",
    "## **Showcase your new skills**\n",
    "\n",
    "It is important that you also highlight the new skills that you have gained. To do this, it is important that you make changes to your resume, cover letter, and social profiles like LinkedIn. We will walk you through how to create these for IT roles in the next courses.\n",
    "\n",
    "You should also showcase projects you have worked on. GitHub is a great place to store projects and code. You can even link to your GitHub projects or repository on your LinkedIn!\n",
    "\n",
    "**Note:** GitHub has great resources on how to create projects [here](https://docs.github.com/en/issues/planning-and-tracking-with-projects/learning-about-projects/quickstart-for-projects) and how to store code [here](https://docs.github.com/en/migrations/importing-source-code/using-the-command-line-to-import-source-code/adding-locally-hosted-code-to-github).\n",
    "\n",
    "## **Get to know more with networking**\n",
    "\n",
    "Networking is a great way to learn more about job opportunities you are interested in, as well as the IT industry in general. Meet people in the job role you’re interested in. Connect with them on LinkedIn. Job shadowing, volunteering, and interning are also great ways to gain more experience and knowledge!\n",
    "\n",
    "## **Resources for more information**\n",
    "\n",
    "Here are some more resources on making a successful job transition.\n",
    "\n",
    "-   This [article](https://www.linkedin.com/pulse/how-create-linkedin-profile-optimized-job-searching-emily) has tons of information on optimizing your LinkedIn profile. There is even a section focused on job transitions!\n",
    "    \n",
    "-   This [resource](https://www.hackertrail.com/talent/tips/7-tips-to-improve-your-github-to-land-a-job/) has lots of information on how to use GitHub as a job seeker."
   ]
  }
 ],
 "metadata": {
  "kernelspec": {
   "display_name": "Python 3 (ipykernel)",
   "language": "python",
   "name": "python3"
  }
 },
 "nbformat": 4,
 "nbformat_minor": 2
}
