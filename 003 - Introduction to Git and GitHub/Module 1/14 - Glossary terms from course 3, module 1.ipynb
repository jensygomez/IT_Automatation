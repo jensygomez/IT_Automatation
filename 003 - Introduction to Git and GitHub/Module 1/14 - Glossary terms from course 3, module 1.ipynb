{
 "cells": [
  {
   "cell_type": "markdown",
   "metadata": {},
   "source": [
    "**Author:**       Jensy Gregorio Gómez \n",
    "---------------------------------------\n",
    "**Profession:**  IT Support Analyst and Automatation with Python\n",
    "\n",
    "**Date:**         16 March 2024     \n",
    "\n",
    "**Location:**     Vila Izabel, Curitiba/PR  \n",
    "\n",
    "\n",
    "---\n",
    "\n",
    "**Contacto:**\n",
    "\n",
    "- **Email:** [contact@jensygomez.us](mailto:contact@jensygomez.us)\n",
    "- **YouTube:** [Tu Canal de YouTube](https://www.youtube.com/@systechcwb826)\n",
    "- **LinkedIn:** [Tu Perfil de LinkedIn](https://www.linkedin.com/in/jensygomez/)\n",
    "\n",
    "\n"
   ]
  },
  {
   "cell_type": "markdown",
   "metadata": {},
   "source": [
    "\n",
    "# Glossary terms from course 3, module 1\n",
    "\n",
    "## **Terms and definitions from Course 3, Module 1**\n",
    "\n",
    "**Commit:** A command to make edits to multiple files and treat that collection of edits as a single change\n",
    "\n",
    "**Commit files:** A stage where the changes made to files are safely stored in a snapshot in the Git directory\n",
    "\n",
    "**Commit message:** A summary and description with contextual information on the parts of the code or configuration of the commit change\n",
    "\n",
    "**Diff:** A command to find the differences between two files\n",
    "\n",
    "**DNS zone file:** A configuration file that specifies the mappings between IP addresses and host names in your network\n",
    "\n",
    "**Git:** A free open source version control system available for installation on Unix based platforms, Windows and macOS\n",
    "\n",
    "**Git directory:** A database for a Git project that stores the changes and the change history\n",
    "\n",
    "**Git log:** A log that displays commit messages\n",
    "\n",
    "**Git staging area:** A file maintained by Git that contains all the information about what files and changes are going to go into the next commit\n",
    "\n",
    "**Modified files:** A stage where changes have been made to a file, but the have not been stored or committed\n",
    "\n",
    "**Patch:** A command that can detect that there were changes made to the file and will do its best to apply the changes\n",
    "\n",
    "**Repository:** An organization system of files that contain separate software projects\n",
    "\n",
    "**Source Control Management (SCM):** A tool similar to VCS to store source code\n",
    "\n",
    "**Stage files:** A stage where the changes to files are ready to be committed\n",
    "\n",
    "**Tracked:** A file’s changes are recorded\n",
    "\n",
    "**Untracked:** A file’s changes are not recorded\n",
    "\n",
    "**Version control systems (VCS):** A tool to safely test code before releasing it, allow multiple people collaborate on the same coding projects together, and stores the history of that code and configuration"
   ]
  }
 ],
 "metadata": {
  "kernelspec": {
   "display_name": "Python 3 (ipykernel)",
   "language": "python",
   "name": "python3"
  },
  "language_info": {
   "codemirror_mode": {
    "name": "ipython",
    "version": 3
   },
   "file_extension": ".py",
   "mimetype": "text/x-python",
   "name": "python",
   "nbconvert_exporter": "python",
   "pygments_lexer": "ipython3",
   "version": "3.12.2"
  }
 },
 "nbformat": 4,
 "nbformat_minor": 2
}
