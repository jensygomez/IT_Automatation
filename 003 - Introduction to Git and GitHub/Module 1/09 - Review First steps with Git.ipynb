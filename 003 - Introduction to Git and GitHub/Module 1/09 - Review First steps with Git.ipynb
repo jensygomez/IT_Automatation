{
 "cells": [
  {
   "cell_type": "markdown",
   "metadata": {},
   "source": [
    "**Author:**       Jensy Gregorio Gómez \n",
    "---------------------------------------\n",
    "**Profession:**  IT Support Analyst and Automatation with Python\n",
    "\n",
    "**Date:**         16 March 2024     \n",
    "\n",
    "**Location:**     Vila Izabel, Curitiba/PR  \n",
    "\n",
    "\n",
    "---\n",
    "\n",
    "**Contacto:**\n",
    "\n",
    "- **Email:** [contact@jensygomez.us](mailto:contact@jensygomez.us)\n",
    "- **YouTube:** [Tu Canal de YouTube](https://www.youtube.com/@systechcwb826)\n",
    "- **LinkedIn:** [Tu Perfil de LinkedIn](https://www.linkedin.com/in/jensygomez/)\n",
    "\n",
    "\n"
   ]
  },
  {
   "cell_type": "markdown",
   "metadata": {},
   "source": [
    "\n",
    "# Review: First steps with Git\n",
    "\n",
    "This reading contains the code used in the instructional videos from [**First steps with Git**](https://www.coursera.org/learn/introduction-git-github/lecture/2xrXl/first-steps-with-git)**.**\n",
    "\n",
    "## Introduction\n",
    "\n",
    "This follow-along reading is organized to match the content in the video that follows. It contains the same code shown in the next video. These code blocks will provide you with the opportunity to see how the code is written and can be used as a reference as you work through the course.\n",
    "\n",
    "You can follow along in the reading as the instructor discusses the code or review the code after watching the video."
   ]
  },
  {
   "cell_type": "markdown",
   "metadata": {},
   "source": [
    "***\n"
   ]
  },
  {
   "cell_type": "markdown",
   "metadata": {},
   "source": [
    "\n",
    "Claro, este código es utilizado para configurar tu nombre de usuario y dirección de correo electrónico globalmente en Git. Aquí está el comentario línea por línea:\n",
    "\n",
    "1. `git config`: Este comando se utiliza para configurar variables de configuración de Git.\n",
    "2. `--global`: Esta opción indica que la configuración se aplicará globalmente en tu sistema, es decir, a todos los repositorios de Git en tu computadora.\n",
    "3. `user.email \"me@example.com\"`: Aquí estás estableciendo tu dirección de correo electrónico para tu usuario de Git. Debes reemplazar `\"me@example.com\"` con tu dirección de correo electrónico real.\n",
    "4. `user.name \"My name\"`: Esta línea establece tu nombre de usuario para tu cuenta de Git. Debes reemplazar `\"My name\"` con tu nombre real o con el nombre que prefieras utilizar en tus contribuciones a proyectos de Git.\n",
    "\n",
    "En resumen, este código te permite configurar tu nombre de usuario y dirección de correo electrónico para que tus contribuciones a proyectos de Git sean correctamente identificadas. Esto es especialmente útil cuando realizas commits o participas en colaboraciones en repositorios de Git."
   ]
  },
  {
   "cell_type": "code",
   "execution_count": null,
   "metadata": {
    "vscode": {
     "languageId": "shellscript"
    }
   },
   "outputs": [],
   "source": [
    "git config --global user.email \"me@example.com\"\n",
    "git config --global user.name \"My name\""
   ]
  },
  {
   "cell_type": "markdown",
   "metadata": {},
   "source": [
    "***"
   ]
  },
  {
   "cell_type": "markdown",
   "metadata": {},
   "source": [
    "Este conjunto de comandos es utilizado para crear un nuevo directorio llamado \"checks\", luego ingresar a ese directorio y finalmente inicializar un nuevo repositorio de Git dentro de ese directorio. Aquí está el detalle línea por línea:\n",
    "\n",
    "1. `mkdir checks`: Este comando crea un nuevo directorio llamado \"checks\" en el directorio actual.\n",
    "2. `cd checks`: Este comando cambia el directorio actual al nuevo directorio \"checks\" que acabas de crear.\n",
    "3. `git init`: Este comando inicializa un nuevo repositorio de Git en el directorio actual (en este caso, el directorio \"checks\"). Después de ejecutar este comando, Git comenzará a rastrear los cambios en este directorio y podrás comenzar a realizar commits y otras operaciones de control de versiones.\n",
    "\n",
    "En resumen, estos comandos te permiten crear un nuevo directorio, ingresar a él y luego convertirlo en un repositorio de Git, listo para comenzar a versionar tu código."
   ]
  },
  {
   "cell_type": "code",
   "execution_count": null,
   "metadata": {
    "vscode": {
     "languageId": "shellscript"
    }
   },
   "outputs": [],
   "source": [
    "mkdir checks\n",
    "cd checks\n",
    "git init"
   ]
  },
  {
   "cell_type": "markdown",
   "metadata": {},
   "source": [
    "***"
   ]
  },
  {
   "cell_type": "markdown",
   "metadata": {},
   "source": [
    "\n",
    "**Code output:**\n",
    "\n",
    "Initialized empty Git repository in /home/user/checks/.git/"
   ]
  },
  {
   "cell_type": "code",
   "execution_count": null,
   "metadata": {
    "vscode": {
     "languageId": "shellscript"
    }
   },
   "outputs": [],
   "source": [
    "ls -la"
   ]
  },
  {
   "cell_type": "code",
   "execution_count": null,
   "metadata": {
    "vscode": {
     "languageId": "shellscript"
    }
   },
   "outputs": [],
   "source": [
    "total 12\n",
    "\n",
    "drwxrwxr-x  3 user user 4096 Jul  9 18:16 .\n",
    "\n",
    "drwxr-xr-x 18 user user 4096 Jul  9 18:16 ..\n",
    "\n",
    "drwxrwxr-x  7 user user 4096 Jul  9 18:16 .git\n",
    "\n",
    "user@ubuntu:~/checks$ ls -l .git/\n",
    "\n",
    "total 32\n",
    "\n",
    "drwxrwxr-x 2 user user 4096 Jul  9 18:16 branches\n",
    "\n",
    "-rw-rw-r-- 1 user user   92 Jul  9 18:16 config\n",
    "\n",
    "-rw-rw-r-- 1 user user   73 Jul  9 18:16 description\n",
    "\n",
    "-rw-rw-r-- 1 user user   23 Jul  9 18:16 HEAD\n",
    "\n",
    "drwxrwxr-x 2 user user 4096 Jul  9 18:16 hooks\n",
    "\n",
    "drwxrwxr-x 2 user user 4096 Jul  9 18:16 info\n",
    "\n",
    "drwxrwxr-x 4 user user 4096 Jul  9 18:16 objects\n",
    "\n",
    "drwxrwxr-x 4 user user 4096 Jul  9 18:16 refs"
   ]
  },
  {
   "cell_type": "code",
   "execution_count": null,
   "metadata": {
    "vscode": {
     "languageId": "shellscript"
    }
   },
   "outputs": [],
   "source": [
    "ls -l"
   ]
  },
  {
   "cell_type": "markdown",
   "metadata": {},
   "source": [
    "Code output:\n",
    "\n",
    "total 4\n",
    "\n",
    "-rw-rw-r-- 1 user user 657 Jul  9 18:26 disk_usage.py"
   ]
  },
  {
   "cell_type": "code",
   "execution_count": null,
   "metadata": {
    "vscode": {
     "languageId": "shellscript"
    }
   },
   "outputs": [],
   "source": [
    "ls -l .git/"
   ]
  }
 ],
 "metadata": {
  "kernelspec": {
   "display_name": "Python 3 (ipykernel)",
   "language": "python",
   "name": "python3"
  },
  "language_info": {
   "codemirror_mode": {
    "name": "ipython",
    "version": 3
   },
   "file_extension": ".py",
   "mimetype": "text/x-python",
   "name": "python",
   "nbconvert_exporter": "python",
   "pygments_lexer": "ipython3",
   "version": "3.12.2"
  }
 },
 "nbformat": 4,
 "nbformat_minor": 2
}
