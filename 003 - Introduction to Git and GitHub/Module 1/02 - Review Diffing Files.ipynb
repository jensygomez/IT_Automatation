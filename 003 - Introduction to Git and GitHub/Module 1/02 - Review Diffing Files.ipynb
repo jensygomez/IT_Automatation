{
 "cells": [
  {
   "cell_type": "code",
   "execution_count": null,
   "metadata": {},
   "outputs": [],
   "source": []
  },
  {
   "cell_type": "markdown",
   "metadata": {},
   "source": [
    "**Author:**       Jensy Gregorio Gómez \n",
    "---------------------------------------\n",
    "**Profession:**  IT Support Analyst and Automatation with Python\n",
    "\n",
    "**Date:**         02 March 2024     \n",
    "\n",
    "**Location:**     Vila Izabel, Curitiba/PR  \n",
    "\n",
    "\n",
    "---\n",
    "\n",
    "**Contacto:**\n",
    "\n",
    "- **Email:** [contact@jensygomez.us](mailto:contact@jensygomez.us)\n",
    "- **YouTube:** [Tu Canal de YouTube](https://www.youtube.com/@systechcwb826)\n",
    "- **LinkedIn:** [Tu Perfil de LinkedIn](https://www.linkedin.com/in/jensygomez/)\n",
    "\n",
    "\n"
   ]
  },
  {
   "cell_type": "markdown",
   "metadata": {},
   "source": [
    "\n",
    "# Review: Diffing Files\n",
    "\n",
    "This reading contains the code used in the instructional videos from [**Diffing Files**](https://www.coursera.org/learn/introduction-git-github/lecture/tnlzg/diffing-files)\n",
    "\n",
    "## Introduction\n",
    "\n",
    "This follow-along reading is organized to match the content in the video that follows. It contains the same code shown in the next video. These code blocks will provide you with the opportunity to see how the code is written and can be used as a reference as you work through the course.\n",
    "\n",
    "You can follow along in the reading as the instructor discusses the code or review the code after watching the video."
   ]
  },
  {
   "cell_type": "code",
   "execution_count": null,
   "metadata": {
    "vscode": {
     "languageId": "shellscript"
    }
   },
   "outputs": [],
   "source": [
    "cat rearrange1.py "
   ]
  },
  {
   "cell_type": "code",
   "execution_count": null,
   "metadata": {
    "vscode": {
     "languageId": "shellscript"
    }
   },
   "outputs": [],
   "source": [
    "cat rearrange2.py "
   ]
  },
  {
   "cell_type": "code",
   "execution_count": null,
   "metadata": {
    "vscode": {
     "languageId": "shellscript"
    }
   },
   "outputs": [],
   "source": [
    "!diff rearrange1.py rearrange2.py\n"
   ]
  },
  {
   "cell_type": "code",
   "execution_count": null,
   "metadata": {
    "vscode": {
     "languageId": "shellscript"
    }
   },
   "outputs": [],
   "source": [
    "!diff -u rearrange1.py rearrange2.py"
   ]
  }
 ],
 "metadata": {
  "kernelspec": {
   "display_name": "Python 3 (ipykernel)",
   "language": "python",
   "name": "python3"
  },
  "language_info": {
   "codemirror_mode": {
    "name": "ipython",
    "version": 3
   },
   "file_extension": ".py",
   "mimetype": "text/x-python",
   "name": "python",
   "nbconvert_exporter": "python",
   "pygments_lexer": "ipython3",
   "version": "3.12.2"
  }
 },
 "nbformat": 4,
 "nbformat_minor": 2
}
