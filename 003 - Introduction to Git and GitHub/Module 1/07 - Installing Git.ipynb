{
 "cells": [
  {
   "cell_type": "markdown",
   "metadata": {},
   "source": [
    "**Author:**       Jensy Gregorio Gómez \n",
    "---------------------------------------\n",
    "**Profession:**  IT Support Analyst and Automatation with Python\n",
    "\n",
    "**Date:**         16 March 2024     \n",
    "\n",
    "**Location:**     Vila Izabel, Curitiba/PR  \n",
    "\n",
    "\n",
    "---\n",
    "\n",
    "**Contacto:**\n",
    "\n",
    "- **Email:** [contact@jensygomez.us](mailto:contact@jensygomez.us)\n",
    "- **YouTube:** [Tu Canal de YouTube](https://www.youtube.com/@systechcwb826)\n",
    "- **LinkedIn:** [Tu Perfil de LinkedIn](https://www.linkedin.com/in/jensygomez/)\n",
    "\n",
    "\n"
   ]
  },
  {
   "cell_type": "markdown",
   "metadata": {},
   "source": [
    "\n",
    "# Installing Git\n",
    "\n",
    "The first step on the way to using Git is to install it! The directions found in the Git documentation below are pretty thorough and helpful. Check them out for the best method of installing Git onto your platform of choice.\n",
    "\n",
    "You can go directly to [Git - Downloads](https://git-scm.com/downloads) to download Git. This page does not provide detailed instructions for installing Git, but it does have links to download Git for the Linux, macOS, and Windows platforms.\n",
    "\n",
    "For step-by-step instructions on how to install Git, go to the [Getting Started - Installing Git](https://git-scm.com/book/en/v2/Getting-Started-Installing-Git) page. This page provides detailed instructions for installing Git on Linux, macOS, Windows, or from Source. Follow the directions provided for your platform of choice."
   ]
  }
 ],
 "metadata": {
  "kernelspec": {
   "display_name": "Python 3 (ipykernel)",
   "language": "python",
   "name": "python3"
  },
  "language_info": {
   "codemirror_mode": {
    "name": "ipython",
    "version": 3
   },
   "file_extension": ".py",
   "mimetype": "text/x-python",
   "name": "python",
   "nbconvert_exporter": "python",
   "pygments_lexer": "ipython3",
   "version": "3.12.2"
  }
 },
 "nbformat": 4,
 "nbformat_minor": 2
}
