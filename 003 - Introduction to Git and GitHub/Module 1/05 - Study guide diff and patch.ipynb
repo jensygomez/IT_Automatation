{
 "cells": [
  {
   "cell_type": "markdown",
   "metadata": {},
   "source": [
    "**Author:**       Jensy Gregorio Gómez \n",
    "---------------------------------------\n",
    "**Profession:**  IT Support Analyst and Automatation with Python\n",
    "\n",
    "**Date:**         16 March 2024     \n",
    "\n",
    "**Location:**     Vila Izabel, Curitiba/PR  \n",
    "\n",
    "\n",
    "---\n",
    "\n",
    "**Contacto:**\n",
    "\n",
    "- **Email:** [contact@jensygomez.us](mailto:contact@jensygomez.us)\n",
    "- **YouTube:** [Tu Canal de YouTube](https://www.youtube.com/@systechcwb826)\n",
    "- **LinkedIn:** [Tu Perfil de LinkedIn](https://www.linkedin.com/in/jensygomez/)\n",
    "\n",
    "\n"
   ]
  },
  {
   "cell_type": "markdown",
   "metadata": {},
   "source": [
    "\n",
    "# Study guide: diff and patch\n",
    "\n",
    "## The diff command\n",
    "\n",
    "You use the diff command to find the differences between two files. On its own, it’s a bit hard to use; instead, use diff -u to find lines that differ in two files:\n",
    "\n",
    "## Using diff -u\n",
    "\n",
    "You use the diff -u command to compare two files, line by line, and have the differing lines compared side-by-side in the same output. For an example of what this looks like, see below:"
   ]
  },
  {
   "cell_type": "code",
   "execution_count": null,
   "metadata": {
    "vscode": {
     "languageId": "shellscript"
    }
   },
   "outputs": [],
   "source": [
    "~$ cat menu1.txt \n",
    "Menu1:\n",
    "\n",
    "Apples\n",
    "Bananas\n",
    "Oranges\n",
    "Pears\n",
    "\n",
    "~$ cat menu2.txt \n",
    "Menu:\n",
    "\n",
    "Apples\n",
    "Bananas\n",
    "Grapes\n",
    "Strawberries\n",
    "\n",
    "~$ diff -u menu1.txt menu2.txt \n",
    "--- menu1.txt   2019-12-16 18:46:13.794879924 +0900\n",
    "+++ menu2.txt   2019-12-16 18:46:42.090995670 +0900\n",
    "@@ -1,6 +1,6 @@\n",
    "-Menu1:\n",
    "+Menu:\n",
    " \n",
    " Apples\n",
    " Bananas\n",
    "-Oranges\n",
    "-Pears\n",
    "+Grapes\n",
    "+Strawberries"
   ]
  },
  {
   "cell_type": "markdown",
   "metadata": {},
   "source": [
    "\n",
    "## The patch command\n",
    "\n",
    "The patch command is useful for applying file differences. See the example below, which compares two files. The comparison is saved as a .diff file, which is then patched to the original file!"
   ]
  },
  {
   "cell_type": "code",
   "execution_count": null,
   "metadata": {
    "vscode": {
     "languageId": "shellscript"
    }
   },
   "outputs": [],
   "source": [
    "~$ cat hello_world.txt \n",
    "Hello World\n",
    "~$ cat hello_world_long.txt \n",
    "Hello World\n",
    "\n",
    "It's a wonderful day!\n",
    "~$ diff -u hello_world.txt hello_world_long.txt \n",
    "--- hello_world.txt     2019-12-16 19:24:12.556102821 +0900\n",
    "+++ hello_world_long.txt        2019-12-16 19:24:38.944207773 +0900\n",
    "@@ -1 +1,3 @@\n",
    " Hello World\n",
    "+\n",
    "+It's a wonderful day!\n",
    "~$ diff -u hello_world.txt hello_world_long.txt > hello_world.diff\n",
    "~$ patch hello_world.txt < hello_world.diff \n",
    "patching file hello_world.txt\n",
    "~$ cat hello_world.txt \n",
    "Hello World\n",
    "\n",
    "It's a wonderful day!"
   ]
  },
  {
   "cell_type": "markdown",
   "metadata": {},
   "source": [
    "\n",
    "## Resources for more information\n",
    "\n",
    "There are other interesting patch and diff commands such as patch -p1 and diff -r . For more information on these commands, check out the following resources:\n",
    "\n",
    "-   [http://man7.org/linux/man-pages/man1/diff.1.html](http://man7.org/linux/man-pages/man1/diff.1.html)\n",
    "    \n",
    "-   [http://man7.org/linux/man-pages/man1/patch.1.html](http://man7.org/linux/man-pages/man1/patch.1.html)"
   ]
  }
 ],
 "metadata": {
  "kernelspec": {
   "display_name": "Python 3 (ipykernel)",
   "language": "python",
   "name": "python3"
  },
  "language_info": {
   "codemirror_mode": {
    "name": "ipython",
    "version": 3
   },
   "file_extension": ".py",
   "mimetype": "text/x-python",
   "name": "python",
   "nbconvert_exporter": "python",
   "pygments_lexer": "ipython3",
   "version": "3.12.2"
  }
 },
 "nbformat": 4,
 "nbformat_minor": 2
}
