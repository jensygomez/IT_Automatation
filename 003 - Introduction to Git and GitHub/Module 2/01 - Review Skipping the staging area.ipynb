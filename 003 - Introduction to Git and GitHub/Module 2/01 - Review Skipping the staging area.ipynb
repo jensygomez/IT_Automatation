{
 "cells": [
  {
   "cell_type": "markdown",
   "metadata": {},
   "source": [
    "**Author:**       Jensy Gregorio Gómez \n",
    "---------------------------------------\n",
    "**Profession:**  IT Support Analyst and Automatation with Python\n",
    "\n",
    "**Date:**         23 March 2024     \n",
    "\n",
    "**Location:**     Vila Izabel, Curitiba/PR  \n",
    "\n",
    "\n",
    "---\n",
    "\n",
    "**Contacto:**\n",
    "\n",
    "- **Email:** [contact@jensygomez.us](mailto:contact@jensygomez.us)\n",
    "- **YouTube:** [Tu Canal de YouTube](https://www.youtube.com/@systechcwb826)\n",
    "- **LinkedIn:** [Tu Perfil de LinkedIn](https://www.linkedin.com/in/jensygomez/)\n",
    "\n",
    "\n"
   ]
  },
  {
   "cell_type": "markdown",
   "metadata": {},
   "source": [
    "\n",
    "# Review: Skipping the staging area\n",
    "\n",
    "This reading contains the code used in the instructional videos from [**Skipping the Staging Area**](https://www.coursera.org/learn/introduction-git-github/lecture/uAFPm/skipping-the-staging-area).\n",
    "\n",
    "## Introduction\n",
    "\n",
    "This follow-along reading is organized to match the content in the video that follows. It contains the same code shown in the next video. These code blocks will provide you with the opportunity to see how the code is written and can be used as a reference as you work through the course.\n",
    "\n",
    "You can follow along in the reading as the instructor discusses the code or review the code after watching the video."
   ]
  },
  {
   "cell_type": "code",
   "execution_count": null,
   "metadata": {
    "vscode": {
     "languageId": "shellscript"
    }
   },
   "outputs": [],
   "source": [
    "# Este comando cambia el directorio de trabajo actual al directorio 'scripts'.\n",
    "cd scripts\n",
    "\n",
    "# Este comando abre el archivo 'all_checks.py' en el editor de texto Atom.\n",
    "atom all_checks.py\n"
   ]
  },
  {
   "cell_type": "code",
   "execution_count": null,
   "metadata": {
    "vscode": {
     "languageId": "shellscript"
    }
   },
   "outputs": [],
   "source": [
    "#!/usr/bin/env python3\n",
    "# Esta línea especifica al sistema operativo que el intérprete de Python debe ser utilizado para ejecutar este script.\n",
    "\n",
    "# Importamos el módulo os para interactuar con el sistema operativo\n",
    "import os\n",
    "# Importamos el módulo sys para acceder a funcionalidades específicas del intérprete de Python\n",
    "import sys\n",
    "\n",
    "# Definimos una función llamada check_reboot que comprueba si hay un reinicio pendiente en la computadora\n",
    "def check_reboot():\n",
    "    \"\"\"Returns True if the computer has a pending reboot.\"\"\"\n",
    "    # Utilizamos la función exists del módulo os para verificar si el archivo /run/reboot-required existe\n",
    "    return os.path.exists(\"/run/reboot-required\")\n",
    "\n",
    "# Definimos la función principal del programa\n",
    "def main():\n",
    "    # Comprobamos si hay un reinicio pendiente llamando a la función check_reboot\n",
    "    if check_reboot():\n",
    "        # Si hay un reinicio pendiente, imprimimos un mensaje indicando que hay un reinicio pendiente\n",
    "        print(\"Pending Reboot.\")\n",
    "        # Salimos del programa con un código de estado 1, indicando que hay un error\n",
    "        sys.exit(1)\n",
    "\n",
    "# Llamamos a la función main para ejecutar el programa\n",
    "main()\n",
    "\n"
   ]
  },
  {
   "cell_type": "code",
   "execution_count": null,
   "metadata": {
    "vscode": {
     "languageId": "shellscript"
    }
   },
   "outputs": [],
   "source": [
    "# Comentario para describir la acción realizada en el commit\n",
    "git commit -a -m \"Call check_reboot from main, exit with 1 on error\" "
   ]
  },
  {
   "cell_type": "markdown",
   "metadata": {},
   "source": [
    "\n",
    "**Code output:**\n",
    "\n",
    "[master 033f27a] Call check_reboot from main, exit with 1 on error\n",
    "\n",
    "1 file changed, 4 insertions(+), 1 deletion(-)"
   ]
  },
  {
   "cell_type": "code",
   "execution_count": null,
   "metadata": {
    "vscode": {
     "languageId": "shellscript"
    }
   },
   "outputs": [],
   "source": [
    "# Ejecuta el comando 'git log' para mostrar el historial de confirmaciones en el repositorio.\n",
    "git log"
   ]
  },
  {
   "cell_type": "markdown",
   "metadata": {},
   "source": [
    "\n",
    "**Code output:**\n",
    "\n",
    "commit 033f27a8196987d61c4fd42930f2148b23434a03 (HEAD -> master)\n",
    "\n",
    "Author: My name <me@example.com>\n",
    "\n",
    "Date: Mon Jul 15 14:39:18 2019 +0200\n",
    "\n",
    "Call check_reboot from main, exit with 1 on error\n",
    "\n",
    "commit cc1acbf10fdea6cc07ebf827697666b6a35b0f36\n",
    "\n",
    "Author: My name <me@example.com>\n",
    "\n",
    "Date: Thu Jul 11 17:19:32 2019 +0200\n",
    "\n",
    "Add a check_reboot function\n",
    "\n",
    "commit 6cfc29966acda8213fcd8ac2735b31f3fdbc6c53\n",
    "\n",
    "Author: My name <me@example.com>\n",
    "\n",
    "Date: Thu Jul 11 12:08:46 2019 +0200\n",
    "\n",
    "Create and empty all_checks.py"
   ]
  }
 ],
 "metadata": {
  "kernelspec": {
   "display_name": "Python 3 (ipykernel)",
   "language": "python",
   "name": "python3"
  },
  "language_info": {
   "codemirror_mode": {
    "name": "ipython",
    "version": 3
   },
   "file_extension": ".py",
   "mimetype": "text/x-python",
   "name": "python",
   "nbconvert_exporter": "python",
   "pygments_lexer": "ipython3",
   "version": "3.12.2"
  }
 },
 "nbformat": 4,
 "nbformat_minor": 2
}
