{
 "cells": [
  {
   "cell_type": "markdown",
   "metadata": {},
   "source": [
    "**Author:**       Jensy Gregorio Gómez \n",
    "---------------------------------------\n",
    "**Profession:**  IT Support Analyst and Automatation with Python\n",
    "\n",
    "**Date:**         09 April 2024     \n",
    "\n",
    "**Location:**     Vila Izabel, Curitiba/PR  \n",
    "\n",
    "\n",
    "---\n",
    "\n",
    "**Contacto:**\n",
    "\n",
    "- **Email:** [contact@jensygomez.us](mailto:contact@jensygomez.us)\n",
    "- **YouTube:** [Tu Canal de YouTube](https://www.youtube.com/@systechcwb826)\n",
    "- **LinkedIn:** [Tu Perfil de LinkedIn](https://www.linkedin.com/in/jensygomez/)\n",
    "\n",
    "\n"
   ]
  },
  {
   "cell_type": "markdown",
   "metadata": {},
   "source": [
    "\n",
    "# Glossary terms from course 3, module 2\n",
    "\n",
    "## **Terms and definitions from Course 3, Module 2**\n",
    "\n",
    "**Branch:** A pointer to a particular commit, representing an independent line of development in a project\n",
    "\n",
    "**Commit ID:** An identifier next to the word commit in the log\n",
    "\n",
    "**Fast-forward merge:** A merge when all the commits in the checked out branch are also in the branch that's being merged\n",
    "\n",
    "**Head:** This points to the top of the branch that is being used\n",
    "\n",
    "**Master:** The default branch that Git creates for when a new repository initialized, commonly used to place the approved pieces of a project\n",
    "\n",
    "**Merge conflict:** This occurs when the changes are made on the same part of the same file, and Git won't know how to merge those changes\n",
    "\n",
    "**Rollback:** The act of reverting changes made to software to a previous state\n",
    "\n",
    "**Three-way merge:** A merge when the snapshots at the two branch tips with the most recent common ancestor, the commit before the divergence"
   ]
  }
 ],
 "metadata": {
  "kernelspec": {
   "display_name": "Python 3 (ipykernel)",
   "language": "python",
   "name": "python3"
  },
  "language_info": {
   "codemirror_mode": {
    "name": "ipython",
    "version": 3
   },
   "file_extension": ".py",
   "mimetype": "text/x-python",
   "name": "python",
   "nbconvert_exporter": "python",
   "pygments_lexer": "ipython3",
   "version": "3.12.2"
  }
 },
 "nbformat": 4,
 "nbformat_minor": 2
}
