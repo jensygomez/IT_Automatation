{
 "cells": [
  {
   "cell_type": "markdown",
   "metadata": {},
   "source": [
    "**Author:**       Jensy Gregorio Gómez \n",
    "---------------------------------------\n",
    "**Profession:**  IT Support Analyst and Automatation with Python\n",
    "\n",
    "**Date:**         06 April 2024     \n",
    "\n",
    "**Location:**     Vila Izabel, Curitiba/PR  \n",
    "\n",
    "\n",
    "---\n",
    "\n",
    "**Contacto:**\n",
    "\n",
    "- **Email:** [contact@jensygomez.us](mailto:contact@jensygomez.us)\n",
    "- **YouTube:** [Tu Canal de YouTube](https://www.youtube.com/@systechcwb826)\n",
    "- **LinkedIn:** [Tu Perfil de LinkedIn](https://www.linkedin.com/in/jensygomez/)\n",
    "\n",
    "\n"
   ]
  },
  {
   "cell_type": "markdown",
   "metadata": {},
   "source": [
    "# Review: Deleting and Renaming Files\n",
    "\n",
    "This reading contains the code used in the instructional videos from [**Deleting and Renaming FIles**](https://www.coursera.org/learn/introduction-git-github/lecture/3OT51/deleting-and-renaming-files)\n",
    "\n",
    "## Introduction\n",
    "\n",
    "This follow-along reading is organized to match the content in the video that follows. It contains the same code shown in the next video. These code blocks will provide you with the opportunity to see how the code is written and can be used as a reference as you work through the course.\n",
    "\n",
    "You can follow along in the reading as the instructor discusses the code or review the code after watching the video."
   ]
  },
  {
   "cell_type": "code",
   "execution_count": null,
   "metadata": {
    "vscode": {
     "languageId": "shellscript"
    }
   },
   "outputs": [],
   "source": [
    "cd checks/\n",
    "ls -l"
   ]
  },
  {
   "cell_type": "markdown",
   "metadata": {},
   "source": [
    "\n",
    "**Code output:**\n",
    "\n",
    "    total 8\n",
    "    \n",
    "    -rw-rw-r-- 1 user user 659 Jul 9 19:28 disk_usage.py\n",
    "    \n",
    "    -rw-rw-r-- 1 user user 659 Jul 15 21:43 processes.py"
   ]
  },
  {
   "cell_type": "code",
   "execution_count": null,
   "metadata": {
    "vscode": {
     "languageId": "shellscript"
    }
   },
   "outputs": [],
   "source": [
    "git rm process.py"
   ]
  },
  {
   "cell_type": "markdown",
   "metadata": {},
   "source": [
    "**Code output:**\n",
    "\n",
    "rm '[processes.py](http://processes.py/)'"
   ]
  },
  {
   "cell_type": "code",
   "execution_count": null,
   "metadata": {
    "vscode": {
     "languageId": "shellscript"
    }
   },
   "outputs": [],
   "source": [
    "ls -l "
   ]
  },
  {
   "cell_type": "markdown",
   "metadata": {},
   "source": [
    "\n",
    "**Code output:**\n",
    "\n",
    "    total 4\n",
    "    \n",
    "    -rw-rw-r-- 1 user user 659 Jul 9 19:28 disk_usage.py"
   ]
  },
  {
   "cell_type": "code",
   "execution_count": null,
   "metadata": {
    "vscode": {
     "languageId": "shellscript"
    }
   },
   "outputs": [],
   "source": [
    "git status"
   ]
  },
  {
   "cell_type": "markdown",
   "metadata": {},
   "source": [
    "**Code output:**\n",
    "\n",
    "    On branch master\n",
    "    \n",
    "    Changes to be committed:\n",
    "    \n",
    "    (use \"git reset HEAD <file>...\" to unstage)\n",
    "\n",
    "`deleted:` [processes.py](http://processes.py/)"
   ]
  },
  {
   "cell_type": "code",
   "execution_count": null,
   "metadata": {
    "vscode": {
     "languageId": "shellscript"
    }
   },
   "outputs": [],
   "source": [
    "git commit -m 'Delete unneeded processes file'"
   ]
  },
  {
   "cell_type": "markdown",
   "metadata": {},
   "source": [
    "\n",
    "**Code output:**\n",
    "\n",
    "    [master 9939311] Delete unneeded processes file\n",
    "    \n",
    "    1 file changed, 24 deletions(-)\n",
    "    \n",
    "    delete mode 100644\n",
    "\n",
    " processes.py"
   ]
  },
  {
   "cell_type": "code",
   "execution_count": null,
   "metadata": {
    "vscode": {
     "languageId": "shellscript"
    }
   },
   "outputs": [],
   "source": [
    "git mv disk_usage.py check_free_space.py\n",
    "git status\n"
   ]
  },
  {
   "cell_type": "markdown",
   "metadata": {},
   "source": [
    "\n",
    "**Code output:**\n",
    "\n",
    "    On branch master\n",
    "    \n",
    "    Changes to be committed:\n",
    "    \n",
    "    (use \"git reset HEAD <file>...\" to unstage)\n",
    "    \n",
    "    renamed: disk_usage.py -> check_free_space.py"
   ]
  },
  {
   "cell_type": "code",
   "execution_count": null,
   "metadata": {
    "vscode": {
     "languageId": "shellscript"
    }
   },
   "outputs": [],
   "source": [
    "git commit -m 'New name for disk_usage.py'"
   ]
  },
  {
   "cell_type": "markdown",
   "metadata": {},
   "source": [
    "**Code output:**\n",
    "\n",
    "    [master 7d7167b] New name for disk_usage.py\n",
    "    \n",
    "    1 file changed, 0 insertions(+), 0 deletions(-)"
   ]
  },
  {
   "cell_type": "code",
   "execution_count": null,
   "metadata": {
    "vscode": {
     "languageId": "shellscript"
    }
   },
   "outputs": [],
   "source": [
    "echo .DS_STORE > gitignore\n",
    "ls -la"
   ]
  },
  {
   "cell_type": "markdown",
   "metadata": {},
   "source": [
    "**Code output:**\n",
    "\n",
    "    total 20\n",
    "    \n",
    "    drwxrwxr-x 3 user user 4096 Jul 15 22:15 .\n",
    "    \n",
    "    drwxr-xr-x 19 user user 4096 Jul 15 16:37 ..\n",
    "    \n",
    "    -rw-rw-r-- 1 user user 659 Jul 9 19:28 check_free_space.py\n",
    "    \n",
    "    drwxrwxr-x 8 user user 4096 Jul 15 21:52 .git\n",
    "    \n",
    "    -rw-rw-r-- 1 user user 10 Jul 15 22:15 .gitignore"
   ]
  },
  {
   "cell_type": "code",
   "execution_count": null,
   "metadata": {
    "vscode": {
     "languageId": "shellscript"
    }
   },
   "outputs": [],
   "source": [
    "git add .gitignore \n",
    "git commit -m 'Add a gitignore file, ignoring .DS_STORE files'"
   ]
  },
  {
   "cell_type": "markdown",
   "metadata": {},
   "source": [
    "**Code output:**\n",
    "\n",
    "    [master abb0632] Add a gitignore file, ignoring .DS_STORE files\n",
    "    \n",
    "    1 file changed, 1 insertion(+)\n",
    "    \n",
    "    create mode 100644 .gitignore\n"
   ]
  }
 ],
 "metadata": {
  "kernelspec": {
   "display_name": "Python 3 (ipykernel)",
   "language": "python",
   "name": "python3"
  },
  "language_info": {
   "codemirror_mode": {
    "name": "ipython",
    "version": 3
   },
   "file_extension": ".py",
   "mimetype": "text/x-python",
   "name": "python",
   "nbconvert_exporter": "python",
   "pygments_lexer": "ipython3",
   "version": "3.12.2"
  }
 },
 "nbformat": 4,
 "nbformat_minor": 2
}
