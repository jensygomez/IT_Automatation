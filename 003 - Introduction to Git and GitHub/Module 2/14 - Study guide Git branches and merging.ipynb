{
 "cells": [
  {
   "cell_type": "markdown",
   "metadata": {},
   "source": [
    "**Author:**       Jensy Gregorio Gómez \n",
    "---------------------------------------\n",
    "**Profession:**  IT Support Analyst and Automatation with Python\n",
    "\n",
    "**Date:**         09 April 2024     \n",
    "\n",
    "**Location:**     Vila Izabel, Curitiba/PR  \n",
    "\n",
    "\n",
    "---\n",
    "\n",
    "**Contacto:**\n",
    "\n",
    "- **Email:** [contact@jensygomez.us](mailto:contact@jensygomez.us)\n",
    "- **YouTube:** [Tu Canal de YouTube](https://www.youtube.com/@systechcwb826)\n",
    "- **LinkedIn:** [Tu Perfil de LinkedIn](https://www.linkedin.com/in/jensygomez/)\n",
    "\n",
    "\n"
   ]
  },
  {
   "cell_type": "markdown",
   "metadata": {},
   "source": [
    "\n",
    "# Study guide: Git branches and merging\n",
    "\n",
    "Now that you’ve learned about branches and merging, use this study guide as an easy reference for Git branching. This study guide gives a brief explanation of these useful commands along with a link to the Git documentation for each command. Keeping study guides like this one easily accessible can help you code more efficiently.\n",
    "\n",
    "Command\n",
    "\n",
    "Explanation & link\n",
    "\n",
    "git branch\n",
    "\n",
    "[$ git branch](https://git-scm.com/docs/git-branch) can be used to list, create, or delete branches.\n",
    "\n",
    "git branch <name>\n",
    "\n",
    "[$ git branch <name>](https://git-scm.com/book/en/v2/Git-Branching-Basic-Branching-and-Merging) can be used to create a new branch in your repository.\n",
    "\n",
    "git branch -d <name>\n",
    "\n",
    "[$ git branch -d <name>](https://git-scm.com/docs/git-branch#Documentation/git-branch.txt--D) can be used to delete a branch from your repository.\n",
    "\n",
    "git branch -D <name>\n",
    "\n",
    "[$ git branch -D <branch>](https://git-scm.com/docs/git-branch#Documentation/git-branch.txt--D) forces a branch to be deleted.\n",
    "\n",
    "git checkout <branch>\n",
    "\n",
    "[$ git checkout <branch>](https://git-scm.com/docs/git-checkout) switches your current working branch.\n",
    "\n",
    "git checkout -b <new-branch>\n",
    "\n",
    "[$ git checkout -b <new-branch>](https://git-scm.com/docs/git-checkout#Documentation/git-checkout.txt--bltnewbranchgt) creates a new branch and makes it your current working branch.\n",
    "\n",
    "git merge <branch>\n",
    "\n",
    "[$ git merge <branch>](https://git-scm.com/docs/git-merge) joins changes from one branch into another branch.\n",
    "\n",
    "git merge --abort\n",
    "\n",
    "[$ git merge --abort](https://git-scm.com/docs/git-merge) can only be used after merge conflicts. This command will abort the merge and try to go back to the pre-merge state.\n",
    "\n",
    "git log --graph\n",
    "\n",
    "[$ git log --graph](https://git-scm.com/book/en/v2/Git-Basics-Viewing-the-Commit-History) prints an ASCII graph of the commit and merge history.\n",
    "\n",
    "git log --oneline\n",
    "\n",
    "[$ git log --oneline](https://git-scm.com/book/en/v2/Git-Basics-Viewing-the-Commit-History) prints each commit on a single line.\n",
    "\n",
    "Keep this table handy while you are getting comfortable using Git branches and merging. Now, it’s time to put your newfound knowledge of Git branches and merging to use!"
   ]
  }
 ],
 "metadata": {
  "kernelspec": {
   "display_name": "Python 3 (ipykernel)",
   "language": "python",
   "name": "python3"
  },
  "language_info": {
   "codemirror_mode": {
    "name": "ipython",
    "version": 3
   },
   "file_extension": ".py",
   "mimetype": "text/x-python",
   "name": "python",
   "nbconvert_exporter": "python",
   "pygments_lexer": "ipython3",
   "version": "3.12.2"
  }
 },
 "nbformat": 4,
 "nbformat_minor": 2
}
