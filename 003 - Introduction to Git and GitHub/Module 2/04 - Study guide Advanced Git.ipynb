{
 "cells": [
  {
   "cell_type": "markdown",
   "metadata": {},
   "source": [
    "**Author:**       Jensy Gregorio Gómez \n",
    "---------------------------------------\n",
    "**Profession:**  IT Support Analyst and Automatation with Python\n",
    "\n",
    "**Date:**         06 April 2024     \n",
    "\n",
    "**Location:**     Vila Izabel, Curitiba/PR  \n",
    "\n",
    "\n",
    "---\n",
    "\n",
    "**Contacto:**\n",
    "\n",
    "- **Email:** [contact@jensygomez.us](mailto:contact@jensygomez.us)\n",
    "- **YouTube:** [Tu Canal de YouTube](https://www.youtube.com/@systechcwb826)\n",
    "- **LinkedIn:** [Tu Perfil de LinkedIn](https://www.linkedin.com/in/jensygomez/)\n",
    "\n",
    "\n"
   ]
  },
  {
   "cell_type": "markdown",
   "metadata": {},
   "source": [
    "# Study guide: Advanced Git\n",
    "\n",
    "Command\n",
    "\n",
    "Explanation & Link\n",
    "\n",
    "git commit -a\n",
    "\n",
    "[$ git commit -a](https://git-scm.com/docs/git-commit#Documentation/git-commit.txt---all) automatically stages the files that have been locally modified. New files which have not been published yet are not affected.\n",
    "\n",
    "git log -p\n",
    "\n",
    "[$ git log -p](https://git-scm.com/docs/git-log#generate_patch_text_with_p) produces patch text that displays the lines of code that were changed in each commit in the current repo.\n",
    "\n",
    "git show\n",
    "\n",
    "[$ git show](https://git-scm.com/docs/git-show) shows you one or more object(s) such as blobs, trees, tags, and commits.\n",
    "\n",
    "git diff\n",
    "\n",
    "[$ git diff](https://git-scm.com/docs/git-diff) is similar to the Linux `diff` command, and can show the changes between commits, changes between the working tree and index, changes between two trees, changes from a merge, and so on.\n",
    "\n",
    "git diff --staged\n",
    "\n",
    "[$ git diff --staged](https://git-scm.com/docs/git-diff) is an alias of $ git diff --cached, which shows all staged files compared to the named commit.\n",
    "\n",
    "git add -p\n",
    "\n",
    "[$ git add -p](https://git-scm.com/docs/git-add) allows a user to interactively review patches before adding to the current commit.\n",
    "\n",
    "git mv\n",
    "\n",
    "[$ git mv](https://git-scm.com/docs/git-mv) is similar to the Linux `mv` command. This command can move or rename a file, directory, or symlink.\n",
    "\n",
    "git rm\n",
    "\n",
    "[$ git rm](https://git-scm.com/docs/git-rm) is similar to the Linux `rm` command. This command deletes or removes a file from the working tree.\n",
    "\n",
    "There are many useful git command summaries online as well. Please take some time to research and study a few, such as [this one](https://education.github.com/git-cheat-sheet-education.pdf).\n",
    "\n",
    "## .gitignore files\n",
    "\n",
    ".gitignore files are used to tell the git tool to intentionally ignore some files in a given Git repository. For example, this can be useful for configuration files or metadata files that a user may not want to check into the master branch.\n",
    "\n",
    "When writing a .gitignore file, there are some specific formats which help tell Git how to read the text in the file. For example, a line starting with # is a comment; a slash / is a directory separator. Visit [https://git-scm.com/docs/gitignore](https://git-scm.com/docs/gitignore) to see more examples.\n",
    "\n",
    "[This GitHub repository](https://gist.github.com/octocat/9257657) offers some examples of configurations which are often included in a .gitignore file. These examples include: compiled sources, packages, logs, databases, and OS generated files."
   ]
  }
 ],
 "metadata": {
  "kernelspec": {
   "display_name": "Python 3 (ipykernel)",
   "language": "python",
   "name": "python3"
  },
  "language_info": {
   "codemirror_mode": {
    "name": "ipython",
    "version": 3
   },
   "file_extension": ".py",
   "mimetype": "text/x-python",
   "name": "python",
   "nbconvert_exporter": "python",
   "pygments_lexer": "ipython3",
   "version": "3.12.2"
  }
 },
 "nbformat": 4,
 "nbformat_minor": 2
}
