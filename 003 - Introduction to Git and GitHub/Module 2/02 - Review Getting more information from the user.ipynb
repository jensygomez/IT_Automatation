{
 "cells": [
  {
   "cell_type": "markdown",
   "metadata": {},
   "source": [
    "**Author:**       Jensy Gregorio Gómez \n",
    "---------------------------------------\n",
    "**Profession:**  IT Support Analyst and Automatation with Python\n",
    "\n",
    "**Date:**         06 April 2024     \n",
    "\n",
    "**Location:**     Vila Izabel, Curitiba/PR  \n",
    "\n",
    "\n",
    "---\n",
    "\n",
    "**Contacto:**\n",
    "\n",
    "- **Email:** [contact@jensygomez.us](mailto:contact@jensygomez.us)\n",
    "- **YouTube:** [Tu Canal de YouTube](https://www.youtube.com/@systechcwb826)\n",
    "- **LinkedIn:** [Tu Perfil de LinkedIn](https://www.linkedin.com/in/jensygomez/)\n",
    "\n",
    "\n"
   ]
  },
  {
   "cell_type": "markdown",
   "metadata": {},
   "source": [
    "# Review: Getting more information from the user\n",
    "\n",
    "This reading contains the code used in the instructional videos from [**Getting More Information About Our Changes**](https://www.coursera.org/learn/introduction-git-github/lecture/KLQkB/getting-more-information-about-our-changes)\n",
    "\n",
    "## Introduction\n",
    "\n",
    "This follow-along reading is organized to match the content in the video that follows. It contains the same code shown in the next video. These code blocks will provide you with the opportunity to see how the code is written and can be used as a reference as you work through the course.\n",
    "\n",
    "You can follow along in the reading as the instructor discusses the code or review the code after watching the video."
   ]
  },
  {
   "cell_type": "code",
   "execution_count": null,
   "metadata": {
    "vscode": {
     "languageId": "shellscript"
    }
   },
   "outputs": [],
   "source": [
    "git log -p"
   ]
  },
  {
   "cell_type": "markdown",
   "metadata": {},
   "source": [
    "\n",
    "**Code output:**\n",
    "\n",
    "    commit 033f27a8196987d61c4fd42930f2148b23434a03 (HEAD -> master)\n",
    "    \n",
    "    Author: My name <me@example.com>\n",
    "    \n",
    "    Date: Mon Jul 15 14:39:18 2019 +0200\n",
    "    \n",
    "    Call check_reboot from main, exit with 1 on error\n",
    "    \n",
    "    diff --git a/all_checks.py b/all_checks.py\n",
    "    \n",
    "    index 340f1f7..710266a 100644\n",
    "    \n",
    "    --- a/all_checks.py\n",
    "    \n",
    "    +++ b/all_checks.py\n",
    "    \n",
    "    @@ -1,12 +1,15 @@\n",
    "    \n",
    "    #!/usr/bin/env python3\n",
    "    \n",
    "    import os\n",
    "    \n",
    "    +import sys\n",
    "    \n",
    "    def check_reboot():\n",
    "    \n",
    "    \"\"\"Returns True if the computer has a pending reboot.\"\"\"\n",
    "    \n",
    "    return os.path.exists(\"/run/reboot-required\")\n",
    "    \n",
    "    (...)"
   ]
  },
  {
   "cell_type": "code",
   "execution_count": null,
   "metadata": {
    "vscode": {
     "languageId": "shellscript"
    }
   },
   "outputs": [],
   "source": [
    "git log"
   ]
  },
  {
   "cell_type": "markdown",
   "metadata": {},
   "source": [
    "**Code output:**\n",
    "\n",
    "    commit 033f27a8196987d61c4fd42930f2148b23434a03 (HEAD -> master)\n",
    "    \n",
    "    Author: My name <me@example.com>\n",
    "    \n",
    "    Date: Mon Jul 15 14:39:18 2019 +0200\n",
    "    \n",
    "    Call check_reboot from main, exit with 1 on error\n",
    "    \n",
    "    commit **cc1acbf10fdea6cc07ebf827697666b6a35b0f36**\n",
    "    \n",
    "    Author: My name <me@example.com>\n",
    "    \n",
    "    Date: Thu Jul 11 17:19:32 2019 +0200\n",
    "    \n",
    "    Add a check_reboot function\n",
    "    \n",
    "    (...)\n",
    "    \n",
    "    user@ubuntu:~/scripts$ git show cc1acbf10fdea6cc07ebf827697666b6a35b0f36\n",
    "    \n",
    "    commit cc1acbf10fdea6cc07ebf827697666b6a35b0f36\n",
    "    \n",
    "    Author: My name <me@example.com>\n",
    "    \n",
    "    Date: Thu Jul 11 17:19:32 2019 +0200\n",
    "    \n",
    "    Add a check_reboot function\n",
    "    \n",
    "    diff --git a/all_checks.py b/all_checks.py\n",
    "    \n",
    "    index c0d03b3..340f1f7 100644\n",
    "    \n",
    "    --- a/all_checks.py\n",
    "    \n",
    "    +++ b/all_checks.py\n",
    "    \n",
    "    @@ -1,5 +1,11 @@\n",
    "    \n",
    "    #!/usr/bin/env python3\n",
    "    \n",
    "    +import os\n",
    "    \n",
    "    +\n",
    "    \n",
    "    +def check_reboot():\n",
    "    \n",
    "    + \"\"\"Returns True if the computer has a pending reboot.\"\"\"\n",
    "    \n",
    "    + return os.path.exists(\"/run/reboot-required\")\n",
    "    \n",
    "    +\n",
    "    \n",
    "    def main():\n",
    "    \n",
    "    Pass\n"
   ]
  },
  {
   "cell_type": "code",
   "execution_count": null,
   "metadata": {
    "vscode": {
     "languageId": "shellscript"
    }
   },
   "outputs": [],
   "source": [
    "git log --stat"
   ]
  },
  {
   "cell_type": "markdown",
   "metadata": {},
   "source": [
    "**Code output:**\n",
    "\n",
    "    commit 033f27a8196987d61c4fd42930f2148b23434a03 (HEAD -> master)\n",
    "    \n",
    "    Author: My name <me@example.com>\n",
    "    \n",
    "    Date: Mon Jul 15 14:39:18 2019 +0200\n",
    "    \n",
    "    Call check_reboot from main, exit with 1 on error\n",
    "    \n",
    "    all_checks.py | 5 ++++-\n",
    "    \n",
    "    1 file changed, 4 insertions(+), 1 deletion(-)\n",
    "    \n",
    "    (...)\n"
   ]
  },
  {
   "cell_type": "code",
   "execution_count": null,
   "metadata": {
    "vscode": {
     "languageId": "shellscript"
    }
   },
   "outputs": [],
   "source": [
    "atom  all_checks.py"
   ]
  },
  {
   "cell_type": "markdown",
   "metadata": {},
   "source": [
    "## File in video"
   ]
  },
  {
   "cell_type": "code",
   "execution_count": null,
   "metadata": {},
   "outputs": [],
   "source": [
    "#!/usr/bin/env python3\n",
    "  \n",
    "import os\n",
    "import sys\n",
    "\n",
    "def check_reboot():\n",
    "    \"\"\"Returns True if the computer has a pending reboot.\"\"\"\n",
    "    return os.path.exists(\"/run/reboot-required\")\n",
    "\n",
    "def main():\n",
    "    if check_reboot():\n",
    "        print(\"Pending Reboot.\")\n",
    "        sys.exit(1)\n",
    "\n",
    "    print(\"Everything ok.\")\n",
    "    sys.exit(0)\n",
    "\n",
    "main()\n"
   ]
  },
  {
   "cell_type": "code",
   "execution_count": null,
   "metadata": {
    "vscode": {
     "languageId": "shellscript"
    }
   },
   "outputs": [],
   "source": [
    "git diff"
   ]
  },
  {
   "cell_type": "markdown",
   "metadata": {},
   "source": [
    "**Code output:**\n",
    "\n",
    "    diff --git a/all_checks.py b/all_checks.py\n",
    "    \n",
    "    index 710266a..fdc4476 100644\n",
    "    \n",
    "    --- a/all_checks.py\n",
    "    \n",
    "    +++ b/all_checks.py\n",
    "    \n",
    "    @@ -12,4 +12,7 @@ def main():\n",
    "    \n",
    "    print(\"Pending Reboot.\")\n",
    "    \n",
    "    sys.exit(1)\n",
    "    \n",
    "    + print(\"Everything ok.\")\n",
    "    \n",
    "    + sys.exit(0)\n",
    "    \n",
    "    +\n",
    "    \n",
    "    main()"
   ]
  },
  {
   "cell_type": "code",
   "execution_count": null,
   "metadata": {
    "vscode": {
     "languageId": "shellscript"
    }
   },
   "outputs": [],
   "source": [
    "git  add -p"
   ]
  },
  {
   "cell_type": "markdown",
   "metadata": {},
   "source": [
    "**Code output:**\n",
    "\n",
    "    diff --git a/all_checks.py b/all_checks.py\n",
    "    \n",
    "    index 710266a..fdc4476 100644\n",
    "    \n",
    "    --- a/all_checks.py\n",
    "    \n",
    "    +++ b/all_checks.py\n",
    "    \n",
    "    @@ -12,4 +12,7 @@ def main():\n",
    "    \n",
    "    print(\"Pending Reboot.\")\n",
    "    \n",
    "    sys.exit(1)\n",
    "    \n",
    "    + print(\"Everything ok.\")\n",
    "    \n",
    "    + sys.exit(0)\n",
    "    \n",
    "    +\n",
    "    \n",
    "    main()\n",
    "    \n",
    "    Stage this hunk [y,n,q,a,d,e,?]? y\n",
    "    \n",
    "    user@ubuntu:~/scripts$"
   ]
  },
  {
   "cell_type": "code",
   "execution_count": null,
   "metadata": {
    "vscode": {
     "languageId": "shellscript"
    }
   },
   "outputs": [],
   "source": [
    "git diff\n",
    "git diff --staged"
   ]
  },
  {
   "cell_type": "markdown",
   "metadata": {},
   "source": [
    "**Code output:**\n",
    "\n",
    "    diff --git a/all_checks.py b/all_checks.py\n",
    "    \n",
    "    index 710266a..fdc4476 100644\n",
    "    \n",
    "    --- a/all_checks.py\n",
    "    \n",
    "    +++ b/all_checks.py\n",
    "    \n",
    "    @@ -12,4 +12,7 @@ def main():\n",
    "    \n",
    "    print(\"Pending Reboot.\")\n",
    "    \n",
    "    sys.exit(1)\n",
    "    \n",
    "    + print(\"Everything ok.\")\n",
    "    \n",
    "    + sys.exit(0)\n",
    "    \n",
    "    +\n",
    "    \n",
    "    main()"
   ]
  },
  {
   "cell_type": "code",
   "execution_count": null,
   "metadata": {
    "vscode": {
     "languageId": "shellscript"
    }
   },
   "outputs": [],
   "source": [
    "git commit -m 'Add a message when everything is ok'"
   ]
  },
  {
   "cell_type": "markdown",
   "metadata": {},
   "source": [
    "**Code output:**\n",
    "\n",
    "    [master 49d610b] Add a message when everything is ok\n",
    "    \n",
    "    1 file changed, 3 insertions(+)"
   ]
  }
 ],
 "metadata": {
  "kernelspec": {
   "display_name": "Python 3 (ipykernel)",
   "language": "python",
   "name": "python3"
  },
  "language_info": {
   "codemirror_mode": {
    "name": "ipython",
    "version": 3
   },
   "file_extension": ".py",
   "mimetype": "text/x-python",
   "name": "python",
   "nbconvert_exporter": "python",
   "pygments_lexer": "ipython3",
   "version": "3.12.2"
  }
 },
 "nbformat": 4,
 "nbformat_minor": 2
}
