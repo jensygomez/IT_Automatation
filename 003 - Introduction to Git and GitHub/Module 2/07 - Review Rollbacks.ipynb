{
 "cells": [
  {
   "cell_type": "markdown",
   "metadata": {},
   "source": [
    "**Author:**       Jensy Gregorio Gómez \n",
    "---------------------------------------\n",
    "**Profession:**  IT Support Analyst and Automatation with Python\n",
    "\n",
    "**Date:**         08 April 2024     \n",
    "\n",
    "**Location:**     Vila Izabel, Curitiba/PR  \n",
    "\n",
    "\n",
    "---\n",
    "\n",
    "**Contacto:**\n",
    "\n",
    "- **Email:** [contact@jensygomez.us](mailto:contact@jensygomez.us)\n",
    "- **YouTube:** [Tu Canal de YouTube](https://www.youtube.com/@systechcwb826)\n",
    "- **LinkedIn:** [Tu Perfil de LinkedIn](https://www.linkedin.com/in/jensygomez/)\n",
    "\n",
    "\n"
   ]
  },
  {
   "cell_type": "markdown",
   "metadata": {},
   "source": [
    "# Review: Rollbacks\n",
    "\n",
    "This reading contains the code used in the instructional videos from [**Rollbacks**](https://www.coursera.org/learn/introduction-git-github/lecture/21kjM/rollbacks)\n",
    "\n",
    "## Introduction\n",
    "\n",
    "This follow-along reading is organized to match the content in the video that follows. It contains the same code shown in the next video. These code blocks will provide you with the opportunity to see how the code is written and can be used as a reference as you work through the course.\n",
    "\n",
    "You can follow along in the reading as the instructor discusses the code or review the code after watching the video."
   ]
  },
  {
   "cell_type": "code",
   "execution_count": null,
   "metadata": {
    "vscode": {
     "languageId": "shellscript"
    }
   },
   "outputs": [],
   "source": [
    "cd scripts\n",
    "atom all_checks.py"
   ]
  },
  {
   "cell_type": "code",
   "execution_count": null,
   "metadata": {
    "vscode": {
     "languageId": "shellscript"
    }
   },
   "outputs": [],
   "source": [
    "#!/usr/bin/env python3\n",
    "  \n",
    "import os\n",
    "import sys\n",
    "\n",
    "def check_reboot():\n",
    "    \"\"\"Returns True if the computer has a pending reboot.\"\"\"\n",
    "    return os.path.exists(\"/run/reboot-required\")\n",
    "\n",
    "def main():\n",
    "    if check_reboot():\n",
    "        print(\"Pending Reboot.\")\n",
    "        sys.exit(1)\n",
    "\n",
    "    if disk_full():\n",
    "        print(\"Disk Full.\")\n",
    "        sys.exit(1)\n",
    "\n",
    "    print(\"Everything ok.\")\n",
    "    sys.exit(0)\n",
    "\n",
    "main()"
   ]
  },
  {
   "cell_type": "code",
   "execution_count": null,
   "metadata": {
    "vscode": {
     "languageId": "shellscript"
    }
   },
   "outputs": [],
   "source": [
    "git commit -a -m 'Add call to disk_full function'"
   ]
  },
  {
   "cell_type": "markdown",
   "metadata": {},
   "source": [
    "\n",
    "**Code output:**\n",
    "\n",
    "    [master ec61497] Add call to disk_full function\n",
    "    \n",
    "    1 file changed, 4 insertions(+)"
   ]
  },
  {
   "cell_type": "code",
   "execution_count": null,
   "metadata": {
    "vscode": {
     "languageId": "shellscript"
    }
   },
   "outputs": [],
   "source": [
    "./all_checks.py "
   ]
  },
  {
   "cell_type": "markdown",
   "metadata": {},
   "source": [
    "\n",
    "\n",
    "**Code output:**\n",
    "\n",
    "    Traceback (most recent call last):\n",
    "    \n",
    "    File \"./all_checks.py\", line 22, in <module>\n",
    "    \n",
    "    main()\n",
    "    \n",
    "    File \"./all_checks.py\", line 15, in main\n",
    "    \n",
    "    if disk_full():\n",
    "    \n",
    "    NameError: name 'disk_full' is not defined"
   ]
  },
  {
   "cell_type": "code",
   "execution_count": null,
   "metadata": {
    "vscode": {
     "languageId": "shellscript"
    }
   },
   "outputs": [],
   "source": [
    "git revert HEAD"
   ]
  },
  {
   "cell_type": "markdown",
   "metadata": {},
   "source": [
    "**Code output:**\n",
    "\n",
    "    Revert \"Add call to disk_full function\"\n",
    "    \n",
    "    Reason for rollback: The disk_full function is undefined.\n",
    "    \n",
    "    This reverts commit ec614976e1665b40134d2c01921f9b0fbf89d1e2.\n",
    "    \n",
    "    # Please enter the commit message for your changes. Lines starting\n",
    "    \n",
    "    # with '#' will be ignored, and an empty message aborts the commit.\n",
    "    \n",
    "    #\n",
    "    \n",
    "    # On branch master\n",
    "    \n",
    "    # Changes to be committed:\n",
    "    \n",
    "    # modified: all_checks.py\n",
    "    \n",
    "    #\n",
    "    \n",
    "    # Untracked files:\n",
    "    \n",
    "    # output.txt\n",
    "    \n",
    "    #"
   ]
  },
  {
   "cell_type": "code",
   "execution_count": null,
   "metadata": {
    "vscode": {
     "languageId": "shellscript"
    }
   },
   "outputs": [],
   "source": [
    "git revert HEAD"
   ]
  },
  {
   "cell_type": "markdown",
   "metadata": {},
   "source": [
    "**Code output:**\n",
    "\n",
    "    [master 91c4968] Revert \"Add call to disk_full function\"\n",
    "    \n",
    "    1 file changed, 4 deletions(-)"
   ]
  },
  {
   "cell_type": "code",
   "execution_count": null,
   "metadata": {
    "vscode": {
     "languageId": "shellscript"
    }
   },
   "outputs": [],
   "source": [
    "git log -p -2"
   ]
  },
  {
   "cell_type": "markdown",
   "metadata": {},
   "source": [
    "**Code output:**\n",
    "\n",
    "    commit 91c4968ebd80de900d71b9bc3f332f53149ac57d (HEAD -> master)\n",
    "    \n",
    "    Author: My name <me@example.com>\n",
    "    \n",
    "    Date: Tue Jul 16 21:43:18 2019 +0200\n",
    "    \n",
    "    Revert \"Add call to disk_full function\"\n",
    "    \n",
    "    Reason for rollback: The disk_full function is undefined.\n",
    "    \n",
    "    This reverts commit ec614976e1665b40134d2c01921f9b0fbf89d1e2.\n",
    "    \n",
    "    diff --git a/all_checks.py b/all_checks.py\n",
    "    \n",
    "    index 21da366..fdc4476 100755\n",
    "    \n",
    "    --- a/all_checks.py\n",
    "    \n",
    "    +++ b/all_checks.py\n",
    "    \n",
    "    @@ -12,10 +12,6 @@ def main():\n",
    "    \n",
    "    print(\"Pending Reboot.\")\n",
    "    \n",
    "    sys.exit(1)\n",
    "    \n",
    "    - if disk_full():\n",
    "    \n",
    "    - print(\"Disk Full.\")\n",
    "    \n",
    "    - sys.exit(1)\n",
    "    \n",
    "    -\n",
    "    \n",
    "    print(\"Everything ok.\")\n",
    "    \n",
    "    sys.exit(0)\n"
   ]
  }
 ],
 "metadata": {
  "kernelspec": {
   "display_name": "Python 3 (ipykernel)",
   "language": "python",
   "name": "python3"
  },
  "language_info": {
   "codemirror_mode": {
    "name": "ipython",
    "version": 3
   },
   "file_extension": ".py",
   "mimetype": "text/x-python",
   "name": "python",
   "nbconvert_exporter": "python",
   "pygments_lexer": "ipython3",
   "version": "3.12.2"
  }
 },
 "nbformat": 4,
 "nbformat_minor": 2
}
