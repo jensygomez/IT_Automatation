{
 "cells": [
  {
   "cell_type": "markdown",
   "metadata": {},
   "source": [
    "**Author:**       Jensy Gregorio Gómez \n",
    "---------------------------------------\n",
    "**Profession:**  IT Support Analyst and Automatation with Python\n",
    "\n",
    "**Date:**         08 April 2024     \n",
    "\n",
    "**Location:**     Vila Izabel, Curitiba/PR  \n",
    "\n",
    "\n",
    "---\n",
    "\n",
    "**Contacto:**\n",
    "\n",
    "- **Email:** [contact@jensygomez.us](mailto:contact@jensygomez.us)\n",
    "- **YouTube:** [Tu Canal de YouTube](https://www.youtube.com/@systechcwb826)\n",
    "- **LinkedIn:** [Tu Perfil de LinkedIn](https://www.linkedin.com/in/jensygomez/)\n",
    "\n",
    "\n"
   ]
  },
  {
   "cell_type": "markdown",
   "metadata": {},
   "source": [
    "# Review: Amending commits\n",
    "\n",
    "This reading contains the code used in the instructional videos from [**Amending commits**](https://www.coursera.org/learn/introduction-git-github/lecture/nT1S2/amending-commits)\n",
    "\n",
    "## Introduction\n",
    "\n",
    "This follow-along reading is organized to match the content in the video that follows. It contains the same code shown in the next video. These code blocks will provide you with the opportunity to see how the code is written and can be used as a reference as you work through the course.\n",
    "\n",
    "You can follow along in the reading as the instructor discusses the code or review the code after watching the video."
   ]
  },
  {
   "cell_type": "code",
   "execution_count": null,
   "metadata": {
    "vscode": {
     "languageId": "shellscript"
    }
   },
   "outputs": [],
   "source": [
    "cd scripts/\n",
    "touch auto-update.py\n",
    "touch gather-information.sh\n",
    "ls -l"
   ]
  },
  {
   "cell_type": "markdown",
   "metadata": {},
   "source": [
    "\n",
    "**Code output:**\n",
    "\n",
    "total 8\n",
    "\n",
    "-rwxrwxr-x 1 user user 319 Jul 16 17:56 all_checks.py\n",
    "\n",
    "-rw-rw-r-- 1 user user 0 Jul 16 20:19 auto-update.py\n",
    "\n",
    "-rw-rw-r-- 1 user user 0 Jul 16 20:19 gather-information.sh\n",
    "\n",
    "-rw-rw-r-- 1 user user 15 Jul 16 18:03 output.txt\n",
    "\n",
    "user@ubuntu:~/scripts$ git add auto-update.py\n",
    "\n",
    "user@ubuntu:~/scripts$ git commit -m 'Add two new scripts'\n",
    "\n",
    "[master 9c78761] Add two new scripts\n",
    "\n",
    "1 file changed, 0 insertions(+), 0 deletions(-)\n",
    "\n",
    "create mode 100644 [auto-update.py](http://auto-update.py/)"
   ]
  },
  {
   "cell_type": "code",
   "execution_count": null,
   "metadata": {
    "vscode": {
     "languageId": "shellscript"
    }
   },
   "outputs": [],
   "source": [
    "git add auto-update.py\n",
    "git commit -m 'Add two new scripts'"
   ]
  },
  {
   "cell_type": "markdown",
   "metadata": {},
   "source": [
    "\n",
    "\n",
    "**Code output:**\n",
    "\n",
    "    # Please enter the commit message for your changes. Lines starting\n",
    "    \n",
    "    # with '#' will be ignored, and an empty message aborts the commit.\n",
    "    \n",
    "    #\n",
    "    \n",
    "    # Date: Tue Jul 16 20:20:24 2019 +0200\n",
    "    \n",
    "    #\n",
    "    \n",
    "    # On branch master\n",
    "    \n",
    "    # Changes to be committed:\n",
    "    \n",
    "    # new file: auto-update.py\n",
    "    \n",
    "    # new file: gather-information.sh\n",
    "    \n",
    "    #\n",
    "    \n",
    "    # Untracked files:\n",
    "    \n",
    "    # output.txt\n",
    "    \n",
    "    #\n"
   ]
  },
  {
   "cell_type": "code",
   "execution_count": null,
   "metadata": {
    "vscode": {
     "languageId": "shellscript"
    }
   },
   "outputs": [],
   "source": [
    "git add gather-information.sh\n",
    "git commit --amend"
   ]
  },
  {
   "cell_type": "code",
   "execution_count": null,
   "metadata": {
    "vscode": {
     "languageId": "shellscript"
    }
   },
   "outputs": [],
   "source": [
    "Add two new scripts.\n",
    "\n",
    "# Please enter the commit message for your changes. Line starting\n",
    "#with '#' will be ignored, and an empty message aborts the commit.\n",
    "#\n",
    "#Date: Mon Jan 6 08:28:17 2020 -0800\n",
    "#\n",
    "# On branch master\n",
    "# Changes to be committed:\n",
    "#\tnew file: auto-update.py\n",
    "#\tnew file: gather-information.sh\n",
    "#\n",
    "# Untracked files:\n",
    "#\toutput.txt"
   ]
  },
  {
   "cell_type": "code",
   "execution_count": null,
   "metadata": {
    "vscode": {
     "languageId": "shellscript"
    }
   },
   "outputs": [],
   "source": [
    "Add two new scripts.\n",
    "\n",
    "gather-information.sh will collect information in case of errors.\n",
    "auto-update.py will run daily to update computers automatically.\n",
    "\n",
    "# Please enter the commit message for your changes. Line starting\n",
    "#with '#' will be ignored, and an empty message aborts the commit.\n",
    "#\n",
    "#Date: Mon Jan 6 08:28:17 2020 -0800\n",
    "#\n",
    "# On branch master\n",
    "# Changes to be committed:\n",
    "#\tnew file: auto-update.py\n",
    "#\tnew file: gather-information.sh\n",
    "#\n",
    "# Untracked files:\n",
    "#\toutput.txt"
   ]
  }
 ],
 "metadata": {
  "kernelspec": {
   "display_name": "Python 3 (ipykernel)",
   "language": "python",
   "name": "python3"
  },
  "language_info": {
   "codemirror_mode": {
    "name": "ipython",
    "version": 3
   },
   "file_extension": ".py",
   "mimetype": "text/x-python",
   "name": "python",
   "nbconvert_exporter": "python",
   "pygments_lexer": "ipython3",
   "version": "3.12.2"
  }
 },
 "nbformat": 4,
 "nbformat_minor": 2
}
