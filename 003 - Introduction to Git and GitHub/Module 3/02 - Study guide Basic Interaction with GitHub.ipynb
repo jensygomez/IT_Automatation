{
 "cells": [
  {
   "cell_type": "markdown",
   "metadata": {},
   "source": [
    "**Author:**       Jensy Gregorio Gómez \n",
    "---------------------------------------\n",
    "**Profession:**  IT Support Analyst and Automatation with Python\n",
    "\n",
    "**Date:**         14 April 2024     \n",
    "\n",
    "**Location:**     Vila Izabel, Curitiba/PR  \n",
    "\n",
    "\n",
    "---\n",
    "\n",
    "**Contacto:**\n",
    "\n",
    "- **Email:** [contact@jensygomez.us](mailto:contact@jensygomez.us)\n",
    "- **YouTube:** [Tu Canal de YouTube](https://www.youtube.com/@systechcwb826)\n",
    "- **LinkedIn:** [Tu Perfil de LinkedIn](https://www.linkedin.com/in/jensygomez/)\n",
    "\n",
    "\n"
   ]
  },
  {
   "cell_type": "markdown",
   "metadata": {},
   "source": [
    "\n",
    "# Study guide: Basic Interaction with GitHub\n",
    "\n",
    "There are various remote repository hosting sites:\n",
    "\n",
    "-   [GitHub](http://github.com/)\n",
    "    \n",
    "-   [BitBucket](https://bitbucket.org/product)\n",
    "    \n",
    "-   [Gitlab](https://gitlab.com/).\n",
    "    \n",
    "\n",
    "Follow the workflow at [https://github.com/join](https://github.com/join) to set up a free account, username, and password. After that, [these steps](https://help.github.com/articles/create-a-repo/) will help you create a brand new repository on GitHub.\n",
    "\n",
    "Some useful commands for getting started:\n",
    "\n",
    "\n",
    "\n",
    "| Comando      | Explicación                                                  | Enlace                                  |\n",
    "|--------------|--------------------------------------------------------------|-----------------------------------------|\n",
    "| `git clone URL` | Clona un repositorio remoto en un espacio de trabajo local | [Git Clone](https://git-scm.com/docs/git-clone) |\n",
    "| `git push`      | Sube commits desde tu repositorio local a un repositorio remoto | [Git Push](https://git-scm.com/docs/git-push) |\n",
    "| `git pull`      | Obtiene las últimas actualizaciones desde un repositorio remoto | [Git Pull](https://git-scm.com/docs/git-pull) |\n",
    "\n"
   ]
  },
  {
   "cell_type": "markdown",
   "metadata": {},
   "source": [
    "\n",
    "This can be useful for keeping your local workspace up to date.\n",
    "\n",
    "-   [https://help.github.com/en/articles/caching-your-github-password-in-git](https://help.github.com/en/articles/caching-your-github-password-in-git)\n",
    "    \n",
    "-   [https://help.github.com/en/articles/generating-an-ssh-key](https://help.github.com/en/articles/generating-an-ssh-key)"
   ]
  }
 ],
 "metadata": {
  "kernelspec": {
   "display_name": "Python 3 (ipykernel)",
   "language": "python",
   "name": "python3"
  },
  "language_info": {
   "codemirror_mode": {
    "name": "ipython",
    "version": 3
   },
   "file_extension": ".py",
   "mimetype": "text/x-python",
   "name": "python",
   "nbconvert_exporter": "python",
   "pygments_lexer": "ipython3",
   "version": "3.12.2"
  }
 },
 "nbformat": 4,
 "nbformat_minor": 2
}
